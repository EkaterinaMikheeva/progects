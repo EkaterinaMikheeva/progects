{
 "cells": [
  {
   "cell_type": "markdown",
   "metadata": {},
   "source": [
    "# Описание задачи"
   ]
  },
  {
   "cell_type": "markdown",
   "metadata": {},
   "source": [
    "\n",
    "\n",
    "\n",
    "Для интернет-магазина «Стримчик», который продаёт по всему миру компьютерные игры необходимо из открытых данных дать рекомендации о запуске рекламных кампаний. \n",
    "\n",
    "Из открытых источников доступны исторические данные о продажах игр, оценки пользователей и экспертов, жанры и платформы (например, Xbox или PlayStation). \n",
    "\n",
    "\n",
    "Нужно выявить определяющие успешность игры закономерности. Это позволит сделать ставку на потенциально популярный продукт и спланировать рекламные кампании.\n",
    "\n",
    "\n"
   ]
  },
  {
   "cell_type": "markdown",
   "metadata": {},
   "source": [
    "## Получение библиотек и данных"
   ]
  },
  {
   "cell_type": "code",
   "execution_count": 1,
   "metadata": {},
   "outputs": [],
   "source": [
    "import pandas as pd\n",
    "import matplotlib.pyplot as plt\n",
    "import seaborn as sns\n",
    "from scipy import stats as st\n",
    "import numpy as np\n"
   ]
  },
  {
   "cell_type": "code",
   "execution_count": 2,
   "metadata": {},
   "outputs": [],
   "source": [
    "data = pd.read_csv('/datasets/games.csv')"
   ]
  },
  {
   "cell_type": "markdown",
   "metadata": {},
   "source": [
    "## Подготовка данных\n",
    "\n",
    "\n",
    "Преобразуем данные в нужные типы. \n",
    "Обработаем  пропуски при необходимости:\n",
    "Объясните, почему заполнили пропуски определённым образом или почему не стали это делать;\n",
    "Опишите причины, которые могли привести к пропускам;\n",
    "Обратите внимание на аббревиатуру 'tbd' в столбце с оценкой пользователей. Отдельно разберите это значение и опишите, как его обработать;\n",
    "Посчитайте суммарные продажи во всех регионах и запишите их в отдельный столбец."
   ]
  },
  {
   "cell_type": "code",
   "execution_count": 3,
   "metadata": {},
   "outputs": [
    {
     "name": "stdout",
     "output_type": "stream",
     "text": [
      "<class 'pandas.core.frame.DataFrame'>\n",
      "RangeIndex: 16715 entries, 0 to 16714\n",
      "Data columns (total 11 columns):\n",
      " #   Column           Non-Null Count  Dtype  \n",
      "---  ------           --------------  -----  \n",
      " 0   Name             16713 non-null  object \n",
      " 1   Platform         16715 non-null  object \n",
      " 2   Year_of_Release  16446 non-null  float64\n",
      " 3   Genre            16713 non-null  object \n",
      " 4   NA_sales         16715 non-null  float64\n",
      " 5   EU_sales         16715 non-null  float64\n",
      " 6   JP_sales         16715 non-null  float64\n",
      " 7   Other_sales      16715 non-null  float64\n",
      " 8   Critic_Score     8137 non-null   float64\n",
      " 9   User_Score       10014 non-null  object \n",
      " 10  Rating           9949 non-null   object \n",
      "dtypes: float64(6), object(5)\n",
      "memory usage: 1.4+ MB\n"
     ]
    }
   ],
   "source": [
    "data.info()"
   ]
  },
  {
   "cell_type": "markdown",
   "metadata": {},
   "source": [
    "Вывод: в исходном датасете почти 17 000 строк, файл достаточно большой\n",
    "Есть пропуски в некоторых занчениях. \n",
    "По задаче нужно Замените названия столбцов (приведите к нижнему регистру); - ок, делаем"
   ]
  },
  {
   "cell_type": "code",
   "execution_count": 4,
   "metadata": {},
   "outputs": [],
   "source": [
    "data.columns=data.columns.str.lower()"
   ]
  },
  {
   "cell_type": "markdown",
   "metadata": {},
   "source": [
    "Разберемся со странными значениями tbd из0за которых не получается перевести оценку пользователей в флоат"
   ]
  },
  {
   "cell_type": "code",
   "execution_count": 6,
   "metadata": {},
   "outputs": [
    {
     "data": {
      "text/html": [
       "<div>\n",
       "<style scoped>\n",
       "    .dataframe tbody tr th:only-of-type {\n",
       "        vertical-align: middle;\n",
       "    }\n",
       "\n",
       "    .dataframe tbody tr th {\n",
       "        vertical-align: top;\n",
       "    }\n",
       "\n",
       "    .dataframe thead th {\n",
       "        text-align: right;\n",
       "    }\n",
       "</style>\n",
       "<table border=\"1\" class=\"dataframe\">\n",
       "  <thead>\n",
       "    <tr style=\"text-align: right;\">\n",
       "      <th></th>\n",
       "      <th>name</th>\n",
       "      <th>platform</th>\n",
       "      <th>year_of_release</th>\n",
       "      <th>genre</th>\n",
       "      <th>na_sales</th>\n",
       "      <th>eu_sales</th>\n",
       "      <th>jp_sales</th>\n",
       "      <th>other_sales</th>\n",
       "      <th>critic_score</th>\n",
       "      <th>user_score</th>\n",
       "      <th>rating</th>\n",
       "    </tr>\n",
       "  </thead>\n",
       "  <tbody>\n",
       "    <tr>\n",
       "      <th>119</th>\n",
       "      <td>Zumba Fitness</td>\n",
       "      <td>Wii</td>\n",
       "      <td>2010.0</td>\n",
       "      <td>Sports</td>\n",
       "      <td>3.45</td>\n",
       "      <td>2.59</td>\n",
       "      <td>0.0</td>\n",
       "      <td>0.66</td>\n",
       "      <td>NaN</td>\n",
       "      <td>tbd</td>\n",
       "      <td>E</td>\n",
       "    </tr>\n",
       "    <tr>\n",
       "      <th>301</th>\n",
       "      <td>Namco Museum: 50th Anniversary</td>\n",
       "      <td>PS2</td>\n",
       "      <td>2005.0</td>\n",
       "      <td>Misc</td>\n",
       "      <td>2.08</td>\n",
       "      <td>1.35</td>\n",
       "      <td>0.0</td>\n",
       "      <td>0.54</td>\n",
       "      <td>61.0</td>\n",
       "      <td>tbd</td>\n",
       "      <td>E10+</td>\n",
       "    </tr>\n",
       "    <tr>\n",
       "      <th>520</th>\n",
       "      <td>Zumba Fitness 2</td>\n",
       "      <td>Wii</td>\n",
       "      <td>2011.0</td>\n",
       "      <td>Sports</td>\n",
       "      <td>1.51</td>\n",
       "      <td>1.03</td>\n",
       "      <td>0.0</td>\n",
       "      <td>0.27</td>\n",
       "      <td>NaN</td>\n",
       "      <td>tbd</td>\n",
       "      <td>T</td>\n",
       "    </tr>\n",
       "    <tr>\n",
       "      <th>645</th>\n",
       "      <td>uDraw Studio</td>\n",
       "      <td>Wii</td>\n",
       "      <td>2010.0</td>\n",
       "      <td>Misc</td>\n",
       "      <td>1.65</td>\n",
       "      <td>0.57</td>\n",
       "      <td>0.0</td>\n",
       "      <td>0.20</td>\n",
       "      <td>71.0</td>\n",
       "      <td>tbd</td>\n",
       "      <td>E</td>\n",
       "    </tr>\n",
       "    <tr>\n",
       "      <th>657</th>\n",
       "      <td>Frogger's Adventures: Temple of the Frog</td>\n",
       "      <td>GBA</td>\n",
       "      <td>NaN</td>\n",
       "      <td>Adventure</td>\n",
       "      <td>2.15</td>\n",
       "      <td>0.18</td>\n",
       "      <td>0.0</td>\n",
       "      <td>0.07</td>\n",
       "      <td>73.0</td>\n",
       "      <td>tbd</td>\n",
       "      <td>E</td>\n",
       "    </tr>\n",
       "    <tr>\n",
       "      <th>...</th>\n",
       "      <td>...</td>\n",
       "      <td>...</td>\n",
       "      <td>...</td>\n",
       "      <td>...</td>\n",
       "      <td>...</td>\n",
       "      <td>...</td>\n",
       "      <td>...</td>\n",
       "      <td>...</td>\n",
       "      <td>...</td>\n",
       "      <td>...</td>\n",
       "      <td>...</td>\n",
       "    </tr>\n",
       "    <tr>\n",
       "      <th>16695</th>\n",
       "      <td>Planet Monsters</td>\n",
       "      <td>GBA</td>\n",
       "      <td>2001.0</td>\n",
       "      <td>Action</td>\n",
       "      <td>0.01</td>\n",
       "      <td>0.00</td>\n",
       "      <td>0.0</td>\n",
       "      <td>0.00</td>\n",
       "      <td>67.0</td>\n",
       "      <td>tbd</td>\n",
       "      <td>E</td>\n",
       "    </tr>\n",
       "    <tr>\n",
       "      <th>16697</th>\n",
       "      <td>Bust-A-Move 3000</td>\n",
       "      <td>GC</td>\n",
       "      <td>2003.0</td>\n",
       "      <td>Puzzle</td>\n",
       "      <td>0.01</td>\n",
       "      <td>0.00</td>\n",
       "      <td>0.0</td>\n",
       "      <td>0.00</td>\n",
       "      <td>53.0</td>\n",
       "      <td>tbd</td>\n",
       "      <td>E</td>\n",
       "    </tr>\n",
       "    <tr>\n",
       "      <th>16698</th>\n",
       "      <td>Mega Brain Boost</td>\n",
       "      <td>DS</td>\n",
       "      <td>2008.0</td>\n",
       "      <td>Puzzle</td>\n",
       "      <td>0.01</td>\n",
       "      <td>0.00</td>\n",
       "      <td>0.0</td>\n",
       "      <td>0.00</td>\n",
       "      <td>48.0</td>\n",
       "      <td>tbd</td>\n",
       "      <td>E</td>\n",
       "    </tr>\n",
       "    <tr>\n",
       "      <th>16704</th>\n",
       "      <td>Plushees</td>\n",
       "      <td>DS</td>\n",
       "      <td>2008.0</td>\n",
       "      <td>Simulation</td>\n",
       "      <td>0.01</td>\n",
       "      <td>0.00</td>\n",
       "      <td>0.0</td>\n",
       "      <td>0.00</td>\n",
       "      <td>NaN</td>\n",
       "      <td>tbd</td>\n",
       "      <td>E</td>\n",
       "    </tr>\n",
       "    <tr>\n",
       "      <th>16706</th>\n",
       "      <td>Men in Black II: Alien Escape</td>\n",
       "      <td>GC</td>\n",
       "      <td>2003.0</td>\n",
       "      <td>Shooter</td>\n",
       "      <td>0.01</td>\n",
       "      <td>0.00</td>\n",
       "      <td>0.0</td>\n",
       "      <td>0.00</td>\n",
       "      <td>NaN</td>\n",
       "      <td>tbd</td>\n",
       "      <td>T</td>\n",
       "    </tr>\n",
       "  </tbody>\n",
       "</table>\n",
       "<p>2424 rows × 11 columns</p>\n",
       "</div>"
      ],
      "text/plain": [
       "                                           name platform  year_of_release  \\\n",
       "119                               Zumba Fitness      Wii           2010.0   \n",
       "301              Namco Museum: 50th Anniversary      PS2           2005.0   \n",
       "520                             Zumba Fitness 2      Wii           2011.0   \n",
       "645                                uDraw Studio      Wii           2010.0   \n",
       "657    Frogger's Adventures: Temple of the Frog      GBA              NaN   \n",
       "...                                         ...      ...              ...   \n",
       "16695                           Planet Monsters      GBA           2001.0   \n",
       "16697                          Bust-A-Move 3000       GC           2003.0   \n",
       "16698                          Mega Brain Boost       DS           2008.0   \n",
       "16704                                  Plushees       DS           2008.0   \n",
       "16706             Men in Black II: Alien Escape       GC           2003.0   \n",
       "\n",
       "            genre  na_sales  eu_sales  jp_sales  other_sales  critic_score  \\\n",
       "119        Sports      3.45      2.59       0.0         0.66           NaN   \n",
       "301          Misc      2.08      1.35       0.0         0.54          61.0   \n",
       "520        Sports      1.51      1.03       0.0         0.27           NaN   \n",
       "645          Misc      1.65      0.57       0.0         0.20          71.0   \n",
       "657     Adventure      2.15      0.18       0.0         0.07          73.0   \n",
       "...           ...       ...       ...       ...          ...           ...   \n",
       "16695      Action      0.01      0.00       0.0         0.00          67.0   \n",
       "16697      Puzzle      0.01      0.00       0.0         0.00          53.0   \n",
       "16698      Puzzle      0.01      0.00       0.0         0.00          48.0   \n",
       "16704  Simulation      0.01      0.00       0.0         0.00           NaN   \n",
       "16706     Shooter      0.01      0.00       0.0         0.00           NaN   \n",
       "\n",
       "      user_score rating  \n",
       "119          tbd      E  \n",
       "301          tbd   E10+  \n",
       "520          tbd      T  \n",
       "645          tbd      E  \n",
       "657          tbd      E  \n",
       "...          ...    ...  \n",
       "16695        tbd      E  \n",
       "16697        tbd      E  \n",
       "16698        tbd      E  \n",
       "16704        tbd      E  \n",
       "16706        tbd      T  \n",
       "\n",
       "[2424 rows x 11 columns]"
      ]
     },
     "execution_count": 6,
     "metadata": {},
     "output_type": "execute_result"
    }
   ],
   "source": [
    "data.query('user_score ==\"tbd\"')\n"
   ]
  },
  {
   "cell_type": "markdown",
   "metadata": {},
   "source": [
    "много строчек. Аббревиатура tbd оказывается означает  to be determined - то есть \"будет определено\" Наверное, это может означать что идет процесс сбора оценок\n",
    "В таком случае, заменять на нули tbd не кажется резонным. \n",
    "Посомтрим что со средним и медианным значениям по колонке (за вычетом tbd)"
   ]
  },
  {
   "cell_type": "code",
   "execution_count": 7,
   "metadata": {},
   "outputs": [
    {
     "name": "stderr",
     "output_type": "stream",
     "text": [
      "/tmp/ipykernel_86/3681729487.py:3: SettingWithCopyWarning: \n",
      "A value is trying to be set on a copy of a slice from a DataFrame.\n",
      "Try using .loc[row_indexer,col_indexer] = value instead\n",
      "\n",
      "See the caveats in the documentation: https://pandas.pydata.org/pandas-docs/stable/user_guide/indexing.html#returning-a-view-versus-a-copy\n",
      "  data1 ['user_score']= data1 ['user_score'].fillna(0)\n"
     ]
    }
   ],
   "source": [
    "data1 = data.query('user_score !=\"tbd\"')\n",
    "\n",
    "data1 ['user_score']= data1 ['user_score'].fillna(0)"
   ]
  },
  {
   "cell_type": "code",
   "execution_count": 8,
   "metadata": {},
   "outputs": [
    {
     "name": "stderr",
     "output_type": "stream",
     "text": [
      "/tmp/ipykernel_86/2532574063.py:1: SettingWithCopyWarning: \n",
      "A value is trying to be set on a copy of a slice from a DataFrame.\n",
      "Try using .loc[row_indexer,col_indexer] = value instead\n",
      "\n",
      "See the caveats in the documentation: https://pandas.pydata.org/pandas-docs/stable/user_guide/indexing.html#returning-a-view-versus-a-copy\n",
      "  data1['user_score']=data1['user_score'].astype(float)\n"
     ]
    }
   ],
   "source": [
    "data1['user_score']=data1['user_score'].astype(float)"
   ]
  },
  {
   "cell_type": "code",
   "execution_count": 9,
   "metadata": {},
   "outputs": [
    {
     "data": {
      "text/plain": [
       "3.784136869358338"
      ]
     },
     "execution_count": 9,
     "metadata": {},
     "output_type": "execute_result"
    }
   ],
   "source": [
    "data1['user_score'].mean()"
   ]
  },
  {
   "cell_type": "code",
   "execution_count": 10,
   "metadata": {},
   "outputs": [],
   "source": [
    "median_user_score = data1['user_score'].median()"
   ]
  },
  {
   "cell_type": "markdown",
   "metadata": {},
   "source": [
    "Лучше использовать медиану, она менее чувствительна в выбросам. И если у нас игры пока в статусе оценки, то лучше использовать нейтральную медиану. Весь этот data1 срез нам нужен был, что бы понять чем заменять tbd значения.\n",
    "\n",
    "Итак, вывод:\n",
    "по столбцу user_score: NAN - меняем на нули\n",
    "tbd - на медиану (медиану сохраняем как переменную)\n",
    "Потом меняем все типы данных на флоат \n",
    "\n",
    "Сразу помянять тип данных не получается\n"
   ]
  },
  {
   "cell_type": "code",
   "execution_count": 11,
   "metadata": {},
   "outputs": [
    {
     "data": {
      "text/html": [
       "<div>\n",
       "<style scoped>\n",
       "    .dataframe tbody tr th:only-of-type {\n",
       "        vertical-align: middle;\n",
       "    }\n",
       "\n",
       "    .dataframe tbody tr th {\n",
       "        vertical-align: top;\n",
       "    }\n",
       "\n",
       "    .dataframe thead th {\n",
       "        text-align: right;\n",
       "    }\n",
       "</style>\n",
       "<table border=\"1\" class=\"dataframe\">\n",
       "  <thead>\n",
       "    <tr style=\"text-align: right;\">\n",
       "      <th></th>\n",
       "      <th>name</th>\n",
       "      <th>platform</th>\n",
       "      <th>year_of_release</th>\n",
       "      <th>genre</th>\n",
       "      <th>na_sales</th>\n",
       "      <th>eu_sales</th>\n",
       "      <th>jp_sales</th>\n",
       "      <th>other_sales</th>\n",
       "      <th>critic_score</th>\n",
       "      <th>user_score</th>\n",
       "      <th>rating</th>\n",
       "    </tr>\n",
       "  </thead>\n",
       "  <tbody>\n",
       "    <tr>\n",
       "      <th>0</th>\n",
       "      <td>Wii Sports</td>\n",
       "      <td>Wii</td>\n",
       "      <td>2006.0</td>\n",
       "      <td>Sports</td>\n",
       "      <td>41.36</td>\n",
       "      <td>28.96</td>\n",
       "      <td>3.77</td>\n",
       "      <td>8.45</td>\n",
       "      <td>76.0</td>\n",
       "      <td>8</td>\n",
       "      <td>E</td>\n",
       "    </tr>\n",
       "    <tr>\n",
       "      <th>1</th>\n",
       "      <td>Super Mario Bros.</td>\n",
       "      <td>NES</td>\n",
       "      <td>1985.0</td>\n",
       "      <td>Platform</td>\n",
       "      <td>29.08</td>\n",
       "      <td>3.58</td>\n",
       "      <td>6.81</td>\n",
       "      <td>0.77</td>\n",
       "      <td>NaN</td>\n",
       "      <td>NaN</td>\n",
       "      <td>NaN</td>\n",
       "    </tr>\n",
       "    <tr>\n",
       "      <th>2</th>\n",
       "      <td>Mario Kart Wii</td>\n",
       "      <td>Wii</td>\n",
       "      <td>2008.0</td>\n",
       "      <td>Racing</td>\n",
       "      <td>15.68</td>\n",
       "      <td>12.76</td>\n",
       "      <td>3.79</td>\n",
       "      <td>3.29</td>\n",
       "      <td>82.0</td>\n",
       "      <td>8.3</td>\n",
       "      <td>E</td>\n",
       "    </tr>\n",
       "    <tr>\n",
       "      <th>3</th>\n",
       "      <td>Wii Sports Resort</td>\n",
       "      <td>Wii</td>\n",
       "      <td>2009.0</td>\n",
       "      <td>Sports</td>\n",
       "      <td>15.61</td>\n",
       "      <td>10.93</td>\n",
       "      <td>3.28</td>\n",
       "      <td>2.95</td>\n",
       "      <td>80.0</td>\n",
       "      <td>8</td>\n",
       "      <td>E</td>\n",
       "    </tr>\n",
       "    <tr>\n",
       "      <th>4</th>\n",
       "      <td>Pokemon Red/Pokemon Blue</td>\n",
       "      <td>GB</td>\n",
       "      <td>1996.0</td>\n",
       "      <td>Role-Playing</td>\n",
       "      <td>11.27</td>\n",
       "      <td>8.89</td>\n",
       "      <td>10.22</td>\n",
       "      <td>1.00</td>\n",
       "      <td>NaN</td>\n",
       "      <td>NaN</td>\n",
       "      <td>NaN</td>\n",
       "    </tr>\n",
       "  </tbody>\n",
       "</table>\n",
       "</div>"
      ],
      "text/plain": [
       "                       name platform  year_of_release         genre  na_sales  \\\n",
       "0                Wii Sports      Wii           2006.0        Sports     41.36   \n",
       "1         Super Mario Bros.      NES           1985.0      Platform     29.08   \n",
       "2            Mario Kart Wii      Wii           2008.0        Racing     15.68   \n",
       "3         Wii Sports Resort      Wii           2009.0        Sports     15.61   \n",
       "4  Pokemon Red/Pokemon Blue       GB           1996.0  Role-Playing     11.27   \n",
       "\n",
       "   eu_sales  jp_sales  other_sales  critic_score user_score rating  \n",
       "0     28.96      3.77         8.45          76.0          8      E  \n",
       "1      3.58      6.81         0.77           NaN        NaN    NaN  \n",
       "2     12.76      3.79         3.29          82.0        8.3      E  \n",
       "3     10.93      3.28         2.95          80.0          8      E  \n",
       "4      8.89     10.22         1.00           NaN        NaN    NaN  "
      ]
     },
     "execution_count": 11,
     "metadata": {},
     "output_type": "execute_result"
    }
   ],
   "source": [
    "data.head()"
   ]
  },
  {
   "cell_type": "markdown",
   "metadata": {},
   "source": [
    "Попробуем разобраться с пропусками.\n",
    "\n",
    "Пропущены достаточно интересные данные:\n",
    "\n",
    "* 2 строчки с названиями игр и жанров - это немного. Можно заполнить чем то типа \"No_name\" - так как нам действительно не очень важно название\n",
    "* Хуже бстоят дела в годом выпуска. Пропущены данные для 2% процентов игр. Это мало. Можно  удаkить эти строки. Замещать каким-то средними по годам будет не корректно. Пожалуй так и поступим\n",
    "* Еще хуже обстоят дела с оценками критиков и пользователей. Тут нужно разбираться почему данных нет. Гипотезы такие - какие то игры не оценили (было мало продаж. Предлагаю, заменить на нули оценки критиков и юзеров, там где NA. Замена на медианные или средние значения может сильно исказить данные. \n",
    "* по столбцу user_score: NAN - меняем на нули tbd - на медиану (медиану сохраняем как переменную) Потом меняем все типы данных на флоат\n",
    "\n",
    "* Рейтинг тоже много пропущенных значений. и нужно поподробнее разобраться с классификацией\n",
    "\n"
   ]
  },
  {
   "cell_type": "markdown",
   "metadata": {},
   "source": [
    "###  Рейтинг"
   ]
  },
  {
   "cell_type": "code",
   "execution_count": 12,
   "metadata": {},
   "outputs": [
    {
     "data": {
      "text/plain": [
       "array(['E', nan, 'M', 'T', 'E10+', 'K-A', 'AO', 'EC', 'RP'], dtype=object)"
      ]
     },
     "execution_count": 12,
     "metadata": {},
     "output_type": "execute_result"
    }
   ],
   "source": [
    "data['rating'].unique()"
   ]
  },
  {
   "cell_type": "markdown",
   "metadata": {},
   "source": [
    "Разберемся со значениями, Вики в помощь\n",
    "\n",
    "EC» («Early childhood») — «Для детей младшего возраста»\n",
    "\n",
    "«E» («Everyone») — «Для всех»: Содержание вполне подходит для возрастной категории от 6 лет. Такие игры могут понравиться и взрослым. Игры с этим рейтингом могут содержать минимальное насилие, в основном «мультяшного» характера. Первой игрой, которая получила данный рейтинг, стала The Simpsons Cartoon Studio, выпущенная в 1996 году. Первоначально \"K-A\" (\"Kids to Adults\")\n",
    "\n",
    "«E10+» («Everyone 10 and older») — «Для всех от 10 лет и старше»: \n",
    "\n",
    "«T» («Teen») — «Подросткам»: Игра подходит для лиц от 13 лет \n",
    "\n",
    "«M» («Mature») — «Для взрослых»: \n",
    "\n",
    "«AO» («Adults Only 18+») — «Только для взрослых»: \n",
    "\n",
    "'RP(«Rating Pending») — «Рейтинг ожидается»:\n",
    "\n",
    "Что интересно:\n",
    "\"K-A\" - уже устаревшая аббревиатура. ТЕкущая «E». Значит уместно заменить все строки с \"K-A\" на «E»\n",
    "'RP  - подходящая метрика для замены NAN (рейтинг ожидается) \n"
   ]
  },
  {
   "cell_type": "markdown",
   "metadata": {},
   "source": [
    "### Приступим к заменам"
   ]
  },
  {
   "cell_type": "code",
   "execution_count": 13,
   "metadata": {},
   "outputs": [
    {
     "data": {
      "text/html": [
       "<div>\n",
       "<style scoped>\n",
       "    .dataframe tbody tr th:only-of-type {\n",
       "        vertical-align: middle;\n",
       "    }\n",
       "\n",
       "    .dataframe tbody tr th {\n",
       "        vertical-align: top;\n",
       "    }\n",
       "\n",
       "    .dataframe thead th {\n",
       "        text-align: right;\n",
       "    }\n",
       "</style>\n",
       "<table border=\"1\" class=\"dataframe\">\n",
       "  <thead>\n",
       "    <tr style=\"text-align: right;\">\n",
       "      <th></th>\n",
       "      <th>name</th>\n",
       "      <th>platform</th>\n",
       "      <th>year_of_release</th>\n",
       "      <th>genre</th>\n",
       "      <th>na_sales</th>\n",
       "      <th>eu_sales</th>\n",
       "      <th>jp_sales</th>\n",
       "      <th>other_sales</th>\n",
       "      <th>critic_score</th>\n",
       "      <th>user_score</th>\n",
       "      <th>rating</th>\n",
       "    </tr>\n",
       "  </thead>\n",
       "  <tbody>\n",
       "    <tr>\n",
       "      <th>0</th>\n",
       "      <td>Wii Sports</td>\n",
       "      <td>Wii</td>\n",
       "      <td>2006.0</td>\n",
       "      <td>Sports</td>\n",
       "      <td>41.36</td>\n",
       "      <td>28.96</td>\n",
       "      <td>3.77</td>\n",
       "      <td>8.45</td>\n",
       "      <td>76.0</td>\n",
       "      <td>8</td>\n",
       "      <td>E</td>\n",
       "    </tr>\n",
       "    <tr>\n",
       "      <th>1</th>\n",
       "      <td>Super Mario Bros.</td>\n",
       "      <td>NES</td>\n",
       "      <td>1985.0</td>\n",
       "      <td>Platform</td>\n",
       "      <td>29.08</td>\n",
       "      <td>3.58</td>\n",
       "      <td>6.81</td>\n",
       "      <td>0.77</td>\n",
       "      <td>NaN</td>\n",
       "      <td>NaN</td>\n",
       "      <td>NaN</td>\n",
       "    </tr>\n",
       "    <tr>\n",
       "      <th>2</th>\n",
       "      <td>Mario Kart Wii</td>\n",
       "      <td>Wii</td>\n",
       "      <td>2008.0</td>\n",
       "      <td>Racing</td>\n",
       "      <td>15.68</td>\n",
       "      <td>12.76</td>\n",
       "      <td>3.79</td>\n",
       "      <td>3.29</td>\n",
       "      <td>82.0</td>\n",
       "      <td>8.3</td>\n",
       "      <td>E</td>\n",
       "    </tr>\n",
       "    <tr>\n",
       "      <th>3</th>\n",
       "      <td>Wii Sports Resort</td>\n",
       "      <td>Wii</td>\n",
       "      <td>2009.0</td>\n",
       "      <td>Sports</td>\n",
       "      <td>15.61</td>\n",
       "      <td>10.93</td>\n",
       "      <td>3.28</td>\n",
       "      <td>2.95</td>\n",
       "      <td>80.0</td>\n",
       "      <td>8</td>\n",
       "      <td>E</td>\n",
       "    </tr>\n",
       "    <tr>\n",
       "      <th>4</th>\n",
       "      <td>Pokemon Red/Pokemon Blue</td>\n",
       "      <td>GB</td>\n",
       "      <td>1996.0</td>\n",
       "      <td>Role-Playing</td>\n",
       "      <td>11.27</td>\n",
       "      <td>8.89</td>\n",
       "      <td>10.22</td>\n",
       "      <td>1.00</td>\n",
       "      <td>NaN</td>\n",
       "      <td>NaN</td>\n",
       "      <td>NaN</td>\n",
       "    </tr>\n",
       "  </tbody>\n",
       "</table>\n",
       "</div>"
      ],
      "text/plain": [
       "                       name platform  year_of_release         genre  na_sales  \\\n",
       "0                Wii Sports      Wii           2006.0        Sports     41.36   \n",
       "1         Super Mario Bros.      NES           1985.0      Platform     29.08   \n",
       "2            Mario Kart Wii      Wii           2008.0        Racing     15.68   \n",
       "3         Wii Sports Resort      Wii           2009.0        Sports     15.61   \n",
       "4  Pokemon Red/Pokemon Blue       GB           1996.0  Role-Playing     11.27   \n",
       "\n",
       "   eu_sales  jp_sales  other_sales  critic_score user_score rating  \n",
       "0     28.96      3.77         8.45          76.0          8      E  \n",
       "1      3.58      6.81         0.77           NaN        NaN    NaN  \n",
       "2     12.76      3.79         3.29          82.0        8.3      E  \n",
       "3     10.93      3.28         2.95          80.0          8      E  \n",
       "4      8.89     10.22         1.00           NaN        NaN    NaN  "
      ]
     },
     "execution_count": 13,
     "metadata": {},
     "output_type": "execute_result"
    }
   ],
   "source": [
    "data.head()"
   ]
  },
  {
   "cell_type": "code",
   "execution_count": 14,
   "metadata": {},
   "outputs": [],
   "source": [
    "#data['name']=data['name'].fillna('no_name')\n",
    "#data['genre']=data['genre'].fillna('no_genre')\n",
    "data['critic_score']= data['critic_score'].fillna(-1)\n",
    "data['rating']= data['rating'].fillna('no_value')\n",
    "data.loc[data['rating']=='K-A', 'rating'] = 'E'\n",
    "data.loc[data['user_score']=='tbd', 'user_score'] = -1\n"
   ]
  },
  {
   "cell_type": "code",
   "execution_count": 15,
   "metadata": {},
   "outputs": [],
   "source": [
    "data['user_score']= data['user_score'].fillna(-2)\n",
    "data['user_score']  = data['user_score'].astype(float)"
   ]
  },
  {
   "cell_type": "code",
   "execution_count": 16,
   "metadata": {},
   "outputs": [
    {
     "name": "stdout",
     "output_type": "stream",
     "text": [
      "<class 'pandas.core.frame.DataFrame'>\n",
      "RangeIndex: 16715 entries, 0 to 16714\n",
      "Data columns (total 11 columns):\n",
      " #   Column           Non-Null Count  Dtype  \n",
      "---  ------           --------------  -----  \n",
      " 0   name             16713 non-null  object \n",
      " 1   platform         16715 non-null  object \n",
      " 2   year_of_release  16446 non-null  float64\n",
      " 3   genre            16713 non-null  object \n",
      " 4   na_sales         16715 non-null  float64\n",
      " 5   eu_sales         16715 non-null  float64\n",
      " 6   jp_sales         16715 non-null  float64\n",
      " 7   other_sales      16715 non-null  float64\n",
      " 8   critic_score     16715 non-null  float64\n",
      " 9   user_score       16715 non-null  float64\n",
      " 10  rating           16715 non-null  object \n",
      "dtypes: float64(7), object(4)\n",
      "memory usage: 1.4+ MB\n"
     ]
    }
   ],
   "source": [
    "data.info()"
   ]
  },
  {
   "cell_type": "code",
   "execution_count": 17,
   "metadata": {},
   "outputs": [],
   "source": [
    "data=data.dropna()"
   ]
  },
  {
   "cell_type": "code",
   "execution_count": 18,
   "metadata": {},
   "outputs": [
    {
     "name": "stdout",
     "output_type": "stream",
     "text": [
      "<class 'pandas.core.frame.DataFrame'>\n",
      "Int64Index: 16444 entries, 0 to 16714\n",
      "Data columns (total 11 columns):\n",
      " #   Column           Non-Null Count  Dtype  \n",
      "---  ------           --------------  -----  \n",
      " 0   name             16444 non-null  object \n",
      " 1   platform         16444 non-null  object \n",
      " 2   year_of_release  16444 non-null  float64\n",
      " 3   genre            16444 non-null  object \n",
      " 4   na_sales         16444 non-null  float64\n",
      " 5   eu_sales         16444 non-null  float64\n",
      " 6   jp_sales         16444 non-null  float64\n",
      " 7   other_sales      16444 non-null  float64\n",
      " 8   critic_score     16444 non-null  float64\n",
      " 9   user_score       16444 non-null  float64\n",
      " 10  rating           16444 non-null  object \n",
      "dtypes: float64(7), object(4)\n",
      "memory usage: 1.5+ MB\n"
     ]
    }
   ],
   "source": [
    "data.info()"
   ]
  },
  {
   "cell_type": "code",
   "execution_count": 19,
   "metadata": {},
   "outputs": [
    {
     "data": {
      "text/plain": [
       "array(['E', 'no_value', 'M', 'T', 'E10+', 'AO', 'EC', 'RP'], dtype=object)"
      ]
     },
     "execution_count": 19,
     "metadata": {},
     "output_type": "execute_result"
    }
   ],
   "source": [
    "data['rating'].unique()"
   ]
  },
  {
   "cell_type": "markdown",
   "metadata": {},
   "source": [
    "Предобработку базовую закончили\n",
    "следующий пункт: Посчитайте суммарные продажи во всех регионах и запишите их в отдельный столбец.\n",
    "\n"
   ]
  },
  {
   "cell_type": "code",
   "execution_count": 20,
   "metadata": {},
   "outputs": [
    {
     "data": {
      "text/plain": [
       "0"
      ]
     },
     "execution_count": 20,
     "metadata": {},
     "output_type": "execute_result"
    }
   ],
   "source": [
    "data.duplicated().sum()"
   ]
  },
  {
   "cell_type": "code",
   "execution_count": 21,
   "metadata": {},
   "outputs": [],
   "source": [
    "data['total_sales'] = data['na_sales'] +data['eu_sales']+ data['jp_sales']+ data['other_sales']"
   ]
  },
  {
   "cell_type": "code",
   "execution_count": 22,
   "metadata": {},
   "outputs": [
    {
     "data": {
      "text/html": [
       "<div>\n",
       "<style scoped>\n",
       "    .dataframe tbody tr th:only-of-type {\n",
       "        vertical-align: middle;\n",
       "    }\n",
       "\n",
       "    .dataframe tbody tr th {\n",
       "        vertical-align: top;\n",
       "    }\n",
       "\n",
       "    .dataframe thead th {\n",
       "        text-align: right;\n",
       "    }\n",
       "</style>\n",
       "<table border=\"1\" class=\"dataframe\">\n",
       "  <thead>\n",
       "    <tr style=\"text-align: right;\">\n",
       "      <th></th>\n",
       "      <th>name</th>\n",
       "      <th>platform</th>\n",
       "      <th>year_of_release</th>\n",
       "      <th>genre</th>\n",
       "      <th>na_sales</th>\n",
       "      <th>eu_sales</th>\n",
       "      <th>jp_sales</th>\n",
       "      <th>other_sales</th>\n",
       "      <th>critic_score</th>\n",
       "      <th>user_score</th>\n",
       "      <th>rating</th>\n",
       "      <th>total_sales</th>\n",
       "    </tr>\n",
       "  </thead>\n",
       "  <tbody>\n",
       "    <tr>\n",
       "      <th>0</th>\n",
       "      <td>Wii Sports</td>\n",
       "      <td>Wii</td>\n",
       "      <td>2006.0</td>\n",
       "      <td>Sports</td>\n",
       "      <td>41.36</td>\n",
       "      <td>28.96</td>\n",
       "      <td>3.77</td>\n",
       "      <td>8.45</td>\n",
       "      <td>76.0</td>\n",
       "      <td>8.0</td>\n",
       "      <td>E</td>\n",
       "      <td>82.54</td>\n",
       "    </tr>\n",
       "    <tr>\n",
       "      <th>1</th>\n",
       "      <td>Super Mario Bros.</td>\n",
       "      <td>NES</td>\n",
       "      <td>1985.0</td>\n",
       "      <td>Platform</td>\n",
       "      <td>29.08</td>\n",
       "      <td>3.58</td>\n",
       "      <td>6.81</td>\n",
       "      <td>0.77</td>\n",
       "      <td>-1.0</td>\n",
       "      <td>-2.0</td>\n",
       "      <td>no_value</td>\n",
       "      <td>40.24</td>\n",
       "    </tr>\n",
       "    <tr>\n",
       "      <th>2</th>\n",
       "      <td>Mario Kart Wii</td>\n",
       "      <td>Wii</td>\n",
       "      <td>2008.0</td>\n",
       "      <td>Racing</td>\n",
       "      <td>15.68</td>\n",
       "      <td>12.76</td>\n",
       "      <td>3.79</td>\n",
       "      <td>3.29</td>\n",
       "      <td>82.0</td>\n",
       "      <td>8.3</td>\n",
       "      <td>E</td>\n",
       "      <td>35.52</td>\n",
       "    </tr>\n",
       "    <tr>\n",
       "      <th>3</th>\n",
       "      <td>Wii Sports Resort</td>\n",
       "      <td>Wii</td>\n",
       "      <td>2009.0</td>\n",
       "      <td>Sports</td>\n",
       "      <td>15.61</td>\n",
       "      <td>10.93</td>\n",
       "      <td>3.28</td>\n",
       "      <td>2.95</td>\n",
       "      <td>80.0</td>\n",
       "      <td>8.0</td>\n",
       "      <td>E</td>\n",
       "      <td>32.77</td>\n",
       "    </tr>\n",
       "    <tr>\n",
       "      <th>4</th>\n",
       "      <td>Pokemon Red/Pokemon Blue</td>\n",
       "      <td>GB</td>\n",
       "      <td>1996.0</td>\n",
       "      <td>Role-Playing</td>\n",
       "      <td>11.27</td>\n",
       "      <td>8.89</td>\n",
       "      <td>10.22</td>\n",
       "      <td>1.00</td>\n",
       "      <td>-1.0</td>\n",
       "      <td>-2.0</td>\n",
       "      <td>no_value</td>\n",
       "      <td>31.38</td>\n",
       "    </tr>\n",
       "  </tbody>\n",
       "</table>\n",
       "</div>"
      ],
      "text/plain": [
       "                       name platform  year_of_release         genre  na_sales  \\\n",
       "0                Wii Sports      Wii           2006.0        Sports     41.36   \n",
       "1         Super Mario Bros.      NES           1985.0      Platform     29.08   \n",
       "2            Mario Kart Wii      Wii           2008.0        Racing     15.68   \n",
       "3         Wii Sports Resort      Wii           2009.0        Sports     15.61   \n",
       "4  Pokemon Red/Pokemon Blue       GB           1996.0  Role-Playing     11.27   \n",
       "\n",
       "   eu_sales  jp_sales  other_sales  critic_score  user_score    rating  \\\n",
       "0     28.96      3.77         8.45          76.0         8.0         E   \n",
       "1      3.58      6.81         0.77          -1.0        -2.0  no_value   \n",
       "2     12.76      3.79         3.29          82.0         8.3         E   \n",
       "3     10.93      3.28         2.95          80.0         8.0         E   \n",
       "4      8.89     10.22         1.00          -1.0        -2.0  no_value   \n",
       "\n",
       "   total_sales  \n",
       "0        82.54  \n",
       "1        40.24  \n",
       "2        35.52  \n",
       "3        32.77  \n",
       "4        31.38  "
      ]
     },
     "execution_count": 22,
     "metadata": {},
     "output_type": "execute_result"
    }
   ],
   "source": [
    "data.head()"
   ]
  },
  {
   "cell_type": "code",
   "execution_count": 24,
   "metadata": {},
   "outputs": [
    {
     "name": "stdout",
     "output_type": "stream",
     "text": [
      "<class 'pandas.core.frame.DataFrame'>\n",
      "Int64Index: 16444 entries, 0 to 16714\n",
      "Data columns (total 12 columns):\n",
      " #   Column           Non-Null Count  Dtype  \n",
      "---  ------           --------------  -----  \n",
      " 0   name             16444 non-null  object \n",
      " 1   platform         16444 non-null  object \n",
      " 2   year_of_release  16444 non-null  float64\n",
      " 3   genre            16444 non-null  object \n",
      " 4   na_sales         16444 non-null  float64\n",
      " 5   eu_sales         16444 non-null  float64\n",
      " 6   jp_sales         16444 non-null  float64\n",
      " 7   other_sales      16444 non-null  float64\n",
      " 8   critic_score     16444 non-null  float64\n",
      " 9   user_score       16444 non-null  float64\n",
      " 10  rating           16444 non-null  object \n",
      " 11  total_sales      16444 non-null  float64\n",
      "dtypes: float64(8), object(4)\n",
      "memory usage: 1.6+ MB\n",
      "None\n",
      "-------------------------\n",
      "name [' Beyblade Burst' ' Fire Emblem Fates' \" Frozen: Olaf's Quest\" ...\n",
      " 'uDraw Studio' 'uDraw Studio: Instant Artist'\n",
      " '¡Shin Chan Flipa en colores!']\n",
      "name : кол-во NaN 0 , процент NaN 0.0 %\n",
      "-------------------------\n",
      "platform ['2600' '3DO' '3DS' 'DC' 'DS' 'GB' 'GBA' 'GC' 'GEN' 'GG' 'N64' 'NES' 'NG'\n",
      " 'PC' 'PCFX' 'PS' 'PS2' 'PS3' 'PS4' 'PSP' 'PSV' 'SAT' 'SCD' 'SNES' 'TG16'\n",
      " 'WS' 'Wii' 'WiiU' 'X360' 'XB' 'XOne']\n",
      "platform : кол-во NaN 0 , процент NaN 0.0 %\n",
      "-------------------------\n",
      "year_of_release [1980. 1981. 1982. 1983. 1984. 1985. 1986. 1987. 1988. 1989. 1990. 1991.\n",
      " 1992. 1993. 1994. 1995. 1996. 1997. 1998. 1999. 2000. 2001. 2002. 2003.\n",
      " 2004. 2005. 2006. 2007. 2008. 2009. 2010. 2011. 2012. 2013. 2014. 2015.\n",
      " 2016.]\n",
      "year_of_release : кол-во NaN 0 , процент NaN 0.0 %\n",
      "-------------------------\n",
      "genre ['Action' 'Adventure' 'Fighting' 'Misc' 'Platform' 'Puzzle' 'Racing'\n",
      " 'Role-Playing' 'Shooter' 'Simulation' 'Sports' 'Strategy']\n",
      "genre : кол-во NaN 0 , процент NaN 0.0 %\n",
      "-------------------------\n",
      "critic_score [-1. 13. 17. 19. 20. 21. 23. 24. 25. 26. 27. 28. 29. 30. 31. 32. 33. 34.\n",
      " 35. 36. 37. 38. 39. 40. 41. 42. 43. 44. 45. 46. 47. 48. 49. 50. 51. 52.\n",
      " 53. 54. 55. 56. 57. 58. 59. 60. 61. 62. 63. 64. 65. 66. 67. 68. 69. 70.\n",
      " 71. 72. 73. 74. 75. 76. 77. 78. 79. 80. 81. 82. 83. 84. 85. 86. 87. 88.\n",
      " 89. 90. 91. 92. 93. 94. 95. 96. 97. 98.]\n",
      "critic_score : кол-во NaN 0 , процент NaN 0.0 %\n",
      "-------------------------\n",
      "user_score [-2.  -1.   0.   0.2  0.3  0.5  0.6  0.7  0.9  1.   1.1  1.2  1.3  1.4\n",
      "  1.5  1.6  1.7  1.8  1.9  2.   2.1  2.2  2.3  2.4  2.5  2.6  2.7  2.8\n",
      "  2.9  3.   3.1  3.2  3.3  3.4  3.5  3.6  3.7  3.8  3.9  4.   4.1  4.2\n",
      "  4.3  4.4  4.5  4.6  4.7  4.8  4.9  5.   5.1  5.2  5.3  5.4  5.5  5.6\n",
      "  5.7  5.8  5.9  6.   6.1  6.2  6.3  6.4  6.5  6.6  6.7  6.8  6.9  7.\n",
      "  7.1  7.2  7.3  7.4  7.5  7.6  7.7  7.8  7.9  8.   8.1  8.2  8.3  8.4\n",
      "  8.5  8.6  8.7  8.8  8.9  9.   9.1  9.2  9.3  9.4  9.5  9.6  9.7]\n",
      "user_score : кол-во NaN 0 , процент NaN 0.0 %\n",
      "-------------------------\n",
      "rating ['AO' 'E' 'E10+' 'EC' 'M' 'RP' 'T' 'no_value']\n",
      "rating : кол-во NaN 0 , процент NaN 0.0 %\n"
     ]
    }
   ],
   "source": [
    "\n",
    "# Посмотрим, что у нас осталось\n",
    "temp = data.copy() \n",
    "list_c = ['name', 'platform', 'year_of_release', 'genre', 'critic_score', 'user_score', 'rating']\n",
    "print(temp.info())\n",
    "for col_l in list_c:\n",
    "  print('-------------------------')\n",
    "  print(col_l, temp[col_l].sort_values().unique())\n",
    "  print(col_l,': кол-во NaN',temp[col_l].isna().sum(),\n",
    "        ', процент NaN', round(temp[col_l].isna().sum()/len(temp)*100, 2),'%')"
   ]
  },
  {
   "cell_type": "markdown",
   "metadata": {},
   "source": [
    "## Исследовательский анализ данных\n",
    "\n",
    "\n"
   ]
  },
  {
   "cell_type": "markdown",
   "metadata": {},
   "source": [
    "### Посмотрим, сколько игр выпускалось в разные годы. Важны ли данные за все периоды?"
   ]
  },
  {
   "cell_type": "code",
   "execution_count": 25,
   "metadata": {},
   "outputs": [
    {
     "data": {
      "text/html": [
       "<div>\n",
       "<style scoped>\n",
       "    .dataframe tbody tr th:only-of-type {\n",
       "        vertical-align: middle;\n",
       "    }\n",
       "\n",
       "    .dataframe tbody tr th {\n",
       "        vertical-align: top;\n",
       "    }\n",
       "\n",
       "    .dataframe thead th {\n",
       "        text-align: right;\n",
       "    }\n",
       "</style>\n",
       "<table border=\"1\" class=\"dataframe\">\n",
       "  <thead>\n",
       "    <tr style=\"text-align: right;\">\n",
       "      <th></th>\n",
       "      <th>name</th>\n",
       "      <th>platform</th>\n",
       "      <th>year_of_release</th>\n",
       "      <th>genre</th>\n",
       "      <th>na_sales</th>\n",
       "      <th>eu_sales</th>\n",
       "      <th>jp_sales</th>\n",
       "      <th>other_sales</th>\n",
       "      <th>critic_score</th>\n",
       "      <th>user_score</th>\n",
       "      <th>rating</th>\n",
       "      <th>total_sales</th>\n",
       "    </tr>\n",
       "  </thead>\n",
       "  <tbody>\n",
       "    <tr>\n",
       "      <th>0</th>\n",
       "      <td>Wii Sports</td>\n",
       "      <td>Wii</td>\n",
       "      <td>2006.0</td>\n",
       "      <td>Sports</td>\n",
       "      <td>41.36</td>\n",
       "      <td>28.96</td>\n",
       "      <td>3.77</td>\n",
       "      <td>8.45</td>\n",
       "      <td>76.0</td>\n",
       "      <td>8.0</td>\n",
       "      <td>E</td>\n",
       "      <td>82.54</td>\n",
       "    </tr>\n",
       "    <tr>\n",
       "      <th>1</th>\n",
       "      <td>Super Mario Bros.</td>\n",
       "      <td>NES</td>\n",
       "      <td>1985.0</td>\n",
       "      <td>Platform</td>\n",
       "      <td>29.08</td>\n",
       "      <td>3.58</td>\n",
       "      <td>6.81</td>\n",
       "      <td>0.77</td>\n",
       "      <td>-1.0</td>\n",
       "      <td>-2.0</td>\n",
       "      <td>no_value</td>\n",
       "      <td>40.24</td>\n",
       "    </tr>\n",
       "    <tr>\n",
       "      <th>2</th>\n",
       "      <td>Mario Kart Wii</td>\n",
       "      <td>Wii</td>\n",
       "      <td>2008.0</td>\n",
       "      <td>Racing</td>\n",
       "      <td>15.68</td>\n",
       "      <td>12.76</td>\n",
       "      <td>3.79</td>\n",
       "      <td>3.29</td>\n",
       "      <td>82.0</td>\n",
       "      <td>8.3</td>\n",
       "      <td>E</td>\n",
       "      <td>35.52</td>\n",
       "    </tr>\n",
       "    <tr>\n",
       "      <th>3</th>\n",
       "      <td>Wii Sports Resort</td>\n",
       "      <td>Wii</td>\n",
       "      <td>2009.0</td>\n",
       "      <td>Sports</td>\n",
       "      <td>15.61</td>\n",
       "      <td>10.93</td>\n",
       "      <td>3.28</td>\n",
       "      <td>2.95</td>\n",
       "      <td>80.0</td>\n",
       "      <td>8.0</td>\n",
       "      <td>E</td>\n",
       "      <td>32.77</td>\n",
       "    </tr>\n",
       "    <tr>\n",
       "      <th>4</th>\n",
       "      <td>Pokemon Red/Pokemon Blue</td>\n",
       "      <td>GB</td>\n",
       "      <td>1996.0</td>\n",
       "      <td>Role-Playing</td>\n",
       "      <td>11.27</td>\n",
       "      <td>8.89</td>\n",
       "      <td>10.22</td>\n",
       "      <td>1.00</td>\n",
       "      <td>-1.0</td>\n",
       "      <td>-2.0</td>\n",
       "      <td>no_value</td>\n",
       "      <td>31.38</td>\n",
       "    </tr>\n",
       "  </tbody>\n",
       "</table>\n",
       "</div>"
      ],
      "text/plain": [
       "                       name platform  year_of_release         genre  na_sales  \\\n",
       "0                Wii Sports      Wii           2006.0        Sports     41.36   \n",
       "1         Super Mario Bros.      NES           1985.0      Platform     29.08   \n",
       "2            Mario Kart Wii      Wii           2008.0        Racing     15.68   \n",
       "3         Wii Sports Resort      Wii           2009.0        Sports     15.61   \n",
       "4  Pokemon Red/Pokemon Blue       GB           1996.0  Role-Playing     11.27   \n",
       "\n",
       "   eu_sales  jp_sales  other_sales  critic_score  user_score    rating  \\\n",
       "0     28.96      3.77         8.45          76.0         8.0         E   \n",
       "1      3.58      6.81         0.77          -1.0        -2.0  no_value   \n",
       "2     12.76      3.79         3.29          82.0         8.3         E   \n",
       "3     10.93      3.28         2.95          80.0         8.0         E   \n",
       "4      8.89     10.22         1.00          -1.0        -2.0  no_value   \n",
       "\n",
       "   total_sales  \n",
       "0        82.54  \n",
       "1        40.24  \n",
       "2        35.52  \n",
       "3        32.77  \n",
       "4        31.38  "
      ]
     },
     "execution_count": 25,
     "metadata": {},
     "output_type": "execute_result"
    }
   ],
   "source": [
    "data.head()"
   ]
  },
  {
   "cell_type": "code",
   "execution_count": 26,
   "metadata": {},
   "outputs": [
    {
     "data": {
      "text/plain": [
       "Text(0.5, 1.0, 'Год выпуска')"
      ]
     },
     "execution_count": 26,
     "metadata": {},
     "output_type": "execute_result"
    },
    {
     "data": {
      "image/png": "[encoded data removed]",
      "text/plain": [
       "<Figure size 432x288 with 1 Axes>"
      ]
     },
     "metadata": {
      "needs_background": "light"
     },
     "output_type": "display_data"
    }
   ],
   "source": [
    "data.groupby('year_of_release')['name'].count().plot()\n",
    "\n",
    "plt.xlabel('Выпуск игр по годам')\n",
    "plt.ylabel('Кол-во игр')\n",
    "plt.title('Год выпуска')"
   ]
  },
  {
   "cell_type": "markdown",
   "metadata": {},
   "source": [
    "Вывод: С 1998-2000 годов наблюдается устойсивый объем выпуска игр не менее 400 в год.\n",
    "До этого момента данными, скорее всего, можно пренебречь.\n",
    "Кроме того, для целей определения бюджета на год даннных за 15 лет более чем достаточно (более древние данные будут описывать совсем другую ЦА) "
   ]
  },
  {
   "cell_type": "markdown",
   "metadata": {},
   "source": [
    "\n",
    "### Посмотрите, как менялись продажи по платформам. \n",
    "\n",
    "Выберите платформы с наибольшими суммарными продажами и постройте распределение по годам. За какой характерный срок появляются новые и исчезают старые платформы?"
   ]
  },
  {
   "cell_type": "code",
   "execution_count": 28,
   "metadata": {},
   "outputs": [
    {
     "data": {
      "text/plain": [
       "platform\n",
       "PS2     1233.56\n",
       "X360     961.24\n",
       "PS3      931.34\n",
       "Wii      891.18\n",
       "DS       802.78\n",
       "PS       727.58\n",
       "Name: total_sales, dtype: float64"
      ]
     },
     "execution_count": 28,
     "metadata": {},
     "output_type": "execute_result"
    }
   ],
   "source": [
    "data.groupby('platform')['total_sales'].sum().sort_values(ascending=False).head(6)"
   ]
  },
  {
   "cell_type": "markdown",
   "metadata": {},
   "source": [
    "Вывод, по сумме  продаж  есть ярко выраженные 6 лидера. Построим по ним распрделение по годам"
   ]
  },
  {
   "cell_type": "code",
   "execution_count": 29,
   "metadata": {},
   "outputs": [],
   "source": [
    "df1 = data.query('platform== \"PS2\" or platform== \"X360\" or platform== \"PS3\" or platform== \"Wii\"or platform== \"DS\"or platform== \"PS\"').pivot_table(\n",
    "index = 'year_of_release',\n",
    "columns = 'platform',\n",
    "values = 'total_sales',\n",
    "aggfunc = 'sum').fillna(0)\n",
    "\n",
    "\n",
    "\n",
    "#df1.plot(kind = 'bar',colormap = 'Blues_r',stacked = True,grid = True,ax = axis[0])\n",
    "#plt.show()"
   ]
  },
  {
   "cell_type": "code",
   "execution_count": 30,
   "metadata": {},
   "outputs": [
    {
     "data": {
      "text/plain": [
       "<AxesSubplot:xlabel='year_of_release'>"
      ]
     },
     "execution_count": 30,
     "metadata": {},
     "output_type": "execute_result"
    },
    {
     "data": {
      "image/png": "[encoded data removed]",
      "text/plain": [
       "<Figure size 432x288 with 1 Axes>"
      ]
     },
     "metadata": {
      "needs_background": "light"
     },
     "output_type": "display_data"
    }
   ],
   "source": [
    "df1.plot()"
   ]
  },
  {
   "cell_type": "markdown",
   "metadata": {},
   "source": [
    "Вывод: цикл жизни платформы примерно 5 лет. \n",
    "\n",
    "Для дальнейшего анализа возьмем данные за последние 5 лет\n",
    "Причины: нам нужно планировать РК на след год - краткосрочное планирование\n",
    "Цикл жизни платформы 5 лет. \n"
   ]
  },
  {
   "cell_type": "code",
   "execution_count": 31,
   "metadata": {},
   "outputs": [],
   "source": [
    "df  = data.query('year_of_release > 2011')"
   ]
  },
  {
   "cell_type": "markdown",
   "metadata": {},
   "source": [
    "\n",
    "### Какие платформы лидируют по продажам, растут или падают? Выберите несколько потенциально прибыльных платформ.\n",
    "\n"
   ]
  },
  {
   "cell_type": "code",
   "execution_count": 32,
   "metadata": {},
   "outputs": [
    {
     "data": {
      "text/plain": [
       "<AxesSubplot:xlabel='year_of_release'>"
      ]
     },
     "execution_count": 32,
     "metadata": {},
     "output_type": "execute_result"
    },
    {
     "data": {
      "image/png": "[encoded data removed]",
      "text/plain": [
       "<Figure size 432x288 with 1 Axes>"
      ]
     },
     "metadata": {
      "needs_background": "light"
     },
     "output_type": "display_data"
    }
   ],
   "source": [
    "df.pivot_table(\n",
    "index = 'year_of_release',\n",
    "columns = 'platform',\n",
    "values = 'total_sales',\n",
    "aggfunc = 'sum').fillna(0).plot()"
   ]
  },
  {
   "cell_type": "code",
   "execution_count": 33,
   "metadata": {},
   "outputs": [
    {
     "data": {
      "text/html": [
       "<div>\n",
       "<style scoped>\n",
       "    .dataframe tbody tr th:only-of-type {\n",
       "        vertical-align: middle;\n",
       "    }\n",
       "\n",
       "    .dataframe tbody tr th {\n",
       "        vertical-align: top;\n",
       "    }\n",
       "\n",
       "    .dataframe thead th {\n",
       "        text-align: right;\n",
       "    }\n",
       "</style>\n",
       "<table border=\"1\" class=\"dataframe\">\n",
       "  <thead>\n",
       "    <tr style=\"text-align: right;\">\n",
       "      <th>platform</th>\n",
       "      <th>3DS</th>\n",
       "      <th>DS</th>\n",
       "      <th>PC</th>\n",
       "      <th>PS3</th>\n",
       "      <th>PS4</th>\n",
       "      <th>PSP</th>\n",
       "      <th>PSV</th>\n",
       "      <th>Wii</th>\n",
       "      <th>WiiU</th>\n",
       "      <th>X360</th>\n",
       "      <th>XOne</th>\n",
       "    </tr>\n",
       "    <tr>\n",
       "      <th>year_of_release</th>\n",
       "      <th></th>\n",
       "      <th></th>\n",
       "      <th></th>\n",
       "      <th></th>\n",
       "      <th></th>\n",
       "      <th></th>\n",
       "      <th></th>\n",
       "      <th></th>\n",
       "      <th></th>\n",
       "      <th></th>\n",
       "      <th></th>\n",
       "    </tr>\n",
       "  </thead>\n",
       "  <tbody>\n",
       "    <tr>\n",
       "      <th>2012.0</th>\n",
       "      <td>51.36</td>\n",
       "      <td>11.01</td>\n",
       "      <td>23.22</td>\n",
       "      <td>107.36</td>\n",
       "      <td>NaN</td>\n",
       "      <td>7.69</td>\n",
       "      <td>16.19</td>\n",
       "      <td>21.71</td>\n",
       "      <td>17.56</td>\n",
       "      <td>99.74</td>\n",
       "      <td>NaN</td>\n",
       "    </tr>\n",
       "    <tr>\n",
       "      <th>2013.0</th>\n",
       "      <td>56.57</td>\n",
       "      <td>1.54</td>\n",
       "      <td>12.38</td>\n",
       "      <td>113.25</td>\n",
       "      <td>25.99</td>\n",
       "      <td>3.14</td>\n",
       "      <td>10.59</td>\n",
       "      <td>8.59</td>\n",
       "      <td>21.65</td>\n",
       "      <td>88.58</td>\n",
       "      <td>18.96</td>\n",
       "    </tr>\n",
       "    <tr>\n",
       "      <th>2014.0</th>\n",
       "      <td>43.76</td>\n",
       "      <td>NaN</td>\n",
       "      <td>13.28</td>\n",
       "      <td>47.76</td>\n",
       "      <td>100.00</td>\n",
       "      <td>0.24</td>\n",
       "      <td>11.90</td>\n",
       "      <td>3.75</td>\n",
       "      <td>22.03</td>\n",
       "      <td>34.74</td>\n",
       "      <td>54.07</td>\n",
       "    </tr>\n",
       "    <tr>\n",
       "      <th>2015.0</th>\n",
       "      <td>27.78</td>\n",
       "      <td>NaN</td>\n",
       "      <td>8.52</td>\n",
       "      <td>16.82</td>\n",
       "      <td>118.90</td>\n",
       "      <td>0.12</td>\n",
       "      <td>6.25</td>\n",
       "      <td>1.14</td>\n",
       "      <td>16.35</td>\n",
       "      <td>11.96</td>\n",
       "      <td>60.14</td>\n",
       "    </tr>\n",
       "    <tr>\n",
       "      <th>2016.0</th>\n",
       "      <td>15.14</td>\n",
       "      <td>NaN</td>\n",
       "      <td>5.25</td>\n",
       "      <td>3.60</td>\n",
       "      <td>69.25</td>\n",
       "      <td>NaN</td>\n",
       "      <td>4.25</td>\n",
       "      <td>0.18</td>\n",
       "      <td>4.60</td>\n",
       "      <td>1.52</td>\n",
       "      <td>26.15</td>\n",
       "    </tr>\n",
       "  </tbody>\n",
       "</table>\n",
       "</div>"
      ],
      "text/plain": [
       "platform           3DS     DS     PC     PS3     PS4   PSP    PSV    Wii  \\\n",
       "year_of_release                                                            \n",
       "2012.0           51.36  11.01  23.22  107.36     NaN  7.69  16.19  21.71   \n",
       "2013.0           56.57   1.54  12.38  113.25   25.99  3.14  10.59   8.59   \n",
       "2014.0           43.76    NaN  13.28   47.76  100.00  0.24  11.90   3.75   \n",
       "2015.0           27.78    NaN   8.52   16.82  118.90  0.12   6.25   1.14   \n",
       "2016.0           15.14    NaN   5.25    3.60   69.25   NaN   4.25   0.18   \n",
       "\n",
       "platform          WiiU   X360   XOne  \n",
       "year_of_release                       \n",
       "2012.0           17.56  99.74    NaN  \n",
       "2013.0           21.65  88.58  18.96  \n",
       "2014.0           22.03  34.74  54.07  \n",
       "2015.0           16.35  11.96  60.14  \n",
       "2016.0            4.60   1.52  26.15  "
      ]
     },
     "execution_count": 33,
     "metadata": {},
     "output_type": "execute_result"
    }
   ],
   "source": [
    "df.pivot_table(\n",
    "index = 'year_of_release',\n",
    "columns = 'platform',\n",
    "values = 'total_sales',\n",
    "aggfunc = 'sum')"
   ]
  },
  {
   "cell_type": "code",
   "execution_count": 34,
   "metadata": {},
   "outputs": [
    {
     "data": {
      "text/html": [
       "<div>\n",
       "<style scoped>\n",
       "    .dataframe tbody tr th:only-of-type {\n",
       "        vertical-align: middle;\n",
       "    }\n",
       "\n",
       "    .dataframe tbody tr th {\n",
       "        vertical-align: top;\n",
       "    }\n",
       "\n",
       "    .dataframe thead th {\n",
       "        text-align: right;\n",
       "    }\n",
       "</style>\n",
       "<table border=\"1\" class=\"dataframe\">\n",
       "  <thead>\n",
       "    <tr style=\"text-align: right;\">\n",
       "      <th></th>\n",
       "      <th>platform</th>\n",
       "      <th>total_sales</th>\n",
       "    </tr>\n",
       "  </thead>\n",
       "  <tbody>\n",
       "    <tr>\n",
       "      <th>5</th>\n",
       "      <td>PSP</td>\n",
       "      <td>11.19</td>\n",
       "    </tr>\n",
       "    <tr>\n",
       "      <th>1</th>\n",
       "      <td>DS</td>\n",
       "      <td>12.55</td>\n",
       "    </tr>\n",
       "    <tr>\n",
       "      <th>7</th>\n",
       "      <td>Wii</td>\n",
       "      <td>35.37</td>\n",
       "    </tr>\n",
       "    <tr>\n",
       "      <th>6</th>\n",
       "      <td>PSV</td>\n",
       "      <td>49.18</td>\n",
       "    </tr>\n",
       "    <tr>\n",
       "      <th>2</th>\n",
       "      <td>PC</td>\n",
       "      <td>62.65</td>\n",
       "    </tr>\n",
       "    <tr>\n",
       "      <th>8</th>\n",
       "      <td>WiiU</td>\n",
       "      <td>82.19</td>\n",
       "    </tr>\n",
       "    <tr>\n",
       "      <th>10</th>\n",
       "      <td>XOne</td>\n",
       "      <td>159.32</td>\n",
       "    </tr>\n",
       "    <tr>\n",
       "      <th>0</th>\n",
       "      <td>3DS</td>\n",
       "      <td>194.61</td>\n",
       "    </tr>\n",
       "    <tr>\n",
       "      <th>9</th>\n",
       "      <td>X360</td>\n",
       "      <td>236.54</td>\n",
       "    </tr>\n",
       "    <tr>\n",
       "      <th>3</th>\n",
       "      <td>PS3</td>\n",
       "      <td>288.79</td>\n",
       "    </tr>\n",
       "    <tr>\n",
       "      <th>4</th>\n",
       "      <td>PS4</td>\n",
       "      <td>314.14</td>\n",
       "    </tr>\n",
       "  </tbody>\n",
       "</table>\n",
       "</div>"
      ],
      "text/plain": [
       "   platform  total_sales\n",
       "5       PSP        11.19\n",
       "1        DS        12.55\n",
       "7       Wii        35.37\n",
       "6       PSV        49.18\n",
       "2        PC        62.65\n",
       "8      WiiU        82.19\n",
       "10     XOne       159.32\n",
       "0       3DS       194.61\n",
       "9      X360       236.54\n",
       "3       PS3       288.79\n",
       "4       PS4       314.14"
      ]
     },
     "execution_count": 34,
     "metadata": {},
     "output_type": "execute_result"
    }
   ],
   "source": [
    "d1 = df.pivot_table(\n",
    "index = 'platform',\n",
    "values = 'total_sales',\n",
    "aggfunc = 'sum').reset_index()\n",
    "\n",
    "d1.sort_values(by= 'total_sales')"
   ]
  },
  {
   "cell_type": "markdown",
   "metadata": {},
   "source": [
    "Вывод: в 2016 году мы видим снижение продаж по всем платформам. Похоже, что в 2017 стоит ожидать выходна новых платформ. \n",
    "Тем не менее самые популярные PS4 и XOne"
   ]
  },
  {
   "cell_type": "markdown",
   "metadata": {},
   "source": [
    "### Постройте график «ящик с усами» по глобальным продажам игр в разбивке по платформам. Опишите результат.\n"
   ]
  },
  {
   "cell_type": "code",
   "execution_count": 35,
   "metadata": {},
   "outputs": [
    {
     "data": {
      "text/html": [
       "<div>\n",
       "<style scoped>\n",
       "    .dataframe tbody tr th:only-of-type {\n",
       "        vertical-align: middle;\n",
       "    }\n",
       "\n",
       "    .dataframe tbody tr th {\n",
       "        vertical-align: top;\n",
       "    }\n",
       "\n",
       "    .dataframe thead th {\n",
       "        text-align: right;\n",
       "    }\n",
       "</style>\n",
       "<table border=\"1\" class=\"dataframe\">\n",
       "  <thead>\n",
       "    <tr style=\"text-align: right;\">\n",
       "      <th></th>\n",
       "      <th>name</th>\n",
       "      <th>platform</th>\n",
       "      <th>year_of_release</th>\n",
       "      <th>genre</th>\n",
       "      <th>na_sales</th>\n",
       "      <th>eu_sales</th>\n",
       "      <th>jp_sales</th>\n",
       "      <th>other_sales</th>\n",
       "      <th>critic_score</th>\n",
       "      <th>user_score</th>\n",
       "      <th>rating</th>\n",
       "      <th>total_sales</th>\n",
       "    </tr>\n",
       "  </thead>\n",
       "  <tbody>\n",
       "    <tr>\n",
       "      <th>16</th>\n",
       "      <td>Grand Theft Auto V</td>\n",
       "      <td>PS3</td>\n",
       "      <td>2013.0</td>\n",
       "      <td>Action</td>\n",
       "      <td>7.02</td>\n",
       "      <td>9.09</td>\n",
       "      <td>0.98</td>\n",
       "      <td>3.96</td>\n",
       "      <td>97.0</td>\n",
       "      <td>8.2</td>\n",
       "      <td>M</td>\n",
       "      <td>21.05</td>\n",
       "    </tr>\n",
       "    <tr>\n",
       "      <th>23</th>\n",
       "      <td>Grand Theft Auto V</td>\n",
       "      <td>X360</td>\n",
       "      <td>2013.0</td>\n",
       "      <td>Action</td>\n",
       "      <td>9.66</td>\n",
       "      <td>5.14</td>\n",
       "      <td>0.06</td>\n",
       "      <td>1.41</td>\n",
       "      <td>97.0</td>\n",
       "      <td>8.1</td>\n",
       "      <td>M</td>\n",
       "      <td>16.27</td>\n",
       "    </tr>\n",
       "    <tr>\n",
       "      <th>31</th>\n",
       "      <td>Call of Duty: Black Ops 3</td>\n",
       "      <td>PS4</td>\n",
       "      <td>2015.0</td>\n",
       "      <td>Shooter</td>\n",
       "      <td>6.03</td>\n",
       "      <td>5.86</td>\n",
       "      <td>0.36</td>\n",
       "      <td>2.38</td>\n",
       "      <td>-1.0</td>\n",
       "      <td>-2.0</td>\n",
       "      <td>no_value</td>\n",
       "      <td>14.63</td>\n",
       "    </tr>\n",
       "    <tr>\n",
       "      <th>33</th>\n",
       "      <td>Pokemon X/Pokemon Y</td>\n",
       "      <td>3DS</td>\n",
       "      <td>2013.0</td>\n",
       "      <td>Role-Playing</td>\n",
       "      <td>5.28</td>\n",
       "      <td>4.19</td>\n",
       "      <td>4.35</td>\n",
       "      <td>0.78</td>\n",
       "      <td>-1.0</td>\n",
       "      <td>-2.0</td>\n",
       "      <td>no_value</td>\n",
       "      <td>14.60</td>\n",
       "    </tr>\n",
       "    <tr>\n",
       "      <th>34</th>\n",
       "      <td>Call of Duty: Black Ops II</td>\n",
       "      <td>PS3</td>\n",
       "      <td>2012.0</td>\n",
       "      <td>Shooter</td>\n",
       "      <td>4.99</td>\n",
       "      <td>5.73</td>\n",
       "      <td>0.65</td>\n",
       "      <td>2.42</td>\n",
       "      <td>83.0</td>\n",
       "      <td>5.3</td>\n",
       "      <td>M</td>\n",
       "      <td>13.79</td>\n",
       "    </tr>\n",
       "  </tbody>\n",
       "</table>\n",
       "</div>"
      ],
      "text/plain": [
       "                          name platform  year_of_release         genre  \\\n",
       "16          Grand Theft Auto V      PS3           2013.0        Action   \n",
       "23          Grand Theft Auto V     X360           2013.0        Action   \n",
       "31   Call of Duty: Black Ops 3      PS4           2015.0       Shooter   \n",
       "33         Pokemon X/Pokemon Y      3DS           2013.0  Role-Playing   \n",
       "34  Call of Duty: Black Ops II      PS3           2012.0       Shooter   \n",
       "\n",
       "    na_sales  eu_sales  jp_sales  other_sales  critic_score  user_score  \\\n",
       "16      7.02      9.09      0.98         3.96          97.0         8.2   \n",
       "23      9.66      5.14      0.06         1.41          97.0         8.1   \n",
       "31      6.03      5.86      0.36         2.38          -1.0        -2.0   \n",
       "33      5.28      4.19      4.35         0.78          -1.0        -2.0   \n",
       "34      4.99      5.73      0.65         2.42          83.0         5.3   \n",
       "\n",
       "      rating  total_sales  \n",
       "16         M        21.05  \n",
       "23         M        16.27  \n",
       "31  no_value        14.63  \n",
       "33  no_value        14.60  \n",
       "34         M        13.79  "
      ]
     },
     "execution_count": 35,
     "metadata": {},
     "output_type": "execute_result"
    }
   ],
   "source": [
    "df.head()"
   ]
  },
  {
   "cell_type": "code",
   "execution_count": 36,
   "metadata": {},
   "outputs": [
    {
     "data": {
      "text/html": [
       "<div>\n",
       "<style scoped>\n",
       "    .dataframe tbody tr th:only-of-type {\n",
       "        vertical-align: middle;\n",
       "    }\n",
       "\n",
       "    .dataframe tbody tr th {\n",
       "        vertical-align: top;\n",
       "    }\n",
       "\n",
       "    .dataframe thead th {\n",
       "        text-align: right;\n",
       "    }\n",
       "</style>\n",
       "<table border=\"1\" class=\"dataframe\">\n",
       "  <thead>\n",
       "    <tr style=\"text-align: right;\">\n",
       "      <th></th>\n",
       "      <th>name</th>\n",
       "      <th>platform</th>\n",
       "      <th>year_of_release</th>\n",
       "      <th>genre</th>\n",
       "      <th>na_sales</th>\n",
       "      <th>eu_sales</th>\n",
       "      <th>jp_sales</th>\n",
       "      <th>other_sales</th>\n",
       "      <th>critic_score</th>\n",
       "      <th>user_score</th>\n",
       "      <th>rating</th>\n",
       "      <th>total_sales</th>\n",
       "    </tr>\n",
       "  </thead>\n",
       "  <tbody>\n",
       "    <tr>\n",
       "      <th>16</th>\n",
       "      <td>Grand Theft Auto V</td>\n",
       "      <td>PS3</td>\n",
       "      <td>2013.0</td>\n",
       "      <td>Action</td>\n",
       "      <td>7.02</td>\n",
       "      <td>9.09</td>\n",
       "      <td>0.98</td>\n",
       "      <td>3.96</td>\n",
       "      <td>97.0</td>\n",
       "      <td>8.2</td>\n",
       "      <td>M</td>\n",
       "      <td>21.05</td>\n",
       "    </tr>\n",
       "    <tr>\n",
       "      <th>34</th>\n",
       "      <td>Call of Duty: Black Ops II</td>\n",
       "      <td>PS3</td>\n",
       "      <td>2012.0</td>\n",
       "      <td>Shooter</td>\n",
       "      <td>4.99</td>\n",
       "      <td>5.73</td>\n",
       "      <td>0.65</td>\n",
       "      <td>2.42</td>\n",
       "      <td>83.0</td>\n",
       "      <td>5.3</td>\n",
       "      <td>M</td>\n",
       "      <td>13.79</td>\n",
       "    </tr>\n",
       "    <tr>\n",
       "      <th>69</th>\n",
       "      <td>Call of Duty: Ghosts</td>\n",
       "      <td>PS3</td>\n",
       "      <td>2013.0</td>\n",
       "      <td>Shooter</td>\n",
       "      <td>4.10</td>\n",
       "      <td>3.63</td>\n",
       "      <td>0.38</td>\n",
       "      <td>1.25</td>\n",
       "      <td>71.0</td>\n",
       "      <td>2.6</td>\n",
       "      <td>M</td>\n",
       "      <td>9.36</td>\n",
       "    </tr>\n",
       "    <tr>\n",
       "      <th>81</th>\n",
       "      <td>FIFA Soccer 13</td>\n",
       "      <td>PS3</td>\n",
       "      <td>2012.0</td>\n",
       "      <td>Action</td>\n",
       "      <td>1.06</td>\n",
       "      <td>5.01</td>\n",
       "      <td>0.13</td>\n",
       "      <td>1.97</td>\n",
       "      <td>88.0</td>\n",
       "      <td>6.6</td>\n",
       "      <td>E</td>\n",
       "      <td>8.17</td>\n",
       "    </tr>\n",
       "    <tr>\n",
       "      <th>126</th>\n",
       "      <td>FIFA 14</td>\n",
       "      <td>PS3</td>\n",
       "      <td>2013.0</td>\n",
       "      <td>Sports</td>\n",
       "      <td>0.78</td>\n",
       "      <td>4.24</td>\n",
       "      <td>0.07</td>\n",
       "      <td>1.37</td>\n",
       "      <td>86.0</td>\n",
       "      <td>4.3</td>\n",
       "      <td>E</td>\n",
       "      <td>6.46</td>\n",
       "    </tr>\n",
       "    <tr>\n",
       "      <th>...</th>\n",
       "      <td>...</td>\n",
       "      <td>...</td>\n",
       "      <td>...</td>\n",
       "      <td>...</td>\n",
       "      <td>...</td>\n",
       "      <td>...</td>\n",
       "      <td>...</td>\n",
       "      <td>...</td>\n",
       "      <td>...</td>\n",
       "      <td>...</td>\n",
       "      <td>...</td>\n",
       "      <td>...</td>\n",
       "    </tr>\n",
       "    <tr>\n",
       "      <th>16628</th>\n",
       "      <td>Akatsuki no Goei Trinity</td>\n",
       "      <td>PS3</td>\n",
       "      <td>2012.0</td>\n",
       "      <td>Adventure</td>\n",
       "      <td>0.00</td>\n",
       "      <td>0.00</td>\n",
       "      <td>0.01</td>\n",
       "      <td>0.00</td>\n",
       "      <td>-1.0</td>\n",
       "      <td>-2.0</td>\n",
       "      <td>no_value</td>\n",
       "      <td>0.01</td>\n",
       "    </tr>\n",
       "    <tr>\n",
       "      <th>16638</th>\n",
       "      <td>Tour de France 2014</td>\n",
       "      <td>PS3</td>\n",
       "      <td>2014.0</td>\n",
       "      <td>Sports</td>\n",
       "      <td>0.00</td>\n",
       "      <td>0.01</td>\n",
       "      <td>0.00</td>\n",
       "      <td>0.00</td>\n",
       "      <td>-1.0</td>\n",
       "      <td>-1.0</td>\n",
       "      <td>E</td>\n",
       "      <td>0.01</td>\n",
       "    </tr>\n",
       "    <tr>\n",
       "      <th>16674</th>\n",
       "      <td>Tsukigime Ranko's Longest Day</td>\n",
       "      <td>PS3</td>\n",
       "      <td>2014.0</td>\n",
       "      <td>Action</td>\n",
       "      <td>0.00</td>\n",
       "      <td>0.01</td>\n",
       "      <td>0.00</td>\n",
       "      <td>0.00</td>\n",
       "      <td>-1.0</td>\n",
       "      <td>-2.0</td>\n",
       "      <td>no_value</td>\n",
       "      <td>0.01</td>\n",
       "    </tr>\n",
       "    <tr>\n",
       "      <th>16691</th>\n",
       "      <td>Dynasty Warriors: Eiketsuden</td>\n",
       "      <td>PS3</td>\n",
       "      <td>2016.0</td>\n",
       "      <td>Action</td>\n",
       "      <td>0.00</td>\n",
       "      <td>0.00</td>\n",
       "      <td>0.01</td>\n",
       "      <td>0.00</td>\n",
       "      <td>-1.0</td>\n",
       "      <td>-2.0</td>\n",
       "      <td>no_value</td>\n",
       "      <td>0.01</td>\n",
       "    </tr>\n",
       "    <tr>\n",
       "      <th>16710</th>\n",
       "      <td>Samurai Warriors: Sanada Maru</td>\n",
       "      <td>PS3</td>\n",
       "      <td>2016.0</td>\n",
       "      <td>Action</td>\n",
       "      <td>0.00</td>\n",
       "      <td>0.00</td>\n",
       "      <td>0.01</td>\n",
       "      <td>0.00</td>\n",
       "      <td>-1.0</td>\n",
       "      <td>-2.0</td>\n",
       "      <td>no_value</td>\n",
       "      <td>0.01</td>\n",
       "    </tr>\n",
       "  </tbody>\n",
       "</table>\n",
       "<p>493 rows × 12 columns</p>\n",
       "</div>"
      ],
      "text/plain": [
       "                                name platform  year_of_release      genre  \\\n",
       "16                Grand Theft Auto V      PS3           2013.0     Action   \n",
       "34        Call of Duty: Black Ops II      PS3           2012.0    Shooter   \n",
       "69              Call of Duty: Ghosts      PS3           2013.0    Shooter   \n",
       "81                    FIFA Soccer 13      PS3           2012.0     Action   \n",
       "126                          FIFA 14      PS3           2013.0     Sports   \n",
       "...                              ...      ...              ...        ...   \n",
       "16628       Akatsuki no Goei Trinity      PS3           2012.0  Adventure   \n",
       "16638            Tour de France 2014      PS3           2014.0     Sports   \n",
       "16674  Tsukigime Ranko's Longest Day      PS3           2014.0     Action   \n",
       "16691   Dynasty Warriors: Eiketsuden      PS3           2016.0     Action   \n",
       "16710  Samurai Warriors: Sanada Maru      PS3           2016.0     Action   \n",
       "\n",
       "       na_sales  eu_sales  jp_sales  other_sales  critic_score  user_score  \\\n",
       "16         7.02      9.09      0.98         3.96          97.0         8.2   \n",
       "34         4.99      5.73      0.65         2.42          83.0         5.3   \n",
       "69         4.10      3.63      0.38         1.25          71.0         2.6   \n",
       "81         1.06      5.01      0.13         1.97          88.0         6.6   \n",
       "126        0.78      4.24      0.07         1.37          86.0         4.3   \n",
       "...         ...       ...       ...          ...           ...         ...   \n",
       "16628      0.00      0.00      0.01         0.00          -1.0        -2.0   \n",
       "16638      0.00      0.01      0.00         0.00          -1.0        -1.0   \n",
       "16674      0.00      0.01      0.00         0.00          -1.0        -2.0   \n",
       "16691      0.00      0.00      0.01         0.00          -1.0        -2.0   \n",
       "16710      0.00      0.00      0.01         0.00          -1.0        -2.0   \n",
       "\n",
       "         rating  total_sales  \n",
       "16            M        21.05  \n",
       "34            M        13.79  \n",
       "69            M         9.36  \n",
       "81            E         8.17  \n",
       "126           E         6.46  \n",
       "...         ...          ...  \n",
       "16628  no_value         0.01  \n",
       "16638         E         0.01  \n",
       "16674  no_value         0.01  \n",
       "16691  no_value         0.01  \n",
       "16710  no_value         0.01  \n",
       "\n",
       "[493 rows x 12 columns]"
      ]
     },
     "execution_count": 36,
     "metadata": {},
     "output_type": "execute_result"
    }
   ],
   "source": [
    "df.loc[df['platform']=='PS3']"
   ]
  },
  {
   "cell_type": "markdown",
   "metadata": {},
   "source": [
    "Вывод: Существуют огромные выбросы  - успешные игры, которые перетягивают на себя все продажи) "
   ]
  },
  {
   "cell_type": "code",
   "execution_count": 38,
   "metadata": {},
   "outputs": [
    {
     "data": {
      "text/plain": [
       "<AxesSubplot:title={'center':'total_sales'}, xlabel='platform'>"
      ]
     },
     "execution_count": 38,
     "metadata": {},
     "output_type": "execute_result"
    },
    {
     "data": {
      "image/png": "[encoded data removed]",
      "text/plain": [
       "<Figure size 432x288 with 1 Axes>"
      ]
     },
     "metadata": {
      "needs_background": "light"
     },
     "output_type": "display_data"
    }
   ],
   "source": [
    "df.boxplot('total_sales',by='platform')"
   ]
  },
  {
   "cell_type": "code",
   "execution_count": 39,
   "metadata": {},
   "outputs": [
    {
     "data": {
      "text/plain": [
       "(0.0, 1.0)"
      ]
     },
     "execution_count": 39,
     "metadata": {},
     "output_type": "execute_result"
    },
    {
     "data": {
      "image/png": "[encoded data removed]",
      "text/plain": [
       "<Figure size 432x288 with 1 Axes>"
      ]
     },
     "metadata": {
      "needs_background": "light"
     },
     "output_type": "display_data"
    }
   ],
   "source": [
    "df.boxplot('total_sales',by='platform')\n",
    "plt.ylim(0,1)"
   ]
  },
  {
   "cell_type": "code",
   "execution_count": 41,
   "metadata": {},
   "outputs": [
    {
     "data": {
      "text/html": [
       "<div>\n",
       "<style scoped>\n",
       "    .dataframe tbody tr th:only-of-type {\n",
       "        vertical-align: middle;\n",
       "    }\n",
       "\n",
       "    .dataframe tbody tr th {\n",
       "        vertical-align: top;\n",
       "    }\n",
       "\n",
       "    .dataframe thead th {\n",
       "        text-align: right;\n",
       "    }\n",
       "</style>\n",
       "<table border=\"1\" class=\"dataframe\">\n",
       "  <thead>\n",
       "    <tr style=\"text-align: right;\">\n",
       "      <th></th>\n",
       "      <th>name</th>\n",
       "      <th>year_of_release</th>\n",
       "      <th>total_sales</th>\n",
       "    </tr>\n",
       "  </thead>\n",
       "  <tbody>\n",
       "    <tr>\n",
       "      <th>593</th>\n",
       "      <td>Grand Theft Auto V</td>\n",
       "      <td>2013.0</td>\n",
       "      <td>37.32</td>\n",
       "    </tr>\n",
       "    <tr>\n",
       "      <th>193</th>\n",
       "      <td>Call of Duty: Black Ops II</td>\n",
       "      <td>2012.0</td>\n",
       "      <td>29.40</td>\n",
       "    </tr>\n",
       "    <tr>\n",
       "      <th>194</th>\n",
       "      <td>Call of Duty: Ghosts</td>\n",
       "      <td>2013.0</td>\n",
       "      <td>27.39</td>\n",
       "    </tr>\n",
       "    <tr>\n",
       "      <th>192</th>\n",
       "      <td>Call of Duty: Black Ops 3</td>\n",
       "      <td>2015.0</td>\n",
       "      <td>25.67</td>\n",
       "    </tr>\n",
       "    <tr>\n",
       "      <th>191</th>\n",
       "      <td>Call of Duty: Advanced Warfare</td>\n",
       "      <td>2014.0</td>\n",
       "      <td>21.97</td>\n",
       "    </tr>\n",
       "    <tr>\n",
       "      <th>594</th>\n",
       "      <td>Grand Theft Auto V</td>\n",
       "      <td>2014.0</td>\n",
       "      <td>18.09</td>\n",
       "    </tr>\n",
       "    <tr>\n",
       "      <th>464</th>\n",
       "      <td>FIFA 15</td>\n",
       "      <td>2014.0</td>\n",
       "      <td>17.37</td>\n",
       "    </tr>\n",
       "    <tr>\n",
       "      <th>463</th>\n",
       "      <td>FIFA 14</td>\n",
       "      <td>2013.0</td>\n",
       "      <td>16.46</td>\n",
       "    </tr>\n",
       "    <tr>\n",
       "      <th>465</th>\n",
       "      <td>FIFA 16</td>\n",
       "      <td>2015.0</td>\n",
       "      <td>16.30</td>\n",
       "    </tr>\n",
       "    <tr>\n",
       "      <th>468</th>\n",
       "      <td>FIFA Soccer 13</td>\n",
       "      <td>2012.0</td>\n",
       "      <td>15.97</td>\n",
       "    </tr>\n",
       "  </tbody>\n",
       "</table>\n",
       "</div>"
      ],
      "text/plain": [
       "                               name  year_of_release  total_sales\n",
       "593              Grand Theft Auto V           2013.0        37.32\n",
       "193      Call of Duty: Black Ops II           2012.0        29.40\n",
       "194            Call of Duty: Ghosts           2013.0        27.39\n",
       "192       Call of Duty: Black Ops 3           2015.0        25.67\n",
       "191  Call of Duty: Advanced Warfare           2014.0        21.97\n",
       "594              Grand Theft Auto V           2014.0        18.09\n",
       "464                         FIFA 15           2014.0        17.37\n",
       "463                         FIFA 14           2013.0        16.46\n",
       "465                         FIFA 16           2015.0        16.30\n",
       "468                  FIFA Soccer 13           2012.0        15.97"
      ]
     },
     "execution_count": 41,
     "metadata": {},
     "output_type": "execute_result"
    }
   ],
   "source": [
    "df.pivot_table(\n",
    "index = ['name', 'year_of_release'],\n",
    "values = 'total_sales',\n",
    "aggfunc = 'sum').reset_index().sort_values(by='total_sales', ascending = False).head(10)"
   ]
  },
  {
   "cell_type": "markdown",
   "metadata": {},
   "source": [
    "Вывод: в задаче не сказано, но в реальности наверное,  хорошо бы сделать категоризацию - укрупнить игры (без версий), платформы - без версий. Но тут нужно хорошо знать игровую сферу. Я тут новичок) ПОнимаю, что версии ФИФЫ разные, но игра одна и таже) "
   ]
  },
  {
   "cell_type": "markdown",
   "metadata": {},
   "source": [
    "###  Посмотрите, как влияют на продажи внутри одной популярной платформы отзывы пользователей и критиков. \n",
    "\n",
    "\n",
    "Постройте диаграмму рассеяния и посчитайте корреляцию между отзывами и продажами. Сформулируйте выводы.\n",
    "\n",
    "Нужно обязательно фильтрануть \"заглушки\" \n",
    "critic_score заглушка -1 \n",
    "и еще убререм нудевые оценки критиков - они нам сейчас ни к чему) \n",
    "и user_score  - заглушка -1 "
   ]
  },
  {
   "cell_type": "markdown",
   "metadata": {},
   "source": [
    "#### PS4"
   ]
  },
  {
   "cell_type": "code",
   "execution_count": 42,
   "metadata": {},
   "outputs": [],
   "source": [
    "df_PS4 = df.query('platform ==\"PS4\" and critic_score> 0')"
   ]
  },
  {
   "cell_type": "code",
   "execution_count": 44,
   "metadata": {},
   "outputs": [
    {
     "data": {
      "image/png": "[encoded data removed]",
      "text/plain": [
       "<Figure size 720x720 with 1 Axes>"
      ]
     },
     "metadata": {
      "needs_background": "light"
     },
     "output_type": "display_data"
    }
   ],
   "source": [
    "fig, ax = plt.subplots(figsize=(10, 10))\n",
    "ax.scatter(x = df_PS4['critic_score'], y = df_PS4['total_sales'])\n",
    "plt.xlabel(\"Оценка критиков\")\n",
    "plt.ylabel(\"Продажи\")\n",
    "plt.title ('Диаграмма рессеивания оценок критиков и продаж PS4 ')\n",
    "plt.show()"
   ]
  },
  {
   "cell_type": "code",
   "execution_count": 45,
   "metadata": {},
   "outputs": [
    {
     "data": {
      "text/plain": [
       "0.40656790206178095"
      ]
     },
     "execution_count": 45,
     "metadata": {},
     "output_type": "execute_result"
    }
   ],
   "source": [
    "df_PS4['critic_score'].corr(df_PS4['total_sales'])"
   ]
  },
  {
   "cell_type": "code",
   "execution_count": 46,
   "metadata": {},
   "outputs": [
    {
     "data": {
      "text/plain": [
       "<AxesSubplot:xlabel='critic_score', ylabel='total_sales'>"
      ]
     },
     "execution_count": 46,
     "metadata": {},
     "output_type": "execute_result"
    },
    {
     "data": {
      "image/png": "[encoded data removed]",
      "text/plain": [
       "<Figure size 576x432 with 2 Axes>"
      ]
     },
     "metadata": {
      "needs_background": "light"
     },
     "output_type": "display_data"
    }
   ],
   "source": [
    "df_PS4.plot(x='critic_score', y='total_sales', kind='hexbin', gridsize=20, figsize=(8, 6), sharex=False, grid=True) \n"
   ]
  },
  {
   "cell_type": "markdown",
   "metadata": {},
   "source": [
    "Вывод: оценки критиков не влияют на продажи на платформе  PS4. Уоёф корреляции 0,4 - линейной зависимости между параметрами нет. \n",
    "**Посмотрим про оценку влияния пользвоателей**"
   ]
  },
  {
   "cell_type": "code",
   "execution_count": 47,
   "metadata": {},
   "outputs": [
    {
     "data": {
      "image/png": "[encoded data removed]",
      "text/plain": [
       "<Figure size 720x720 with 1 Axes>"
      ]
     },
     "metadata": {
      "needs_background": "light"
     },
     "output_type": "display_data"
    }
   ],
   "source": [
    "df_PS4 = df.query('platform ==\"PS4\" and user_score> -1')\n",
    "fig, ax = plt.subplots(figsize=(10, 10))\n",
    "ax.scatter(x = df_PS4['user_score'], y = df_PS4['total_sales'])\n",
    "plt.xlabel(\"Оценка пользователей\")\n",
    "plt.ylabel(\"Продажи\")\n",
    "plt.title ('Диаграмма рессеивания оценок пользователей и продаж PS4 ')\n",
    "plt.show()"
   ]
  },
  {
   "cell_type": "code",
   "execution_count": 48,
   "metadata": {},
   "outputs": [
    {
     "data": {
      "text/plain": [
       "-0.031957110204556376"
      ]
     },
     "execution_count": 48,
     "metadata": {},
     "output_type": "execute_result"
    }
   ],
   "source": [
    "df_PS4['user_score'].corr(df_PS4['total_sales'])"
   ]
  },
  {
   "cell_type": "markdown",
   "metadata": {},
   "source": [
    "Вывод: не влияют отзывы на продажи. Это конечно очень странно..... "
   ]
  },
  {
   "cell_type": "markdown",
   "metadata": {},
   "source": [
    "Сделаем те же расчеты для другой популярной платформы XOne"
   ]
  },
  {
   "cell_type": "markdown",
   "metadata": {},
   "source": [
    "#### XOne"
   ]
  },
  {
   "cell_type": "code",
   "execution_count": 49,
   "metadata": {},
   "outputs": [
    {
     "data": {
      "image/png": "[encoded data removed]",
      "text/plain": [
       "<Figure size 720x720 with 1 Axes>"
      ]
     },
     "metadata": {
      "needs_background": "light"
     },
     "output_type": "display_data"
    }
   ],
   "source": [
    "df_XOne = df.query('platform ==\"XOne\" and critic_score> 0 ')\n",
    "fig, ax = plt.subplots(figsize=(10, 10))\n",
    "ax.scatter(x = df_XOne['critic_score'], y = df_XOne['total_sales'])\n",
    "plt.xlabel(\"Оценка критиков\")\n",
    "plt.ylabel(\"Продажи\")\n",
    "plt.title ('Диаграмма рессеивания оценок критиков и продаж XOne ')\n",
    "plt.show()\n",
    "\n"
   ]
  },
  {
   "cell_type": "code",
   "execution_count": 50,
   "metadata": {},
   "outputs": [
    {
     "data": {
      "text/plain": [
       "0.4169983280084017"
      ]
     },
     "execution_count": 50,
     "metadata": {},
     "output_type": "execute_result"
    }
   ],
   "source": [
    "df_XOne['critic_score'].corr(df_XOne['total_sales'])"
   ]
  },
  {
   "cell_type": "markdown",
   "metadata": {},
   "source": [
    "**Посмотрим про оценку влияния пользвоателей**"
   ]
  },
  {
   "cell_type": "code",
   "execution_count": 51,
   "metadata": {},
   "outputs": [
    {
     "data": {
      "image/png": "[encoded data removed]",
      "text/plain": [
       "<Figure size 720x720 with 1 Axes>"
      ]
     },
     "metadata": {
      "needs_background": "light"
     },
     "output_type": "display_data"
    }
   ],
   "source": [
    "df_XOne = df.query('platform ==\"XOne\" and user_score> -1 ')\n",
    "fig, ax = plt.subplots(figsize=(10, 10))\n",
    "ax.scatter(x = df_XOne['critic_score'], y = df_XOne['total_sales'])\n",
    "plt.xlabel(\"Оценка критиков\")\n",
    "plt.ylabel(\"Продажи\")\n",
    "plt.title ('Диаграмма рессеивания оценок критиков и продаж XOne ')\n",
    "plt.show()"
   ]
  },
  {
   "cell_type": "code",
   "execution_count": 52,
   "metadata": {},
   "outputs": [
    {
     "data": {
      "text/plain": [
       "-0.06892505328279414"
      ]
     },
     "execution_count": 52,
     "metadata": {},
     "output_type": "execute_result"
    }
   ],
   "source": [
    "df_XOne['user_score'].corr(df_XOne['total_sales'])"
   ]
  },
  {
   "cell_type": "markdown",
   "metadata": {},
   "source": [
    "Вывод: для XOne зависимости между продажами и оценками критиков и пользователей не выявлено"
   ]
  },
  {
   "cell_type": "markdown",
   "metadata": {},
   "source": [
    "**Соотнесите выводы с продажами игр на других платформах.**\n",
    "Сделаем срез по другим платформам  возьмем платформы по убываниею продаж за последние 5 лет\n",
    "это будут:\n",
    "\n",
    "PS3\n",
    "3DS\n",
    "X360\n",
    "WiiU\n",
    "PC\n"
   ]
  },
  {
   "cell_type": "markdown",
   "metadata": {},
   "source": [
    "**Оценка корреляции для critic_score**"
   ]
  },
  {
   "cell_type": "code",
   "execution_count": 53,
   "metadata": {},
   "outputs": [],
   "source": [
    "df_other = df.query('(platform ==\"PS3\" or platform ==\"3DS\" or platform ==\"X360\"or platform ==\"WiiU\"or platform ==\"PC\")  and critic_score> 0 ')"
   ]
  },
  {
   "cell_type": "code",
   "execution_count": 54,
   "metadata": {},
   "outputs": [
    {
     "name": "stdout",
     "output_type": "stream",
     "text": [
      "Коэффициенты корреляции между critic_score и total_sales для платформы PS3 0.3314972592629587\n",
      "Коэффициенты корреляции между critic_score и total_sales для платформы X360 0.3605734888507336\n",
      "Коэффициенты корреляции между critic_score и total_sales для платформы 3DS 0.3208028695360785\n",
      "Коэффициенты корреляции между critic_score и total_sales для платформы WiiU 0.34837976012017485\n",
      "Коэффициенты корреляции между critic_score и total_sales для платформы PC 0.23724324311567915\n"
     ]
    }
   ],
   "source": [
    "list = df_other['platform'].unique()\n",
    "for i in list:\n",
    "    df1 = df_other.loc[df_other['platform']== i]\n",
    "    print ('Коэффициенты корреляции между critic_score и total_sales для платформы'\n",
    "           , i,  df1['critic_score'].corr(df1['total_sales']))"
   ]
  },
  {
   "cell_type": "markdown",
   "metadata": {},
   "source": [
    "Вывод: линейной зависимости между оценками критиков и продажами не выявлено"
   ]
  },
  {
   "cell_type": "markdown",
   "metadata": {},
   "source": [
    "**Оценка корреляции для user_score**"
   ]
  },
  {
   "cell_type": "code",
   "execution_count": 55,
   "metadata": {},
   "outputs": [],
   "source": [
    "df_other2 = df.query('(platform ==\"PS3\" or platform ==\"3DS\" or platform ==\"X360\"or platform ==\"WiiU\"or platform ==\"PC\")  and user_score> -1 ')"
   ]
  },
  {
   "cell_type": "code",
   "execution_count": 56,
   "metadata": {},
   "outputs": [
    {
     "name": "stdout",
     "output_type": "stream",
     "text": [
      "Коэффициенты корреляции между df_other2  и total_sales для платформы PS3 -0.005143522887113828\n",
      "Коэффициенты корреляции между df_other2  и total_sales для платформы X360 0.006163978646213326\n",
      "Коэффициенты корреляции между df_other2  и total_sales для платформы 3DS 0.19758263411038599\n",
      "Коэффициенты корреляции между df_other2  и total_sales для платформы WiiU 0.4002190202148617\n",
      "Коэффициенты корреляции между df_other2  и total_sales для платформы PC -0.12186747630735577\n"
     ]
    }
   ],
   "source": [
    "list2 = df_other2['platform'].unique()\n",
    "for i in list:\n",
    "    df2 = df_other2 .loc[df_other2 ['platform']== i]\n",
    "    print ('Коэффициенты корреляции между df_other2  и total_sales для платформы'\n",
    "           , i,  df2['user_score'].corr(df2['total_sales']))"
   ]
  },
  {
   "cell_type": "markdown",
   "metadata": {},
   "source": [
    "Вывод: нет зависимости между совокупными продажами и оценкой критиков и пользователей. Опять же странно "
   ]
  },
  {
   "cell_type": "markdown",
   "metadata": {},
   "source": [
    "### Посмотрите на общее распределение игр по жанрам. Что можно сказать о самых прибыльных жанрах? Выделяются ли жанры с высокими и низкими продажами?"
   ]
  },
  {
   "cell_type": "code",
   "execution_count": 60,
   "metadata": {
    "scrolled": true
   },
   "outputs": [
    {
     "data": {
      "text/html": [
       "<div>\n",
       "<style scoped>\n",
       "    .dataframe tbody tr th:only-of-type {\n",
       "        vertical-align: middle;\n",
       "    }\n",
       "\n",
       "    .dataframe tbody tr th {\n",
       "        vertical-align: top;\n",
       "    }\n",
       "\n",
       "    .dataframe thead th {\n",
       "        text-align: right;\n",
       "    }\n",
       "</style>\n",
       "<table border=\"1\" class=\"dataframe\">\n",
       "  <thead>\n",
       "    <tr style=\"text-align: right;\">\n",
       "      <th></th>\n",
       "      <th>genre</th>\n",
       "      <th>total_sales</th>\n",
       "      <th>name</th>\n",
       "    </tr>\n",
       "  </thead>\n",
       "  <tbody>\n",
       "    <tr>\n",
       "      <th>8</th>\n",
       "      <td>Shooter</td>\n",
       "      <td>0.440</td>\n",
       "      <td>235</td>\n",
       "    </tr>\n",
       "    <tr>\n",
       "      <th>10</th>\n",
       "      <td>Sports</td>\n",
       "      <td>0.240</td>\n",
       "      <td>268</td>\n",
       "    </tr>\n",
       "    <tr>\n",
       "      <th>4</th>\n",
       "      <td>Platform</td>\n",
       "      <td>0.210</td>\n",
       "      <td>85</td>\n",
       "    </tr>\n",
       "    <tr>\n",
       "      <th>7</th>\n",
       "      <td>Role-Playing</td>\n",
       "      <td>0.140</td>\n",
       "      <td>370</td>\n",
       "    </tr>\n",
       "    <tr>\n",
       "      <th>6</th>\n",
       "      <td>Racing</td>\n",
       "      <td>0.140</td>\n",
       "      <td>115</td>\n",
       "    </tr>\n",
       "    <tr>\n",
       "      <th>2</th>\n",
       "      <td>Fighting</td>\n",
       "      <td>0.130</td>\n",
       "      <td>109</td>\n",
       "    </tr>\n",
       "    <tr>\n",
       "      <th>0</th>\n",
       "      <td>Action</td>\n",
       "      <td>0.120</td>\n",
       "      <td>1031</td>\n",
       "    </tr>\n",
       "    <tr>\n",
       "      <th>3</th>\n",
       "      <td>Misc</td>\n",
       "      <td>0.120</td>\n",
       "      <td>192</td>\n",
       "    </tr>\n",
       "    <tr>\n",
       "      <th>9</th>\n",
       "      <td>Simulation</td>\n",
       "      <td>0.120</td>\n",
       "      <td>80</td>\n",
       "    </tr>\n",
       "    <tr>\n",
       "      <th>11</th>\n",
       "      <td>Strategy</td>\n",
       "      <td>0.080</td>\n",
       "      <td>71</td>\n",
       "    </tr>\n",
       "    <tr>\n",
       "      <th>5</th>\n",
       "      <td>Puzzle</td>\n",
       "      <td>0.045</td>\n",
       "      <td>28</td>\n",
       "    </tr>\n",
       "    <tr>\n",
       "      <th>1</th>\n",
       "      <td>Adventure</td>\n",
       "      <td>0.030</td>\n",
       "      <td>302</td>\n",
       "    </tr>\n",
       "  </tbody>\n",
       "</table>\n",
       "</div>"
      ],
      "text/plain": [
       "           genre  total_sales  name\n",
       "8        Shooter        0.440   235\n",
       "10        Sports        0.240   268\n",
       "4       Platform        0.210    85\n",
       "7   Role-Playing        0.140   370\n",
       "6         Racing        0.140   115\n",
       "2       Fighting        0.130   109\n",
       "0         Action        0.120  1031\n",
       "3           Misc        0.120   192\n",
       "9     Simulation        0.120    80\n",
       "11      Strategy        0.080    71\n",
       "5         Puzzle        0.045    28\n",
       "1      Adventure        0.030   302"
      ]
     },
     "execution_count": 60,
     "metadata": {},
     "output_type": "execute_result"
    }
   ],
   "source": [
    "df.groupby('genre').agg({'total_sales':'median', 'name':'count'} ).reset_index().sort_values(by='total_sales', ascending = False)\n",
    "\n",
    "\n"
   ]
  },
  {
   "cell_type": "code",
   "execution_count": 61,
   "metadata": {},
   "outputs": [
    {
     "data": {
      "text/plain": [
       "<AxesSubplot:>"
      ]
     },
     "execution_count": 61,
     "metadata": {},
     "output_type": "execute_result"
    },
    {
     "data": {
      "image/png": "[encoded data removed]",
      "text/plain": [
       "<Figure size 432x288 with 1 Axes>"
      ]
     },
     "metadata": {
      "needs_background": "light"
     },
     "output_type": "display_data"
    }
   ],
   "source": [
    "df.groupby('genre').agg({'total_sales':'median' }).boxplot()\n",
    "\n"
   ]
  },
  {
   "cell_type": "markdown",
   "metadata": {},
   "source": [
    "Вывод:\n",
    "существуют явный лидер по объему продаж - это жанр Shooter.\n",
    "\n",
    "Второе и третье место - жанры Sports и Platform\n",
    "\n",
    "\n",
    "\n",
    "\n",
    "Можно сказать, что жанры явно низкими продажами это Adventure и Puzzle\n"
   ]
  },
  {
   "attachments": {},
   "cell_type": "markdown",
   "metadata": {},
   "source": [
    "</font>\n",
    "![image.png](attachment:image.png)"
   ]
  },
  {
   "cell_type": "markdown",
   "metadata": {},
   "source": [
    "<font color='DarkBlue'><b>Комментарий ревьюера 3</b></font><br>\n",
    "<font color='DarkGreen'>👌 В проекте под \"прибыльностью\" понимается наличие устойчивого спроса пользователей на данный жанр. Можно сделать уникальный сюжет, быстрый движок, красивую графику и вложить немеряно денег в рекламу и продажи игры подпрыгнут. Но нам лучше выбирать игру из жанра, на которой есть постоянный спрос независимо от маркетинговых усилий производителей игр.</font>"
   ]
  },
  {
   "cell_type": "markdown",
   "metadata": {},
   "source": [
    "## Составьте портрет пользователя каждого региона\n",
    "Определите для пользователя каждого региона (NA, EU, JP):\n",
    "Самые популярные платформы (топ-5). Опишите различия в долях продаж.\n",
    "Самые популярные жанры (топ-5). Поясните разницу.\n",
    "Влияет ли рейтинг ESRB на продажи в отдельном регионе?"
   ]
  },
  {
   "cell_type": "markdown",
   "metadata": {},
   "source": [
    "### портрет пользователя региона NA"
   ]
  },
  {
   "cell_type": "code",
   "execution_count": 62,
   "metadata": {},
   "outputs": [
    {
     "data": {
      "text/html": [
       "<div>\n",
       "<style scoped>\n",
       "    .dataframe tbody tr th:only-of-type {\n",
       "        vertical-align: middle;\n",
       "    }\n",
       "\n",
       "    .dataframe tbody tr th {\n",
       "        vertical-align: top;\n",
       "    }\n",
       "\n",
       "    .dataframe thead th {\n",
       "        text-align: right;\n",
       "    }\n",
       "</style>\n",
       "<table border=\"1\" class=\"dataframe\">\n",
       "  <thead>\n",
       "    <tr style=\"text-align: right;\">\n",
       "      <th></th>\n",
       "      <th>na_sales</th>\n",
       "    </tr>\n",
       "    <tr>\n",
       "      <th>platform</th>\n",
       "      <th></th>\n",
       "    </tr>\n",
       "  </thead>\n",
       "  <tbody>\n",
       "    <tr>\n",
       "      <th>3DS</th>\n",
       "      <td>55.31</td>\n",
       "    </tr>\n",
       "    <tr>\n",
       "      <th>PS3</th>\n",
       "      <td>103.38</td>\n",
       "    </tr>\n",
       "    <tr>\n",
       "      <th>PS4</th>\n",
       "      <td>108.74</td>\n",
       "    </tr>\n",
       "    <tr>\n",
       "      <th>X360</th>\n",
       "      <td>140.05</td>\n",
       "    </tr>\n",
       "    <tr>\n",
       "      <th>XOne</th>\n",
       "      <td>93.12</td>\n",
       "    </tr>\n",
       "    <tr>\n",
       "      <th>other</th>\n",
       "      <td>90.37</td>\n",
       "    </tr>\n",
       "  </tbody>\n",
       "</table>\n",
       "</div>"
      ],
      "text/plain": [
       "          na_sales\n",
       "platform          \n",
       "3DS          55.31\n",
       "PS3         103.38\n",
       "PS4         108.74\n",
       "X360        140.05\n",
       "XOne         93.12\n",
       "other        90.37"
      ]
     },
     "execution_count": 62,
     "metadata": {},
     "output_type": "execute_result"
    }
   ],
   "source": [
    "report = df.groupby('platform').agg({'na_sales':'sum'})\n",
    "top_platforms  = report.sort_values(by='na_sales', ascending = False).head(5).index\n",
    "report = report.reset_index()\n",
    "report.loc[~report['platform'].isin(top_platforms), 'platform']='other'\n",
    "\n",
    "report=report.groupby('platform').agg({'na_sales':'sum'})\n",
    "\n",
    "report"
   ]
  },
  {
   "cell_type": "markdown",
   "metadata": {},
   "source": [
    "Вывод: топ-5 платформ в США X360, PS4, PS3, XOne и 3DS\n",
    "    \n",
    "    Почти четверть продаж у платформы X360, примерно поровну у остальных платформ со 2 по 4 место. Оставшиеся с большим отрывом "
   ]
  },
  {
   "cell_type": "markdown",
   "metadata": {},
   "source": [
    "Разберемся с жанрами в NA"
   ]
  },
  {
   "cell_type": "code",
   "execution_count": 63,
   "metadata": {},
   "outputs": [
    {
     "data": {
      "text/html": [
       "<div>\n",
       "<style scoped>\n",
       "    .dataframe tbody tr th:only-of-type {\n",
       "        vertical-align: middle;\n",
       "    }\n",
       "\n",
       "    .dataframe tbody tr th {\n",
       "        vertical-align: top;\n",
       "    }\n",
       "\n",
       "    .dataframe thead th {\n",
       "        text-align: right;\n",
       "    }\n",
       "</style>\n",
       "<table border=\"1\" class=\"dataframe\">\n",
       "  <thead>\n",
       "    <tr style=\"text-align: right;\">\n",
       "      <th></th>\n",
       "      <th>na_sales</th>\n",
       "    </tr>\n",
       "    <tr>\n",
       "      <th>genre</th>\n",
       "      <th></th>\n",
       "    </tr>\n",
       "  </thead>\n",
       "  <tbody>\n",
       "    <tr>\n",
       "      <th>Action</th>\n",
       "      <td>177.84</td>\n",
       "    </tr>\n",
       "    <tr>\n",
       "      <th>Misc</th>\n",
       "      <td>38.19</td>\n",
       "    </tr>\n",
       "    <tr>\n",
       "      <th>Role-Playing</th>\n",
       "      <td>64.00</td>\n",
       "    </tr>\n",
       "    <tr>\n",
       "      <th>Shooter</th>\n",
       "      <td>144.77</td>\n",
       "    </tr>\n",
       "    <tr>\n",
       "      <th>Sports</th>\n",
       "      <td>81.53</td>\n",
       "    </tr>\n",
       "    <tr>\n",
       "      <th>other</th>\n",
       "      <td>84.64</td>\n",
       "    </tr>\n",
       "  </tbody>\n",
       "</table>\n",
       "</div>"
      ],
      "text/plain": [
       "              na_sales\n",
       "genre                 \n",
       "Action          177.84\n",
       "Misc             38.19\n",
       "Role-Playing     64.00\n",
       "Shooter         144.77\n",
       "Sports           81.53\n",
       "other            84.64"
      ]
     },
     "execution_count": 63,
     "metadata": {},
     "output_type": "execute_result"
    }
   ],
   "source": [
    "report_genre = df.groupby('genre').agg({'na_sales':'sum'})\n",
    "top_genre  = report_genre.sort_values(by='na_sales', ascending = False).head(5).index\n",
    "report_genre = report_genre.reset_index()\n",
    "report_genre.loc[~report_genre['genre'].isin(top_genre), 'genre']='other'\n",
    "\n",
    "report_genre=report_genre.groupby('genre').agg({'na_sales':'sum'})\n",
    "\n",
    "report_genre"
   ]
  },
  {
   "cell_type": "markdown",
   "metadata": {},
   "source": [
    "### портрет пользователя региона EU\n"
   ]
  },
  {
   "cell_type": "code",
   "execution_count": 64,
   "metadata": {},
   "outputs": [],
   "source": [
    "df_EU = df.groupby('platform')['eu_sales'].sum().sort_values(ascending = False).reset_index()\n",
    "total_sales_EU = round(df_EU['eu_sales'].sum(),0)\n",
    "df_EU['total_sales_EU'] = total_sales_EU\n",
    "df_EU['share_sales_%'] = round ((df_EU['eu_sales']/df_EU['total_sales_EU'])*100,0)"
   ]
  },
  {
   "cell_type": "code",
   "execution_count": 65,
   "metadata": {},
   "outputs": [],
   "source": [
    "report_EU = df.groupby('platform').agg({'eu_sales':'sum'})\n",
    "top_platforms  = report_EU.sort_values(by='eu_sales', ascending = False).head(5).index\n",
    "report_EU = report_EU.reset_index()\n",
    "report_EU.loc[~report_EU['platform'].isin(top_platforms), 'platform']='other'\n",
    "\n",
    "report_EU=report_EU.groupby('platform').agg({'eu_sales':'sum'})"
   ]
  },
  {
   "cell_type": "code",
   "execution_count": 66,
   "metadata": {},
   "outputs": [
    {
     "data": {
      "text/html": [
       "<div>\n",
       "<style scoped>\n",
       "    .dataframe tbody tr th:only-of-type {\n",
       "        vertical-align: middle;\n",
       "    }\n",
       "\n",
       "    .dataframe tbody tr th {\n",
       "        vertical-align: top;\n",
       "    }\n",
       "\n",
       "    .dataframe thead th {\n",
       "        text-align: right;\n",
       "    }\n",
       "</style>\n",
       "<table border=\"1\" class=\"dataframe\">\n",
       "  <thead>\n",
       "    <tr style=\"text-align: right;\">\n",
       "      <th></th>\n",
       "      <th>eu_sales</th>\n",
       "    </tr>\n",
       "    <tr>\n",
       "      <th>platform</th>\n",
       "      <th></th>\n",
       "    </tr>\n",
       "  </thead>\n",
       "  <tbody>\n",
       "    <tr>\n",
       "      <th>3DS</th>\n",
       "      <td>42.64</td>\n",
       "    </tr>\n",
       "    <tr>\n",
       "      <th>PS3</th>\n",
       "      <td>106.86</td>\n",
       "    </tr>\n",
       "    <tr>\n",
       "      <th>PS4</th>\n",
       "      <td>141.09</td>\n",
       "    </tr>\n",
       "    <tr>\n",
       "      <th>X360</th>\n",
       "      <td>74.52</td>\n",
       "    </tr>\n",
       "    <tr>\n",
       "      <th>XOne</th>\n",
       "      <td>51.59</td>\n",
       "    </tr>\n",
       "    <tr>\n",
       "      <th>other</th>\n",
       "      <td>90.12</td>\n",
       "    </tr>\n",
       "  </tbody>\n",
       "</table>\n",
       "</div>"
      ],
      "text/plain": [
       "          eu_sales\n",
       "platform          \n",
       "3DS          42.64\n",
       "PS3         106.86\n",
       "PS4         141.09\n",
       "X360         74.52\n",
       "XOne         51.59\n",
       "other        90.12"
      ]
     },
     "execution_count": 66,
     "metadata": {},
     "output_type": "execute_result"
    }
   ],
   "source": [
    "report_EU"
   ]
  },
  {
   "cell_type": "markdown",
   "metadata": {},
   "source": [
    "Вывод: В Европе уверенно лидирует PS4\t, с небольшим отрывом PS3 , и только потом X360\t"
   ]
  },
  {
   "cell_type": "code",
   "execution_count": 67,
   "metadata": {},
   "outputs": [],
   "source": [
    "df_EU_genre = df.groupby('genre')['eu_sales'].sum().sort_values(ascending = False).reset_index()\n",
    "\n",
    "df_EU_genre ['total_sales_EU'] = total_sales_EU\n",
    "df_EU_genre ['share_sales_%'] = round ((df_EU_genre['eu_sales']/df_EU_genre['total_sales_EU'])*100,0)"
   ]
  },
  {
   "cell_type": "code",
   "execution_count": 68,
   "metadata": {},
   "outputs": [
    {
     "data": {
      "text/html": [
       "<div>\n",
       "<style scoped>\n",
       "    .dataframe tbody tr th:only-of-type {\n",
       "        vertical-align: middle;\n",
       "    }\n",
       "\n",
       "    .dataframe tbody tr th {\n",
       "        vertical-align: top;\n",
       "    }\n",
       "\n",
       "    .dataframe thead th {\n",
       "        text-align: right;\n",
       "    }\n",
       "</style>\n",
       "<table border=\"1\" class=\"dataframe\">\n",
       "  <thead>\n",
       "    <tr style=\"text-align: right;\">\n",
       "      <th></th>\n",
       "      <th>genre</th>\n",
       "      <th>eu_sales</th>\n",
       "      <th>total_sales_EU</th>\n",
       "      <th>share_sales_%</th>\n",
       "    </tr>\n",
       "  </thead>\n",
       "  <tbody>\n",
       "    <tr>\n",
       "      <th>0</th>\n",
       "      <td>Action</td>\n",
       "      <td>159.34</td>\n",
       "      <td>507.0</td>\n",
       "      <td>31.0</td>\n",
       "    </tr>\n",
       "    <tr>\n",
       "      <th>1</th>\n",
       "      <td>Shooter</td>\n",
       "      <td>113.47</td>\n",
       "      <td>507.0</td>\n",
       "      <td>22.0</td>\n",
       "    </tr>\n",
       "    <tr>\n",
       "      <th>2</th>\n",
       "      <td>Sports</td>\n",
       "      <td>69.09</td>\n",
       "      <td>507.0</td>\n",
       "      <td>14.0</td>\n",
       "    </tr>\n",
       "    <tr>\n",
       "      <th>3</th>\n",
       "      <td>Role-Playing</td>\n",
       "      <td>48.53</td>\n",
       "      <td>507.0</td>\n",
       "      <td>10.0</td>\n",
       "    </tr>\n",
       "    <tr>\n",
       "      <th>4</th>\n",
       "      <td>Racing</td>\n",
       "      <td>27.29</td>\n",
       "      <td>507.0</td>\n",
       "      <td>5.0</td>\n",
       "    </tr>\n",
       "    <tr>\n",
       "      <th>5</th>\n",
       "      <td>Misc</td>\n",
       "      <td>26.32</td>\n",
       "      <td>507.0</td>\n",
       "      <td>5.0</td>\n",
       "    </tr>\n",
       "    <tr>\n",
       "      <th>6</th>\n",
       "      <td>Platform</td>\n",
       "      <td>21.41</td>\n",
       "      <td>507.0</td>\n",
       "      <td>4.0</td>\n",
       "    </tr>\n",
       "    <tr>\n",
       "      <th>7</th>\n",
       "      <td>Simulation</td>\n",
       "      <td>14.55</td>\n",
       "      <td>507.0</td>\n",
       "      <td>3.0</td>\n",
       "    </tr>\n",
       "    <tr>\n",
       "      <th>8</th>\n",
       "      <td>Fighting</td>\n",
       "      <td>10.79</td>\n",
       "      <td>507.0</td>\n",
       "      <td>2.0</td>\n",
       "    </tr>\n",
       "    <tr>\n",
       "      <th>9</th>\n",
       "      <td>Adventure</td>\n",
       "      <td>9.46</td>\n",
       "      <td>507.0</td>\n",
       "      <td>2.0</td>\n",
       "    </tr>\n",
       "    <tr>\n",
       "      <th>10</th>\n",
       "      <td>Strategy</td>\n",
       "      <td>5.17</td>\n",
       "      <td>507.0</td>\n",
       "      <td>1.0</td>\n",
       "    </tr>\n",
       "    <tr>\n",
       "      <th>11</th>\n",
       "      <td>Puzzle</td>\n",
       "      <td>1.40</td>\n",
       "      <td>507.0</td>\n",
       "      <td>0.0</td>\n",
       "    </tr>\n",
       "  </tbody>\n",
       "</table>\n",
       "</div>"
      ],
      "text/plain": [
       "           genre  eu_sales  total_sales_EU  share_sales_%\n",
       "0         Action    159.34           507.0           31.0\n",
       "1        Shooter    113.47           507.0           22.0\n",
       "2         Sports     69.09           507.0           14.0\n",
       "3   Role-Playing     48.53           507.0           10.0\n",
       "4         Racing     27.29           507.0            5.0\n",
       "5           Misc     26.32           507.0            5.0\n",
       "6       Platform     21.41           507.0            4.0\n",
       "7     Simulation     14.55           507.0            3.0\n",
       "8       Fighting     10.79           507.0            2.0\n",
       "9      Adventure      9.46           507.0            2.0\n",
       "10      Strategy      5.17           507.0            1.0\n",
       "11        Puzzle      1.40           507.0            0.0"
      ]
     },
     "execution_count": 68,
     "metadata": {},
     "output_type": "execute_result"
    }
   ],
   "source": [
    "df_EU_genre"
   ]
  },
  {
   "cell_type": "markdown",
   "metadata": {},
   "source": [
    "Вывод: самые популярные жанры: Action. Shooter. Sports"
   ]
  },
  {
   "cell_type": "code",
   "execution_count": 69,
   "metadata": {},
   "outputs": [
    {
     "data": {
      "text/html": [
       "<div>\n",
       "<style scoped>\n",
       "    .dataframe tbody tr th:only-of-type {\n",
       "        vertical-align: middle;\n",
       "    }\n",
       "\n",
       "    .dataframe tbody tr th {\n",
       "        vertical-align: top;\n",
       "    }\n",
       "\n",
       "    .dataframe thead th {\n",
       "        text-align: right;\n",
       "    }\n",
       "</style>\n",
       "<table border=\"1\" class=\"dataframe\">\n",
       "  <thead>\n",
       "    <tr style=\"text-align: right;\">\n",
       "      <th></th>\n",
       "      <th>eu_sales</th>\n",
       "    </tr>\n",
       "    <tr>\n",
       "      <th>genre</th>\n",
       "      <th></th>\n",
       "    </tr>\n",
       "  </thead>\n",
       "  <tbody>\n",
       "    <tr>\n",
       "      <th>Action</th>\n",
       "      <td>159.34</td>\n",
       "    </tr>\n",
       "    <tr>\n",
       "      <th>Racing</th>\n",
       "      <td>27.29</td>\n",
       "    </tr>\n",
       "    <tr>\n",
       "      <th>Role-Playing</th>\n",
       "      <td>48.53</td>\n",
       "    </tr>\n",
       "    <tr>\n",
       "      <th>Shooter</th>\n",
       "      <td>113.47</td>\n",
       "    </tr>\n",
       "    <tr>\n",
       "      <th>Sports</th>\n",
       "      <td>69.09</td>\n",
       "    </tr>\n",
       "    <tr>\n",
       "      <th>other</th>\n",
       "      <td>89.10</td>\n",
       "    </tr>\n",
       "  </tbody>\n",
       "</table>\n",
       "</div>"
      ],
      "text/plain": [
       "              eu_sales\n",
       "genre                 \n",
       "Action          159.34\n",
       "Racing           27.29\n",
       "Role-Playing     48.53\n",
       "Shooter         113.47\n",
       "Sports           69.09\n",
       "other            89.10"
      ]
     },
     "execution_count": 69,
     "metadata": {},
     "output_type": "execute_result"
    }
   ],
   "source": [
    "report_genre_EU = df.groupby('genre').agg({'eu_sales':'sum'})\n",
    "top_genre  = report_genre_EU.sort_values(by='eu_sales', ascending = False).head(5).index\n",
    "report_genre_EU = report_genre_EU.reset_index()\n",
    "report_genre_EU.loc[~report_genre_EU['genre'].isin(top_genre), 'genre']='other'\n",
    "\n",
    "report_genre_EU=report_genre_EU.groupby('genre').agg({'eu_sales':'sum'})\n",
    "\n",
    "report_genre_EU"
   ]
  },
  {
   "cell_type": "markdown",
   "metadata": {},
   "source": [
    "### портрет пользователя региона JP\n"
   ]
  },
  {
   "cell_type": "code",
   "execution_count": 70,
   "metadata": {},
   "outputs": [],
   "source": [
    "df_JP = df.groupby('platform')['jp_sales'].sum().sort_values(ascending = False).reset_index()\n",
    "total_sales_JP = round(df_JP['jp_sales'].sum(),0)\n",
    "df_JP['total_sales_JP'] = total_sales_JP\n",
    "df_JP['share_sales_%'] = round ((df_JP['jp_sales']/df_JP['total_sales_JP'])*100,0)"
   ]
  },
  {
   "cell_type": "code",
   "execution_count": 71,
   "metadata": {},
   "outputs": [],
   "source": [
    "report_JP = df.groupby('platform').agg({'jp_sales':'sum'})\n",
    "top_platforms  = report_JP.sort_values(by='jp_sales', ascending = False).head(5).index\n",
    "report_JP = report_JP.reset_index()\n",
    "report_JP.loc[~report_JP['platform'].isin(top_platforms), 'platform']='other'\n",
    "\n",
    "report_JP=report_JP.groupby('platform').agg({'jp_sales':'sum'})"
   ]
  },
  {
   "cell_type": "code",
   "execution_count": 72,
   "metadata": {},
   "outputs": [
    {
     "data": {
      "text/html": [
       "<div>\n",
       "<style scoped>\n",
       "    .dataframe tbody tr th:only-of-type {\n",
       "        vertical-align: middle;\n",
       "    }\n",
       "\n",
       "    .dataframe tbody tr th {\n",
       "        vertical-align: top;\n",
       "    }\n",
       "\n",
       "    .dataframe thead th {\n",
       "        text-align: right;\n",
       "    }\n",
       "</style>\n",
       "<table border=\"1\" class=\"dataframe\">\n",
       "  <thead>\n",
       "    <tr style=\"text-align: right;\">\n",
       "      <th></th>\n",
       "      <th>platform</th>\n",
       "      <th>jp_sales</th>\n",
       "      <th>total_sales_JP</th>\n",
       "      <th>share_sales_%</th>\n",
       "    </tr>\n",
       "  </thead>\n",
       "  <tbody>\n",
       "    <tr>\n",
       "      <th>0</th>\n",
       "      <td>3DS</td>\n",
       "      <td>87.79</td>\n",
       "      <td>193.0</td>\n",
       "      <td>45.0</td>\n",
       "    </tr>\n",
       "    <tr>\n",
       "      <th>1</th>\n",
       "      <td>PS3</td>\n",
       "      <td>35.29</td>\n",
       "      <td>193.0</td>\n",
       "      <td>18.0</td>\n",
       "    </tr>\n",
       "    <tr>\n",
       "      <th>2</th>\n",
       "      <td>PSV</td>\n",
       "      <td>21.04</td>\n",
       "      <td>193.0</td>\n",
       "      <td>11.0</td>\n",
       "    </tr>\n",
       "    <tr>\n",
       "      <th>3</th>\n",
       "      <td>PS4</td>\n",
       "      <td>15.96</td>\n",
       "      <td>193.0</td>\n",
       "      <td>8.0</td>\n",
       "    </tr>\n",
       "    <tr>\n",
       "      <th>4</th>\n",
       "      <td>WiiU</td>\n",
       "      <td>13.01</td>\n",
       "      <td>193.0</td>\n",
       "      <td>7.0</td>\n",
       "    </tr>\n",
       "    <tr>\n",
       "      <th>5</th>\n",
       "      <td>PSP</td>\n",
       "      <td>10.47</td>\n",
       "      <td>193.0</td>\n",
       "      <td>5.0</td>\n",
       "    </tr>\n",
       "    <tr>\n",
       "      <th>6</th>\n",
       "      <td>DS</td>\n",
       "      <td>3.72</td>\n",
       "      <td>193.0</td>\n",
       "      <td>2.0</td>\n",
       "    </tr>\n",
       "    <tr>\n",
       "      <th>7</th>\n",
       "      <td>Wii</td>\n",
       "      <td>3.39</td>\n",
       "      <td>193.0</td>\n",
       "      <td>2.0</td>\n",
       "    </tr>\n",
       "    <tr>\n",
       "      <th>8</th>\n",
       "      <td>X360</td>\n",
       "      <td>1.57</td>\n",
       "      <td>193.0</td>\n",
       "      <td>1.0</td>\n",
       "    </tr>\n",
       "    <tr>\n",
       "      <th>9</th>\n",
       "      <td>XOne</td>\n",
       "      <td>0.34</td>\n",
       "      <td>193.0</td>\n",
       "      <td>0.0</td>\n",
       "    </tr>\n",
       "    <tr>\n",
       "      <th>10</th>\n",
       "      <td>PC</td>\n",
       "      <td>0.00</td>\n",
       "      <td>193.0</td>\n",
       "      <td>0.0</td>\n",
       "    </tr>\n",
       "  </tbody>\n",
       "</table>\n",
       "</div>"
      ],
      "text/plain": [
       "   platform  jp_sales  total_sales_JP  share_sales_%\n",
       "0       3DS     87.79           193.0           45.0\n",
       "1       PS3     35.29           193.0           18.0\n",
       "2       PSV     21.04           193.0           11.0\n",
       "3       PS4     15.96           193.0            8.0\n",
       "4      WiiU     13.01           193.0            7.0\n",
       "5       PSP     10.47           193.0            5.0\n",
       "6        DS      3.72           193.0            2.0\n",
       "7       Wii      3.39           193.0            2.0\n",
       "8      X360      1.57           193.0            1.0\n",
       "9      XOne      0.34           193.0            0.0\n",
       "10       PC      0.00           193.0            0.0"
      ]
     },
     "execution_count": 72,
     "metadata": {},
     "output_type": "execute_result"
    }
   ],
   "source": [
    "df_JP"
   ]
  },
  {
   "cell_type": "markdown",
   "metadata": {},
   "source": [
    "Вывод: В Японии свой рынок, Лидирут некая 3DS и разные версии PS"
   ]
  },
  {
   "cell_type": "code",
   "execution_count": 73,
   "metadata": {},
   "outputs": [
    {
     "data": {
      "text/html": [
       "<div>\n",
       "<style scoped>\n",
       "    .dataframe tbody tr th:only-of-type {\n",
       "        vertical-align: middle;\n",
       "    }\n",
       "\n",
       "    .dataframe tbody tr th {\n",
       "        vertical-align: top;\n",
       "    }\n",
       "\n",
       "    .dataframe thead th {\n",
       "        text-align: right;\n",
       "    }\n",
       "</style>\n",
       "<table border=\"1\" class=\"dataframe\">\n",
       "  <thead>\n",
       "    <tr style=\"text-align: right;\">\n",
       "      <th></th>\n",
       "      <th>genre</th>\n",
       "      <th>jp_sales</th>\n",
       "      <th>share_sales_%</th>\n",
       "    </tr>\n",
       "  </thead>\n",
       "  <tbody>\n",
       "    <tr>\n",
       "      <th>0</th>\n",
       "      <td>Role-Playing</td>\n",
       "      <td>65.44</td>\n",
       "      <td>34.0</td>\n",
       "    </tr>\n",
       "    <tr>\n",
       "      <th>1</th>\n",
       "      <td>Action</td>\n",
       "      <td>52.80</td>\n",
       "      <td>27.0</td>\n",
       "    </tr>\n",
       "    <tr>\n",
       "      <th>2</th>\n",
       "      <td>Misc</td>\n",
       "      <td>12.86</td>\n",
       "      <td>7.0</td>\n",
       "    </tr>\n",
       "    <tr>\n",
       "      <th>3</th>\n",
       "      <td>Simulation</td>\n",
       "      <td>10.41</td>\n",
       "      <td>5.0</td>\n",
       "    </tr>\n",
       "    <tr>\n",
       "      <th>4</th>\n",
       "      <td>Fighting</td>\n",
       "      <td>9.44</td>\n",
       "      <td>5.0</td>\n",
       "    </tr>\n",
       "    <tr>\n",
       "      <th>5</th>\n",
       "      <td>Shooter</td>\n",
       "      <td>9.23</td>\n",
       "      <td>5.0</td>\n",
       "    </tr>\n",
       "    <tr>\n",
       "      <th>6</th>\n",
       "      <td>Platform</td>\n",
       "      <td>8.63</td>\n",
       "      <td>4.0</td>\n",
       "    </tr>\n",
       "    <tr>\n",
       "      <th>7</th>\n",
       "      <td>Adventure</td>\n",
       "      <td>8.24</td>\n",
       "      <td>4.0</td>\n",
       "    </tr>\n",
       "    <tr>\n",
       "      <th>8</th>\n",
       "      <td>Sports</td>\n",
       "      <td>8.01</td>\n",
       "      <td>4.0</td>\n",
       "    </tr>\n",
       "    <tr>\n",
       "      <th>9</th>\n",
       "      <td>Strategy</td>\n",
       "      <td>2.88</td>\n",
       "      <td>1.0</td>\n",
       "    </tr>\n",
       "    <tr>\n",
       "      <th>10</th>\n",
       "      <td>Racing</td>\n",
       "      <td>2.50</td>\n",
       "      <td>1.0</td>\n",
       "    </tr>\n",
       "    <tr>\n",
       "      <th>11</th>\n",
       "      <td>Puzzle</td>\n",
       "      <td>2.14</td>\n",
       "      <td>1.0</td>\n",
       "    </tr>\n",
       "  </tbody>\n",
       "</table>\n",
       "</div>"
      ],
      "text/plain": [
       "           genre  jp_sales  share_sales_%\n",
       "0   Role-Playing     65.44           34.0\n",
       "1         Action     52.80           27.0\n",
       "2           Misc     12.86            7.0\n",
       "3     Simulation     10.41            5.0\n",
       "4       Fighting      9.44            5.0\n",
       "5        Shooter      9.23            5.0\n",
       "6       Platform      8.63            4.0\n",
       "7      Adventure      8.24            4.0\n",
       "8         Sports      8.01            4.0\n",
       "9       Strategy      2.88            1.0\n",
       "10        Racing      2.50            1.0\n",
       "11        Puzzle      2.14            1.0"
      ]
     },
     "execution_count": 73,
     "metadata": {},
     "output_type": "execute_result"
    }
   ],
   "source": [
    "df_JP_genre = df.groupby('genre')['jp_sales'].sum().sort_values(ascending = False).reset_index()\n",
    "\n",
    "df_JP_genre ['share_sales_%'] = round ((df_JP_genre['jp_sales']/total_sales_JP)*100,0)\n",
    "df_JP_genre"
   ]
  },
  {
   "cell_type": "markdown",
   "metadata": {},
   "source": [
    "Вывод: по жанрам в Японии тоже сильно отличается от Америки и Европы. В Лидерах Playing, с большим отрывом Action\n",
    "Отсальные жанры не значительны. "
   ]
  },
  {
   "cell_type": "code",
   "execution_count": 74,
   "metadata": {},
   "outputs": [
    {
     "data": {
      "text/html": [
       "<div>\n",
       "<style scoped>\n",
       "    .dataframe tbody tr th:only-of-type {\n",
       "        vertical-align: middle;\n",
       "    }\n",
       "\n",
       "    .dataframe tbody tr th {\n",
       "        vertical-align: top;\n",
       "    }\n",
       "\n",
       "    .dataframe thead th {\n",
       "        text-align: right;\n",
       "    }\n",
       "</style>\n",
       "<table border=\"1\" class=\"dataframe\">\n",
       "  <thead>\n",
       "    <tr style=\"text-align: right;\">\n",
       "      <th></th>\n",
       "      <th>jp_sales</th>\n",
       "    </tr>\n",
       "    <tr>\n",
       "      <th>genre</th>\n",
       "      <th></th>\n",
       "    </tr>\n",
       "  </thead>\n",
       "  <tbody>\n",
       "    <tr>\n",
       "      <th>Action</th>\n",
       "      <td>52.80</td>\n",
       "    </tr>\n",
       "    <tr>\n",
       "      <th>Fighting</th>\n",
       "      <td>9.44</td>\n",
       "    </tr>\n",
       "    <tr>\n",
       "      <th>Misc</th>\n",
       "      <td>12.86</td>\n",
       "    </tr>\n",
       "    <tr>\n",
       "      <th>Role-Playing</th>\n",
       "      <td>65.44</td>\n",
       "    </tr>\n",
       "    <tr>\n",
       "      <th>Simulation</th>\n",
       "      <td>10.41</td>\n",
       "    </tr>\n",
       "    <tr>\n",
       "      <th>other</th>\n",
       "      <td>41.63</td>\n",
       "    </tr>\n",
       "  </tbody>\n",
       "</table>\n",
       "</div>"
      ],
      "text/plain": [
       "              jp_sales\n",
       "genre                 \n",
       "Action           52.80\n",
       "Fighting          9.44\n",
       "Misc             12.86\n",
       "Role-Playing     65.44\n",
       "Simulation       10.41\n",
       "other            41.63"
      ]
     },
     "execution_count": 74,
     "metadata": {},
     "output_type": "execute_result"
    }
   ],
   "source": [
    "report_genre_JP = df.groupby('genre').agg({'jp_sales':'sum'})\n",
    "top_genre  = report_genre_JP.sort_values(by='jp_sales', ascending = False).head(5).index\n",
    "report_genre_JP = report_genre_JP.reset_index()\n",
    "report_genre_JP.loc[~report_genre_JP['genre'].isin(top_genre), 'genre']='other'\n",
    "\n",
    "report_genre_JP=report_genre_JP.groupby('genre').agg({'jp_sales':'sum'})\n",
    "\n",
    "report_genre_JP"
   ]
  },
  {
   "cell_type": "markdown",
   "metadata": {},
   "source": [
    "### Обобщающие диаграммы по регионам"
   ]
  },
  {
   "cell_type": "markdown",
   "metadata": {},
   "source": [
    "#### Структура по платформам"
   ]
  },
  {
   "cell_type": "code",
   "execution_count": 75,
   "metadata": {},
   "outputs": [
    {
     "data": {
      "text/plain": [
       "Text(0.5, 1.0, 'Топ-5 платформ в NA')"
      ]
     },
     "execution_count": 75,
     "metadata": {},
     "output_type": "execute_result"
    },
    {
     "data": {
      "image/png": "[encoded data removed]",
      "text/plain": [
       "<Figure size 360x360 with 1 Axes>"
      ]
     },
     "metadata": {},
     "output_type": "display_data"
    }
   ],
   "source": [
    "plot = report.plot.pie(y='na_sales', figsize=(5, 5))\n",
    "plt.title ('Топ-5 платформ в NA')"
   ]
  },
  {
   "cell_type": "code",
   "execution_count": 76,
   "metadata": {},
   "outputs": [
    {
     "data": {
      "text/plain": [
       "Text(0.5, 1.0, 'Топ-5 платформ в EU')"
      ]
     },
     "execution_count": 76,
     "metadata": {},
     "output_type": "execute_result"
    },
    {
     "data": {
      "image/png": "[encoded data removed]",
      "text/plain": [
       "<Figure size 360x360 with 1 Axes>"
      ]
     },
     "metadata": {},
     "output_type": "display_data"
    }
   ],
   "source": [
    "plot = report_EU.plot.pie(y='eu_sales', figsize=(5, 5))\n",
    "plt.title ('Топ-5 платформ в EU')"
   ]
  },
  {
   "cell_type": "code",
   "execution_count": 77,
   "metadata": {},
   "outputs": [
    {
     "data": {
      "text/plain": [
       "Text(0.5, 1.0, 'Топ-5 платформ в JP')"
      ]
     },
     "execution_count": 77,
     "metadata": {},
     "output_type": "execute_result"
    },
    {
     "data": {
      "image/png": "[encoded data removed]",
      "text/plain": [
       "<Figure size 360x360 with 1 Axes>"
      ]
     },
     "metadata": {},
     "output_type": "display_data"
    }
   ],
   "source": [
    "plot = report_JP.plot.pie(y='jp_sales', figsize=(5, 5))\n",
    "plt.title ('Топ-5 платформ в JP')"
   ]
  },
  {
   "cell_type": "markdown",
   "metadata": {},
   "source": [
    "Вывод:\n",
    "В структуре США лидируют модификации поатформ PS  и Xone\n",
    "В Европе аналогично\n",
    "\n",
    "ОДнако в Японии лидером явлеется 3DS (более половина рынка), в то время как в Америке и Европе эта платформа входит в топ-5 , но не является лидирующей."
   ]
  },
  {
   "cell_type": "markdown",
   "metadata": {},
   "source": [
    "#### Структура по жанрам"
   ]
  },
  {
   "cell_type": "code",
   "execution_count": 78,
   "metadata": {},
   "outputs": [
    {
     "data": {
      "text/plain": [
       "Text(0.5, 1.0, 'Топ-5 жанров в NA')"
      ]
     },
     "execution_count": 78,
     "metadata": {},
     "output_type": "execute_result"
    },
    {
     "data": {
      "image/png": "[encoded data removed]",
      "text/plain": [
       "<Figure size 360x360 with 1 Axes>"
      ]
     },
     "metadata": {},
     "output_type": "display_data"
    }
   ],
   "source": [
    "plot = report_genre.plot.pie(y='na_sales', figsize=(5, 5))\n",
    "plt.title ('Топ-5 жанров в NA')"
   ]
  },
  {
   "cell_type": "code",
   "execution_count": 79,
   "metadata": {},
   "outputs": [
    {
     "data": {
      "text/plain": [
       "Text(0.5, 1.0, 'Топ-5 жанров в EU')"
      ]
     },
     "execution_count": 79,
     "metadata": {},
     "output_type": "execute_result"
    },
    {
     "data": {
      "image/png": "[encoded data removed]",
      "text/plain": [
       "<Figure size 360x360 with 1 Axes>"
      ]
     },
     "metadata": {},
     "output_type": "display_data"
    }
   ],
   "source": [
    "plot = report_genre_EU.plot.pie(y='eu_sales', figsize=(5, 5))\n",
    "plt.title ('Топ-5 жанров в EU')"
   ]
  },
  {
   "cell_type": "code",
   "execution_count": 80,
   "metadata": {},
   "outputs": [
    {
     "data": {
      "text/plain": [
       "Text(0.5, 1.0, 'Топ-5 жанров в JP')"
      ]
     },
     "execution_count": 80,
     "metadata": {},
     "output_type": "execute_result"
    },
    {
     "data": {
      "image/png": "[encoded data removed]",
      "text/plain": [
       "<Figure size 360x360 with 1 Axes>"
      ]
     },
     "metadata": {},
     "output_type": "display_data"
    }
   ],
   "source": [
    "plot = report_genre_JP.plot.pie(y='jp_sales', figsize=(5, 5))\n",
    "plt.title ('Топ-5 жанров в JP')"
   ]
  },
  {
   "cell_type": "markdown",
   "metadata": {},
   "source": [
    "Вывод: В Америке и Европе самые популярные жанры это Action и Shooter\n",
    "В Японии же самую большую долю занимает Role-Playing\n",
    "\n",
    "Итго, можно говорить о том, что рынок Японии очень сильно отличается от рынков Америки и Европы. "
   ]
  },
  {
   "cell_type": "markdown",
   "metadata": {},
   "source": [
    " ### Влияет ли рейтинг ESRB на продажи в отдельном регионе?\n",
    " \n",
    " сделаем таблицу по структуре рейтинга , регионам и продажам. И посмотрим на данные..."
   ]
  },
  {
   "cell_type": "code",
   "execution_count": 81,
   "metadata": {},
   "outputs": [
    {
     "data": {
      "text/html": [
       "<div>\n",
       "<style scoped>\n",
       "    .dataframe tbody tr th:only-of-type {\n",
       "        vertical-align: middle;\n",
       "    }\n",
       "\n",
       "    .dataframe tbody tr th {\n",
       "        vertical-align: top;\n",
       "    }\n",
       "\n",
       "    .dataframe thead th {\n",
       "        text-align: right;\n",
       "    }\n",
       "</style>\n",
       "<table border=\"1\" class=\"dataframe\">\n",
       "  <thead>\n",
       "    <tr style=\"text-align: right;\">\n",
       "      <th></th>\n",
       "      <th>name</th>\n",
       "      <th>platform</th>\n",
       "      <th>year_of_release</th>\n",
       "      <th>genre</th>\n",
       "      <th>na_sales</th>\n",
       "      <th>eu_sales</th>\n",
       "      <th>jp_sales</th>\n",
       "      <th>other_sales</th>\n",
       "      <th>critic_score</th>\n",
       "      <th>user_score</th>\n",
       "      <th>rating</th>\n",
       "      <th>total_sales</th>\n",
       "    </tr>\n",
       "  </thead>\n",
       "  <tbody>\n",
       "    <tr>\n",
       "      <th>16</th>\n",
       "      <td>Grand Theft Auto V</td>\n",
       "      <td>PS3</td>\n",
       "      <td>2013.0</td>\n",
       "      <td>Action</td>\n",
       "      <td>7.02</td>\n",
       "      <td>9.09</td>\n",
       "      <td>0.98</td>\n",
       "      <td>3.96</td>\n",
       "      <td>97.0</td>\n",
       "      <td>8.2</td>\n",
       "      <td>M</td>\n",
       "      <td>21.05</td>\n",
       "    </tr>\n",
       "    <tr>\n",
       "      <th>23</th>\n",
       "      <td>Grand Theft Auto V</td>\n",
       "      <td>X360</td>\n",
       "      <td>2013.0</td>\n",
       "      <td>Action</td>\n",
       "      <td>9.66</td>\n",
       "      <td>5.14</td>\n",
       "      <td>0.06</td>\n",
       "      <td>1.41</td>\n",
       "      <td>97.0</td>\n",
       "      <td>8.1</td>\n",
       "      <td>M</td>\n",
       "      <td>16.27</td>\n",
       "    </tr>\n",
       "    <tr>\n",
       "      <th>31</th>\n",
       "      <td>Call of Duty: Black Ops 3</td>\n",
       "      <td>PS4</td>\n",
       "      <td>2015.0</td>\n",
       "      <td>Shooter</td>\n",
       "      <td>6.03</td>\n",
       "      <td>5.86</td>\n",
       "      <td>0.36</td>\n",
       "      <td>2.38</td>\n",
       "      <td>-1.0</td>\n",
       "      <td>-2.0</td>\n",
       "      <td>no_value</td>\n",
       "      <td>14.63</td>\n",
       "    </tr>\n",
       "    <tr>\n",
       "      <th>33</th>\n",
       "      <td>Pokemon X/Pokemon Y</td>\n",
       "      <td>3DS</td>\n",
       "      <td>2013.0</td>\n",
       "      <td>Role-Playing</td>\n",
       "      <td>5.28</td>\n",
       "      <td>4.19</td>\n",
       "      <td>4.35</td>\n",
       "      <td>0.78</td>\n",
       "      <td>-1.0</td>\n",
       "      <td>-2.0</td>\n",
       "      <td>no_value</td>\n",
       "      <td>14.60</td>\n",
       "    </tr>\n",
       "    <tr>\n",
       "      <th>34</th>\n",
       "      <td>Call of Duty: Black Ops II</td>\n",
       "      <td>PS3</td>\n",
       "      <td>2012.0</td>\n",
       "      <td>Shooter</td>\n",
       "      <td>4.99</td>\n",
       "      <td>5.73</td>\n",
       "      <td>0.65</td>\n",
       "      <td>2.42</td>\n",
       "      <td>83.0</td>\n",
       "      <td>5.3</td>\n",
       "      <td>M</td>\n",
       "      <td>13.79</td>\n",
       "    </tr>\n",
       "  </tbody>\n",
       "</table>\n",
       "</div>"
      ],
      "text/plain": [
       "                          name platform  year_of_release         genre  \\\n",
       "16          Grand Theft Auto V      PS3           2013.0        Action   \n",
       "23          Grand Theft Auto V     X360           2013.0        Action   \n",
       "31   Call of Duty: Black Ops 3      PS4           2015.0       Shooter   \n",
       "33         Pokemon X/Pokemon Y      3DS           2013.0  Role-Playing   \n",
       "34  Call of Duty: Black Ops II      PS3           2012.0       Shooter   \n",
       "\n",
       "    na_sales  eu_sales  jp_sales  other_sales  critic_score  user_score  \\\n",
       "16      7.02      9.09      0.98         3.96          97.0         8.2   \n",
       "23      9.66      5.14      0.06         1.41          97.0         8.1   \n",
       "31      6.03      5.86      0.36         2.38          -1.0        -2.0   \n",
       "33      5.28      4.19      4.35         0.78          -1.0        -2.0   \n",
       "34      4.99      5.73      0.65         2.42          83.0         5.3   \n",
       "\n",
       "      rating  total_sales  \n",
       "16         M        21.05  \n",
       "23         M        16.27  \n",
       "31  no_value        14.63  \n",
       "33  no_value        14.60  \n",
       "34         M        13.79  "
      ]
     },
     "execution_count": 81,
     "metadata": {},
     "output_type": "execute_result"
    }
   ],
   "source": [
    "df.head()"
   ]
  },
  {
   "cell_type": "code",
   "execution_count": 82,
   "metadata": {},
   "outputs": [],
   "source": [
    "ESRB_raiting = df.groupby('rating').agg({'na_sales':'sum', 'eu_sales':'sum', 'jp_sales':'sum'} ).reset_index()\n",
    "#total_sales_NA = round(df_NA['na_sales'].sum(),0)\n",
    "#ESRB_raiting['structure_na_sales_%'] = round(ESRB_raiting['na_sales']/total_sales_NA*100,0)\n",
    "#ESRB_raiting['structure_eu_sales_%'] = round(ESRB_raiting['eu_sales']/total_sales_EU*100,0)\n",
    "#ESRB_raiting['structure_jp_sales_%'] = round(ESRB_raiting['jp_sales']/total_sales_JP*100,0)"
   ]
  },
  {
   "cell_type": "code",
   "execution_count": 83,
   "metadata": {},
   "outputs": [
    {
     "data": {
      "text/html": [
       "<div>\n",
       "<style scoped>\n",
       "    .dataframe tbody tr th:only-of-type {\n",
       "        vertical-align: middle;\n",
       "    }\n",
       "\n",
       "    .dataframe tbody tr th {\n",
       "        vertical-align: top;\n",
       "    }\n",
       "\n",
       "    .dataframe thead th {\n",
       "        text-align: right;\n",
       "    }\n",
       "</style>\n",
       "<table border=\"1\" class=\"dataframe\">\n",
       "  <thead>\n",
       "    <tr style=\"text-align: right;\">\n",
       "      <th></th>\n",
       "      <th>rating</th>\n",
       "      <th>na_sales</th>\n",
       "      <th>eu_sales</th>\n",
       "      <th>jp_sales</th>\n",
       "    </tr>\n",
       "  </thead>\n",
       "  <tbody>\n",
       "    <tr>\n",
       "      <th>0</th>\n",
       "      <td>E</td>\n",
       "      <td>114.37</td>\n",
       "      <td>113.03</td>\n",
       "      <td>28.33</td>\n",
       "    </tr>\n",
       "    <tr>\n",
       "      <th>1</th>\n",
       "      <td>E10+</td>\n",
       "      <td>75.70</td>\n",
       "      <td>55.37</td>\n",
       "      <td>8.19</td>\n",
       "    </tr>\n",
       "    <tr>\n",
       "      <th>2</th>\n",
       "      <td>M</td>\n",
       "      <td>231.57</td>\n",
       "      <td>193.96</td>\n",
       "      <td>21.20</td>\n",
       "    </tr>\n",
       "    <tr>\n",
       "      <th>3</th>\n",
       "      <td>T</td>\n",
       "      <td>66.02</td>\n",
       "      <td>52.96</td>\n",
       "      <td>26.02</td>\n",
       "    </tr>\n",
       "    <tr>\n",
       "      <th>4</th>\n",
       "      <td>no_value</td>\n",
       "      <td>103.31</td>\n",
       "      <td>91.50</td>\n",
       "      <td>108.84</td>\n",
       "    </tr>\n",
       "  </tbody>\n",
       "</table>\n",
       "</div>"
      ],
      "text/plain": [
       "     rating  na_sales  eu_sales  jp_sales\n",
       "0         E    114.37    113.03     28.33\n",
       "1      E10+     75.70     55.37      8.19\n",
       "2         M    231.57    193.96     21.20\n",
       "3         T     66.02     52.96     26.02\n",
       "4  no_value    103.31     91.50    108.84"
      ]
     },
     "execution_count": 83,
     "metadata": {},
     "output_type": "execute_result"
    }
   ],
   "source": [
    "ESRB_raiting"
   ]
  },
  {
   "cell_type": "markdown",
   "metadata": {},
   "source": [
    "Вывод:\n",
    "можно сказать, что Япония по структуре продаж в разрезе рейтинга сильно отличается от Европы и Америки.\n",
    "Именно в Японии доля продаж игр \"без рейтинга\" максимально высокая. \n",
    "В Европе и Америке доля игр для взрослых (М) - самая большая. И да, рейттинг влияет. \n",
    "Отсюда можно сделать вывод, что для ползователей из Японии рейтинг особого значения не имеет."
   ]
  },
  {
   "cell_type": "markdown",
   "metadata": {},
   "source": [
    "# Проверьте гипотезы\n",
    "Средние пользовательские рейтинги платформ Xbox One и PC одинаковые;\n",
    "Средние пользовательские рейтинги жанров Action (англ. «действие», экшен-игры) и Sports (англ. «спортивные соревнования») разные.\n",
    "Задайте самостоятельно пороговое значение alpha.\n",
    "Поясните:\n",
    "Как вы сформулировали нулевую и альтернативную гипотезы;\n",
    "Какой критерий применили для проверки гипотез и почему."
   ]
  },
  {
   "cell_type": "markdown",
   "metadata": {},
   "source": [
    "## Средние пользовательские рейтинги платформ Xbox One и PC одинаковые; \n",
    "\n",
    "Нулевая гипотеза: Средние пользовательские рейтинги платформ Xbox One и PC одинаковые\n",
    "Альтернативная гипотеза: Средние пользовательские рейтинги платформ Xbox One и PC различаются\n",
    "Выбрала двустороннюю гипотезу, так как нам не важно нам данном этапе какая платформа лучше/хуже\n",
    "тест о равенстве средних двух генеральных совокупностей - так как нам нужно сравнить средние двух генеральных совокупностей"
   ]
  },
  {
   "cell_type": "code",
   "execution_count": 84,
   "metadata": {},
   "outputs": [
    {
     "name": "stdout",
     "output_type": "stream",
     "text": [
      "p-значение: 0.5535080500643661\n",
      "Не получилось отвергнуть нулевую гипотезу\n"
     ]
    }
   ],
   "source": [
    "df_PC = df.loc[df['platform']=='PC']\n",
    "df_PC =df_PC.query('user_score >0')\n",
    "sample1 = df_PC['user_score']\n",
    "\n",
    "df_XOne = df.loc[df['platform']=='XOne']\n",
    "df_XOne=df_XOne.query('user_score >0')\n",
    "sample2 = df_XOne['user_score']\n",
    "\n",
    "alpha = 0.05\n",
    "\n",
    "\n",
    "results = st.ttest_ind (sample1,sample2) \n",
    "\n",
    "print('p-значение:', results.pvalue) \n",
    "\n",
    "if results.pvalue<alpha:\n",
    "    print(\"Отвергаем нулевую гипотезу\")\n",
    "else:\n",
    "    print(\"Не получилось отвергнуть нулевую гипотезу\")"
   ]
  },
  {
   "cell_type": "markdown",
   "metadata": {},
   "source": [
    "Вывод:  Средние пользовательские рейтинги платформ Xbox One и PC одинаковые"
   ]
  },
  {
   "cell_type": "markdown",
   "metadata": {},
   "source": [
    "## Средние пользовательские рейтинги жанров Action (англ. «действие», экшен-игры) и Sports (англ. «спортивные соревнования») разные."
   ]
  },
  {
   "cell_type": "markdown",
   "metadata": {},
   "source": [
    "Нулевая гипотеза: Средние пользовательские рейтинги платформ Action  и Sports одинаковые\n",
    "Альтернативная гипотеза: Средние пользовательские рейтинги платформ Xbox One и PC различаются\n",
    "Выбрала двустороннюю гипотезу, так как нам не важно нам данном этапе кто лучше а кто хуже\n",
    "тест о равенстве средних двух генеральных совокупностей - так как нам нужно сравнить средние двух генеральных совокупностей\n",
    "рассчеты, аналогичные предудущему пункту\n",
    "\n"
   ]
  },
  {
   "cell_type": "code",
   "execution_count": 86,
   "metadata": {},
   "outputs": [
    {
     "name": "stdout",
     "output_type": "stream",
     "text": [
      "p-значение: 3.7163089460934874e-26\n",
      "Отвергаем нулевую гипотезу\n"
     ]
    }
   ],
   "source": [
    "df_Action = df.loc[df['genre']=='Action']\n",
    "df_Action =df_Action.query('user_score >0')\n",
    "sample1 = df_Action['user_score']\n",
    "\n",
    "df_Sports = df.loc[df['genre']=='Sports']\n",
    "df_Sports=df_Sports.query('user_score >0')\n",
    "sample2 = df_Sports['user_score']\n",
    "\n",
    "alpha = 0.05\n",
    "\n",
    "\n",
    "\n",
    "results = st.ttest_ind (sample1,sample2) \n",
    "\n",
    "print('p-значение:', results.pvalue) \n",
    "\n",
    "if results.pvalue<alpha:\n",
    "    print(\"Отвергаем нулевую гипотезу\")\n",
    "else:\n",
    "    print(\"Не получилось отвергнуть нулевую гипотезу\")"
   ]
  },
  {
   "cell_type": "markdown",
   "metadata": {},
   "source": [
    "Вывод: Средние пользовательские рейтинги разные"
   ]
  },
  {
   "cell_type": "code",
   "execution_count": 87,
   "metadata": {},
   "outputs": [
    {
     "data": {
      "text/html": [
       "<div>\n",
       "<style scoped>\n",
       "    .dataframe tbody tr th:only-of-type {\n",
       "        vertical-align: middle;\n",
       "    }\n",
       "\n",
       "    .dataframe tbody tr th {\n",
       "        vertical-align: top;\n",
       "    }\n",
       "\n",
       "    .dataframe thead th {\n",
       "        text-align: right;\n",
       "    }\n",
       "</style>\n",
       "<table border=\"1\" class=\"dataframe\">\n",
       "  <thead>\n",
       "    <tr style=\"text-align: right;\">\n",
       "      <th></th>\n",
       "      <th>name</th>\n",
       "      <th>platform</th>\n",
       "      <th>year_of_release</th>\n",
       "      <th>genre</th>\n",
       "      <th>na_sales</th>\n",
       "      <th>eu_sales</th>\n",
       "      <th>jp_sales</th>\n",
       "      <th>other_sales</th>\n",
       "      <th>critic_score</th>\n",
       "      <th>user_score</th>\n",
       "      <th>rating</th>\n",
       "      <th>total_sales</th>\n",
       "    </tr>\n",
       "  </thead>\n",
       "  <tbody>\n",
       "    <tr>\n",
       "      <th>16</th>\n",
       "      <td>Grand Theft Auto V</td>\n",
       "      <td>PS3</td>\n",
       "      <td>2013.0</td>\n",
       "      <td>Action</td>\n",
       "      <td>7.02</td>\n",
       "      <td>9.09</td>\n",
       "      <td>0.98</td>\n",
       "      <td>3.96</td>\n",
       "      <td>97.0</td>\n",
       "      <td>8.2</td>\n",
       "      <td>M</td>\n",
       "      <td>21.05</td>\n",
       "    </tr>\n",
       "    <tr>\n",
       "      <th>23</th>\n",
       "      <td>Grand Theft Auto V</td>\n",
       "      <td>X360</td>\n",
       "      <td>2013.0</td>\n",
       "      <td>Action</td>\n",
       "      <td>9.66</td>\n",
       "      <td>5.14</td>\n",
       "      <td>0.06</td>\n",
       "      <td>1.41</td>\n",
       "      <td>97.0</td>\n",
       "      <td>8.1</td>\n",
       "      <td>M</td>\n",
       "      <td>16.27</td>\n",
       "    </tr>\n",
       "    <tr>\n",
       "      <th>34</th>\n",
       "      <td>Call of Duty: Black Ops II</td>\n",
       "      <td>PS3</td>\n",
       "      <td>2012.0</td>\n",
       "      <td>Shooter</td>\n",
       "      <td>4.99</td>\n",
       "      <td>5.73</td>\n",
       "      <td>0.65</td>\n",
       "      <td>2.42</td>\n",
       "      <td>83.0</td>\n",
       "      <td>5.3</td>\n",
       "      <td>M</td>\n",
       "      <td>13.79</td>\n",
       "    </tr>\n",
       "    <tr>\n",
       "      <th>35</th>\n",
       "      <td>Call of Duty: Black Ops II</td>\n",
       "      <td>X360</td>\n",
       "      <td>2012.0</td>\n",
       "      <td>Shooter</td>\n",
       "      <td>8.25</td>\n",
       "      <td>4.24</td>\n",
       "      <td>0.07</td>\n",
       "      <td>1.12</td>\n",
       "      <td>83.0</td>\n",
       "      <td>4.8</td>\n",
       "      <td>M</td>\n",
       "      <td>13.68</td>\n",
       "    </tr>\n",
       "    <tr>\n",
       "      <th>42</th>\n",
       "      <td>Grand Theft Auto V</td>\n",
       "      <td>PS4</td>\n",
       "      <td>2014.0</td>\n",
       "      <td>Action</td>\n",
       "      <td>3.96</td>\n",
       "      <td>6.31</td>\n",
       "      <td>0.38</td>\n",
       "      <td>1.97</td>\n",
       "      <td>97.0</td>\n",
       "      <td>8.3</td>\n",
       "      <td>M</td>\n",
       "      <td>12.62</td>\n",
       "    </tr>\n",
       "  </tbody>\n",
       "</table>\n",
       "</div>"
      ],
      "text/plain": [
       "                          name platform  year_of_release    genre  na_sales  \\\n",
       "16          Grand Theft Auto V      PS3           2013.0   Action      7.02   \n",
       "23          Grand Theft Auto V     X360           2013.0   Action      9.66   \n",
       "34  Call of Duty: Black Ops II      PS3           2012.0  Shooter      4.99   \n",
       "35  Call of Duty: Black Ops II     X360           2012.0  Shooter      8.25   \n",
       "42          Grand Theft Auto V      PS4           2014.0   Action      3.96   \n",
       "\n",
       "    eu_sales  jp_sales  other_sales  critic_score  user_score rating  \\\n",
       "16      9.09      0.98         3.96          97.0         8.2      M   \n",
       "23      5.14      0.06         1.41          97.0         8.1      M   \n",
       "34      5.73      0.65         2.42          83.0         5.3      M   \n",
       "35      4.24      0.07         1.12          83.0         4.8      M   \n",
       "42      6.31      0.38         1.97          97.0         8.3      M   \n",
       "\n",
       "    total_sales  \n",
       "16        21.05  \n",
       "23        16.27  \n",
       "34        13.79  \n",
       "35        13.68  \n",
       "42        12.62  "
      ]
     },
     "execution_count": 87,
     "metadata": {},
     "output_type": "execute_result"
    }
   ],
   "source": [
    "df_total = df.query('user_score >0')\n",
    "\n",
    "df_total.head()\n",
    "\n"
   ]
  },
  {
   "cell_type": "code",
   "execution_count": 88,
   "metadata": {},
   "outputs": [
    {
     "data": {
      "text/plain": [
       "platform\n",
       "3DS     7.033333\n",
       "DS      7.000000\n",
       "PC      6.428641\n",
       "PS3     6.532862\n",
       "PS4     6.748249\n",
       "PSP     5.950000\n",
       "PSV     7.410000\n",
       "Wii     6.082353\n",
       "WiiU    6.904000\n",
       "X360    6.220851\n",
       "XOne    6.521429\n",
       "Name: user_score, dtype: float64"
      ]
     },
     "execution_count": 88,
     "metadata": {},
     "output_type": "execute_result"
    }
   ],
   "source": [
    "df_total.groupby('platform')['user_score'].mean()"
   ]
  },
  {
   "cell_type": "code",
   "execution_count": 89,
   "metadata": {},
   "outputs": [
    {
     "data": {
      "text/plain": [
       "genre\n",
       "Action          6.825048\n",
       "Adventure       7.466667\n",
       "Fighting        6.895714\n",
       "Misc            6.938806\n",
       "Platform        6.806061\n",
       "Puzzle          7.633333\n",
       "Racing          6.151163\n",
       "Role-Playing    7.258480\n",
       "Shooter         6.435897\n",
       "Simulation      6.511905\n",
       "Sports          5.455897\n",
       "Strategy        6.420000\n",
       "Name: user_score, dtype: float64"
      ]
     },
     "execution_count": 89,
     "metadata": {},
     "output_type": "execute_result"
    }
   ],
   "source": [
    "df_total.groupby('genre')['user_score'].mean()"
   ]
  },
  {
   "cell_type": "markdown",
   "metadata": {},
   "source": [
    "# Выводы"
   ]
  },
  {
   "cell_type": "markdown",
   "metadata": {},
   "source": [
    "В работе была проведена предобработка данных - заменены типы данных, заполнны пропуски.\n",
    "Выявлен характерный период обновления игровых платформ (раз в 5 лет)\n",
    "В целом , для планирования РК на след год, по опыту лучше опираться на даные проглого года (самые свежие). В рамках работы быд рассмотрен период 5 лет. \n",
    "Для более точного планирования РК можно дать рекомендацию более четкого изучения игр (а не ограничиваться платформими и жанрами) Но это уже зависит от структуры бизнеса заказчика и его ожиданий.\n",
    "\n",
    "\n"
   ]
  },
  {
   "cell_type": "markdown",
   "metadata": {},
   "source": [
    "\n",
    "**Выводы **\n",
    "\n",
    "1. Рынки Америки и Европы имеют больше сходств. Рынок Японии имеет сильные различия. \n",
    "1.В результате проведенного исследования рекомендуем для рекламы платформы: PS4 и XOne\n",
    "2. Жанры игр, куда рекомендуем рекламный бюджет: Shooter, Sports и Platform - это  жанры с лучшей средней прибылью на  одну игру. \n",
    "3. Рейтинг ESRB:\n",
    "В Европе и Америке доля игр для взрослых (М) - самая большая. В Японии рейтинг ESRB особой роли не играет, так как там есть свой собственный ректинг. Таким образом, рекомендация распределять большую часть бюджета в категории игр для взрослых. Затем следуют категории «для всех» и потом для детей 10+\n",
    "4. Влияния  отзывов на продажи выявлено не было. То есть особого внимания обращать на отзывы не следует) \n",
    "Однако, продажи игр подвержены огромным колебанияем по выручке, что означает, что есть несколько очень популярных игр. И при выборе игр для рекламирования, нужно оценивать и экспертные мнения. \n"
   ]
  }
 ],
 "metadata": {
  "ExecuteTimeLog": [
   {
    "duration": 353,
    "start_time": "2022-04-11T11:55:37.062Z"
   },
   {
    "duration": 131,
    "start_time": "2022-04-11T11:57:03.112Z"
   },
   {
    "duration": 16,
    "start_time": "2022-04-11T11:57:19.226Z"
   },
   {
    "duration": 63,
    "start_time": "2022-04-11T11:59:03.490Z"
   },
   {
    "duration": 9,
    "start_time": "2022-04-11T12:03:46.349Z"
   },
   {
    "duration": 15,
    "start_time": "2022-04-11T12:03:57.004Z"
   },
   {
    "duration": 3,
    "start_time": "2022-04-11T12:04:03.823Z"
   },
   {
    "duration": 8,
    "start_time": "2022-04-11T12:04:05.709Z"
   },
   {
    "duration": 7,
    "start_time": "2022-04-11T12:04:12.398Z"
   },
   {
    "duration": 7,
    "start_time": "2022-04-11T12:04:16.232Z"
   },
   {
    "duration": 6,
    "start_time": "2022-04-11T12:04:16.960Z"
   },
   {
    "duration": 7,
    "start_time": "2022-04-11T12:04:19.657Z"
   },
   {
    "duration": 35,
    "start_time": "2022-04-11T12:04:24.176Z"
   },
   {
    "duration": 14,
    "start_time": "2022-04-11T12:04:25.856Z"
   },
   {
    "duration": 4,
    "start_time": "2022-04-11T12:04:27.568Z"
   },
   {
    "duration": 14,
    "start_time": "2022-04-11T12:04:28.580Z"
   },
   {
    "duration": 2,
    "start_time": "2022-04-11T12:04:36.980Z"
   },
   {
    "duration": 14,
    "start_time": "2022-04-11T12:04:38.596Z"
   },
   {
    "duration": 311,
    "start_time": "2022-04-11T12:06:32.761Z"
   },
   {
    "duration": 12,
    "start_time": "2022-04-11T12:06:47.437Z"
   },
   {
    "duration": 4,
    "start_time": "2022-04-11T12:19:31.925Z"
   },
   {
    "duration": 15,
    "start_time": "2022-04-11T12:19:49.957Z"
   },
   {
    "duration": 15,
    "start_time": "2022-04-11T12:19:57.204Z"
   },
   {
    "duration": 12,
    "start_time": "2022-04-11T12:20:39.777Z"
   },
   {
    "duration": 3,
    "start_time": "2022-04-11T12:21:58.166Z"
   },
   {
    "duration": 27,
    "start_time": "2022-04-11T12:22:43.563Z"
   },
   {
    "duration": 17,
    "start_time": "2022-04-11T12:25:20.077Z"
   },
   {
    "duration": 7,
    "start_time": "2022-04-11T12:26:00.161Z"
   },
   {
    "duration": 21,
    "start_time": "2022-04-11T12:26:15.597Z"
   },
   {
    "duration": 38,
    "start_time": "2022-04-11T12:26:31.729Z"
   },
   {
    "duration": 18,
    "start_time": "2022-04-11T12:26:39.461Z"
   },
   {
    "duration": 7,
    "start_time": "2022-04-11T12:27:00.474Z"
   },
   {
    "duration": 7,
    "start_time": "2022-04-11T12:27:02.788Z"
   },
   {
    "duration": 16,
    "start_time": "2022-04-11T12:27:07.790Z"
   },
   {
    "duration": 315,
    "start_time": "2022-04-11T12:27:39.791Z"
   },
   {
    "duration": 14,
    "start_time": "2022-04-11T12:28:24.120Z"
   },
   {
    "duration": 9,
    "start_time": "2022-04-11T12:29:53.997Z"
   },
   {
    "duration": 268,
    "start_time": "2022-04-11T12:29:58.538Z"
   },
   {
    "duration": 9,
    "start_time": "2022-04-11T12:30:10.466Z"
   },
   {
    "duration": 312,
    "start_time": "2022-04-11T12:30:15.754Z"
   },
   {
    "duration": 7,
    "start_time": "2022-04-11T12:30:30.685Z"
   },
   {
    "duration": 16,
    "start_time": "2022-04-11T12:30:44.623Z"
   },
   {
    "duration": 82,
    "start_time": "2022-04-11T12:30:58.679Z"
   },
   {
    "duration": 15,
    "start_time": "2022-04-11T12:30:59.938Z"
   },
   {
    "duration": 6,
    "start_time": "2022-04-11T12:31:12.028Z"
   },
   {
    "duration": 5,
    "start_time": "2022-04-11T12:31:12.044Z"
   },
   {
    "duration": 5,
    "start_time": "2022-04-11T12:31:28.122Z"
   },
   {
    "duration": 12,
    "start_time": "2022-04-11T12:34:39.373Z"
   },
   {
    "duration": 290,
    "start_time": "2022-04-11T12:34:47.778Z"
   },
   {
    "duration": 2,
    "start_time": "2022-04-11T12:34:53.775Z"
   },
   {
    "duration": 616,
    "start_time": "2022-04-12T12:36:30.778Z"
   },
   {
    "duration": 47,
    "start_time": "2022-04-12T12:36:31.400Z"
   },
   {
    "duration": 35,
    "start_time": "2022-04-12T12:36:31.449Z"
   },
   {
    "duration": 5,
    "start_time": "2022-04-12T12:36:31.486Z"
   },
   {
    "duration": 19,
    "start_time": "2022-04-12T12:36:31.494Z"
   },
   {
    "duration": 44,
    "start_time": "2022-04-12T12:36:31.515Z"
   },
   {
    "duration": 117,
    "start_time": "2022-04-12T12:36:31.562Z"
   },
   {
    "duration": 0,
    "start_time": "2022-04-12T12:36:31.681Z"
   },
   {
    "duration": 0,
    "start_time": "2022-04-12T12:36:31.682Z"
   },
   {
    "duration": 0,
    "start_time": "2022-04-12T12:36:31.684Z"
   },
   {
    "duration": 0,
    "start_time": "2022-04-12T12:36:31.686Z"
   },
   {
    "duration": 0,
    "start_time": "2022-04-12T12:36:31.689Z"
   },
   {
    "duration": 1,
    "start_time": "2022-04-12T12:36:31.690Z"
   },
   {
    "duration": 0,
    "start_time": "2022-04-12T12:36:31.693Z"
   },
   {
    "duration": 12,
    "start_time": "2022-04-12T12:36:58.497Z"
   },
   {
    "duration": 7,
    "start_time": "2022-04-12T12:37:08.100Z"
   },
   {
    "duration": 6,
    "start_time": "2022-04-12T12:37:09.445Z"
   },
   {
    "duration": 28,
    "start_time": "2022-04-12T12:38:11.616Z"
   },
   {
    "duration": 8,
    "start_time": "2022-04-12T12:44:43.771Z"
   },
   {
    "duration": 26,
    "start_time": "2022-04-12T12:44:58.014Z"
   },
   {
    "duration": 12,
    "start_time": "2022-04-12T12:45:32.006Z"
   },
   {
    "duration": 8,
    "start_time": "2022-04-12T12:45:33.949Z"
   },
   {
    "duration": 21,
    "start_time": "2022-04-12T12:45:36.029Z"
   },
   {
    "duration": 10,
    "start_time": "2022-04-12T12:46:26.123Z"
   },
   {
    "duration": 18,
    "start_time": "2022-04-12T12:46:29.027Z"
   },
   {
    "duration": 9,
    "start_time": "2022-04-12T12:46:49.599Z"
   },
   {
    "duration": 20,
    "start_time": "2022-04-12T12:46:52.368Z"
   },
   {
    "duration": 10,
    "start_time": "2022-04-12T12:46:58.737Z"
   },
   {
    "duration": 20,
    "start_time": "2022-04-12T12:47:00.853Z"
   },
   {
    "duration": 556,
    "start_time": "2022-04-12T12:47:14.752Z"
   },
   {
    "duration": 46,
    "start_time": "2022-04-12T12:47:15.311Z"
   },
   {
    "duration": 36,
    "start_time": "2022-04-12T12:47:15.360Z"
   },
   {
    "duration": 8,
    "start_time": "2022-04-12T12:47:15.398Z"
   },
   {
    "duration": 7,
    "start_time": "2022-04-12T12:47:15.409Z"
   },
   {
    "duration": 48,
    "start_time": "2022-04-12T12:47:15.419Z"
   },
   {
    "duration": 29,
    "start_time": "2022-04-12T12:47:15.469Z"
   },
   {
    "duration": 10,
    "start_time": "2022-04-12T12:47:15.501Z"
   },
   {
    "duration": 7,
    "start_time": "2022-04-12T12:47:15.513Z"
   },
   {
    "duration": 13,
    "start_time": "2022-04-12T12:47:15.522Z"
   },
   {
    "duration": 58,
    "start_time": "2022-04-12T12:47:15.537Z"
   },
   {
    "duration": 20,
    "start_time": "2022-04-12T12:47:15.598Z"
   },
   {
    "duration": 11,
    "start_time": "2022-04-12T12:47:15.620Z"
   },
   {
    "duration": 54,
    "start_time": "2022-04-12T12:47:15.635Z"
   },
   {
    "duration": 11,
    "start_time": "2022-04-12T12:47:43.953Z"
   },
   {
    "duration": 24,
    "start_time": "2022-04-12T12:47:46.181Z"
   },
   {
    "duration": 5,
    "start_time": "2022-04-12T12:48:17.173Z"
   },
   {
    "duration": 16,
    "start_time": "2022-04-12T12:50:50.742Z"
   },
   {
    "duration": 21,
    "start_time": "2022-04-12T12:50:59.365Z"
   },
   {
    "duration": 18,
    "start_time": "2022-04-12T12:51:09.616Z"
   },
   {
    "duration": 27,
    "start_time": "2022-04-12T12:51:19.578Z"
   },
   {
    "duration": 43,
    "start_time": "2022-04-12T12:51:36.079Z"
   },
   {
    "duration": 165,
    "start_time": "2022-04-12T12:51:57.005Z"
   },
   {
    "duration": 22,
    "start_time": "2022-04-12T12:52:04.939Z"
   },
   {
    "duration": 17,
    "start_time": "2022-04-12T12:52:35.830Z"
   },
   {
    "duration": 20,
    "start_time": "2022-04-12T12:52:39.248Z"
   },
   {
    "duration": 60,
    "start_time": "2022-04-12T12:52:50.882Z"
   },
   {
    "duration": 17,
    "start_time": "2022-04-12T12:53:16.324Z"
   },
   {
    "duration": 17,
    "start_time": "2022-04-12T12:53:33.853Z"
   },
   {
    "duration": 494,
    "start_time": "2022-04-12T12:53:41.820Z"
   },
   {
    "duration": 68,
    "start_time": "2022-04-12T12:53:42.317Z"
   },
   {
    "duration": 23,
    "start_time": "2022-04-12T12:53:42.388Z"
   },
   {
    "duration": 5,
    "start_time": "2022-04-12T12:53:42.414Z"
   },
   {
    "duration": 8,
    "start_time": "2022-04-12T12:53:42.422Z"
   },
   {
    "duration": 77,
    "start_time": "2022-04-12T12:53:42.433Z"
   },
   {
    "duration": 13,
    "start_time": "2022-04-12T12:53:42.513Z"
   },
   {
    "duration": 15,
    "start_time": "2022-04-12T12:53:42.531Z"
   },
   {
    "duration": 37,
    "start_time": "2022-04-12T12:53:42.550Z"
   },
   {
    "duration": 15,
    "start_time": "2022-04-12T12:53:42.594Z"
   },
   {
    "duration": 33,
    "start_time": "2022-04-12T12:53:42.613Z"
   },
   {
    "duration": 25,
    "start_time": "2022-04-12T12:53:42.648Z"
   },
   {
    "duration": 27,
    "start_time": "2022-04-12T12:53:42.684Z"
   },
   {
    "duration": 20,
    "start_time": "2022-04-12T12:53:42.713Z"
   },
   {
    "duration": 54,
    "start_time": "2022-04-12T12:53:42.736Z"
   },
   {
    "duration": 14,
    "start_time": "2022-04-12T12:54:31.728Z"
   },
   {
    "duration": 19,
    "start_time": "2022-04-12T12:54:35.096Z"
   },
   {
    "duration": 17,
    "start_time": "2022-04-12T12:54:37.116Z"
   },
   {
    "duration": 140,
    "start_time": "2022-04-12T12:55:15.438Z"
   },
   {
    "duration": 109,
    "start_time": "2022-04-12T12:55:23.794Z"
   },
   {
    "duration": 6,
    "start_time": "2022-04-12T12:55:51.323Z"
   },
   {
    "duration": 33,
    "start_time": "2022-04-12T12:56:19.180Z"
   },
   {
    "duration": 13,
    "start_time": "2022-04-12T12:57:14.538Z"
   },
   {
    "duration": 22,
    "start_time": "2022-04-12T12:57:17.788Z"
   },
   {
    "duration": 13,
    "start_time": "2022-04-12T12:57:48.797Z"
   },
   {
    "duration": 12,
    "start_time": "2022-04-12T12:59:33.362Z"
   },
   {
    "duration": 17,
    "start_time": "2022-04-12T12:59:37.453Z"
   },
   {
    "duration": 17,
    "start_time": "2022-04-12T13:01:06.814Z"
   },
   {
    "duration": 27,
    "start_time": "2022-04-12T13:01:08.636Z"
   },
   {
    "duration": 537,
    "start_time": "2022-04-12T13:01:15.459Z"
   },
   {
    "duration": 45,
    "start_time": "2022-04-12T13:01:15.999Z"
   },
   {
    "duration": 21,
    "start_time": "2022-04-12T13:01:16.047Z"
   },
   {
    "duration": 7,
    "start_time": "2022-04-12T13:01:16.082Z"
   },
   {
    "duration": 6,
    "start_time": "2022-04-12T13:01:16.093Z"
   },
   {
    "duration": 93,
    "start_time": "2022-04-12T13:01:16.102Z"
   },
   {
    "duration": 17,
    "start_time": "2022-04-12T13:01:16.198Z"
   },
   {
    "duration": 10,
    "start_time": "2022-04-12T13:01:16.218Z"
   },
   {
    "duration": 8,
    "start_time": "2022-04-12T13:01:16.230Z"
   },
   {
    "duration": 11,
    "start_time": "2022-04-12T13:01:16.241Z"
   },
   {
    "duration": 21,
    "start_time": "2022-04-12T13:01:16.294Z"
   },
   {
    "duration": 23,
    "start_time": "2022-04-12T13:01:16.317Z"
   },
   {
    "duration": 18,
    "start_time": "2022-04-12T13:01:16.342Z"
   },
   {
    "duration": 38,
    "start_time": "2022-04-12T13:01:16.363Z"
   },
   {
    "duration": 160,
    "start_time": "2022-04-12T13:01:16.403Z"
   },
   {
    "duration": 0,
    "start_time": "2022-04-12T13:01:16.565Z"
   },
   {
    "duration": 7,
    "start_time": "2022-04-12T13:03:36.248Z"
   },
   {
    "duration": 21,
    "start_time": "2022-04-12T13:03:38.430Z"
   },
   {
    "duration": 15,
    "start_time": "2022-04-12T13:04:00.684Z"
   },
   {
    "duration": 27,
    "start_time": "2022-04-12T13:04:01.513Z"
   },
   {
    "duration": 50,
    "start_time": "2022-04-12T13:04:30.470Z"
   },
   {
    "duration": 17,
    "start_time": "2022-04-12T13:04:45.638Z"
   },
   {
    "duration": 17,
    "start_time": "2022-04-12T13:04:53.979Z"
   },
   {
    "duration": 22,
    "start_time": "2022-04-12T13:04:54.986Z"
   },
   {
    "duration": 7,
    "start_time": "2022-04-12T13:06:55.572Z"
   },
   {
    "duration": 27,
    "start_time": "2022-04-12T13:07:02.267Z"
   },
   {
    "duration": 6,
    "start_time": "2022-04-12T13:08:16.101Z"
   },
   {
    "duration": 8,
    "start_time": "2022-04-12T13:12:13.988Z"
   },
   {
    "duration": 558,
    "start_time": "2022-04-12T13:12:21.976Z"
   },
   {
    "duration": 53,
    "start_time": "2022-04-12T13:12:22.536Z"
   },
   {
    "duration": 36,
    "start_time": "2022-04-12T13:12:22.592Z"
   },
   {
    "duration": 4,
    "start_time": "2022-04-12T13:12:22.633Z"
   },
   {
    "duration": 8,
    "start_time": "2022-04-12T13:12:22.640Z"
   },
   {
    "duration": 75,
    "start_time": "2022-04-12T13:12:22.651Z"
   },
   {
    "duration": 12,
    "start_time": "2022-04-12T13:12:22.729Z"
   },
   {
    "duration": 8,
    "start_time": "2022-04-12T13:12:22.743Z"
   },
   {
    "duration": 12,
    "start_time": "2022-04-12T13:12:22.782Z"
   },
   {
    "duration": 6,
    "start_time": "2022-04-12T13:12:22.800Z"
   },
   {
    "duration": 22,
    "start_time": "2022-04-12T13:12:22.808Z"
   },
   {
    "duration": 16,
    "start_time": "2022-04-12T13:12:22.833Z"
   },
   {
    "duration": 24,
    "start_time": "2022-04-12T13:12:22.888Z"
   },
   {
    "duration": 16,
    "start_time": "2022-04-12T13:12:22.915Z"
   },
   {
    "duration": 9,
    "start_time": "2022-04-12T13:12:22.934Z"
   },
   {
    "duration": 53,
    "start_time": "2022-04-12T13:12:22.946Z"
   },
   {
    "duration": 19,
    "start_time": "2022-04-12T13:12:23.001Z"
   },
   {
    "duration": 20,
    "start_time": "2022-04-12T13:12:23.022Z"
   },
   {
    "duration": 40,
    "start_time": "2022-04-12T13:12:23.045Z"
   },
   {
    "duration": 24,
    "start_time": "2022-04-12T13:12:23.088Z"
   },
   {
    "duration": 7,
    "start_time": "2022-04-12T13:12:23.115Z"
   },
   {
    "duration": 12,
    "start_time": "2022-04-12T13:15:39.708Z"
   },
   {
    "duration": 15,
    "start_time": "2022-04-12T13:16:17.849Z"
   },
   {
    "duration": 5,
    "start_time": "2022-04-12T13:16:18.846Z"
   },
   {
    "duration": 28,
    "start_time": "2022-04-12T13:16:20.041Z"
   },
   {
    "duration": 7,
    "start_time": "2022-04-12T13:16:35.068Z"
   },
   {
    "duration": 497,
    "start_time": "2022-04-12T13:17:03.536Z"
   },
   {
    "duration": 55,
    "start_time": "2022-04-12T13:17:04.036Z"
   },
   {
    "duration": 22,
    "start_time": "2022-04-12T13:17:04.096Z"
   },
   {
    "duration": 4,
    "start_time": "2022-04-12T13:17:04.121Z"
   },
   {
    "duration": 7,
    "start_time": "2022-04-12T13:17:04.127Z"
   },
   {
    "duration": 92,
    "start_time": "2022-04-12T13:17:04.136Z"
   },
   {
    "duration": 12,
    "start_time": "2022-04-12T13:17:04.230Z"
   },
   {
    "duration": 9,
    "start_time": "2022-04-12T13:17:04.244Z"
   },
   {
    "duration": 32,
    "start_time": "2022-04-12T13:17:04.256Z"
   },
   {
    "duration": 10,
    "start_time": "2022-04-12T13:17:04.296Z"
   },
   {
    "duration": 25,
    "start_time": "2022-04-12T13:17:04.308Z"
   },
   {
    "duration": 8,
    "start_time": "2022-04-12T13:17:04.336Z"
   },
   {
    "duration": 61,
    "start_time": "2022-04-12T13:17:04.347Z"
   },
   {
    "duration": 19,
    "start_time": "2022-04-12T13:17:04.412Z"
   },
   {
    "duration": 9,
    "start_time": "2022-04-12T13:17:04.434Z"
   },
   {
    "duration": 51,
    "start_time": "2022-04-12T13:17:04.446Z"
   },
   {
    "duration": 15,
    "start_time": "2022-04-12T13:17:04.500Z"
   },
   {
    "duration": 22,
    "start_time": "2022-04-12T13:17:04.518Z"
   },
   {
    "duration": 40,
    "start_time": "2022-04-12T13:17:04.543Z"
   },
   {
    "duration": 19,
    "start_time": "2022-04-12T13:17:04.587Z"
   },
   {
    "duration": 23,
    "start_time": "2022-04-12T13:17:04.608Z"
   },
   {
    "duration": 12,
    "start_time": "2022-04-12T13:17:04.634Z"
   },
   {
    "duration": 384,
    "start_time": "2022-04-14T07:50:29.800Z"
   },
   {
    "duration": 41,
    "start_time": "2022-04-14T07:50:30.186Z"
   },
   {
    "duration": 14,
    "start_time": "2022-04-14T07:50:30.229Z"
   },
   {
    "duration": 8,
    "start_time": "2022-04-14T07:50:30.245Z"
   },
   {
    "duration": 14,
    "start_time": "2022-04-14T07:50:30.254Z"
   },
   {
    "duration": 34,
    "start_time": "2022-04-14T07:50:30.270Z"
   },
   {
    "duration": 10,
    "start_time": "2022-04-14T07:50:30.306Z"
   },
   {
    "duration": 7,
    "start_time": "2022-04-14T07:50:30.318Z"
   },
   {
    "duration": 14,
    "start_time": "2022-04-14T07:50:30.327Z"
   },
   {
    "duration": 14,
    "start_time": "2022-04-14T07:50:30.344Z"
   },
   {
    "duration": 22,
    "start_time": "2022-04-14T07:50:30.359Z"
   },
   {
    "duration": 17,
    "start_time": "2022-04-14T07:50:30.382Z"
   },
   {
    "duration": 31,
    "start_time": "2022-04-14T07:50:30.401Z"
   },
   {
    "duration": 25,
    "start_time": "2022-04-14T07:50:30.434Z"
   },
   {
    "duration": 10,
    "start_time": "2022-04-14T07:50:30.461Z"
   },
   {
    "duration": 25,
    "start_time": "2022-04-14T07:50:30.473Z"
   },
   {
    "duration": 11,
    "start_time": "2022-04-14T07:50:30.500Z"
   },
   {
    "duration": 30,
    "start_time": "2022-04-14T07:50:30.513Z"
   },
   {
    "duration": 18,
    "start_time": "2022-04-14T07:50:30.545Z"
   },
   {
    "duration": 17,
    "start_time": "2022-04-14T07:50:30.565Z"
   },
   {
    "duration": 25,
    "start_time": "2022-04-14T07:50:30.584Z"
   },
   {
    "duration": 20,
    "start_time": "2022-04-14T07:50:30.610Z"
   },
   {
    "duration": 15,
    "start_time": "2022-04-14T07:52:20.098Z"
   },
   {
    "duration": 8,
    "start_time": "2022-04-14T07:53:37.655Z"
   },
   {
    "duration": 974,
    "start_time": "2022-04-14T08:11:25.535Z"
   },
   {
    "duration": 161,
    "start_time": "2022-04-14T08:11:32.958Z"
   },
   {
    "duration": 133,
    "start_time": "2022-04-14T08:11:45.546Z"
   },
   {
    "duration": 144,
    "start_time": "2022-04-14T08:11:53.810Z"
   },
   {
    "duration": 133,
    "start_time": "2022-04-14T08:12:26.980Z"
   },
   {
    "duration": 114,
    "start_time": "2022-04-14T08:16:53.577Z"
   },
   {
    "duration": 109,
    "start_time": "2022-04-14T08:17:07.658Z"
   },
   {
    "duration": 8,
    "start_time": "2022-04-14T08:19:34.151Z"
   },
   {
    "duration": 99,
    "start_time": "2022-04-14T08:20:14.229Z"
   },
   {
    "duration": 9,
    "start_time": "2022-04-14T08:20:40.262Z"
   },
   {
    "duration": 9,
    "start_time": "2022-04-14T08:28:00.708Z"
   },
   {
    "duration": 8,
    "start_time": "2022-04-14T08:30:23.023Z"
   },
   {
    "duration": 33,
    "start_time": "2022-04-14T08:32:18.540Z"
   },
   {
    "duration": 103,
    "start_time": "2022-04-14T08:38:44.753Z"
   },
   {
    "duration": 34,
    "start_time": "2022-04-14T08:39:16.949Z"
   },
   {
    "duration": 32,
    "start_time": "2022-04-14T08:39:36.826Z"
   },
   {
    "duration": 32,
    "start_time": "2022-04-14T08:39:49.882Z"
   },
   {
    "duration": 653,
    "start_time": "2022-04-14T08:40:25.637Z"
   },
   {
    "duration": 617,
    "start_time": "2022-04-14T08:40:45.280Z"
   },
   {
    "duration": 21,
    "start_time": "2022-04-14T08:40:59.028Z"
   },
   {
    "duration": 33,
    "start_time": "2022-04-14T08:41:06.588Z"
   },
   {
    "duration": 39,
    "start_time": "2022-04-14T08:41:30.964Z"
   },
   {
    "duration": 115,
    "start_time": "2022-04-14T08:41:42.465Z"
   },
   {
    "duration": 101,
    "start_time": "2022-04-14T08:41:50.051Z"
   },
   {
    "duration": 204,
    "start_time": "2022-04-14T08:42:03.959Z"
   },
   {
    "duration": 18,
    "start_time": "2022-04-14T08:42:27.280Z"
   },
   {
    "duration": 163,
    "start_time": "2022-04-14T08:43:12.919Z"
   },
   {
    "duration": 435,
    "start_time": "2022-04-14T08:43:30.775Z"
   },
   {
    "duration": 166,
    "start_time": "2022-04-14T08:43:38.932Z"
   },
   {
    "duration": 20,
    "start_time": "2022-04-14T08:58:49.906Z"
   },
   {
    "duration": 18,
    "start_time": "2022-04-14T08:58:56.334Z"
   },
   {
    "duration": 7,
    "start_time": "2022-04-14T08:59:08.274Z"
   },
   {
    "duration": 27,
    "start_time": "2022-04-14T09:00:05.567Z"
   },
   {
    "duration": 241,
    "start_time": "2022-04-14T09:00:54.006Z"
   },
   {
    "duration": 105,
    "start_time": "2022-04-14T09:01:55.862Z"
   },
   {
    "duration": 112,
    "start_time": "2022-04-14T09:02:03.554Z"
   },
   {
    "duration": 20,
    "start_time": "2022-04-14T09:02:12.070Z"
   },
   {
    "duration": 247,
    "start_time": "2022-04-14T09:02:19.204Z"
   },
   {
    "duration": 24,
    "start_time": "2022-04-14T09:03:15.694Z"
   },
   {
    "duration": 117,
    "start_time": "2022-04-14T09:07:23.380Z"
   },
   {
    "duration": 103,
    "start_time": "2022-04-14T09:08:14.964Z"
   },
   {
    "duration": 112,
    "start_time": "2022-04-14T09:08:26.163Z"
   },
   {
    "duration": 28,
    "start_time": "2022-04-14T09:11:11.195Z"
   },
   {
    "duration": 6,
    "start_time": "2022-04-14T10:54:06.058Z"
   },
   {
    "duration": 234,
    "start_time": "2022-04-14T10:57:14.685Z"
   },
   {
    "duration": 145,
    "start_time": "2022-04-14T10:57:25.547Z"
   },
   {
    "duration": 306,
    "start_time": "2022-04-14T11:01:15.636Z"
   },
   {
    "duration": 227,
    "start_time": "2022-04-14T11:01:36.053Z"
   },
   {
    "duration": 365,
    "start_time": "2022-04-14T11:01:52.131Z"
   },
   {
    "duration": 296,
    "start_time": "2022-04-14T11:02:06.329Z"
   },
   {
    "duration": 210,
    "start_time": "2022-04-14T11:02:18.658Z"
   },
   {
    "duration": 195,
    "start_time": "2022-04-14T11:02:49.525Z"
   },
   {
    "duration": 190,
    "start_time": "2022-04-14T11:03:03.636Z"
   },
   {
    "duration": 7,
    "start_time": "2022-04-14T11:04:23.148Z"
   },
   {
    "duration": 149,
    "start_time": "2022-04-14T11:08:06.753Z"
   },
   {
    "duration": 5,
    "start_time": "2022-04-14T11:08:23.467Z"
   },
   {
    "duration": 151,
    "start_time": "2022-04-14T11:10:29.240Z"
   },
   {
    "duration": 5,
    "start_time": "2022-04-14T11:10:40.673Z"
   },
   {
    "duration": 186,
    "start_time": "2022-04-14T11:10:52.240Z"
   },
   {
    "duration": 169,
    "start_time": "2022-04-14T11:12:12.854Z"
   },
   {
    "duration": 5,
    "start_time": "2022-04-14T11:12:44.806Z"
   },
   {
    "duration": 24,
    "start_time": "2022-04-14T11:13:08.811Z"
   },
   {
    "duration": 165,
    "start_time": "2022-04-14T11:14:50.807Z"
   },
   {
    "duration": 5,
    "start_time": "2022-04-14T11:15:02.659Z"
   },
   {
    "duration": 6,
    "start_time": "2022-04-14T11:15:21.886Z"
   },
   {
    "duration": 7,
    "start_time": "2022-04-14T11:18:48.206Z"
   },
   {
    "duration": 27,
    "start_time": "2022-04-14T11:18:55.351Z"
   },
   {
    "duration": 8,
    "start_time": "2022-04-14T11:19:48.348Z"
   },
   {
    "duration": 9,
    "start_time": "2022-04-14T11:19:56.035Z"
   },
   {
    "duration": 9,
    "start_time": "2022-04-14T11:21:24.635Z"
   },
   {
    "duration": 11,
    "start_time": "2022-04-14T11:21:52.794Z"
   },
   {
    "duration": 12,
    "start_time": "2022-04-14T11:22:05.441Z"
   },
   {
    "duration": 11,
    "start_time": "2022-04-14T11:22:15.664Z"
   },
   {
    "duration": 11,
    "start_time": "2022-04-14T11:22:21.191Z"
   },
   {
    "duration": 8,
    "start_time": "2022-04-14T11:25:03.639Z"
   },
   {
    "duration": 14,
    "start_time": "2022-04-14T11:27:35.867Z"
   },
   {
    "duration": 14,
    "start_time": "2022-04-14T11:28:21.653Z"
   },
   {
    "duration": 9,
    "start_time": "2022-04-14T11:29:34.108Z"
   },
   {
    "duration": 10,
    "start_time": "2022-04-14T11:29:40.069Z"
   },
   {
    "duration": 10,
    "start_time": "2022-04-14T11:30:21.341Z"
   },
   {
    "duration": 10,
    "start_time": "2022-04-14T11:30:25.857Z"
   },
   {
    "duration": 3,
    "start_time": "2022-04-14T11:43:37.865Z"
   },
   {
    "duration": 14,
    "start_time": "2022-04-14T11:44:45.127Z"
   },
   {
    "duration": 104,
    "start_time": "2022-04-14T11:47:38.177Z"
   },
   {
    "duration": 6,
    "start_time": "2022-04-14T11:47:44.861Z"
   },
   {
    "duration": 18,
    "start_time": "2022-04-14T11:49:14.611Z"
   },
   {
    "duration": 1228,
    "start_time": "2022-04-14T13:37:33.802Z"
   },
   {
    "duration": 43,
    "start_time": "2022-04-14T13:37:35.033Z"
   },
   {
    "duration": 18,
    "start_time": "2022-04-14T13:37:35.078Z"
   },
   {
    "duration": 3,
    "start_time": "2022-04-14T13:37:35.099Z"
   },
   {
    "duration": 7,
    "start_time": "2022-04-14T13:37:35.104Z"
   },
   {
    "duration": 34,
    "start_time": "2022-04-14T13:37:35.113Z"
   },
   {
    "duration": 9,
    "start_time": "2022-04-14T13:37:35.149Z"
   },
   {
    "duration": 24,
    "start_time": "2022-04-14T13:37:35.173Z"
   },
   {
    "duration": 7,
    "start_time": "2022-04-14T13:37:35.199Z"
   },
   {
    "duration": 10,
    "start_time": "2022-04-14T13:37:35.209Z"
   },
   {
    "duration": 24,
    "start_time": "2022-04-14T13:37:35.221Z"
   },
   {
    "duration": 6,
    "start_time": "2022-04-14T13:37:35.247Z"
   },
   {
    "duration": 27,
    "start_time": "2022-04-14T13:37:35.255Z"
   },
   {
    "duration": 22,
    "start_time": "2022-04-14T13:37:35.284Z"
   },
   {
    "duration": 7,
    "start_time": "2022-04-14T13:37:35.308Z"
   },
   {
    "duration": 15,
    "start_time": "2022-04-14T13:37:35.316Z"
   },
   {
    "duration": 13,
    "start_time": "2022-04-14T13:37:35.333Z"
   },
   {
    "duration": 38,
    "start_time": "2022-04-14T13:37:35.349Z"
   },
   {
    "duration": 7,
    "start_time": "2022-04-14T13:37:35.389Z"
   },
   {
    "duration": 6,
    "start_time": "2022-04-14T13:37:35.398Z"
   },
   {
    "duration": 22,
    "start_time": "2022-04-14T13:37:35.406Z"
   },
   {
    "duration": 7,
    "start_time": "2022-04-14T13:37:35.430Z"
   },
   {
    "duration": 16,
    "start_time": "2022-04-14T13:37:35.438Z"
   },
   {
    "duration": 170,
    "start_time": "2022-04-14T13:37:35.482Z"
   },
   {
    "duration": 10,
    "start_time": "2022-04-14T13:37:35.653Z"
   },
   {
    "duration": 139,
    "start_time": "2022-04-14T13:37:35.664Z"
   },
   {
    "duration": 0,
    "start_time": "2022-04-14T13:37:35.807Z"
   },
   {
    "duration": 0,
    "start_time": "2022-04-14T13:37:35.808Z"
   },
   {
    "duration": 0,
    "start_time": "2022-04-14T13:37:35.810Z"
   },
   {
    "duration": 0,
    "start_time": "2022-04-14T13:37:35.811Z"
   },
   {
    "duration": 0,
    "start_time": "2022-04-14T13:37:35.812Z"
   },
   {
    "duration": 0,
    "start_time": "2022-04-14T13:37:35.814Z"
   },
   {
    "duration": 0,
    "start_time": "2022-04-14T13:37:35.816Z"
   },
   {
    "duration": 0,
    "start_time": "2022-04-14T13:37:35.817Z"
   },
   {
    "duration": 0,
    "start_time": "2022-04-14T13:37:35.819Z"
   },
   {
    "duration": 0,
    "start_time": "2022-04-14T13:37:35.820Z"
   },
   {
    "duration": 0,
    "start_time": "2022-04-14T13:37:35.822Z"
   },
   {
    "duration": 0,
    "start_time": "2022-04-14T13:37:35.823Z"
   },
   {
    "duration": 0,
    "start_time": "2022-04-14T13:37:35.824Z"
   },
   {
    "duration": 0,
    "start_time": "2022-04-14T13:37:35.826Z"
   },
   {
    "duration": 0,
    "start_time": "2022-04-14T13:37:35.828Z"
   },
   {
    "duration": 0,
    "start_time": "2022-04-14T13:37:35.829Z"
   },
   {
    "duration": 0,
    "start_time": "2022-04-14T13:37:35.831Z"
   },
   {
    "duration": 0,
    "start_time": "2022-04-14T13:37:35.832Z"
   },
   {
    "duration": 0,
    "start_time": "2022-04-14T13:37:35.878Z"
   },
   {
    "duration": 0,
    "start_time": "2022-04-14T13:37:35.880Z"
   },
   {
    "duration": 31,
    "start_time": "2022-04-14T13:38:49.575Z"
   },
   {
    "duration": 26,
    "start_time": "2022-04-14T13:39:07.855Z"
   },
   {
    "duration": 193,
    "start_time": "2022-04-14T13:39:12.671Z"
   },
   {
    "duration": 7,
    "start_time": "2022-04-14T13:39:14.526Z"
   },
   {
    "duration": 280,
    "start_time": "2022-04-14T13:39:14.965Z"
   },
   {
    "duration": 24,
    "start_time": "2022-04-14T13:39:15.247Z"
   },
   {
    "duration": 41,
    "start_time": "2022-04-14T13:39:15.668Z"
   },
   {
    "duration": 6,
    "start_time": "2022-04-14T13:39:16.052Z"
   },
   {
    "duration": 167,
    "start_time": "2022-04-14T13:39:16.386Z"
   },
   {
    "duration": 4,
    "start_time": "2022-04-14T13:39:16.555Z"
   },
   {
    "duration": 213,
    "start_time": "2022-04-14T13:39:16.606Z"
   },
   {
    "duration": 161,
    "start_time": "2022-04-14T13:39:17.008Z"
   },
   {
    "duration": 9,
    "start_time": "2022-04-14T13:39:17.171Z"
   },
   {
    "duration": 179,
    "start_time": "2022-04-14T13:39:17.819Z"
   },
   {
    "duration": 5,
    "start_time": "2022-04-14T13:39:18.001Z"
   },
   {
    "duration": 5,
    "start_time": "2022-04-14T13:39:18.125Z"
   },
   {
    "duration": 7,
    "start_time": "2022-04-14T13:39:18.653Z"
   },
   {
    "duration": 7,
    "start_time": "2022-04-14T13:39:18.845Z"
   },
   {
    "duration": 12,
    "start_time": "2022-04-14T13:39:19.373Z"
   },
   {
    "duration": 11,
    "start_time": "2022-04-14T13:39:19.553Z"
   },
   {
    "duration": 16,
    "start_time": "2022-04-14T13:39:20.634Z"
   },
   {
    "duration": 16,
    "start_time": "2022-04-14T13:39:20.820Z"
   },
   {
    "duration": 7,
    "start_time": "2022-04-14T13:39:45.826Z"
   },
   {
    "duration": 13,
    "start_time": "2022-04-14T13:40:12.370Z"
   },
   {
    "duration": 4,
    "start_time": "2022-04-14T13:40:14.893Z"
   },
   {
    "duration": 6,
    "start_time": "2022-04-14T13:40:17.157Z"
   },
   {
    "duration": 11,
    "start_time": "2022-04-14T13:40:33.402Z"
   },
   {
    "duration": 6,
    "start_time": "2022-04-14T13:40:41.833Z"
   },
   {
    "duration": 5,
    "start_time": "2022-04-14T13:41:21.055Z"
   },
   {
    "duration": 8,
    "start_time": "2022-04-14T13:41:24.272Z"
   },
   {
    "duration": 7,
    "start_time": "2022-04-14T13:41:34.999Z"
   },
   {
    "duration": 8,
    "start_time": "2022-04-14T13:41:36.786Z"
   },
   {
    "duration": 10,
    "start_time": "2022-04-14T13:42:09.386Z"
   },
   {
    "duration": 7,
    "start_time": "2022-04-14T13:42:19.859Z"
   },
   {
    "duration": 6,
    "start_time": "2022-04-14T13:42:51.941Z"
   },
   {
    "duration": 10,
    "start_time": "2022-04-14T13:43:02.346Z"
   },
   {
    "duration": 7,
    "start_time": "2022-04-14T13:43:06.356Z"
   },
   {
    "duration": 4,
    "start_time": "2022-04-14T13:43:07.666Z"
   },
   {
    "duration": 7,
    "start_time": "2022-04-14T13:43:28.628Z"
   },
   {
    "duration": 8,
    "start_time": "2022-04-14T13:43:31.391Z"
   },
   {
    "duration": 10,
    "start_time": "2022-04-14T13:43:33.114Z"
   },
   {
    "duration": 8,
    "start_time": "2022-04-14T13:44:12.824Z"
   },
   {
    "duration": 9,
    "start_time": "2022-04-14T13:44:15.886Z"
   },
   {
    "duration": 10,
    "start_time": "2022-04-14T13:44:17.813Z"
   },
   {
    "duration": 9,
    "start_time": "2022-04-14T13:44:24.339Z"
   },
   {
    "duration": 8,
    "start_time": "2022-04-14T13:44:33.754Z"
   },
   {
    "duration": 8,
    "start_time": "2022-04-14T13:44:35.789Z"
   },
   {
    "duration": 9,
    "start_time": "2022-04-14T13:44:36.452Z"
   },
   {
    "duration": 9,
    "start_time": "2022-04-14T13:44:50.215Z"
   },
   {
    "duration": 9,
    "start_time": "2022-04-14T13:44:52.624Z"
   },
   {
    "duration": 11,
    "start_time": "2022-04-14T13:44:54.138Z"
   },
   {
    "duration": 8,
    "start_time": "2022-04-14T13:49:37.450Z"
   },
   {
    "duration": 8,
    "start_time": "2022-04-14T13:49:44.590Z"
   },
   {
    "duration": 9,
    "start_time": "2022-04-14T13:50:14.186Z"
   },
   {
    "duration": 10,
    "start_time": "2022-04-14T13:50:16.314Z"
   },
   {
    "duration": 15,
    "start_time": "2022-04-14T13:59:58.932Z"
   },
   {
    "duration": 12,
    "start_time": "2022-04-14T14:02:54.910Z"
   },
   {
    "duration": 18,
    "start_time": "2022-04-14T14:03:48.184Z"
   },
   {
    "duration": 13,
    "start_time": "2022-04-14T14:06:07.578Z"
   },
   {
    "duration": 9,
    "start_time": "2022-04-14T14:06:10.199Z"
   },
   {
    "duration": 10,
    "start_time": "2022-04-14T14:06:19.327Z"
   },
   {
    "duration": 10,
    "start_time": "2022-04-14T14:06:23.247Z"
   },
   {
    "duration": 14,
    "start_time": "2022-04-14T14:06:24.070Z"
   },
   {
    "duration": 2,
    "start_time": "2022-04-14T14:07:11.559Z"
   },
   {
    "duration": 53,
    "start_time": "2022-04-14T14:07:11.564Z"
   },
   {
    "duration": 15,
    "start_time": "2022-04-14T14:07:11.619Z"
   },
   {
    "duration": 11,
    "start_time": "2022-04-14T14:07:11.635Z"
   },
   {
    "duration": 5,
    "start_time": "2022-04-14T14:07:11.648Z"
   },
   {
    "duration": 46,
    "start_time": "2022-04-14T14:07:11.654Z"
   },
   {
    "duration": 7,
    "start_time": "2022-04-14T14:07:11.702Z"
   },
   {
    "duration": 5,
    "start_time": "2022-04-14T14:07:11.711Z"
   },
   {
    "duration": 6,
    "start_time": "2022-04-14T14:07:11.718Z"
   },
   {
    "duration": 5,
    "start_time": "2022-04-14T14:07:11.725Z"
   },
   {
    "duration": 15,
    "start_time": "2022-04-14T14:07:11.732Z"
   },
   {
    "duration": 7,
    "start_time": "2022-04-14T14:07:11.780Z"
   },
   {
    "duration": 16,
    "start_time": "2022-04-14T14:07:11.789Z"
   },
   {
    "duration": 13,
    "start_time": "2022-04-14T14:07:11.806Z"
   },
   {
    "duration": 6,
    "start_time": "2022-04-14T14:07:11.821Z"
   },
   {
    "duration": 16,
    "start_time": "2022-04-14T14:07:11.829Z"
   },
   {
    "duration": 34,
    "start_time": "2022-04-14T14:07:11.846Z"
   },
   {
    "duration": 17,
    "start_time": "2022-04-14T14:07:11.881Z"
   },
   {
    "duration": 5,
    "start_time": "2022-04-14T14:07:11.899Z"
   },
   {
    "duration": 7,
    "start_time": "2022-04-14T14:07:11.905Z"
   },
   {
    "duration": 16,
    "start_time": "2022-04-14T14:07:11.914Z"
   },
   {
    "duration": 8,
    "start_time": "2022-04-14T14:07:11.931Z"
   },
   {
    "duration": 52,
    "start_time": "2022-04-14T14:07:11.940Z"
   },
   {
    "duration": 157,
    "start_time": "2022-04-14T14:07:11.993Z"
   },
   {
    "duration": 7,
    "start_time": "2022-04-14T14:07:12.152Z"
   },
   {
    "duration": 34,
    "start_time": "2022-04-14T14:07:12.161Z"
   },
   {
    "duration": 272,
    "start_time": "2022-04-14T14:07:12.197Z"
   },
   {
    "duration": 12,
    "start_time": "2022-04-14T14:07:12.471Z"
   },
   {
    "duration": 275,
    "start_time": "2022-04-14T14:07:12.488Z"
   },
   {
    "duration": 39,
    "start_time": "2022-04-14T14:07:12.765Z"
   },
   {
    "duration": 28,
    "start_time": "2022-04-14T14:07:12.806Z"
   },
   {
    "duration": 0,
    "start_time": "2022-04-14T14:07:12.836Z"
   },
   {
    "duration": 0,
    "start_time": "2022-04-14T14:07:12.837Z"
   },
   {
    "duration": 0,
    "start_time": "2022-04-14T14:07:12.838Z"
   },
   {
    "duration": 0,
    "start_time": "2022-04-14T14:07:12.839Z"
   },
   {
    "duration": 0,
    "start_time": "2022-04-14T14:07:12.840Z"
   },
   {
    "duration": 0,
    "start_time": "2022-04-14T14:07:12.841Z"
   },
   {
    "duration": 0,
    "start_time": "2022-04-14T14:07:12.842Z"
   },
   {
    "duration": 0,
    "start_time": "2022-04-14T14:07:12.843Z"
   },
   {
    "duration": 0,
    "start_time": "2022-04-14T14:07:12.844Z"
   },
   {
    "duration": 0,
    "start_time": "2022-04-14T14:07:12.846Z"
   },
   {
    "duration": 0,
    "start_time": "2022-04-14T14:07:12.846Z"
   },
   {
    "duration": 0,
    "start_time": "2022-04-14T14:07:12.872Z"
   },
   {
    "duration": 0,
    "start_time": "2022-04-14T14:07:12.874Z"
   },
   {
    "duration": 0,
    "start_time": "2022-04-14T14:07:12.874Z"
   },
   {
    "duration": 0,
    "start_time": "2022-04-14T14:07:12.875Z"
   },
   {
    "duration": 0,
    "start_time": "2022-04-14T14:07:12.880Z"
   },
   {
    "duration": 0,
    "start_time": "2022-04-14T14:07:12.882Z"
   },
   {
    "duration": 9,
    "start_time": "2022-04-14T14:08:44.516Z"
   },
   {
    "duration": 15,
    "start_time": "2022-04-14T14:08:52.169Z"
   },
   {
    "duration": 8,
    "start_time": "2022-04-14T14:09:08.459Z"
   },
   {
    "duration": 10,
    "start_time": "2022-04-14T14:09:09.495Z"
   },
   {
    "duration": 14,
    "start_time": "2022-04-14T14:09:14.667Z"
   },
   {
    "duration": 19,
    "start_time": "2022-04-14T14:09:16.368Z"
   },
   {
    "duration": 12,
    "start_time": "2022-04-14T14:09:19.272Z"
   },
   {
    "duration": 1648,
    "start_time": "2022-04-14T19:01:47.751Z"
   },
   {
    "duration": 59,
    "start_time": "2022-04-14T19:01:49.402Z"
   },
   {
    "duration": 17,
    "start_time": "2022-04-14T19:01:49.462Z"
   },
   {
    "duration": 6,
    "start_time": "2022-04-14T19:01:49.482Z"
   },
   {
    "duration": 9,
    "start_time": "2022-04-14T19:01:49.490Z"
   },
   {
    "duration": 44,
    "start_time": "2022-04-14T19:01:49.517Z"
   },
   {
    "duration": 10,
    "start_time": "2022-04-14T19:01:49.563Z"
   },
   {
    "duration": 10,
    "start_time": "2022-04-14T19:01:49.576Z"
   },
   {
    "duration": 12,
    "start_time": "2022-04-14T19:01:49.588Z"
   },
   {
    "duration": 4,
    "start_time": "2022-04-14T19:01:49.620Z"
   },
   {
    "duration": 40,
    "start_time": "2022-04-14T19:01:49.626Z"
   },
   {
    "duration": 9,
    "start_time": "2022-04-14T19:01:49.668Z"
   },
   {
    "duration": 20,
    "start_time": "2022-04-14T19:01:49.679Z"
   },
   {
    "duration": 27,
    "start_time": "2022-04-14T19:01:49.701Z"
   },
   {
    "duration": 22,
    "start_time": "2022-04-14T19:01:49.732Z"
   },
   {
    "duration": 23,
    "start_time": "2022-04-14T19:01:49.756Z"
   },
   {
    "duration": 18,
    "start_time": "2022-04-14T19:01:49.781Z"
   },
   {
    "duration": 14,
    "start_time": "2022-04-14T19:01:49.802Z"
   },
   {
    "duration": 38,
    "start_time": "2022-04-14T19:01:49.817Z"
   },
   {
    "duration": 9,
    "start_time": "2022-04-14T19:01:49.857Z"
   },
   {
    "duration": 21,
    "start_time": "2022-04-14T19:01:49.868Z"
   },
   {
    "duration": 13,
    "start_time": "2022-04-14T19:01:49.891Z"
   },
   {
    "duration": 34,
    "start_time": "2022-04-14T19:01:49.906Z"
   },
   {
    "duration": 199,
    "start_time": "2022-04-14T19:01:49.942Z"
   },
   {
    "duration": 13,
    "start_time": "2022-04-14T19:01:50.143Z"
   },
   {
    "duration": 31,
    "start_time": "2022-04-14T19:01:50.158Z"
   },
   {
    "duration": 204,
    "start_time": "2022-04-14T19:01:50.191Z"
   },
   {
    "duration": 16,
    "start_time": "2022-04-14T19:01:50.402Z"
   },
   {
    "duration": 449,
    "start_time": "2022-04-14T19:01:50.421Z"
   },
   {
    "duration": 25,
    "start_time": "2022-04-14T19:01:50.872Z"
   },
   {
    "duration": 172,
    "start_time": "2022-04-14T19:01:50.899Z"
   },
   {
    "duration": 0,
    "start_time": "2022-04-14T19:01:51.073Z"
   },
   {
    "duration": 0,
    "start_time": "2022-04-14T19:01:51.075Z"
   },
   {
    "duration": 0,
    "start_time": "2022-04-14T19:01:51.076Z"
   },
   {
    "duration": 0,
    "start_time": "2022-04-14T19:01:51.077Z"
   },
   {
    "duration": 0,
    "start_time": "2022-04-14T19:01:51.078Z"
   },
   {
    "duration": 0,
    "start_time": "2022-04-14T19:01:51.080Z"
   },
   {
    "duration": 0,
    "start_time": "2022-04-14T19:01:51.081Z"
   },
   {
    "duration": 0,
    "start_time": "2022-04-14T19:01:51.082Z"
   },
   {
    "duration": 0,
    "start_time": "2022-04-14T19:01:51.083Z"
   },
   {
    "duration": 0,
    "start_time": "2022-04-14T19:01:51.084Z"
   },
   {
    "duration": 0,
    "start_time": "2022-04-14T19:01:51.086Z"
   },
   {
    "duration": 0,
    "start_time": "2022-04-14T19:01:51.087Z"
   },
   {
    "duration": 0,
    "start_time": "2022-04-14T19:01:51.088Z"
   },
   {
    "duration": 0,
    "start_time": "2022-04-14T19:01:51.119Z"
   },
   {
    "duration": 0,
    "start_time": "2022-04-14T19:01:51.121Z"
   },
   {
    "duration": 0,
    "start_time": "2022-04-14T19:01:51.123Z"
   },
   {
    "duration": 0,
    "start_time": "2022-04-14T19:01:51.124Z"
   },
   {
    "duration": 0,
    "start_time": "2022-04-14T19:01:51.125Z"
   },
   {
    "duration": 0,
    "start_time": "2022-04-14T19:01:51.126Z"
   },
   {
    "duration": 0,
    "start_time": "2022-04-14T19:01:51.127Z"
   },
   {
    "duration": 0,
    "start_time": "2022-04-14T19:01:51.128Z"
   },
   {
    "duration": 0,
    "start_time": "2022-04-14T19:01:51.129Z"
   },
   {
    "duration": 0,
    "start_time": "2022-04-14T19:01:51.130Z"
   },
   {
    "duration": 0,
    "start_time": "2022-04-14T19:01:51.131Z"
   },
   {
    "duration": 26,
    "start_time": "2022-04-14T19:02:30.706Z"
   },
   {
    "duration": 31,
    "start_time": "2022-04-14T19:02:50.857Z"
   },
   {
    "duration": 40,
    "start_time": "2022-04-14T19:02:54.996Z"
   },
   {
    "duration": 24,
    "start_time": "2022-04-14T19:03:03.380Z"
   },
   {
    "duration": 31,
    "start_time": "2022-04-14T19:03:12.872Z"
   },
   {
    "duration": 130,
    "start_time": "2022-04-14T19:03:40.444Z"
   },
   {
    "duration": 169,
    "start_time": "2022-04-14T19:04:36.187Z"
   },
   {
    "duration": 7,
    "start_time": "2022-04-14T19:04:42.051Z"
   },
   {
    "duration": 35,
    "start_time": "2022-04-14T19:05:43.291Z"
   },
   {
    "duration": 1406,
    "start_time": "2022-04-14T19:06:12.361Z"
   },
   {
    "duration": 17,
    "start_time": "2022-04-14T19:10:00.870Z"
   },
   {
    "duration": 20,
    "start_time": "2022-04-14T19:10:35.029Z"
   },
   {
    "duration": 14,
    "start_time": "2022-04-14T19:10:40.074Z"
   },
   {
    "duration": 19,
    "start_time": "2022-04-14T19:12:25.840Z"
   },
   {
    "duration": 19,
    "start_time": "2022-04-14T19:12:48.429Z"
   },
   {
    "duration": 24,
    "start_time": "2022-04-14T19:16:59.487Z"
   },
   {
    "duration": 1964,
    "start_time": "2022-04-14T19:17:09.508Z"
   },
   {
    "duration": 1610,
    "start_time": "2022-04-14T19:17:33.681Z"
   },
   {
    "duration": 1304,
    "start_time": "2022-04-14T19:29:28.751Z"
   },
   {
    "duration": 48,
    "start_time": "2022-04-14T19:29:30.057Z"
   },
   {
    "duration": 21,
    "start_time": "2022-04-14T19:29:30.107Z"
   },
   {
    "duration": 23,
    "start_time": "2022-04-14T19:29:30.131Z"
   },
   {
    "duration": 30,
    "start_time": "2022-04-14T19:29:30.158Z"
   },
   {
    "duration": 59,
    "start_time": "2022-04-14T19:29:30.191Z"
   },
   {
    "duration": 11,
    "start_time": "2022-04-14T19:29:30.252Z"
   },
   {
    "duration": 14,
    "start_time": "2022-04-14T19:29:30.265Z"
   },
   {
    "duration": 28,
    "start_time": "2022-04-14T19:29:30.281Z"
   },
   {
    "duration": 26,
    "start_time": "2022-04-14T19:29:30.311Z"
   },
   {
    "duration": 26,
    "start_time": "2022-04-14T19:29:30.340Z"
   },
   {
    "duration": 14,
    "start_time": "2022-04-14T19:29:30.368Z"
   },
   {
    "duration": 43,
    "start_time": "2022-04-14T19:29:30.384Z"
   },
   {
    "duration": 35,
    "start_time": "2022-04-14T19:29:30.431Z"
   },
   {
    "duration": 20,
    "start_time": "2022-04-14T19:29:30.468Z"
   },
   {
    "duration": 32,
    "start_time": "2022-04-14T19:29:30.490Z"
   },
   {
    "duration": 23,
    "start_time": "2022-04-14T19:29:30.531Z"
   },
   {
    "duration": 32,
    "start_time": "2022-04-14T19:29:30.556Z"
   },
   {
    "duration": 17,
    "start_time": "2022-04-14T19:29:30.591Z"
   },
   {
    "duration": 21,
    "start_time": "2022-04-14T19:29:30.610Z"
   },
   {
    "duration": 36,
    "start_time": "2022-04-14T19:29:30.633Z"
   },
   {
    "duration": 18,
    "start_time": "2022-04-14T19:29:30.671Z"
   },
   {
    "duration": 43,
    "start_time": "2022-04-14T19:29:30.691Z"
   },
   {
    "duration": 197,
    "start_time": "2022-04-14T19:29:30.737Z"
   },
   {
    "duration": 12,
    "start_time": "2022-04-14T19:29:30.938Z"
   },
   {
    "duration": 43,
    "start_time": "2022-04-14T19:29:30.952Z"
   },
   {
    "duration": 240,
    "start_time": "2022-04-14T19:29:30.998Z"
   },
   {
    "duration": 8,
    "start_time": "2022-04-14T19:29:31.241Z"
   },
   {
    "duration": 470,
    "start_time": "2022-04-14T19:29:31.252Z"
   },
   {
    "duration": 46,
    "start_time": "2022-04-14T19:29:31.725Z"
   },
   {
    "duration": 23,
    "start_time": "2022-04-14T19:29:31.773Z"
   },
   {
    "duration": 58,
    "start_time": "2022-04-14T19:29:31.798Z"
   },
   {
    "duration": 2529,
    "start_time": "2022-04-14T19:29:31.859Z"
   },
   {
    "duration": 145,
    "start_time": "2022-04-14T19:29:34.391Z"
   },
   {
    "duration": 0,
    "start_time": "2022-04-14T19:29:34.539Z"
   },
   {
    "duration": 0,
    "start_time": "2022-04-14T19:29:34.541Z"
   },
   {
    "duration": 0,
    "start_time": "2022-04-14T19:29:34.542Z"
   },
   {
    "duration": 0,
    "start_time": "2022-04-14T19:29:34.544Z"
   },
   {
    "duration": 0,
    "start_time": "2022-04-14T19:29:34.545Z"
   },
   {
    "duration": 0,
    "start_time": "2022-04-14T19:29:34.547Z"
   },
   {
    "duration": 0,
    "start_time": "2022-04-14T19:29:34.548Z"
   },
   {
    "duration": 0,
    "start_time": "2022-04-14T19:29:34.550Z"
   },
   {
    "duration": 0,
    "start_time": "2022-04-14T19:29:34.551Z"
   },
   {
    "duration": 0,
    "start_time": "2022-04-14T19:29:34.552Z"
   },
   {
    "duration": 0,
    "start_time": "2022-04-14T19:29:34.554Z"
   },
   {
    "duration": 0,
    "start_time": "2022-04-14T19:29:34.556Z"
   },
   {
    "duration": 0,
    "start_time": "2022-04-14T19:29:34.557Z"
   },
   {
    "duration": 0,
    "start_time": "2022-04-14T19:29:34.559Z"
   },
   {
    "duration": 0,
    "start_time": "2022-04-14T19:29:34.560Z"
   },
   {
    "duration": 0,
    "start_time": "2022-04-14T19:29:34.561Z"
   },
   {
    "duration": 0,
    "start_time": "2022-04-14T19:29:34.562Z"
   },
   {
    "duration": 0,
    "start_time": "2022-04-14T19:29:34.563Z"
   },
   {
    "duration": 0,
    "start_time": "2022-04-14T19:29:34.563Z"
   },
   {
    "duration": 0,
    "start_time": "2022-04-14T19:29:34.565Z"
   },
   {
    "duration": 0,
    "start_time": "2022-04-14T19:29:34.567Z"
   },
   {
    "duration": 0,
    "start_time": "2022-04-14T19:29:34.568Z"
   },
   {
    "duration": 0,
    "start_time": "2022-04-14T19:29:34.570Z"
   },
   {
    "duration": 0,
    "start_time": "2022-04-14T19:29:34.571Z"
   },
   {
    "duration": 25,
    "start_time": "2022-04-14T19:33:15.102Z"
   },
   {
    "duration": 32,
    "start_time": "2022-04-14T19:33:56.021Z"
   },
   {
    "duration": 45,
    "start_time": "2022-04-14T19:34:22.496Z"
   },
   {
    "duration": 25,
    "start_time": "2022-04-14T19:34:42.950Z"
   },
   {
    "duration": 1521,
    "start_time": "2022-04-14T19:41:18.604Z"
   },
   {
    "duration": 68,
    "start_time": "2022-04-14T19:41:20.128Z"
   },
   {
    "duration": 17,
    "start_time": "2022-04-14T19:41:20.198Z"
   },
   {
    "duration": 5,
    "start_time": "2022-04-14T19:41:20.223Z"
   },
   {
    "duration": 37,
    "start_time": "2022-04-14T19:41:20.230Z"
   },
   {
    "duration": 39,
    "start_time": "2022-04-14T19:41:20.269Z"
   },
   {
    "duration": 11,
    "start_time": "2022-04-14T19:41:20.310Z"
   },
   {
    "duration": 39,
    "start_time": "2022-04-14T19:41:20.323Z"
   },
   {
    "duration": 9,
    "start_time": "2022-04-14T19:41:20.364Z"
   },
   {
    "duration": 7,
    "start_time": "2022-04-14T19:41:20.376Z"
   },
   {
    "duration": 22,
    "start_time": "2022-04-14T19:41:20.385Z"
   },
   {
    "duration": 14,
    "start_time": "2022-04-14T19:41:20.409Z"
   },
   {
    "duration": 47,
    "start_time": "2022-04-14T19:41:20.425Z"
   },
   {
    "duration": 21,
    "start_time": "2022-04-14T19:41:20.474Z"
   },
   {
    "duration": 11,
    "start_time": "2022-04-14T19:41:20.498Z"
   },
   {
    "duration": 39,
    "start_time": "2022-04-14T19:41:20.511Z"
   },
   {
    "duration": 22,
    "start_time": "2022-04-14T19:41:20.552Z"
   },
   {
    "duration": 17,
    "start_time": "2022-04-14T19:41:20.577Z"
   },
   {
    "duration": 8,
    "start_time": "2022-04-14T19:41:20.596Z"
   },
   {
    "duration": 24,
    "start_time": "2022-04-14T19:41:20.605Z"
   },
   {
    "duration": 44,
    "start_time": "2022-04-14T19:41:20.631Z"
   },
   {
    "duration": 13,
    "start_time": "2022-04-14T19:41:20.677Z"
   },
   {
    "duration": 21,
    "start_time": "2022-04-14T19:41:20.692Z"
   },
   {
    "duration": 242,
    "start_time": "2022-04-14T19:41:20.715Z"
   },
   {
    "duration": 9,
    "start_time": "2022-04-14T19:41:20.959Z"
   },
   {
    "duration": 26,
    "start_time": "2022-04-14T19:41:20.971Z"
   },
   {
    "duration": 241,
    "start_time": "2022-04-14T19:41:20.999Z"
   },
   {
    "duration": 10,
    "start_time": "2022-04-14T19:41:21.248Z"
   },
   {
    "duration": 336,
    "start_time": "2022-04-14T19:41:21.260Z"
   },
   {
    "duration": 52,
    "start_time": "2022-04-14T19:41:21.597Z"
   },
   {
    "duration": 18,
    "start_time": "2022-04-14T19:41:21.651Z"
   },
   {
    "duration": 28,
    "start_time": "2022-04-14T19:41:21.671Z"
   },
   {
    "duration": 1947,
    "start_time": "2022-04-14T19:41:21.701Z"
   },
   {
    "duration": 27,
    "start_time": "2022-04-14T19:41:23.651Z"
   },
   {
    "duration": 5,
    "start_time": "2022-04-14T19:41:23.680Z"
   },
   {
    "duration": 219,
    "start_time": "2022-04-14T19:41:23.687Z"
   },
   {
    "duration": 5,
    "start_time": "2022-04-14T19:41:23.908Z"
   },
   {
    "duration": 282,
    "start_time": "2022-04-14T19:41:23.917Z"
   },
   {
    "duration": 203,
    "start_time": "2022-04-14T19:41:24.202Z"
   },
   {
    "duration": 5,
    "start_time": "2022-04-14T19:41:24.407Z"
   },
   {
    "duration": 239,
    "start_time": "2022-04-14T19:41:24.414Z"
   },
   {
    "duration": 7,
    "start_time": "2022-04-14T19:41:24.656Z"
   },
   {
    "duration": 14,
    "start_time": "2022-04-14T19:41:24.665Z"
   },
   {
    "duration": 12,
    "start_time": "2022-04-14T19:41:24.681Z"
   },
   {
    "duration": 30,
    "start_time": "2022-04-14T19:41:24.695Z"
   },
   {
    "duration": 18,
    "start_time": "2022-04-14T19:41:24.727Z"
   },
   {
    "duration": 22,
    "start_time": "2022-04-14T19:41:24.749Z"
   },
   {
    "duration": 13,
    "start_time": "2022-04-14T19:41:24.773Z"
   },
   {
    "duration": 14,
    "start_time": "2022-04-14T19:41:24.788Z"
   },
   {
    "duration": 19,
    "start_time": "2022-04-14T19:41:24.804Z"
   },
   {
    "duration": 47,
    "start_time": "2022-04-14T19:41:24.825Z"
   },
   {
    "duration": 15,
    "start_time": "2022-04-14T19:41:24.874Z"
   },
   {
    "duration": 17,
    "start_time": "2022-04-14T19:41:24.891Z"
   },
   {
    "duration": 44,
    "start_time": "2022-04-14T19:41:24.910Z"
   },
   {
    "duration": 22,
    "start_time": "2022-04-14T19:41:24.956Z"
   },
   {
    "duration": 19,
    "start_time": "2022-04-14T19:41:24.980Z"
   },
   {
    "duration": 15,
    "start_time": "2022-04-14T19:41:25.002Z"
   },
   {
    "duration": 46,
    "start_time": "2022-04-14T19:41:25.026Z"
   },
   {
    "duration": 12,
    "start_time": "2022-04-14T19:43:03.669Z"
   },
   {
    "duration": 11,
    "start_time": "2022-04-14T19:43:14.260Z"
   },
   {
    "duration": 9,
    "start_time": "2022-04-14T19:44:00.968Z"
   },
   {
    "duration": 12,
    "start_time": "2022-04-14T19:44:03.754Z"
   },
   {
    "duration": 3,
    "start_time": "2022-04-14T19:48:54.562Z"
   },
   {
    "duration": 11,
    "start_time": "2022-04-14T19:51:13.732Z"
   },
   {
    "duration": 11,
    "start_time": "2022-04-14T19:51:21.979Z"
   },
   {
    "duration": 16,
    "start_time": "2022-04-14T19:53:24.830Z"
   },
   {
    "duration": 33,
    "start_time": "2022-04-14T19:55:38.008Z"
   },
   {
    "duration": 27,
    "start_time": "2022-04-14T19:57:02.779Z"
   },
   {
    "duration": 20,
    "start_time": "2022-04-14T19:57:23.338Z"
   },
   {
    "duration": 27,
    "start_time": "2022-04-14T19:57:46.020Z"
   },
   {
    "duration": 2144,
    "start_time": "2022-04-15T08:39:36.685Z"
   },
   {
    "duration": 50,
    "start_time": "2022-04-15T08:39:38.832Z"
   },
   {
    "duration": 21,
    "start_time": "2022-04-15T08:39:38.884Z"
   },
   {
    "duration": 15,
    "start_time": "2022-04-15T08:39:38.907Z"
   },
   {
    "duration": 16,
    "start_time": "2022-04-15T08:39:38.925Z"
   },
   {
    "duration": 54,
    "start_time": "2022-04-15T08:39:38.943Z"
   },
   {
    "duration": 12,
    "start_time": "2022-04-15T08:39:38.999Z"
   },
   {
    "duration": 13,
    "start_time": "2022-04-15T08:39:39.013Z"
   },
   {
    "duration": 14,
    "start_time": "2022-04-15T08:39:39.028Z"
   },
   {
    "duration": 22,
    "start_time": "2022-04-15T08:39:39.044Z"
   },
   {
    "duration": 29,
    "start_time": "2022-04-15T08:39:39.069Z"
   },
   {
    "duration": 9,
    "start_time": "2022-04-15T08:39:39.100Z"
   },
   {
    "duration": 36,
    "start_time": "2022-04-15T08:39:39.111Z"
   },
   {
    "duration": 38,
    "start_time": "2022-04-15T08:39:39.151Z"
   },
   {
    "duration": 9,
    "start_time": "2022-04-15T08:39:39.191Z"
   },
   {
    "duration": 24,
    "start_time": "2022-04-15T08:39:39.202Z"
   },
   {
    "duration": 30,
    "start_time": "2022-04-15T08:39:39.229Z"
   },
   {
    "duration": 30,
    "start_time": "2022-04-15T08:39:39.261Z"
   },
   {
    "duration": 12,
    "start_time": "2022-04-15T08:39:39.293Z"
   },
   {
    "duration": 18,
    "start_time": "2022-04-15T08:39:39.307Z"
   },
   {
    "duration": 34,
    "start_time": "2022-04-15T08:39:39.327Z"
   },
   {
    "duration": 28,
    "start_time": "2022-04-15T08:39:39.363Z"
   },
   {
    "duration": 36,
    "start_time": "2022-04-15T08:39:39.393Z"
   },
   {
    "duration": 253,
    "start_time": "2022-04-15T08:39:39.431Z"
   },
   {
    "duration": 10,
    "start_time": "2022-04-15T08:39:39.686Z"
   },
   {
    "duration": 29,
    "start_time": "2022-04-15T08:39:39.699Z"
   },
   {
    "duration": 385,
    "start_time": "2022-04-15T08:39:39.730Z"
   },
   {
    "duration": 9,
    "start_time": "2022-04-15T08:39:40.117Z"
   },
   {
    "duration": 505,
    "start_time": "2022-04-15T08:39:40.128Z"
   },
   {
    "duration": 64,
    "start_time": "2022-04-15T08:39:40.635Z"
   },
   {
    "duration": 30,
    "start_time": "2022-04-15T08:39:40.701Z"
   },
   {
    "duration": 66,
    "start_time": "2022-04-15T08:39:40.733Z"
   },
   {
    "duration": 3189,
    "start_time": "2022-04-15T08:39:40.801Z"
   },
   {
    "duration": 37,
    "start_time": "2022-04-15T08:39:43.992Z"
   },
   {
    "duration": 9,
    "start_time": "2022-04-15T08:39:44.032Z"
   },
   {
    "duration": 331,
    "start_time": "2022-04-15T08:39:44.043Z"
   },
   {
    "duration": 7,
    "start_time": "2022-04-15T08:39:44.381Z"
   },
   {
    "duration": 436,
    "start_time": "2022-04-15T08:39:44.391Z"
   },
   {
    "duration": 351,
    "start_time": "2022-04-15T08:39:44.830Z"
   },
   {
    "duration": 8,
    "start_time": "2022-04-15T08:39:45.184Z"
   },
   {
    "duration": 286,
    "start_time": "2022-04-15T08:39:45.198Z"
   },
   {
    "duration": 7,
    "start_time": "2022-04-15T08:39:45.486Z"
   },
   {
    "duration": 7,
    "start_time": "2022-04-15T08:39:45.495Z"
   },
   {
    "duration": 8,
    "start_time": "2022-04-15T08:39:45.505Z"
   },
   {
    "duration": 9,
    "start_time": "2022-04-15T08:39:45.516Z"
   },
   {
    "duration": 63,
    "start_time": "2022-04-15T08:39:45.527Z"
   },
   {
    "duration": 20,
    "start_time": "2022-04-15T08:39:45.593Z"
   },
   {
    "duration": 13,
    "start_time": "2022-04-15T08:39:45.616Z"
   },
   {
    "duration": 16,
    "start_time": "2022-04-15T08:39:45.631Z"
   },
   {
    "duration": 45,
    "start_time": "2022-04-15T08:39:45.649Z"
   },
   {
    "duration": 17,
    "start_time": "2022-04-15T08:39:45.697Z"
   },
   {
    "duration": 12,
    "start_time": "2022-04-15T08:39:45.717Z"
   },
   {
    "duration": 54,
    "start_time": "2022-04-15T08:39:45.731Z"
   },
   {
    "duration": 12,
    "start_time": "2022-04-15T08:39:45.788Z"
   },
   {
    "duration": 13,
    "start_time": "2022-04-15T08:39:45.802Z"
   },
   {
    "duration": 14,
    "start_time": "2022-04-15T08:39:45.817Z"
   },
   {
    "duration": 50,
    "start_time": "2022-04-15T08:39:45.833Z"
   },
   {
    "duration": 20,
    "start_time": "2022-04-15T08:39:45.886Z"
   },
   {
    "duration": 22,
    "start_time": "2022-04-15T08:39:45.909Z"
   },
   {
    "duration": 55,
    "start_time": "2022-04-15T08:39:45.934Z"
   },
   {
    "duration": 12,
    "start_time": "2022-04-15T08:39:45.992Z"
   },
   {
    "duration": 13,
    "start_time": "2022-04-15T08:39:46.006Z"
   },
   {
    "duration": 17,
    "start_time": "2022-04-15T08:41:19.086Z"
   },
   {
    "duration": 18,
    "start_time": "2022-04-15T08:41:20.347Z"
   },
   {
    "duration": 4,
    "start_time": "2022-04-15T09:18:09.107Z"
   },
   {
    "duration": 6,
    "start_time": "2022-04-15T09:19:10.364Z"
   },
   {
    "duration": 4,
    "start_time": "2022-04-15T09:19:48.355Z"
   },
   {
    "duration": 31,
    "start_time": "2022-04-15T09:19:52.288Z"
   },
   {
    "duration": 1644,
    "start_time": "2022-04-15T09:22:25.963Z"
   },
   {
    "duration": 8,
    "start_time": "2022-04-15T09:23:45.480Z"
   },
   {
    "duration": 10,
    "start_time": "2022-04-15T09:26:52.316Z"
   },
   {
    "duration": 137,
    "start_time": "2022-04-15T09:30:15.367Z"
   },
   {
    "duration": 10,
    "start_time": "2022-04-15T09:31:41.517Z"
   },
   {
    "duration": 54,
    "start_time": "2022-04-24T18:43:09.626Z"
   },
   {
    "duration": 1421,
    "start_time": "2022-04-24T18:43:21.918Z"
   },
   {
    "duration": 47,
    "start_time": "2022-04-24T18:43:23.341Z"
   },
   {
    "duration": 16,
    "start_time": "2022-04-24T18:43:23.389Z"
   },
   {
    "duration": 3,
    "start_time": "2022-04-24T18:43:23.407Z"
   },
   {
    "duration": 4,
    "start_time": "2022-04-24T18:43:23.412Z"
   },
   {
    "duration": 58,
    "start_time": "2022-04-24T18:43:23.418Z"
   },
   {
    "duration": 12,
    "start_time": "2022-04-24T18:43:23.478Z"
   },
   {
    "duration": 5,
    "start_time": "2022-04-24T18:43:23.492Z"
   },
   {
    "duration": 7,
    "start_time": "2022-04-24T18:43:23.498Z"
   },
   {
    "duration": 4,
    "start_time": "2022-04-24T18:43:23.506Z"
   },
   {
    "duration": 49,
    "start_time": "2022-04-24T18:43:23.512Z"
   },
   {
    "duration": 14,
    "start_time": "2022-04-24T18:43:23.563Z"
   },
   {
    "duration": 13,
    "start_time": "2022-04-24T18:43:23.579Z"
   },
   {
    "duration": 12,
    "start_time": "2022-04-24T18:43:23.595Z"
   },
   {
    "duration": 6,
    "start_time": "2022-04-24T18:43:23.609Z"
   },
   {
    "duration": 42,
    "start_time": "2022-04-24T18:43:23.617Z"
   },
   {
    "duration": 28,
    "start_time": "2022-04-24T18:43:23.660Z"
   },
   {
    "duration": 13,
    "start_time": "2022-04-24T18:43:23.690Z"
   },
   {
    "duration": 5,
    "start_time": "2022-04-24T18:43:23.705Z"
   },
   {
    "duration": 6,
    "start_time": "2022-04-24T18:43:23.712Z"
   },
   {
    "duration": 35,
    "start_time": "2022-04-24T18:43:23.720Z"
   },
   {
    "duration": 6,
    "start_time": "2022-04-24T18:43:23.757Z"
   },
   {
    "duration": 22,
    "start_time": "2022-04-24T18:43:23.765Z"
   },
   {
    "duration": 150,
    "start_time": "2022-04-24T18:43:23.789Z"
   },
   {
    "duration": 15,
    "start_time": "2022-04-24T18:43:23.941Z"
   },
   {
    "duration": 34,
    "start_time": "2022-04-24T18:43:23.958Z"
   },
   {
    "duration": 184,
    "start_time": "2022-04-24T18:43:23.994Z"
   },
   {
    "duration": 6,
    "start_time": "2022-04-24T18:43:24.180Z"
   },
   {
    "duration": 259,
    "start_time": "2022-04-24T18:43:24.188Z"
   },
   {
    "duration": 27,
    "start_time": "2022-04-24T18:43:24.449Z"
   },
   {
    "duration": 13,
    "start_time": "2022-04-24T18:43:24.480Z"
   },
   {
    "duration": 22,
    "start_time": "2022-04-24T18:43:24.495Z"
   },
   {
    "duration": 1470,
    "start_time": "2022-04-24T18:43:24.519Z"
   },
   {
    "duration": 20,
    "start_time": "2022-04-24T18:43:25.991Z"
   },
   {
    "duration": 7,
    "start_time": "2022-04-24T18:43:26.013Z"
   },
   {
    "duration": 180,
    "start_time": "2022-04-24T18:43:26.023Z"
   },
   {
    "duration": 5,
    "start_time": "2022-04-24T18:43:26.205Z"
   },
   {
    "duration": 211,
    "start_time": "2022-04-24T18:43:26.212Z"
   },
   {
    "duration": 176,
    "start_time": "2022-04-24T18:43:26.425Z"
   },
   {
    "duration": 6,
    "start_time": "2022-04-24T18:43:26.603Z"
   },
   {
    "duration": 242,
    "start_time": "2022-04-24T18:43:26.612Z"
   },
   {
    "duration": 6,
    "start_time": "2022-04-24T18:43:26.855Z"
   },
   {
    "duration": 18,
    "start_time": "2022-04-24T18:43:26.863Z"
   },
   {
    "duration": 9,
    "start_time": "2022-04-24T18:43:26.883Z"
   },
   {
    "duration": 7,
    "start_time": "2022-04-24T18:43:26.894Z"
   },
   {
    "duration": 9,
    "start_time": "2022-04-24T18:43:26.903Z"
   },
   {
    "duration": 38,
    "start_time": "2022-04-24T18:43:26.914Z"
   },
   {
    "duration": 20,
    "start_time": "2022-04-24T18:43:26.954Z"
   },
   {
    "duration": 12,
    "start_time": "2022-04-24T18:43:26.976Z"
   },
   {
    "duration": 12,
    "start_time": "2022-04-24T18:43:26.989Z"
   },
   {
    "duration": 10,
    "start_time": "2022-04-24T18:43:27.003Z"
   },
   {
    "duration": 11,
    "start_time": "2022-04-24T18:43:27.015Z"
   },
   {
    "duration": 16,
    "start_time": "2022-04-24T18:43:27.027Z"
   },
   {
    "duration": 12,
    "start_time": "2022-04-24T18:43:27.054Z"
   },
   {
    "duration": 15,
    "start_time": "2022-04-24T18:43:27.068Z"
   },
   {
    "duration": 10,
    "start_time": "2022-04-24T18:43:27.085Z"
   },
   {
    "duration": 15,
    "start_time": "2022-04-24T18:43:27.096Z"
   },
   {
    "duration": 16,
    "start_time": "2022-04-24T18:43:27.113Z"
   },
   {
    "duration": 30,
    "start_time": "2022-04-24T18:43:27.131Z"
   },
   {
    "duration": 17,
    "start_time": "2022-04-24T18:43:27.163Z"
   },
   {
    "duration": 11,
    "start_time": "2022-04-24T18:43:27.182Z"
   },
   {
    "duration": 6,
    "start_time": "2022-04-24T18:43:27.195Z"
   },
   {
    "duration": 11,
    "start_time": "2022-04-24T18:43:27.202Z"
   },
   {
    "duration": 47,
    "start_time": "2022-04-24T18:43:27.214Z"
   },
   {
    "duration": 107,
    "start_time": "2022-04-24T18:43:27.266Z"
   },
   {
    "duration": 0,
    "start_time": "2022-04-24T18:43:27.375Z"
   },
   {
    "duration": 10,
    "start_time": "2022-04-24T18:43:51.494Z"
   },
   {
    "duration": 8,
    "start_time": "2022-04-24T18:45:19.931Z"
   },
   {
    "duration": 6,
    "start_time": "2022-04-24T18:45:35.308Z"
   },
   {
    "duration": 5,
    "start_time": "2022-04-24T18:46:11.066Z"
   },
   {
    "duration": 45,
    "start_time": "2022-04-30T07:59:31.572Z"
   },
   {
    "duration": 1240,
    "start_time": "2022-04-30T07:59:39.272Z"
   },
   {
    "duration": 40,
    "start_time": "2022-04-30T07:59:40.514Z"
   },
   {
    "duration": 15,
    "start_time": "2022-04-30T07:59:40.555Z"
   },
   {
    "duration": 3,
    "start_time": "2022-04-30T07:59:40.572Z"
   },
   {
    "duration": 10,
    "start_time": "2022-04-30T07:59:40.576Z"
   },
   {
    "duration": 37,
    "start_time": "2022-04-30T07:59:40.587Z"
   },
   {
    "duration": 7,
    "start_time": "2022-04-30T07:59:40.626Z"
   },
   {
    "duration": 5,
    "start_time": "2022-04-30T07:59:40.635Z"
   },
   {
    "duration": 5,
    "start_time": "2022-04-30T07:59:40.641Z"
   },
   {
    "duration": 3,
    "start_time": "2022-04-30T07:59:40.649Z"
   },
   {
    "duration": 17,
    "start_time": "2022-04-30T07:59:40.653Z"
   },
   {
    "duration": 5,
    "start_time": "2022-04-30T07:59:40.672Z"
   },
   {
    "duration": 13,
    "start_time": "2022-04-30T07:59:40.679Z"
   },
   {
    "duration": 11,
    "start_time": "2022-04-30T07:59:40.723Z"
   },
   {
    "duration": 5,
    "start_time": "2022-04-30T07:59:40.736Z"
   },
   {
    "duration": 13,
    "start_time": "2022-04-30T07:59:40.743Z"
   },
   {
    "duration": 10,
    "start_time": "2022-04-30T07:59:40.757Z"
   },
   {
    "duration": 11,
    "start_time": "2022-04-30T07:59:40.768Z"
   },
   {
    "duration": 5,
    "start_time": "2022-04-30T07:59:40.780Z"
   },
   {
    "duration": 39,
    "start_time": "2022-04-30T07:59:40.786Z"
   },
   {
    "duration": 13,
    "start_time": "2022-04-30T07:59:40.826Z"
   },
   {
    "duration": 6,
    "start_time": "2022-04-30T07:59:40.841Z"
   },
   {
    "duration": 15,
    "start_time": "2022-04-30T07:59:40.848Z"
   },
   {
    "duration": 166,
    "start_time": "2022-04-30T07:59:40.864Z"
   },
   {
    "duration": 8,
    "start_time": "2022-04-30T07:59:41.031Z"
   },
   {
    "duration": 21,
    "start_time": "2022-04-30T07:59:41.040Z"
   },
   {
    "duration": 176,
    "start_time": "2022-04-30T07:59:41.062Z"
   },
   {
    "duration": 6,
    "start_time": "2022-04-30T07:59:41.241Z"
   },
   {
    "duration": 247,
    "start_time": "2022-04-30T07:59:41.249Z"
   },
   {
    "duration": 30,
    "start_time": "2022-04-30T07:59:41.498Z"
   },
   {
    "duration": 13,
    "start_time": "2022-04-30T07:59:41.530Z"
   },
   {
    "duration": 21,
    "start_time": "2022-04-30T07:59:41.544Z"
   },
   {
    "duration": 2154,
    "start_time": "2022-04-30T07:59:41.567Z"
   },
   {
    "duration": 18,
    "start_time": "2022-04-30T07:59:43.724Z"
   },
   {
    "duration": 5,
    "start_time": "2022-04-30T07:59:43.743Z"
   },
   {
    "duration": 157,
    "start_time": "2022-04-30T07:59:43.750Z"
   },
   {
    "duration": 5,
    "start_time": "2022-04-30T07:59:43.908Z"
   },
   {
    "duration": 186,
    "start_time": "2022-04-30T07:59:43.923Z"
   },
   {
    "duration": 159,
    "start_time": "2022-04-30T07:59:44.111Z"
   },
   {
    "duration": 4,
    "start_time": "2022-04-30T07:59:44.272Z"
   },
   {
    "duration": 157,
    "start_time": "2022-04-30T07:59:44.278Z"
   },
   {
    "duration": 5,
    "start_time": "2022-04-30T07:59:44.437Z"
   },
   {
    "duration": 6,
    "start_time": "2022-04-30T07:59:44.443Z"
   },
   {
    "duration": 6,
    "start_time": "2022-04-30T07:59:44.451Z"
   },
   {
    "duration": 8,
    "start_time": "2022-04-30T07:59:44.459Z"
   },
   {
    "duration": 7,
    "start_time": "2022-04-30T07:59:44.469Z"
   },
   {
    "duration": 10,
    "start_time": "2022-04-30T07:59:44.477Z"
   },
   {
    "duration": 40,
    "start_time": "2022-04-30T07:59:44.489Z"
   },
   {
    "duration": 9,
    "start_time": "2022-04-30T07:59:44.530Z"
   },
   {
    "duration": 8,
    "start_time": "2022-04-30T07:59:44.540Z"
   },
   {
    "duration": 8,
    "start_time": "2022-04-30T07:59:44.550Z"
   },
   {
    "duration": 9,
    "start_time": "2022-04-30T07:59:44.560Z"
   },
   {
    "duration": 9,
    "start_time": "2022-04-30T07:59:44.571Z"
   },
   {
    "duration": 8,
    "start_time": "2022-04-30T07:59:44.581Z"
   },
   {
    "duration": 41,
    "start_time": "2022-04-30T07:59:44.590Z"
   },
   {
    "duration": 9,
    "start_time": "2022-04-30T07:59:44.633Z"
   },
   {
    "duration": 12,
    "start_time": "2022-04-30T07:59:44.644Z"
   },
   {
    "duration": 13,
    "start_time": "2022-04-30T07:59:44.657Z"
   },
   {
    "duration": 14,
    "start_time": "2022-04-30T07:59:44.672Z"
   },
   {
    "duration": 39,
    "start_time": "2022-04-30T07:59:44.688Z"
   },
   {
    "duration": 10,
    "start_time": "2022-04-30T07:59:44.729Z"
   },
   {
    "duration": 6,
    "start_time": "2022-04-30T07:59:44.740Z"
   },
   {
    "duration": 7,
    "start_time": "2022-04-30T07:59:44.748Z"
   },
   {
    "duration": 5,
    "start_time": "2022-04-30T07:59:44.757Z"
   },
   {
    "duration": 9,
    "start_time": "2022-04-30T07:59:44.763Z"
   },
   {
    "duration": 10,
    "start_time": "2022-04-30T08:02:35.236Z"
   },
   {
    "duration": 4,
    "start_time": "2022-04-30T08:02:37.926Z"
   },
   {
    "duration": 14,
    "start_time": "2022-04-30T08:02:39.581Z"
   },
   {
    "duration": 15,
    "start_time": "2022-04-30T08:03:24.591Z"
   },
   {
    "duration": 94,
    "start_time": "2022-04-30T08:05:43.954Z"
   },
   {
    "duration": 132,
    "start_time": "2022-04-30T08:05:54.106Z"
   },
   {
    "duration": 184,
    "start_time": "2022-04-30T08:07:05.199Z"
   },
   {
    "duration": 210,
    "start_time": "2022-04-30T08:07:23.063Z"
   },
   {
    "duration": 139,
    "start_time": "2022-04-30T08:08:26.324Z"
   },
   {
    "duration": 126,
    "start_time": "2022-04-30T08:08:47.542Z"
   },
   {
    "duration": 125,
    "start_time": "2022-04-30T08:09:30.483Z"
   },
   {
    "duration": 196,
    "start_time": "2022-04-30T08:14:29.204Z"
   },
   {
    "duration": 2,
    "start_time": "2022-04-30T08:27:44.608Z"
   },
   {
    "duration": 8,
    "start_time": "2022-04-30T08:29:32.653Z"
   },
   {
    "duration": 8,
    "start_time": "2022-04-30T08:31:41.917Z"
   },
   {
    "duration": 105,
    "start_time": "2022-04-30T08:33:41.004Z"
   },
   {
    "duration": 6,
    "start_time": "2022-04-30T08:33:53.268Z"
   },
   {
    "duration": 144,
    "start_time": "2022-04-30T08:35:00.583Z"
   },
   {
    "duration": 5,
    "start_time": "2022-04-30T08:35:04.438Z"
   },
   {
    "duration": 5,
    "start_time": "2022-04-30T08:35:19.373Z"
   },
   {
    "duration": 152,
    "start_time": "2022-04-30T08:35:20.959Z"
   },
   {
    "duration": 5,
    "start_time": "2022-04-30T08:35:24.148Z"
   },
   {
    "duration": 205,
    "start_time": "2022-04-30T08:36:48.833Z"
   },
   {
    "duration": 6,
    "start_time": "2022-04-30T08:38:15.687Z"
   },
   {
    "duration": 155,
    "start_time": "2022-04-30T08:38:16.766Z"
   },
   {
    "duration": 6,
    "start_time": "2022-04-30T08:38:17.878Z"
   },
   {
    "duration": 201,
    "start_time": "2022-04-30T08:38:18.725Z"
   },
   {
    "duration": 230,
    "start_time": "2022-04-30T08:38:22.849Z"
   },
   {
    "duration": 5,
    "start_time": "2022-04-30T08:38:35.867Z"
   },
   {
    "duration": 139,
    "start_time": "2022-04-30T08:43:02.576Z"
   },
   {
    "duration": 157,
    "start_time": "2022-04-30T08:43:08.889Z"
   },
   {
    "duration": 153,
    "start_time": "2022-04-30T08:43:12.168Z"
   },
   {
    "duration": 5,
    "start_time": "2022-04-30T08:43:16.148Z"
   },
   {
    "duration": 4,
    "start_time": "2022-04-30T08:43:18.472Z"
   },
   {
    "duration": 13,
    "start_time": "2022-04-30T08:46:48.420Z"
   },
   {
    "duration": 10,
    "start_time": "2022-04-30T08:47:39.889Z"
   },
   {
    "duration": 9,
    "start_time": "2022-04-30T08:47:48.071Z"
   },
   {
    "duration": 14,
    "start_time": "2022-04-30T08:47:52.213Z"
   },
   {
    "duration": 16,
    "start_time": "2022-04-30T08:48:11.642Z"
   },
   {
    "duration": 9,
    "start_time": "2022-04-30T08:51:35.330Z"
   },
   {
    "duration": 19,
    "start_time": "2022-04-30T08:51:38.117Z"
   },
   {
    "duration": 8,
    "start_time": "2022-04-30T08:51:39.251Z"
   },
   {
    "duration": 6,
    "start_time": "2022-04-30T08:51:50.062Z"
   },
   {
    "duration": 6,
    "start_time": "2022-04-30T08:51:50.993Z"
   },
   {
    "duration": 5,
    "start_time": "2022-04-30T08:53:18.713Z"
   },
   {
    "duration": 10,
    "start_time": "2022-04-30T08:53:35.400Z"
   },
   {
    "duration": 17,
    "start_time": "2022-04-30T08:54:14.913Z"
   },
   {
    "duration": 18,
    "start_time": "2022-04-30T08:54:40.802Z"
   },
   {
    "duration": 9,
    "start_time": "2022-04-30T08:54:56.231Z"
   },
   {
    "duration": 10,
    "start_time": "2022-04-30T08:55:06.708Z"
   },
   {
    "duration": 9,
    "start_time": "2022-04-30T08:55:44.972Z"
   },
   {
    "duration": 9,
    "start_time": "2022-04-30T08:56:20.221Z"
   },
   {
    "duration": 9,
    "start_time": "2022-04-30T08:58:29.783Z"
   },
   {
    "duration": 3,
    "start_time": "2022-04-30T09:05:27.769Z"
   },
   {
    "duration": 14,
    "start_time": "2022-04-30T09:05:32.996Z"
   },
   {
    "duration": 13,
    "start_time": "2022-04-30T09:05:59.644Z"
   },
   {
    "duration": 13,
    "start_time": "2022-04-30T09:06:46.051Z"
   },
   {
    "duration": 13,
    "start_time": "2022-04-30T09:06:57.458Z"
   },
   {
    "duration": 1352,
    "start_time": "2022-05-02T13:22:08.693Z"
   },
   {
    "duration": 54,
    "start_time": "2022-05-02T13:22:10.047Z"
   },
   {
    "duration": 17,
    "start_time": "2022-05-02T13:22:10.103Z"
   },
   {
    "duration": 4,
    "start_time": "2022-05-02T13:22:10.121Z"
   },
   {
    "duration": 7,
    "start_time": "2022-05-02T13:22:10.127Z"
   },
   {
    "duration": 30,
    "start_time": "2022-05-02T13:22:10.136Z"
   },
   {
    "duration": 10,
    "start_time": "2022-05-02T13:22:10.167Z"
   },
   {
    "duration": 6,
    "start_time": "2022-05-02T13:22:10.178Z"
   },
   {
    "duration": 9,
    "start_time": "2022-05-02T13:22:10.185Z"
   },
   {
    "duration": 6,
    "start_time": "2022-05-02T13:22:10.195Z"
   },
   {
    "duration": 41,
    "start_time": "2022-05-02T13:22:10.203Z"
   },
   {
    "duration": 5,
    "start_time": "2022-05-02T13:22:10.246Z"
   },
   {
    "duration": 16,
    "start_time": "2022-05-02T13:22:10.253Z"
   },
   {
    "duration": 9,
    "start_time": "2022-05-02T13:22:10.272Z"
   },
   {
    "duration": 7,
    "start_time": "2022-05-02T13:22:10.283Z"
   },
   {
    "duration": 42,
    "start_time": "2022-05-02T13:22:10.291Z"
   },
   {
    "duration": 12,
    "start_time": "2022-05-02T13:22:10.335Z"
   },
   {
    "duration": 14,
    "start_time": "2022-05-02T13:22:10.349Z"
   },
   {
    "duration": 9,
    "start_time": "2022-05-02T13:22:10.365Z"
   },
   {
    "duration": 18,
    "start_time": "2022-05-02T13:22:10.376Z"
   },
   {
    "duration": 5,
    "start_time": "2022-05-02T13:22:10.396Z"
   },
   {
    "duration": 19,
    "start_time": "2022-05-02T13:22:10.433Z"
   },
   {
    "duration": 6,
    "start_time": "2022-05-02T13:22:10.453Z"
   },
   {
    "duration": 26,
    "start_time": "2022-05-02T13:22:10.461Z"
   },
   {
    "duration": 198,
    "start_time": "2022-05-02T13:22:10.488Z"
   },
   {
    "duration": 172,
    "start_time": "2022-05-02T13:22:10.688Z"
   },
   {
    "duration": 9,
    "start_time": "2022-05-02T13:22:10.862Z"
   },
   {
    "duration": 26,
    "start_time": "2022-05-02T13:22:10.872Z"
   },
   {
    "duration": 227,
    "start_time": "2022-05-02T13:22:10.899Z"
   },
   {
    "duration": 11,
    "start_time": "2022-05-02T13:22:11.127Z"
   },
   {
    "duration": 320,
    "start_time": "2022-05-02T13:22:11.140Z"
   },
   {
    "duration": 28,
    "start_time": "2022-05-02T13:22:11.462Z"
   },
   {
    "duration": 18,
    "start_time": "2022-05-02T13:22:11.492Z"
   },
   {
    "duration": 45,
    "start_time": "2022-05-02T13:22:11.512Z"
   },
   {
    "duration": 35,
    "start_time": "2022-05-02T13:22:11.559Z"
   },
   {
    "duration": 3,
    "start_time": "2022-05-02T13:22:11.596Z"
   },
   {
    "duration": 278,
    "start_time": "2022-05-02T13:22:11.600Z"
   },
   {
    "duration": 21,
    "start_time": "2022-05-02T13:22:11.880Z"
   },
   {
    "duration": 7,
    "start_time": "2022-05-02T13:22:11.903Z"
   },
   {
    "duration": 202,
    "start_time": "2022-05-02T13:22:11.912Z"
   },
   {
    "duration": 15,
    "start_time": "2022-05-02T13:22:12.118Z"
   },
   {
    "duration": 317,
    "start_time": "2022-05-02T13:22:12.135Z"
   },
   {
    "duration": 196,
    "start_time": "2022-05-02T13:22:12.454Z"
   },
   {
    "duration": 5,
    "start_time": "2022-05-02T13:22:12.652Z"
   },
   {
    "duration": 196,
    "start_time": "2022-05-02T13:22:12.659Z"
   },
   {
    "duration": 6,
    "start_time": "2022-05-02T13:22:12.857Z"
   },
   {
    "duration": 7,
    "start_time": "2022-05-02T13:22:12.865Z"
   },
   {
    "duration": 11,
    "start_time": "2022-05-02T13:22:12.873Z"
   },
   {
    "duration": 10,
    "start_time": "2022-05-02T13:22:12.886Z"
   },
   {
    "duration": 40,
    "start_time": "2022-05-02T13:22:12.897Z"
   },
   {
    "duration": 12,
    "start_time": "2022-05-02T13:22:12.939Z"
   },
   {
    "duration": 15,
    "start_time": "2022-05-02T13:22:12.953Z"
   },
   {
    "duration": 19,
    "start_time": "2022-05-02T13:22:12.970Z"
   },
   {
    "duration": 10,
    "start_time": "2022-05-02T13:22:12.990Z"
   },
   {
    "duration": 37,
    "start_time": "2022-05-02T13:22:13.001Z"
   },
   {
    "duration": 13,
    "start_time": "2022-05-02T13:22:13.040Z"
   },
   {
    "duration": 12,
    "start_time": "2022-05-02T13:22:13.055Z"
   },
   {
    "duration": 10,
    "start_time": "2022-05-02T13:22:13.069Z"
   },
   {
    "duration": 10,
    "start_time": "2022-05-02T13:22:13.081Z"
   },
   {
    "duration": 12,
    "start_time": "2022-05-02T13:22:13.093Z"
   },
   {
    "duration": 34,
    "start_time": "2022-05-02T13:22:13.107Z"
   },
   {
    "duration": 116,
    "start_time": "2022-05-02T13:22:13.143Z"
   },
   {
    "duration": 39,
    "start_time": "2022-05-02T13:22:13.261Z"
   },
   {
    "duration": 24,
    "start_time": "2022-05-02T13:22:13.302Z"
   },
   {
    "duration": 17,
    "start_time": "2022-05-02T13:22:13.328Z"
   },
   {
    "duration": 12,
    "start_time": "2022-05-02T13:22:13.347Z"
   },
   {
    "duration": 12,
    "start_time": "2022-05-02T13:22:13.361Z"
   },
   {
    "duration": 15,
    "start_time": "2022-05-02T13:22:13.374Z"
   },
   {
    "duration": 22,
    "start_time": "2022-05-02T13:22:13.391Z"
   },
   {
    "duration": 18,
    "start_time": "2022-05-02T13:22:13.415Z"
   },
   {
    "duration": 26,
    "start_time": "2022-05-02T13:22:13.435Z"
   },
   {
    "duration": 240,
    "start_time": "2022-05-02T13:35:45.469Z"
   },
   {
    "duration": 237,
    "start_time": "2022-05-02T13:35:56.445Z"
   },
   {
    "duration": 243,
    "start_time": "2022-05-02T13:36:25.926Z"
   },
   {
    "duration": 250,
    "start_time": "2022-05-02T13:37:50.253Z"
   },
   {
    "duration": 338,
    "start_time": "2022-05-02T13:38:00.738Z"
   },
   {
    "duration": 9,
    "start_time": "2022-05-02T13:44:28.105Z"
   },
   {
    "duration": 3,
    "start_time": "2022-05-02T13:44:43.523Z"
   },
   {
    "duration": 8,
    "start_time": "2022-05-02T13:44:50.244Z"
   },
   {
    "duration": 107,
    "start_time": "2022-05-02T13:50:03.032Z"
   },
   {
    "duration": 15,
    "start_time": "2022-05-02T13:50:19.371Z"
   },
   {
    "duration": 16,
    "start_time": "2022-05-02T13:50:28.845Z"
   },
   {
    "duration": 193,
    "start_time": "2022-05-02T13:52:03.852Z"
   },
   {
    "duration": 11,
    "start_time": "2022-05-02T13:55:35.976Z"
   },
   {
    "duration": 12,
    "start_time": "2022-05-02T13:57:24.072Z"
   },
   {
    "duration": 18,
    "start_time": "2022-05-02T14:01:14.930Z"
   },
   {
    "duration": 12,
    "start_time": "2022-05-02T14:02:18.404Z"
   },
   {
    "duration": 19,
    "start_time": "2022-05-02T14:02:45.079Z"
   },
   {
    "duration": 10,
    "start_time": "2022-05-02T14:03:00.029Z"
   },
   {
    "duration": 12,
    "start_time": "2022-05-02T14:03:27.515Z"
   },
   {
    "duration": 10,
    "start_time": "2022-05-02T14:03:30.729Z"
   },
   {
    "duration": 3,
    "start_time": "2022-05-02T14:03:41.932Z"
   },
   {
    "duration": 12,
    "start_time": "2022-05-02T14:03:48.531Z"
   },
   {
    "duration": 206,
    "start_time": "2022-05-02T14:04:35.880Z"
   },
   {
    "duration": 7,
    "start_time": "2022-05-02T14:04:41.331Z"
   },
   {
    "duration": 13,
    "start_time": "2022-05-02T14:05:46.717Z"
   },
   {
    "duration": 14,
    "start_time": "2022-05-02T14:05:57.263Z"
   },
   {
    "duration": 14,
    "start_time": "2022-05-02T14:07:29.939Z"
   },
   {
    "duration": 8,
    "start_time": "2022-05-02T14:08:40.486Z"
   },
   {
    "duration": 1278,
    "start_time": "2022-05-03T14:08:51.171Z"
   },
   {
    "duration": 36,
    "start_time": "2022-05-03T14:08:52.451Z"
   },
   {
    "duration": 15,
    "start_time": "2022-05-03T14:08:52.489Z"
   },
   {
    "duration": 10,
    "start_time": "2022-05-03T14:08:52.507Z"
   },
   {
    "duration": 5,
    "start_time": "2022-05-03T14:08:52.519Z"
   },
   {
    "duration": 36,
    "start_time": "2022-05-03T14:08:52.526Z"
   },
   {
    "duration": 10,
    "start_time": "2022-05-03T14:08:52.564Z"
   },
   {
    "duration": 5,
    "start_time": "2022-05-03T14:08:52.576Z"
   },
   {
    "duration": 7,
    "start_time": "2022-05-03T14:08:52.583Z"
   },
   {
    "duration": 4,
    "start_time": "2022-05-03T14:08:52.593Z"
   },
   {
    "duration": 16,
    "start_time": "2022-05-03T14:08:52.598Z"
   },
   {
    "duration": 40,
    "start_time": "2022-05-03T14:08:52.616Z"
   },
   {
    "duration": 13,
    "start_time": "2022-05-03T14:08:52.658Z"
   },
   {
    "duration": 11,
    "start_time": "2022-05-03T14:08:52.672Z"
   },
   {
    "duration": 6,
    "start_time": "2022-05-03T14:08:52.684Z"
   },
   {
    "duration": 22,
    "start_time": "2022-05-03T14:08:52.692Z"
   },
   {
    "duration": 11,
    "start_time": "2022-05-03T14:08:52.716Z"
   },
   {
    "duration": 39,
    "start_time": "2022-05-03T14:08:52.728Z"
   },
   {
    "duration": 6,
    "start_time": "2022-05-03T14:08:52.768Z"
   },
   {
    "duration": 18,
    "start_time": "2022-05-03T14:08:52.775Z"
   },
   {
    "duration": 5,
    "start_time": "2022-05-03T14:08:52.795Z"
   },
   {
    "duration": 20,
    "start_time": "2022-05-03T14:08:52.802Z"
   },
   {
    "duration": 6,
    "start_time": "2022-05-03T14:08:52.823Z"
   },
   {
    "duration": 76,
    "start_time": "2022-05-03T14:08:52.856Z"
   },
   {
    "duration": 26,
    "start_time": "2022-05-03T14:08:52.934Z"
   },
   {
    "duration": 164,
    "start_time": "2022-05-03T14:08:52.962Z"
   },
   {
    "duration": 134,
    "start_time": "2022-05-03T14:08:53.127Z"
   },
   {
    "duration": 10,
    "start_time": "2022-05-03T14:08:53.265Z"
   },
   {
    "duration": 23,
    "start_time": "2022-05-03T14:08:53.276Z"
   },
   {
    "duration": 196,
    "start_time": "2022-05-03T14:08:53.300Z"
   },
   {
    "duration": 7,
    "start_time": "2022-05-03T14:08:53.499Z"
   },
   {
    "duration": 261,
    "start_time": "2022-05-03T14:08:53.508Z"
   },
   {
    "duration": 25,
    "start_time": "2022-05-03T14:08:53.771Z"
   },
   {
    "duration": 15,
    "start_time": "2022-05-03T14:08:53.798Z"
   },
   {
    "duration": 41,
    "start_time": "2022-05-03T14:08:53.814Z"
   },
   {
    "duration": 22,
    "start_time": "2022-05-03T14:08:53.856Z"
   },
   {
    "duration": 4,
    "start_time": "2022-05-03T14:08:53.880Z"
   },
   {
    "duration": 223,
    "start_time": "2022-05-03T14:08:53.885Z"
   },
   {
    "duration": 215,
    "start_time": "2022-05-03T14:08:54.109Z"
   },
   {
    "duration": 29,
    "start_time": "2022-05-03T14:08:54.326Z"
   },
   {
    "duration": 7,
    "start_time": "2022-05-03T14:08:54.356Z"
   },
   {
    "duration": 250,
    "start_time": "2022-05-03T14:08:54.364Z"
   },
   {
    "duration": 5,
    "start_time": "2022-05-03T14:08:54.616Z"
   },
   {
    "duration": 226,
    "start_time": "2022-05-03T14:08:54.622Z"
   },
   {
    "duration": 163,
    "start_time": "2022-05-03T14:08:54.854Z"
   },
   {
    "duration": 6,
    "start_time": "2022-05-03T14:08:55.018Z"
   },
   {
    "duration": 175,
    "start_time": "2022-05-03T14:08:55.026Z"
   },
   {
    "duration": 5,
    "start_time": "2022-05-03T14:08:55.203Z"
   },
   {
    "duration": 24,
    "start_time": "2022-05-03T14:08:55.209Z"
   },
   {
    "duration": 20,
    "start_time": "2022-05-03T14:08:55.235Z"
   },
   {
    "duration": 46,
    "start_time": "2022-05-03T14:08:55.257Z"
   },
   {
    "duration": 40,
    "start_time": "2022-05-03T14:08:55.306Z"
   },
   {
    "duration": 16,
    "start_time": "2022-05-03T14:08:55.348Z"
   },
   {
    "duration": 34,
    "start_time": "2022-05-03T14:08:55.366Z"
   },
   {
    "duration": 20,
    "start_time": "2022-05-03T14:08:55.402Z"
   },
   {
    "duration": 11,
    "start_time": "2022-05-03T14:08:55.424Z"
   },
   {
    "duration": 13,
    "start_time": "2022-05-03T14:08:55.437Z"
   },
   {
    "duration": 10,
    "start_time": "2022-05-03T14:08:55.451Z"
   },
   {
    "duration": 11,
    "start_time": "2022-05-03T14:08:55.462Z"
   },
   {
    "duration": 9,
    "start_time": "2022-05-03T14:08:55.475Z"
   },
   {
    "duration": 10,
    "start_time": "2022-05-03T14:08:55.485Z"
   },
   {
    "duration": 11,
    "start_time": "2022-05-03T14:08:55.497Z"
   },
   {
    "duration": 14,
    "start_time": "2022-05-03T14:08:55.510Z"
   },
   {
    "duration": 33,
    "start_time": "2022-05-03T14:08:55.526Z"
   },
   {
    "duration": 9,
    "start_time": "2022-05-03T14:08:55.561Z"
   },
   {
    "duration": 15,
    "start_time": "2022-05-03T14:08:55.572Z"
   },
   {
    "duration": 191,
    "start_time": "2022-05-03T14:08:55.588Z"
   },
   {
    "duration": 0,
    "start_time": "2022-05-03T14:08:55.780Z"
   },
   {
    "duration": 0,
    "start_time": "2022-05-03T14:08:55.782Z"
   },
   {
    "duration": 0,
    "start_time": "2022-05-03T14:08:55.783Z"
   },
   {
    "duration": 0,
    "start_time": "2022-05-03T14:08:55.784Z"
   },
   {
    "duration": 0,
    "start_time": "2022-05-03T14:08:55.785Z"
   },
   {
    "duration": 0,
    "start_time": "2022-05-03T14:08:55.786Z"
   },
   {
    "duration": 0,
    "start_time": "2022-05-03T14:08:55.787Z"
   },
   {
    "duration": 0,
    "start_time": "2022-05-03T14:08:55.788Z"
   },
   {
    "duration": 0,
    "start_time": "2022-05-03T14:08:55.789Z"
   },
   {
    "duration": 0,
    "start_time": "2022-05-03T14:08:55.790Z"
   },
   {
    "duration": 13,
    "start_time": "2022-05-03T14:14:20.733Z"
   },
   {
    "duration": 1849,
    "start_time": "2022-05-04T07:23:28.033Z"
   },
   {
    "duration": 59,
    "start_time": "2022-05-04T07:23:29.884Z"
   },
   {
    "duration": 23,
    "start_time": "2022-05-04T07:23:29.945Z"
   },
   {
    "duration": 4,
    "start_time": "2022-05-04T07:23:29.972Z"
   },
   {
    "duration": 9,
    "start_time": "2022-05-04T07:23:29.978Z"
   },
   {
    "duration": 70,
    "start_time": "2022-05-04T07:23:29.989Z"
   },
   {
    "duration": 13,
    "start_time": "2022-05-04T07:23:30.061Z"
   },
   {
    "duration": 19,
    "start_time": "2022-05-04T07:23:30.076Z"
   },
   {
    "duration": 25,
    "start_time": "2022-05-04T07:23:30.098Z"
   },
   {
    "duration": 5,
    "start_time": "2022-05-04T07:23:30.127Z"
   },
   {
    "duration": 28,
    "start_time": "2022-05-04T07:23:30.134Z"
   },
   {
    "duration": 13,
    "start_time": "2022-05-04T07:23:30.164Z"
   },
   {
    "duration": 47,
    "start_time": "2022-05-04T07:23:30.179Z"
   },
   {
    "duration": 20,
    "start_time": "2022-05-04T07:23:30.228Z"
   },
   {
    "duration": 13,
    "start_time": "2022-05-04T07:23:30.250Z"
   },
   {
    "duration": 28,
    "start_time": "2022-05-04T07:23:30.265Z"
   },
   {
    "duration": 29,
    "start_time": "2022-05-04T07:23:30.295Z"
   },
   {
    "duration": 19,
    "start_time": "2022-05-04T07:23:30.326Z"
   },
   {
    "duration": 8,
    "start_time": "2022-05-04T07:23:30.347Z"
   },
   {
    "duration": 24,
    "start_time": "2022-05-04T07:23:30.357Z"
   },
   {
    "duration": 6,
    "start_time": "2022-05-04T07:23:30.383Z"
   },
   {
    "duration": 49,
    "start_time": "2022-05-04T07:23:30.391Z"
   },
   {
    "duration": 17,
    "start_time": "2022-05-04T07:23:30.442Z"
   },
   {
    "duration": 123,
    "start_time": "2022-05-04T07:23:30.461Z"
   },
   {
    "duration": 39,
    "start_time": "2022-05-04T07:23:30.586Z"
   },
   {
    "duration": 264,
    "start_time": "2022-05-04T07:23:30.627Z"
   },
   {
    "duration": 238,
    "start_time": "2022-05-04T07:23:30.893Z"
   },
   {
    "duration": 11,
    "start_time": "2022-05-04T07:23:31.137Z"
   },
   {
    "duration": 37,
    "start_time": "2022-05-04T07:23:31.150Z"
   },
   {
    "duration": 444,
    "start_time": "2022-05-04T07:23:31.189Z"
   },
   {
    "duration": 9,
    "start_time": "2022-05-04T07:23:31.635Z"
   },
   {
    "duration": 811,
    "start_time": "2022-05-04T07:23:31.646Z"
   },
   {
    "duration": 89,
    "start_time": "2022-05-04T07:23:32.459Z"
   },
   {
    "duration": 74,
    "start_time": "2022-05-04T07:23:32.550Z"
   },
   {
    "duration": 22,
    "start_time": "2022-05-04T07:23:32.627Z"
   },
   {
    "duration": 95,
    "start_time": "2022-05-04T07:23:32.650Z"
   },
   {
    "duration": 13,
    "start_time": "2022-05-04T07:23:32.748Z"
   },
   {
    "duration": 1070,
    "start_time": "2022-05-04T07:23:32.764Z"
   },
   {
    "duration": 718,
    "start_time": "2022-05-04T07:23:33.837Z"
   },
   {
    "duration": 78,
    "start_time": "2022-05-04T07:23:34.557Z"
   },
   {
    "duration": 10,
    "start_time": "2022-05-04T07:23:34.637Z"
   },
   {
    "duration": 81,
    "start_time": "2022-05-04T07:23:34.650Z"
   },
   {
    "duration": 384,
    "start_time": "2022-05-04T07:23:34.733Z"
   },
   {
    "duration": 8,
    "start_time": "2022-05-04T07:23:35.120Z"
   },
   {
    "duration": 383,
    "start_time": "2022-05-04T07:23:35.131Z"
   },
   {
    "duration": 297,
    "start_time": "2022-05-04T07:23:35.516Z"
   },
   {
    "duration": 12,
    "start_time": "2022-05-04T07:23:35.816Z"
   },
   {
    "duration": 308,
    "start_time": "2022-05-04T07:23:35.830Z"
   },
   {
    "duration": 7,
    "start_time": "2022-05-04T07:23:36.140Z"
   },
   {
    "duration": 14,
    "start_time": "2022-05-04T07:23:36.149Z"
   },
   {
    "duration": 14,
    "start_time": "2022-05-04T07:23:36.165Z"
   },
   {
    "duration": 45,
    "start_time": "2022-05-04T07:23:36.181Z"
   },
   {
    "duration": 19,
    "start_time": "2022-05-04T07:23:36.229Z"
   },
   {
    "duration": 14,
    "start_time": "2022-05-04T07:23:36.250Z"
   },
   {
    "duration": 15,
    "start_time": "2022-05-04T07:23:36.267Z"
   },
   {
    "duration": 48,
    "start_time": "2022-05-04T07:23:36.284Z"
   },
   {
    "duration": 16,
    "start_time": "2022-05-04T07:23:36.335Z"
   },
   {
    "duration": 24,
    "start_time": "2022-05-04T07:23:36.353Z"
   },
   {
    "duration": 12,
    "start_time": "2022-05-04T07:23:36.379Z"
   },
   {
    "duration": 42,
    "start_time": "2022-05-04T07:23:36.393Z"
   },
   {
    "duration": 18,
    "start_time": "2022-05-04T07:23:36.437Z"
   },
   {
    "duration": 14,
    "start_time": "2022-05-04T07:23:36.457Z"
   },
   {
    "duration": 21,
    "start_time": "2022-05-04T07:23:36.473Z"
   },
   {
    "duration": 31,
    "start_time": "2022-05-04T07:23:36.496Z"
   },
   {
    "duration": 12,
    "start_time": "2022-05-04T07:23:36.529Z"
   },
   {
    "duration": 21,
    "start_time": "2022-05-04T07:23:36.543Z"
   },
   {
    "duration": 20,
    "start_time": "2022-05-04T07:23:36.566Z"
   },
   {
    "duration": 116,
    "start_time": "2022-05-04T07:23:36.589Z"
   },
   {
    "duration": 0,
    "start_time": "2022-05-04T07:23:36.707Z"
   },
   {
    "duration": 0,
    "start_time": "2022-05-04T07:23:36.709Z"
   },
   {
    "duration": 0,
    "start_time": "2022-05-04T07:23:36.711Z"
   },
   {
    "duration": 0,
    "start_time": "2022-05-04T07:23:36.712Z"
   },
   {
    "duration": 0,
    "start_time": "2022-05-04T07:23:36.714Z"
   },
   {
    "duration": 0,
    "start_time": "2022-05-04T07:23:36.716Z"
   },
   {
    "duration": 0,
    "start_time": "2022-05-04T07:23:36.717Z"
   },
   {
    "duration": 0,
    "start_time": "2022-05-04T07:23:36.719Z"
   },
   {
    "duration": 0,
    "start_time": "2022-05-04T07:23:36.720Z"
   },
   {
    "duration": 0,
    "start_time": "2022-05-04T07:23:36.721Z"
   },
   {
    "duration": 8,
    "start_time": "2022-05-04T07:26:36.982Z"
   },
   {
    "duration": 18,
    "start_time": "2022-05-04T07:26:41.962Z"
   },
   {
    "duration": 8,
    "start_time": "2022-05-04T07:26:51.220Z"
   },
   {
    "duration": 360,
    "start_time": "2022-05-04T07:26:53.774Z"
   },
   {
    "duration": 9,
    "start_time": "2022-05-04T07:27:02.955Z"
   },
   {
    "duration": 18,
    "start_time": "2022-05-04T07:27:06.762Z"
   },
   {
    "duration": 288,
    "start_time": "2022-05-04T07:27:07.645Z"
   },
   {
    "duration": 7,
    "start_time": "2022-05-04T07:27:13.064Z"
   },
   {
    "duration": 6,
    "start_time": "2022-05-04T07:27:20.471Z"
   },
   {
    "duration": 350,
    "start_time": "2022-05-04T07:27:22.542Z"
   },
   {
    "duration": 1064,
    "start_time": "2022-05-04T07:28:07.293Z"
   },
   {
    "duration": 292,
    "start_time": "2022-05-04T07:28:25.621Z"
   },
   {
    "duration": 7,
    "start_time": "2022-05-04T07:28:30.827Z"
   },
   {
    "duration": 278,
    "start_time": "2022-05-04T07:29:04.751Z"
   },
   {
    "duration": 7,
    "start_time": "2022-05-04T07:29:12.989Z"
   },
   {
    "duration": 256,
    "start_time": "2022-05-04T07:30:37.947Z"
   },
   {
    "duration": 6,
    "start_time": "2022-05-04T07:30:42.297Z"
   },
   {
    "duration": 60,
    "start_time": "2022-05-04T07:34:08.798Z"
   },
   {
    "duration": 12,
    "start_time": "2022-05-04T07:34:27.306Z"
   },
   {
    "duration": 8,
    "start_time": "2022-05-04T07:35:10.774Z"
   },
   {
    "duration": 6,
    "start_time": "2022-05-04T07:36:10.774Z"
   },
   {
    "duration": 174,
    "start_time": "2022-05-04T07:36:56.907Z"
   },
   {
    "duration": 1580,
    "start_time": "2022-05-04T11:35:49.910Z"
   },
   {
    "duration": 71,
    "start_time": "2022-05-04T11:35:51.493Z"
   },
   {
    "duration": 24,
    "start_time": "2022-05-04T11:35:51.567Z"
   },
   {
    "duration": 33,
    "start_time": "2022-05-04T11:35:51.596Z"
   },
   {
    "duration": 12,
    "start_time": "2022-05-04T11:35:51.632Z"
   },
   {
    "duration": 41,
    "start_time": "2022-05-04T11:35:51.646Z"
   },
   {
    "duration": 42,
    "start_time": "2022-05-04T11:35:51.689Z"
   },
   {
    "duration": 14,
    "start_time": "2022-05-04T11:35:51.736Z"
   },
   {
    "duration": 12,
    "start_time": "2022-05-04T11:35:51.753Z"
   },
   {
    "duration": 12,
    "start_time": "2022-05-04T11:35:51.771Z"
   },
   {
    "duration": 61,
    "start_time": "2022-05-04T11:35:51.785Z"
   },
   {
    "duration": 10,
    "start_time": "2022-05-04T11:35:51.849Z"
   },
   {
    "duration": 29,
    "start_time": "2022-05-04T11:35:51.862Z"
   },
   {
    "duration": 17,
    "start_time": "2022-05-04T11:35:51.925Z"
   },
   {
    "duration": 17,
    "start_time": "2022-05-04T11:35:51.945Z"
   },
   {
    "duration": 26,
    "start_time": "2022-05-04T11:35:51.965Z"
   },
   {
    "duration": 42,
    "start_time": "2022-05-04T11:35:51.994Z"
   },
   {
    "duration": 21,
    "start_time": "2022-05-04T11:35:52.038Z"
   },
   {
    "duration": 7,
    "start_time": "2022-05-04T11:35:52.061Z"
   },
   {
    "duration": 62,
    "start_time": "2022-05-04T11:35:52.070Z"
   },
   {
    "duration": 6,
    "start_time": "2022-05-04T11:35:52.135Z"
   },
   {
    "duration": 32,
    "start_time": "2022-05-04T11:35:52.144Z"
   },
   {
    "duration": 7,
    "start_time": "2022-05-04T11:35:52.178Z"
   },
   {
    "duration": 161,
    "start_time": "2022-05-04T11:35:52.188Z"
   },
   {
    "duration": 21,
    "start_time": "2022-05-04T11:35:52.352Z"
   },
   {
    "duration": 293,
    "start_time": "2022-05-04T11:35:52.375Z"
   },
   {
    "duration": 394,
    "start_time": "2022-05-04T11:35:52.670Z"
   },
   {
    "duration": 65,
    "start_time": "2022-05-04T11:35:53.071Z"
   },
   {
    "duration": 109,
    "start_time": "2022-05-04T11:35:53.138Z"
   },
   {
    "duration": 793,
    "start_time": "2022-05-04T11:35:53.250Z"
   },
   {
    "duration": 9,
    "start_time": "2022-05-04T11:35:54.045Z"
   },
   {
    "duration": 912,
    "start_time": "2022-05-04T11:35:54.056Z"
   },
   {
    "duration": 40,
    "start_time": "2022-05-04T11:35:55.027Z"
   },
   {
    "duration": 40,
    "start_time": "2022-05-04T11:35:55.124Z"
   },
   {
    "duration": 92,
    "start_time": "2022-05-04T11:35:55.167Z"
   },
   {
    "duration": 110,
    "start_time": "2022-05-04T11:35:55.262Z"
   },
   {
    "duration": 54,
    "start_time": "2022-05-04T11:35:55.375Z"
   },
   {
    "duration": 902,
    "start_time": "2022-05-04T11:35:55.432Z"
   },
   {
    "duration": 393,
    "start_time": "2022-05-04T11:35:56.337Z"
   },
   {
    "duration": 35,
    "start_time": "2022-05-04T11:35:56.732Z"
   },
   {
    "duration": 9,
    "start_time": "2022-05-04T11:35:56.769Z"
   },
   {
    "duration": 57,
    "start_time": "2022-05-04T11:35:56.781Z"
   },
   {
    "duration": 425,
    "start_time": "2022-05-04T11:35:56.840Z"
   },
   {
    "duration": 7,
    "start_time": "2022-05-04T11:35:57.267Z"
   },
   {
    "duration": 410,
    "start_time": "2022-05-04T11:35:57.276Z"
   },
   {
    "duration": 353,
    "start_time": "2022-05-04T11:35:57.689Z"
   },
   {
    "duration": 7,
    "start_time": "2022-05-04T11:35:58.045Z"
   },
   {
    "duration": 332,
    "start_time": "2022-05-04T11:35:58.055Z"
   },
   {
    "duration": 7,
    "start_time": "2022-05-04T11:35:58.390Z"
   },
   {
    "duration": 332,
    "start_time": "2022-05-04T11:35:58.400Z"
   },
   {
    "duration": 6,
    "start_time": "2022-05-04T11:35:58.735Z"
   },
   {
    "duration": 27,
    "start_time": "2022-05-04T11:35:58.746Z"
   },
   {
    "duration": 59,
    "start_time": "2022-05-04T11:35:58.776Z"
   },
   {
    "duration": 8,
    "start_time": "2022-05-04T11:35:58.839Z"
   },
   {
    "duration": 147,
    "start_time": "2022-05-04T11:35:58.849Z"
   },
   {
    "duration": 0,
    "start_time": "2022-05-04T11:35:58.999Z"
   },
   {
    "duration": 0,
    "start_time": "2022-05-04T11:35:59.001Z"
   },
   {
    "duration": 0,
    "start_time": "2022-05-04T11:35:59.004Z"
   },
   {
    "duration": 0,
    "start_time": "2022-05-04T11:35:59.007Z"
   },
   {
    "duration": 0,
    "start_time": "2022-05-04T11:35:59.009Z"
   },
   {
    "duration": 0,
    "start_time": "2022-05-04T11:35:59.011Z"
   },
   {
    "duration": 0,
    "start_time": "2022-05-04T11:35:59.013Z"
   },
   {
    "duration": 0,
    "start_time": "2022-05-04T11:35:59.015Z"
   },
   {
    "duration": 0,
    "start_time": "2022-05-04T11:35:59.017Z"
   },
   {
    "duration": 0,
    "start_time": "2022-05-04T11:35:59.020Z"
   },
   {
    "duration": 0,
    "start_time": "2022-05-04T11:35:59.027Z"
   },
   {
    "duration": 0,
    "start_time": "2022-05-04T11:35:59.028Z"
   },
   {
    "duration": 0,
    "start_time": "2022-05-04T11:35:59.033Z"
   },
   {
    "duration": 0,
    "start_time": "2022-05-04T11:35:59.034Z"
   },
   {
    "duration": 0,
    "start_time": "2022-05-04T11:35:59.036Z"
   },
   {
    "duration": 0,
    "start_time": "2022-05-04T11:35:59.037Z"
   },
   {
    "duration": 0,
    "start_time": "2022-05-04T11:35:59.045Z"
   },
   {
    "duration": 0,
    "start_time": "2022-05-04T11:35:59.046Z"
   },
   {
    "duration": 0,
    "start_time": "2022-05-04T11:35:59.049Z"
   },
   {
    "duration": 0,
    "start_time": "2022-05-04T11:35:59.051Z"
   },
   {
    "duration": 0,
    "start_time": "2022-05-04T11:35:59.053Z"
   },
   {
    "duration": 0,
    "start_time": "2022-05-04T11:35:59.055Z"
   },
   {
    "duration": 0,
    "start_time": "2022-05-04T11:35:59.058Z"
   },
   {
    "duration": 0,
    "start_time": "2022-05-04T11:35:59.060Z"
   },
   {
    "duration": 0,
    "start_time": "2022-05-04T11:35:59.062Z"
   },
   {
    "duration": 0,
    "start_time": "2022-05-04T11:35:59.064Z"
   },
   {
    "duration": 0,
    "start_time": "2022-05-04T11:35:59.066Z"
   },
   {
    "duration": 0,
    "start_time": "2022-05-04T11:35:59.068Z"
   },
   {
    "duration": 16,
    "start_time": "2022-05-04T11:39:46.985Z"
   },
   {
    "duration": 17,
    "start_time": "2022-05-04T11:40:45.114Z"
   },
   {
    "duration": 180,
    "start_time": "2022-05-04T11:48:36.162Z"
   },
   {
    "duration": 1924,
    "start_time": "2022-05-04T11:48:50.608Z"
   },
   {
    "duration": 72,
    "start_time": "2022-05-04T11:48:52.535Z"
   },
   {
    "duration": 23,
    "start_time": "2022-05-04T11:48:52.609Z"
   },
   {
    "duration": 33,
    "start_time": "2022-05-04T11:48:52.634Z"
   },
   {
    "duration": 7,
    "start_time": "2022-05-04T11:48:52.671Z"
   },
   {
    "duration": 54,
    "start_time": "2022-05-04T11:48:52.680Z"
   },
   {
    "duration": 14,
    "start_time": "2022-05-04T11:48:52.736Z"
   },
   {
    "duration": 17,
    "start_time": "2022-05-04T11:48:52.753Z"
   },
   {
    "duration": 7,
    "start_time": "2022-05-04T11:48:52.772Z"
   },
   {
    "duration": 11,
    "start_time": "2022-05-04T11:48:52.781Z"
   },
   {
    "duration": 60,
    "start_time": "2022-05-04T11:48:52.794Z"
   },
   {
    "duration": 19,
    "start_time": "2022-05-04T11:48:52.860Z"
   },
   {
    "duration": 58,
    "start_time": "2022-05-04T11:48:52.881Z"
   },
   {
    "duration": 34,
    "start_time": "2022-05-04T11:48:52.944Z"
   },
   {
    "duration": 13,
    "start_time": "2022-05-04T11:48:52.981Z"
   },
   {
    "duration": 44,
    "start_time": "2022-05-04T11:48:52.996Z"
   },
   {
    "duration": 22,
    "start_time": "2022-05-04T11:48:53.043Z"
   },
   {
    "duration": 20,
    "start_time": "2022-05-04T11:48:53.067Z"
   },
   {
    "duration": 38,
    "start_time": "2022-05-04T11:48:53.089Z"
   },
   {
    "duration": 29,
    "start_time": "2022-05-04T11:48:53.129Z"
   },
   {
    "duration": 7,
    "start_time": "2022-05-04T11:48:53.161Z"
   },
   {
    "duration": 59,
    "start_time": "2022-05-04T11:48:53.170Z"
   },
   {
    "duration": 35,
    "start_time": "2022-05-04T11:48:53.232Z"
   },
   {
    "duration": 125,
    "start_time": "2022-05-04T11:48:53.270Z"
   },
   {
    "duration": 45,
    "start_time": "2022-05-04T11:48:53.397Z"
   },
   {
    "duration": 277,
    "start_time": "2022-05-04T11:48:53.445Z"
   },
   {
    "duration": 338,
    "start_time": "2022-05-04T11:48:53.726Z"
   },
   {
    "duration": 63,
    "start_time": "2022-05-04T11:48:54.067Z"
   },
   {
    "duration": 107,
    "start_time": "2022-05-04T11:48:54.137Z"
   },
   {
    "duration": 683,
    "start_time": "2022-05-04T11:48:54.251Z"
   },
   {
    "duration": 22,
    "start_time": "2022-05-04T11:48:54.938Z"
   },
   {
    "duration": 1182,
    "start_time": "2022-05-04T11:48:54.963Z"
   },
   {
    "duration": 84,
    "start_time": "2022-05-04T11:48:56.147Z"
   },
   {
    "duration": 27,
    "start_time": "2022-05-04T11:48:56.233Z"
   },
   {
    "duration": 87,
    "start_time": "2022-05-04T11:48:56.262Z"
   },
   {
    "duration": 118,
    "start_time": "2022-05-04T11:48:56.361Z"
   },
   {
    "duration": 49,
    "start_time": "2022-05-04T11:48:56.482Z"
   },
   {
    "duration": 806,
    "start_time": "2022-05-04T11:48:56.534Z"
   },
   {
    "duration": 649,
    "start_time": "2022-05-04T11:48:57.342Z"
   },
   {
    "duration": 79,
    "start_time": "2022-05-04T11:48:57.993Z"
   },
   {
    "duration": 44,
    "start_time": "2022-05-04T11:48:58.083Z"
   },
   {
    "duration": 101,
    "start_time": "2022-05-04T11:48:58.130Z"
   },
   {
    "duration": 831,
    "start_time": "2022-05-04T11:48:58.234Z"
   },
   {
    "duration": 65,
    "start_time": "2022-05-04T11:48:59.068Z"
   },
   {
    "duration": 935,
    "start_time": "2022-05-04T11:48:59.142Z"
   },
   {
    "duration": 771,
    "start_time": "2022-05-04T11:49:00.081Z"
   },
   {
    "duration": 6,
    "start_time": "2022-05-04T11:49:00.863Z"
   },
   {
    "duration": 690,
    "start_time": "2022-05-04T11:49:00.871Z"
   },
   {
    "duration": 7,
    "start_time": "2022-05-04T11:49:01.563Z"
   },
   {
    "duration": 324,
    "start_time": "2022-05-04T11:49:01.573Z"
   },
   {
    "duration": 7,
    "start_time": "2022-05-04T11:49:01.900Z"
   },
   {
    "duration": 127,
    "start_time": "2022-05-04T11:49:01.909Z"
   },
   {
    "duration": 0,
    "start_time": "2022-05-04T11:49:02.039Z"
   },
   {
    "duration": 0,
    "start_time": "2022-05-04T11:49:02.041Z"
   },
   {
    "duration": 0,
    "start_time": "2022-05-04T11:49:02.043Z"
   },
   {
    "duration": 0,
    "start_time": "2022-05-04T11:49:02.045Z"
   },
   {
    "duration": 0,
    "start_time": "2022-05-04T11:49:02.047Z"
   },
   {
    "duration": 0,
    "start_time": "2022-05-04T11:49:02.049Z"
   },
   {
    "duration": 0,
    "start_time": "2022-05-04T11:49:02.051Z"
   },
   {
    "duration": 0,
    "start_time": "2022-05-04T11:49:02.055Z"
   },
   {
    "duration": 0,
    "start_time": "2022-05-04T11:49:02.062Z"
   },
   {
    "duration": 0,
    "start_time": "2022-05-04T11:49:02.063Z"
   },
   {
    "duration": 0,
    "start_time": "2022-05-04T11:49:02.065Z"
   },
   {
    "duration": 0,
    "start_time": "2022-05-04T11:49:02.066Z"
   },
   {
    "duration": 0,
    "start_time": "2022-05-04T11:49:02.068Z"
   },
   {
    "duration": 0,
    "start_time": "2022-05-04T11:49:02.070Z"
   },
   {
    "duration": 0,
    "start_time": "2022-05-04T11:49:02.071Z"
   },
   {
    "duration": 0,
    "start_time": "2022-05-04T11:49:02.073Z"
   },
   {
    "duration": 0,
    "start_time": "2022-05-04T11:49:02.075Z"
   },
   {
    "duration": 0,
    "start_time": "2022-05-04T11:49:02.077Z"
   },
   {
    "duration": 0,
    "start_time": "2022-05-04T11:49:02.078Z"
   },
   {
    "duration": 0,
    "start_time": "2022-05-04T11:49:02.139Z"
   },
   {
    "duration": 0,
    "start_time": "2022-05-04T11:49:02.143Z"
   },
   {
    "duration": 0,
    "start_time": "2022-05-04T11:49:02.145Z"
   },
   {
    "duration": 0,
    "start_time": "2022-05-04T11:49:02.148Z"
   },
   {
    "duration": 0,
    "start_time": "2022-05-04T11:49:02.153Z"
   },
   {
    "duration": 0,
    "start_time": "2022-05-04T11:49:02.155Z"
   },
   {
    "duration": 0,
    "start_time": "2022-05-04T11:49:02.156Z"
   },
   {
    "duration": 0,
    "start_time": "2022-05-04T11:49:02.158Z"
   },
   {
    "duration": 0,
    "start_time": "2022-05-04T11:49:02.163Z"
   },
   {
    "duration": 13,
    "start_time": "2022-05-04T11:49:17.200Z"
   },
   {
    "duration": 181,
    "start_time": "2022-05-04T11:49:17.216Z"
   },
   {
    "duration": 17,
    "start_time": "2022-05-04T11:49:41.938Z"
   },
   {
    "duration": 24,
    "start_time": "2022-05-04T11:49:43.741Z"
   },
   {
    "duration": 17,
    "start_time": "2022-05-04T11:51:00.770Z"
   },
   {
    "duration": 100,
    "start_time": "2022-05-04T11:53:40.450Z"
   },
   {
    "duration": 13,
    "start_time": "2022-05-04T11:53:51.390Z"
   },
   {
    "duration": 8,
    "start_time": "2022-05-04T11:54:08.362Z"
   },
   {
    "duration": 9,
    "start_time": "2022-05-04T11:54:15.347Z"
   },
   {
    "duration": 12,
    "start_time": "2022-05-04T11:54:41.238Z"
   },
   {
    "duration": 9,
    "start_time": "2022-05-04T11:54:42.069Z"
   },
   {
    "duration": 5,
    "start_time": "2022-05-04T11:54:54.631Z"
   },
   {
    "duration": 6,
    "start_time": "2022-05-04T11:55:00.753Z"
   },
   {
    "duration": 12,
    "start_time": "2022-05-04T11:55:46.309Z"
   },
   {
    "duration": 7,
    "start_time": "2022-05-04T11:55:48.353Z"
   },
   {
    "duration": 19,
    "start_time": "2022-05-04T11:56:20.030Z"
   },
   {
    "duration": 7,
    "start_time": "2022-05-04T11:56:29.380Z"
   },
   {
    "duration": 10,
    "start_time": "2022-05-04T11:56:44.389Z"
   },
   {
    "duration": 7,
    "start_time": "2022-05-04T11:56:45.558Z"
   },
   {
    "duration": 8,
    "start_time": "2022-05-04T11:57:04.920Z"
   },
   {
    "duration": 1752,
    "start_time": "2022-05-04T11:57:12.236Z"
   },
   {
    "duration": 62,
    "start_time": "2022-05-04T11:57:13.991Z"
   },
   {
    "duration": 31,
    "start_time": "2022-05-04T11:57:14.056Z"
   },
   {
    "duration": 5,
    "start_time": "2022-05-04T11:57:14.133Z"
   },
   {
    "duration": 12,
    "start_time": "2022-05-04T11:57:14.140Z"
   },
   {
    "duration": 41,
    "start_time": "2022-05-04T11:57:14.155Z"
   },
   {
    "duration": 13,
    "start_time": "2022-05-04T11:57:14.198Z"
   },
   {
    "duration": 14,
    "start_time": "2022-05-04T11:57:14.224Z"
   },
   {
    "duration": 30,
    "start_time": "2022-05-04T11:57:14.241Z"
   },
   {
    "duration": 5,
    "start_time": "2022-05-04T11:57:14.276Z"
   },
   {
    "duration": 31,
    "start_time": "2022-05-04T11:57:14.284Z"
   },
   {
    "duration": 15,
    "start_time": "2022-05-04T11:57:14.318Z"
   },
   {
    "duration": 43,
    "start_time": "2022-05-04T11:57:14.335Z"
   },
   {
    "duration": 13,
    "start_time": "2022-05-04T11:57:14.381Z"
   },
   {
    "duration": 12,
    "start_time": "2022-05-04T11:57:14.397Z"
   },
   {
    "duration": 31,
    "start_time": "2022-05-04T11:57:14.412Z"
   },
   {
    "duration": 27,
    "start_time": "2022-05-04T11:57:14.446Z"
   },
   {
    "duration": 20,
    "start_time": "2022-05-04T11:57:14.476Z"
   },
   {
    "duration": 11,
    "start_time": "2022-05-04T11:57:14.498Z"
   },
   {
    "duration": 26,
    "start_time": "2022-05-04T11:57:14.512Z"
   },
   {
    "duration": 7,
    "start_time": "2022-05-04T11:57:14.541Z"
   },
   {
    "duration": 31,
    "start_time": "2022-05-04T11:57:14.551Z"
   },
   {
    "duration": 15,
    "start_time": "2022-05-04T11:57:14.584Z"
   },
   {
    "duration": 121,
    "start_time": "2022-05-04T11:57:14.601Z"
   },
   {
    "duration": 34,
    "start_time": "2022-05-04T11:57:14.725Z"
   },
   {
    "duration": 383,
    "start_time": "2022-05-04T11:57:14.762Z"
   },
   {
    "duration": 512,
    "start_time": "2022-05-04T11:57:15.147Z"
   },
   {
    "duration": 78,
    "start_time": "2022-05-04T11:57:15.667Z"
   },
   {
    "duration": 92,
    "start_time": "2022-05-04T11:57:15.748Z"
   },
   {
    "duration": 886,
    "start_time": "2022-05-04T11:57:15.842Z"
   },
   {
    "duration": 18,
    "start_time": "2022-05-04T11:57:16.731Z"
   },
   {
    "duration": 1372,
    "start_time": "2022-05-04T11:57:16.755Z"
   },
   {
    "duration": 101,
    "start_time": "2022-05-04T11:57:18.135Z"
   },
   {
    "duration": 26,
    "start_time": "2022-05-04T11:57:18.240Z"
   },
   {
    "duration": 76,
    "start_time": "2022-05-04T11:57:18.269Z"
   },
   {
    "duration": 106,
    "start_time": "2022-05-04T11:57:18.349Z"
   },
   {
    "duration": 14,
    "start_time": "2022-05-04T11:57:18.458Z"
   },
   {
    "duration": 954,
    "start_time": "2022-05-04T11:57:18.475Z"
   },
   {
    "duration": 780,
    "start_time": "2022-05-04T11:57:19.433Z"
   },
   {
    "duration": 47,
    "start_time": "2022-05-04T11:57:20.225Z"
   },
   {
    "duration": 10,
    "start_time": "2022-05-04T11:57:20.274Z"
   },
   {
    "duration": 58,
    "start_time": "2022-05-04T11:57:20.286Z"
   },
   {
    "duration": 580,
    "start_time": "2022-05-04T11:57:20.348Z"
   },
   {
    "duration": 16,
    "start_time": "2022-05-04T11:57:20.932Z"
   },
   {
    "duration": 551,
    "start_time": "2022-05-04T11:57:20.952Z"
   },
   {
    "duration": 328,
    "start_time": "2022-05-04T11:57:21.506Z"
   },
   {
    "duration": 7,
    "start_time": "2022-05-04T11:57:21.837Z"
   },
   {
    "duration": 392,
    "start_time": "2022-05-04T11:57:21.847Z"
   },
   {
    "duration": 10,
    "start_time": "2022-05-04T11:57:22.241Z"
   },
   {
    "duration": 686,
    "start_time": "2022-05-04T11:57:22.253Z"
   },
   {
    "duration": 7,
    "start_time": "2022-05-04T11:57:22.942Z"
   },
   {
    "duration": 23,
    "start_time": "2022-05-04T11:57:22.952Z"
   },
   {
    "duration": 18,
    "start_time": "2022-05-04T11:57:23.025Z"
   },
   {
    "duration": 17,
    "start_time": "2022-05-04T11:57:23.045Z"
   },
   {
    "duration": 78,
    "start_time": "2022-05-04T11:57:23.065Z"
   },
   {
    "duration": 11,
    "start_time": "2022-05-04T11:57:23.147Z"
   },
   {
    "duration": 13,
    "start_time": "2022-05-04T11:57:23.160Z"
   },
   {
    "duration": 68,
    "start_time": "2022-05-04T11:57:23.175Z"
   },
   {
    "duration": 17,
    "start_time": "2022-05-04T11:57:23.245Z"
   },
   {
    "duration": 64,
    "start_time": "2022-05-04T11:57:23.265Z"
   },
   {
    "duration": 27,
    "start_time": "2022-05-04T11:57:23.335Z"
   },
   {
    "duration": 14,
    "start_time": "2022-05-04T11:57:23.365Z"
   },
   {
    "duration": 20,
    "start_time": "2022-05-04T11:57:23.435Z"
   },
   {
    "duration": 15,
    "start_time": "2022-05-04T11:57:23.458Z"
   },
   {
    "duration": 63,
    "start_time": "2022-05-04T11:57:23.475Z"
   },
   {
    "duration": 25,
    "start_time": "2022-05-04T11:57:23.542Z"
   },
   {
    "duration": 66,
    "start_time": "2022-05-04T11:57:23.570Z"
   },
   {
    "duration": 36,
    "start_time": "2022-05-04T11:57:23.642Z"
   },
   {
    "duration": 69,
    "start_time": "2022-05-04T11:57:23.681Z"
   },
   {
    "duration": 22,
    "start_time": "2022-05-04T11:57:23.753Z"
   },
   {
    "duration": 80,
    "start_time": "2022-05-04T11:57:23.778Z"
   },
   {
    "duration": 12,
    "start_time": "2022-05-04T11:57:23.861Z"
   },
   {
    "duration": 57,
    "start_time": "2022-05-04T11:57:23.875Z"
   },
   {
    "duration": 22,
    "start_time": "2022-05-04T11:57:23.937Z"
   },
   {
    "duration": 142,
    "start_time": "2022-05-04T11:57:23.962Z"
   },
   {
    "duration": 0,
    "start_time": "2022-05-04T11:57:24.107Z"
   },
   {
    "duration": 0,
    "start_time": "2022-05-04T11:57:24.128Z"
   },
   {
    "duration": 0,
    "start_time": "2022-05-04T11:57:24.130Z"
   },
   {
    "duration": 0,
    "start_time": "2022-05-04T11:57:24.132Z"
   },
   {
    "duration": 0,
    "start_time": "2022-05-04T11:57:24.135Z"
   },
   {
    "duration": 0,
    "start_time": "2022-05-04T11:57:24.137Z"
   },
   {
    "duration": 0,
    "start_time": "2022-05-04T11:57:24.139Z"
   },
   {
    "duration": 0,
    "start_time": "2022-05-04T11:57:24.141Z"
   },
   {
    "duration": 1,
    "start_time": "2022-05-04T11:57:24.143Z"
   },
   {
    "duration": 0,
    "start_time": "2022-05-04T11:57:24.146Z"
   },
   {
    "duration": 13,
    "start_time": "2022-05-04T11:59:10.428Z"
   },
   {
    "duration": 18,
    "start_time": "2022-05-04T11:59:30.642Z"
   },
   {
    "duration": 14,
    "start_time": "2022-05-04T11:59:32.633Z"
   },
   {
    "duration": 17,
    "start_time": "2022-05-04T11:59:35.562Z"
   },
   {
    "duration": 201,
    "start_time": "2022-05-04T12:00:38.480Z"
   },
   {
    "duration": 7,
    "start_time": "2022-05-04T12:00:50.195Z"
   },
   {
    "duration": 5,
    "start_time": "2022-05-04T12:00:51.315Z"
   },
   {
    "duration": 5,
    "start_time": "2022-05-04T12:00:52.950Z"
   },
   {
    "duration": 10,
    "start_time": "2022-05-04T12:00:55.689Z"
   },
   {
    "duration": 7,
    "start_time": "2022-05-04T12:01:06.309Z"
   },
   {
    "duration": 9,
    "start_time": "2022-05-04T12:01:08.030Z"
   },
   {
    "duration": 7,
    "start_time": "2022-05-04T12:01:09.250Z"
   },
   {
    "duration": 10,
    "start_time": "2022-05-04T12:01:10.514Z"
   },
   {
    "duration": 8,
    "start_time": "2022-05-04T12:01:44.300Z"
   },
   {
    "duration": 12,
    "start_time": "2022-05-04T12:01:48.780Z"
   },
   {
    "duration": 9,
    "start_time": "2022-05-04T12:01:49.800Z"
   },
   {
    "duration": 1655,
    "start_time": "2022-05-04T12:02:08.996Z"
   },
   {
    "duration": 53,
    "start_time": "2022-05-04T12:02:10.654Z"
   },
   {
    "duration": 34,
    "start_time": "2022-05-04T12:02:10.710Z"
   },
   {
    "duration": 6,
    "start_time": "2022-05-04T12:02:10.748Z"
   },
   {
    "duration": 27,
    "start_time": "2022-05-04T12:02:10.756Z"
   },
   {
    "duration": 78,
    "start_time": "2022-05-04T12:02:10.786Z"
   },
   {
    "duration": 13,
    "start_time": "2022-05-04T12:02:10.867Z"
   },
   {
    "duration": 13,
    "start_time": "2022-05-04T12:02:10.882Z"
   },
   {
    "duration": 35,
    "start_time": "2022-05-04T12:02:10.897Z"
   },
   {
    "duration": 29,
    "start_time": "2022-05-04T12:02:10.938Z"
   },
   {
    "duration": 34,
    "start_time": "2022-05-04T12:02:10.970Z"
   },
   {
    "duration": 35,
    "start_time": "2022-05-04T12:02:11.007Z"
   },
   {
    "duration": 47,
    "start_time": "2022-05-04T12:02:11.045Z"
   },
   {
    "duration": 28,
    "start_time": "2022-05-04T12:02:11.095Z"
   },
   {
    "duration": 26,
    "start_time": "2022-05-04T12:02:11.126Z"
   },
   {
    "duration": 47,
    "start_time": "2022-05-04T12:02:11.154Z"
   },
   {
    "duration": 18,
    "start_time": "2022-05-04T12:02:11.204Z"
   },
   {
    "duration": 42,
    "start_time": "2022-05-04T12:02:11.233Z"
   },
   {
    "duration": 10,
    "start_time": "2022-05-04T12:02:11.278Z"
   },
   {
    "duration": 55,
    "start_time": "2022-05-04T12:02:11.291Z"
   },
   {
    "duration": 6,
    "start_time": "2022-05-04T12:02:11.349Z"
   },
   {
    "duration": 27,
    "start_time": "2022-05-04T12:02:11.358Z"
   },
   {
    "duration": 11,
    "start_time": "2022-05-04T12:02:11.388Z"
   },
   {
    "duration": 133,
    "start_time": "2022-05-04T12:02:11.430Z"
   },
   {
    "duration": 26,
    "start_time": "2022-05-04T12:02:11.566Z"
   },
   {
    "duration": 309,
    "start_time": "2022-05-04T12:02:11.594Z"
   },
   {
    "duration": 338,
    "start_time": "2022-05-04T12:02:11.905Z"
   },
   {
    "duration": 15,
    "start_time": "2022-05-04T12:02:12.251Z"
   },
   {
    "duration": 100,
    "start_time": "2022-05-04T12:02:12.269Z"
   },
   {
    "duration": 896,
    "start_time": "2022-05-04T12:02:12.372Z"
   },
   {
    "duration": 69,
    "start_time": "2022-05-04T12:02:13.271Z"
   },
   {
    "duration": 1099,
    "start_time": "2022-05-04T12:02:13.343Z"
   },
   {
    "duration": 100,
    "start_time": "2022-05-04T12:02:14.445Z"
   },
   {
    "duration": 21,
    "start_time": "2022-05-04T12:02:14.548Z"
   },
   {
    "duration": 26,
    "start_time": "2022-05-04T12:02:14.627Z"
   },
   {
    "duration": 103,
    "start_time": "2022-05-04T12:02:14.656Z"
   },
   {
    "duration": 3,
    "start_time": "2022-05-04T12:02:14.762Z"
   },
   {
    "duration": 1082,
    "start_time": "2022-05-04T12:02:14.768Z"
   },
   {
    "duration": 402,
    "start_time": "2022-05-04T12:02:15.852Z"
   },
   {
    "duration": 43,
    "start_time": "2022-05-04T12:02:16.257Z"
   },
   {
    "duration": 12,
    "start_time": "2022-05-04T12:02:16.324Z"
   },
   {
    "duration": 28,
    "start_time": "2022-05-04T12:02:16.339Z"
   },
   {
    "duration": 542,
    "start_time": "2022-05-04T12:02:16.370Z"
   },
   {
    "duration": 17,
    "start_time": "2022-05-04T12:02:16.915Z"
   },
   {
    "duration": 441,
    "start_time": "2022-05-04T12:02:16.935Z"
   },
   {
    "duration": 398,
    "start_time": "2022-05-04T12:02:17.379Z"
   },
   {
    "duration": 9,
    "start_time": "2022-05-04T12:02:17.780Z"
   },
   {
    "duration": 342,
    "start_time": "2022-05-04T12:02:17.792Z"
   },
   {
    "duration": 7,
    "start_time": "2022-05-04T12:02:18.136Z"
   },
   {
    "duration": 405,
    "start_time": "2022-05-04T12:02:18.146Z"
   },
   {
    "duration": 8,
    "start_time": "2022-05-04T12:02:18.554Z"
   },
   {
    "duration": 17,
    "start_time": "2022-05-04T12:02:18.566Z"
   },
   {
    "duration": 63,
    "start_time": "2022-05-04T12:02:18.585Z"
   },
   {
    "duration": 10,
    "start_time": "2022-05-04T12:02:18.652Z"
   },
   {
    "duration": 15,
    "start_time": "2022-05-04T12:02:18.664Z"
   },
   {
    "duration": 42,
    "start_time": "2022-05-04T12:02:18.681Z"
   },
   {
    "duration": 24,
    "start_time": "2022-05-04T12:02:18.728Z"
   },
   {
    "duration": 16,
    "start_time": "2022-05-04T12:02:18.755Z"
   },
   {
    "duration": 21,
    "start_time": "2022-05-04T12:02:18.773Z"
   },
   {
    "duration": 40,
    "start_time": "2022-05-04T12:02:18.797Z"
   },
   {
    "duration": 20,
    "start_time": "2022-05-04T12:02:18.842Z"
   },
   {
    "duration": 35,
    "start_time": "2022-05-04T12:02:18.864Z"
   },
   {
    "duration": 32,
    "start_time": "2022-05-04T12:02:18.903Z"
   },
   {
    "duration": 30,
    "start_time": "2022-05-04T12:02:18.938Z"
   },
   {
    "duration": 16,
    "start_time": "2022-05-04T12:02:18.970Z"
   },
   {
    "duration": 54,
    "start_time": "2022-05-04T12:02:18.989Z"
   },
   {
    "duration": 14,
    "start_time": "2022-05-04T12:02:19.046Z"
   },
   {
    "duration": 24,
    "start_time": "2022-05-04T12:02:19.063Z"
   },
   {
    "duration": 42,
    "start_time": "2022-05-04T12:02:19.090Z"
   },
   {
    "duration": 18,
    "start_time": "2022-05-04T12:02:19.137Z"
   },
   {
    "duration": 13,
    "start_time": "2022-05-04T12:02:19.158Z"
   },
   {
    "duration": 19,
    "start_time": "2022-05-04T12:02:19.174Z"
   },
   {
    "duration": 56,
    "start_time": "2022-05-04T12:02:19.195Z"
   },
   {
    "duration": 122,
    "start_time": "2022-05-04T12:02:19.255Z"
   },
   {
    "duration": 0,
    "start_time": "2022-05-04T12:02:19.379Z"
   },
   {
    "duration": 0,
    "start_time": "2022-05-04T12:02:19.381Z"
   },
   {
    "duration": 0,
    "start_time": "2022-05-04T12:02:19.384Z"
   },
   {
    "duration": 0,
    "start_time": "2022-05-04T12:02:19.386Z"
   },
   {
    "duration": 0,
    "start_time": "2022-05-04T12:02:19.388Z"
   },
   {
    "duration": 0,
    "start_time": "2022-05-04T12:02:19.391Z"
   },
   {
    "duration": 0,
    "start_time": "2022-05-04T12:02:19.393Z"
   },
   {
    "duration": 0,
    "start_time": "2022-05-04T12:02:19.395Z"
   },
   {
    "duration": 0,
    "start_time": "2022-05-04T12:02:19.398Z"
   },
   {
    "duration": 0,
    "start_time": "2022-05-04T12:02:19.400Z"
   },
   {
    "duration": 10,
    "start_time": "2022-05-04T12:02:56.309Z"
   },
   {
    "duration": 6,
    "start_time": "2022-05-04T12:03:08.375Z"
   },
   {
    "duration": 232,
    "start_time": "2022-05-04T12:03:32.128Z"
   },
   {
    "duration": 10,
    "start_time": "2022-05-04T12:04:42.279Z"
   },
   {
    "duration": 9,
    "start_time": "2022-05-04T12:04:45.337Z"
   },
   {
    "duration": 6,
    "start_time": "2022-05-04T12:04:47.609Z"
   },
   {
    "duration": 1695,
    "start_time": "2022-05-04T12:05:08.226Z"
   },
   {
    "duration": 60,
    "start_time": "2022-05-04T12:05:09.926Z"
   },
   {
    "duration": 22,
    "start_time": "2022-05-04T12:05:09.989Z"
   },
   {
    "duration": 8,
    "start_time": "2022-05-04T12:05:10.026Z"
   },
   {
    "duration": 5,
    "start_time": "2022-05-04T12:05:10.037Z"
   },
   {
    "duration": 53,
    "start_time": "2022-05-04T12:05:10.048Z"
   },
   {
    "duration": 34,
    "start_time": "2022-05-04T12:05:10.103Z"
   },
   {
    "duration": 17,
    "start_time": "2022-05-04T12:05:10.140Z"
   },
   {
    "duration": 15,
    "start_time": "2022-05-04T12:05:10.160Z"
   },
   {
    "duration": 59,
    "start_time": "2022-05-04T12:05:10.182Z"
   },
   {
    "duration": 31,
    "start_time": "2022-05-04T12:05:10.244Z"
   },
   {
    "duration": 23,
    "start_time": "2022-05-04T12:05:10.278Z"
   },
   {
    "duration": 32,
    "start_time": "2022-05-04T12:05:10.303Z"
   },
   {
    "duration": 18,
    "start_time": "2022-05-04T12:05:10.342Z"
   },
   {
    "duration": 29,
    "start_time": "2022-05-04T12:05:10.362Z"
   },
   {
    "duration": 28,
    "start_time": "2022-05-04T12:05:10.393Z"
   },
   {
    "duration": 25,
    "start_time": "2022-05-04T12:05:10.424Z"
   },
   {
    "duration": 19,
    "start_time": "2022-05-04T12:05:10.455Z"
   },
   {
    "duration": 8,
    "start_time": "2022-05-04T12:05:10.476Z"
   },
   {
    "duration": 64,
    "start_time": "2022-05-04T12:05:10.486Z"
   },
   {
    "duration": 8,
    "start_time": "2022-05-04T12:05:10.553Z"
   },
   {
    "duration": 67,
    "start_time": "2022-05-04T12:05:10.564Z"
   },
   {
    "duration": 7,
    "start_time": "2022-05-04T12:05:10.634Z"
   },
   {
    "duration": 143,
    "start_time": "2022-05-04T12:05:10.644Z"
   },
   {
    "duration": 59,
    "start_time": "2022-05-04T12:05:10.790Z"
   },
   {
    "duration": 275,
    "start_time": "2022-05-04T12:05:10.851Z"
   },
   {
    "duration": 249,
    "start_time": "2022-05-04T12:05:11.129Z"
   },
   {
    "duration": 13,
    "start_time": "2022-05-04T12:05:11.385Z"
   },
   {
    "duration": 55,
    "start_time": "2022-05-04T12:05:11.400Z"
   },
   {
    "duration": 320,
    "start_time": "2022-05-04T12:05:11.457Z"
   },
   {
    "duration": 10,
    "start_time": "2022-05-04T12:05:11.779Z"
   },
   {
    "duration": 447,
    "start_time": "2022-05-04T12:05:11.792Z"
   },
   {
    "duration": 40,
    "start_time": "2022-05-04T12:05:12.242Z"
   },
   {
    "duration": 59,
    "start_time": "2022-05-04T12:05:12.284Z"
   },
   {
    "duration": 28,
    "start_time": "2022-05-04T12:05:12.346Z"
   },
   {
    "duration": 74,
    "start_time": "2022-05-04T12:05:12.377Z"
   },
   {
    "duration": 11,
    "start_time": "2022-05-04T12:05:12.453Z"
   },
   {
    "duration": 381,
    "start_time": "2022-05-04T12:05:12.466Z"
   },
   {
    "duration": 380,
    "start_time": "2022-05-04T12:05:12.849Z"
   },
   {
    "duration": 30,
    "start_time": "2022-05-04T12:05:13.234Z"
   },
   {
    "duration": 8,
    "start_time": "2022-05-04T12:05:13.267Z"
   },
   {
    "duration": 68,
    "start_time": "2022-05-04T12:05:13.277Z"
   },
   {
    "duration": 393,
    "start_time": "2022-05-04T12:05:13.347Z"
   },
   {
    "duration": 8,
    "start_time": "2022-05-04T12:05:13.742Z"
   },
   {
    "duration": 401,
    "start_time": "2022-05-04T12:05:13.753Z"
   },
   {
    "duration": 314,
    "start_time": "2022-05-04T12:05:14.157Z"
   },
   {
    "duration": 8,
    "start_time": "2022-05-04T12:05:14.473Z"
   },
   {
    "duration": 367,
    "start_time": "2022-05-04T12:05:14.484Z"
   },
   {
    "duration": 7,
    "start_time": "2022-05-04T12:05:14.854Z"
   },
   {
    "duration": 289,
    "start_time": "2022-05-04T12:05:14.863Z"
   },
   {
    "duration": 9,
    "start_time": "2022-05-04T12:05:15.155Z"
   },
   {
    "duration": 12,
    "start_time": "2022-05-04T12:05:15.166Z"
   },
   {
    "duration": 32,
    "start_time": "2022-05-04T12:05:15.180Z"
   },
   {
    "duration": 5,
    "start_time": "2022-05-04T12:05:15.214Z"
   },
   {
    "duration": 21,
    "start_time": "2022-05-04T12:05:15.227Z"
   },
   {
    "duration": 19,
    "start_time": "2022-05-04T12:05:15.250Z"
   },
   {
    "duration": 167,
    "start_time": "2022-05-04T12:05:15.271Z"
   },
   {
    "duration": 0,
    "start_time": "2022-05-04T12:05:15.440Z"
   },
   {
    "duration": 0,
    "start_time": "2022-05-04T12:05:15.442Z"
   },
   {
    "duration": 0,
    "start_time": "2022-05-04T12:05:15.443Z"
   },
   {
    "duration": 0,
    "start_time": "2022-05-04T12:05:15.447Z"
   },
   {
    "duration": 0,
    "start_time": "2022-05-04T12:05:15.449Z"
   },
   {
    "duration": 0,
    "start_time": "2022-05-04T12:05:15.450Z"
   },
   {
    "duration": 0,
    "start_time": "2022-05-04T12:05:15.453Z"
   },
   {
    "duration": 0,
    "start_time": "2022-05-04T12:05:15.454Z"
   },
   {
    "duration": 0,
    "start_time": "2022-05-04T12:05:15.456Z"
   },
   {
    "duration": 0,
    "start_time": "2022-05-04T12:05:15.458Z"
   },
   {
    "duration": 0,
    "start_time": "2022-05-04T12:05:15.460Z"
   },
   {
    "duration": 0,
    "start_time": "2022-05-04T12:05:15.462Z"
   },
   {
    "duration": 0,
    "start_time": "2022-05-04T12:05:15.464Z"
   },
   {
    "duration": 0,
    "start_time": "2022-05-04T12:05:15.466Z"
   },
   {
    "duration": 0,
    "start_time": "2022-05-04T12:05:15.468Z"
   },
   {
    "duration": 0,
    "start_time": "2022-05-04T12:05:15.470Z"
   },
   {
    "duration": 0,
    "start_time": "2022-05-04T12:05:15.472Z"
   },
   {
    "duration": 0,
    "start_time": "2022-05-04T12:05:15.473Z"
   },
   {
    "duration": 0,
    "start_time": "2022-05-04T12:05:15.475Z"
   },
   {
    "duration": 0,
    "start_time": "2022-05-04T12:05:15.476Z"
   },
   {
    "duration": 0,
    "start_time": "2022-05-04T12:05:15.478Z"
   },
   {
    "duration": 0,
    "start_time": "2022-05-04T12:05:15.479Z"
   },
   {
    "duration": 0,
    "start_time": "2022-05-04T12:05:15.481Z"
   },
   {
    "duration": 0,
    "start_time": "2022-05-04T12:05:15.482Z"
   },
   {
    "duration": 0,
    "start_time": "2022-05-04T12:05:15.483Z"
   },
   {
    "duration": 0,
    "start_time": "2022-05-04T12:05:15.485Z"
   },
   {
    "duration": 0,
    "start_time": "2022-05-04T12:05:15.486Z"
   },
   {
    "duration": 13,
    "start_time": "2022-05-04T12:06:15.806Z"
   },
   {
    "duration": 6,
    "start_time": "2022-05-04T12:06:27.596Z"
   },
   {
    "duration": 17,
    "start_time": "2022-05-04T12:07:14.293Z"
   },
   {
    "duration": 289,
    "start_time": "2022-05-04T12:08:41.488Z"
   },
   {
    "duration": 23,
    "start_time": "2022-05-04T12:08:55.425Z"
   },
   {
    "duration": 171,
    "start_time": "2022-05-04T12:10:00.539Z"
   },
   {
    "duration": 160,
    "start_time": "2022-05-04T12:11:27.798Z"
   },
   {
    "duration": 12,
    "start_time": "2022-05-04T12:13:39.988Z"
   },
   {
    "duration": 15,
    "start_time": "2022-05-04T12:13:42.504Z"
   },
   {
    "duration": 1392,
    "start_time": "2022-05-05T07:12:12.327Z"
   },
   {
    "duration": 48,
    "start_time": "2022-05-05T07:12:13.723Z"
   },
   {
    "duration": 15,
    "start_time": "2022-05-05T07:12:13.773Z"
   },
   {
    "duration": 3,
    "start_time": "2022-05-05T07:12:13.791Z"
   },
   {
    "duration": 4,
    "start_time": "2022-05-05T07:12:13.796Z"
   },
   {
    "duration": 44,
    "start_time": "2022-05-05T07:12:13.801Z"
   },
   {
    "duration": 10,
    "start_time": "2022-05-05T07:12:13.848Z"
   },
   {
    "duration": 5,
    "start_time": "2022-05-05T07:12:13.860Z"
   },
   {
    "duration": 6,
    "start_time": "2022-05-05T07:12:13.867Z"
   },
   {
    "duration": 6,
    "start_time": "2022-05-05T07:12:13.875Z"
   },
   {
    "duration": 14,
    "start_time": "2022-05-05T07:12:13.883Z"
   },
   {
    "duration": 6,
    "start_time": "2022-05-05T07:12:13.924Z"
   },
   {
    "duration": 18,
    "start_time": "2022-05-05T07:12:13.932Z"
   },
   {
    "duration": 10,
    "start_time": "2022-05-05T07:12:13.951Z"
   },
   {
    "duration": 6,
    "start_time": "2022-05-05T07:12:13.962Z"
   },
   {
    "duration": 12,
    "start_time": "2022-05-05T07:12:13.970Z"
   },
   {
    "duration": 43,
    "start_time": "2022-05-05T07:12:13.984Z"
   },
   {
    "duration": 16,
    "start_time": "2022-05-05T07:12:14.029Z"
   },
   {
    "duration": 7,
    "start_time": "2022-05-05T07:12:14.047Z"
   },
   {
    "duration": 28,
    "start_time": "2022-05-05T07:12:14.055Z"
   },
   {
    "duration": 5,
    "start_time": "2022-05-05T07:12:14.084Z"
   },
   {
    "duration": 22,
    "start_time": "2022-05-05T07:12:14.090Z"
   },
   {
    "duration": 2,
    "start_time": "2022-05-05T07:12:14.123Z"
   },
   {
    "duration": 76,
    "start_time": "2022-05-05T07:12:14.135Z"
   },
   {
    "duration": 30,
    "start_time": "2022-05-05T07:12:14.213Z"
   },
   {
    "duration": 159,
    "start_time": "2022-05-05T07:12:14.244Z"
   },
   {
    "duration": 151,
    "start_time": "2022-05-05T07:12:14.405Z"
   },
   {
    "duration": 8,
    "start_time": "2022-05-05T07:12:14.560Z"
   },
   {
    "duration": 23,
    "start_time": "2022-05-05T07:12:14.570Z"
   },
   {
    "duration": 195,
    "start_time": "2022-05-05T07:12:14.595Z"
   },
   {
    "duration": 7,
    "start_time": "2022-05-05T07:12:14.792Z"
   },
   {
    "duration": 264,
    "start_time": "2022-05-05T07:12:14.800Z"
   },
   {
    "duration": 24,
    "start_time": "2022-05-05T07:12:15.066Z"
   },
   {
    "duration": 14,
    "start_time": "2022-05-05T07:12:15.092Z"
   },
   {
    "duration": 33,
    "start_time": "2022-05-05T07:12:15.108Z"
   },
   {
    "duration": 24,
    "start_time": "2022-05-05T07:12:15.142Z"
   },
   {
    "duration": 6,
    "start_time": "2022-05-05T07:12:15.168Z"
   },
   {
    "duration": 239,
    "start_time": "2022-05-05T07:12:15.175Z"
   },
   {
    "duration": 224,
    "start_time": "2022-05-05T07:12:15.416Z"
   },
   {
    "duration": 18,
    "start_time": "2022-05-05T07:12:15.642Z"
   },
   {
    "duration": 14,
    "start_time": "2022-05-05T07:12:15.662Z"
   },
   {
    "duration": 14,
    "start_time": "2022-05-05T07:12:15.678Z"
   },
   {
    "duration": 247,
    "start_time": "2022-05-05T07:12:15.694Z"
   },
   {
    "duration": 5,
    "start_time": "2022-05-05T07:12:15.943Z"
   },
   {
    "duration": 489,
    "start_time": "2022-05-05T07:12:15.950Z"
   },
   {
    "duration": 498,
    "start_time": "2022-05-05T07:12:16.441Z"
   },
   {
    "duration": 6,
    "start_time": "2022-05-05T07:12:16.941Z"
   },
   {
    "duration": 483,
    "start_time": "2022-05-05T07:12:16.949Z"
   },
   {
    "duration": 7,
    "start_time": "2022-05-05T07:12:17.433Z"
   },
   {
    "duration": 319,
    "start_time": "2022-05-05T07:12:17.442Z"
   },
   {
    "duration": 5,
    "start_time": "2022-05-05T07:12:17.762Z"
   },
   {
    "duration": 12,
    "start_time": "2022-05-05T07:12:17.825Z"
   },
   {
    "duration": 24,
    "start_time": "2022-05-05T07:12:17.839Z"
   },
   {
    "duration": 8,
    "start_time": "2022-05-05T07:12:17.864Z"
   },
   {
    "duration": 59,
    "start_time": "2022-05-05T07:12:17.874Z"
   },
   {
    "duration": 16,
    "start_time": "2022-05-05T07:12:17.935Z"
   },
   {
    "duration": 2,
    "start_time": "2022-05-05T07:12:17.953Z"
   },
   {
    "duration": 7,
    "start_time": "2022-05-05T07:12:17.957Z"
   },
   {
    "duration": 5,
    "start_time": "2022-05-05T07:12:17.965Z"
   },
   {
    "duration": 67,
    "start_time": "2022-05-05T07:12:17.972Z"
   },
   {
    "duration": 149,
    "start_time": "2022-05-05T07:12:18.041Z"
   },
   {
    "duration": 44,
    "start_time": "2022-05-05T07:12:18.192Z"
   },
   {
    "duration": 11,
    "start_time": "2022-05-05T07:12:18.239Z"
   },
   {
    "duration": 13,
    "start_time": "2022-05-05T07:12:18.251Z"
   },
   {
    "duration": 18,
    "start_time": "2022-05-05T07:12:18.266Z"
   },
   {
    "duration": 18,
    "start_time": "2022-05-05T07:12:18.286Z"
   },
   {
    "duration": 9,
    "start_time": "2022-05-05T07:12:18.306Z"
   },
   {
    "duration": 20,
    "start_time": "2022-05-05T07:12:18.316Z"
   },
   {
    "duration": 10,
    "start_time": "2022-05-05T07:12:18.338Z"
   },
   {
    "duration": 11,
    "start_time": "2022-05-05T07:12:18.349Z"
   },
   {
    "duration": 11,
    "start_time": "2022-05-05T07:12:18.361Z"
   },
   {
    "duration": 12,
    "start_time": "2022-05-05T07:12:18.374Z"
   },
   {
    "duration": 14,
    "start_time": "2022-05-05T07:12:18.387Z"
   },
   {
    "duration": 138,
    "start_time": "2022-05-05T07:12:18.403Z"
   },
   {
    "duration": 0,
    "start_time": "2022-05-05T07:12:18.543Z"
   },
   {
    "duration": 0,
    "start_time": "2022-05-05T07:12:18.545Z"
   },
   {
    "duration": 0,
    "start_time": "2022-05-05T07:12:18.545Z"
   },
   {
    "duration": 0,
    "start_time": "2022-05-05T07:12:18.547Z"
   },
   {
    "duration": 0,
    "start_time": "2022-05-05T07:12:18.548Z"
   },
   {
    "duration": 0,
    "start_time": "2022-05-05T07:12:18.549Z"
   },
   {
    "duration": 0,
    "start_time": "2022-05-05T07:12:18.550Z"
   },
   {
    "duration": 0,
    "start_time": "2022-05-05T07:12:18.552Z"
   },
   {
    "duration": 0,
    "start_time": "2022-05-05T07:12:18.553Z"
   },
   {
    "duration": 0,
    "start_time": "2022-05-05T07:12:18.554Z"
   },
   {
    "duration": 1225,
    "start_time": "2022-05-05T10:37:44.485Z"
   },
   {
    "duration": 37,
    "start_time": "2022-05-05T10:37:45.712Z"
   },
   {
    "duration": 15,
    "start_time": "2022-05-05T10:37:45.750Z"
   },
   {
    "duration": 9,
    "start_time": "2022-05-05T10:37:45.767Z"
   },
   {
    "duration": 5,
    "start_time": "2022-05-05T10:37:45.778Z"
   },
   {
    "duration": 41,
    "start_time": "2022-05-05T10:37:45.785Z"
   },
   {
    "duration": 9,
    "start_time": "2022-05-05T10:37:45.827Z"
   },
   {
    "duration": 9,
    "start_time": "2022-05-05T10:37:45.837Z"
   },
   {
    "duration": 8,
    "start_time": "2022-05-05T10:37:45.848Z"
   },
   {
    "duration": 5,
    "start_time": "2022-05-05T10:37:45.858Z"
   },
   {
    "duration": 16,
    "start_time": "2022-05-05T10:37:45.865Z"
   },
   {
    "duration": 6,
    "start_time": "2022-05-05T10:37:45.882Z"
   },
   {
    "duration": 43,
    "start_time": "2022-05-05T10:37:45.889Z"
   },
   {
    "duration": 9,
    "start_time": "2022-05-05T10:37:45.936Z"
   },
   {
    "duration": 6,
    "start_time": "2022-05-05T10:37:45.946Z"
   },
   {
    "duration": 17,
    "start_time": "2022-05-05T10:37:45.954Z"
   },
   {
    "duration": 10,
    "start_time": "2022-05-05T10:37:45.973Z"
   },
   {
    "duration": 46,
    "start_time": "2022-05-05T10:37:45.985Z"
   },
   {
    "duration": 5,
    "start_time": "2022-05-05T10:37:46.032Z"
   },
   {
    "duration": 23,
    "start_time": "2022-05-05T10:37:46.038Z"
   },
   {
    "duration": 5,
    "start_time": "2022-05-05T10:37:46.063Z"
   },
   {
    "duration": 17,
    "start_time": "2022-05-05T10:37:46.069Z"
   },
   {
    "duration": 4,
    "start_time": "2022-05-05T10:37:46.088Z"
   },
   {
    "duration": 94,
    "start_time": "2022-05-05T10:37:46.093Z"
   },
   {
    "duration": 14,
    "start_time": "2022-05-05T10:37:46.188Z"
   },
   {
    "duration": 204,
    "start_time": "2022-05-05T10:37:46.203Z"
   },
   {
    "duration": 160,
    "start_time": "2022-05-05T10:37:46.409Z"
   },
   {
    "duration": 9,
    "start_time": "2022-05-05T10:37:46.571Z"
   },
   {
    "duration": 42,
    "start_time": "2022-05-05T10:37:46.582Z"
   },
   {
    "duration": 195,
    "start_time": "2022-05-05T10:37:46.626Z"
   },
   {
    "duration": 8,
    "start_time": "2022-05-05T10:37:46.823Z"
   },
   {
    "duration": 271,
    "start_time": "2022-05-05T10:37:46.834Z"
   },
   {
    "duration": 36,
    "start_time": "2022-05-05T10:37:47.107Z"
   },
   {
    "duration": 16,
    "start_time": "2022-05-05T10:37:47.145Z"
   },
   {
    "duration": 17,
    "start_time": "2022-05-05T10:37:47.163Z"
   },
   {
    "duration": 43,
    "start_time": "2022-05-05T10:37:47.182Z"
   },
   {
    "duration": 3,
    "start_time": "2022-05-05T10:37:47.227Z"
   },
   {
    "duration": 252,
    "start_time": "2022-05-05T10:37:47.232Z"
   },
   {
    "duration": 238,
    "start_time": "2022-05-05T10:37:47.487Z"
   },
   {
    "duration": 23,
    "start_time": "2022-05-05T10:37:47.727Z"
   },
   {
    "duration": 6,
    "start_time": "2022-05-05T10:37:47.756Z"
   },
   {
    "duration": 112,
    "start_time": "2022-05-05T10:37:47.764Z"
   },
   {
    "duration": 364,
    "start_time": "2022-05-05T10:37:47.878Z"
   },
   {
    "duration": 5,
    "start_time": "2022-05-05T10:37:48.244Z"
   },
   {
    "duration": 585,
    "start_time": "2022-05-05T10:37:48.251Z"
   },
   {
    "duration": 419,
    "start_time": "2022-05-05T10:37:48.838Z"
   },
   {
    "duration": 5,
    "start_time": "2022-05-05T10:37:49.258Z"
   },
   {
    "duration": 469,
    "start_time": "2022-05-05T10:37:49.265Z"
   },
   {
    "duration": 6,
    "start_time": "2022-05-05T10:37:49.735Z"
   },
   {
    "duration": 263,
    "start_time": "2022-05-05T10:37:49.742Z"
   },
   {
    "duration": 5,
    "start_time": "2022-05-05T10:37:50.007Z"
   },
   {
    "duration": 10,
    "start_time": "2022-05-05T10:37:50.023Z"
   },
   {
    "duration": 23,
    "start_time": "2022-05-05T10:37:50.035Z"
   },
   {
    "duration": 4,
    "start_time": "2022-05-05T10:37:50.061Z"
   },
   {
    "duration": 8,
    "start_time": "2022-05-05T10:37:50.068Z"
   },
   {
    "duration": 12,
    "start_time": "2022-05-05T10:37:50.078Z"
   },
   {
    "duration": 32,
    "start_time": "2022-05-05T10:37:50.092Z"
   },
   {
    "duration": 3,
    "start_time": "2022-05-05T10:37:50.126Z"
   },
   {
    "duration": 5,
    "start_time": "2022-05-05T10:37:50.131Z"
   },
   {
    "duration": 16,
    "start_time": "2022-05-05T10:37:50.138Z"
   },
   {
    "duration": 110,
    "start_time": "2022-05-05T10:37:50.156Z"
   },
   {
    "duration": 8,
    "start_time": "2022-05-05T10:37:50.268Z"
   },
   {
    "duration": 12,
    "start_time": "2022-05-05T10:37:50.278Z"
   },
   {
    "duration": 11,
    "start_time": "2022-05-05T10:37:50.292Z"
   },
   {
    "duration": 25,
    "start_time": "2022-05-05T10:37:50.305Z"
   },
   {
    "duration": 22,
    "start_time": "2022-05-05T10:37:50.331Z"
   },
   {
    "duration": 9,
    "start_time": "2022-05-05T10:37:50.355Z"
   },
   {
    "duration": 13,
    "start_time": "2022-05-05T10:37:50.366Z"
   },
   {
    "duration": 9,
    "start_time": "2022-05-05T10:37:50.380Z"
   },
   {
    "duration": 10,
    "start_time": "2022-05-05T10:37:50.390Z"
   },
   {
    "duration": 26,
    "start_time": "2022-05-05T10:37:50.402Z"
   },
   {
    "duration": 11,
    "start_time": "2022-05-05T10:37:50.429Z"
   },
   {
    "duration": 16,
    "start_time": "2022-05-05T10:37:50.442Z"
   },
   {
    "duration": 192,
    "start_time": "2022-05-05T10:37:50.459Z"
   },
   {
    "duration": 0,
    "start_time": "2022-05-05T10:37:50.652Z"
   },
   {
    "duration": 0,
    "start_time": "2022-05-05T10:37:50.654Z"
   },
   {
    "duration": 0,
    "start_time": "2022-05-05T10:37:50.655Z"
   },
   {
    "duration": 0,
    "start_time": "2022-05-05T10:37:50.657Z"
   },
   {
    "duration": 0,
    "start_time": "2022-05-05T10:37:50.658Z"
   },
   {
    "duration": 0,
    "start_time": "2022-05-05T10:37:50.659Z"
   },
   {
    "duration": 0,
    "start_time": "2022-05-05T10:37:50.660Z"
   },
   {
    "duration": 0,
    "start_time": "2022-05-05T10:37:50.661Z"
   },
   {
    "duration": 0,
    "start_time": "2022-05-05T10:37:50.662Z"
   },
   {
    "duration": 0,
    "start_time": "2022-05-05T10:37:50.663Z"
   },
   {
    "duration": 3,
    "start_time": "2022-05-05T10:41:38.140Z"
   },
   {
    "duration": 9,
    "start_time": "2022-05-05T10:41:40.224Z"
   },
   {
    "duration": 2,
    "start_time": "2022-05-05T10:41:41.832Z"
   },
   {
    "duration": 11,
    "start_time": "2022-05-05T10:41:50.651Z"
   },
   {
    "duration": 5,
    "start_time": "2022-05-05T10:44:24.658Z"
   },
   {
    "duration": 8,
    "start_time": "2022-05-05T10:44:58.876Z"
   },
   {
    "duration": 7,
    "start_time": "2022-05-05T10:46:40.486Z"
   },
   {
    "duration": 10,
    "start_time": "2022-05-05T10:46:48.686Z"
   },
   {
    "duration": 11,
    "start_time": "2022-05-05T10:48:37.783Z"
   },
   {
    "duration": 116,
    "start_time": "2022-05-05T10:48:54.271Z"
   },
   {
    "duration": 9,
    "start_time": "2022-05-05T10:49:00.431Z"
   },
   {
    "duration": 13,
    "start_time": "2022-05-05T10:50:21.484Z"
   },
   {
    "duration": 22,
    "start_time": "2022-05-05T10:50:42.492Z"
   },
   {
    "duration": 19,
    "start_time": "2022-05-05T10:52:27.034Z"
   },
   {
    "duration": 15,
    "start_time": "2022-05-05T10:53:01.594Z"
   },
   {
    "duration": 13,
    "start_time": "2022-05-05T10:53:24.750Z"
   },
   {
    "duration": 3,
    "start_time": "2022-05-05T10:53:46.384Z"
   },
   {
    "duration": 8,
    "start_time": "2022-05-05T10:54:20.912Z"
   },
   {
    "duration": 13,
    "start_time": "2022-05-05T10:55:35.073Z"
   },
   {
    "duration": 19,
    "start_time": "2022-05-05T10:55:54.137Z"
   },
   {
    "duration": 14,
    "start_time": "2022-05-05T10:58:32.585Z"
   },
   {
    "duration": 4,
    "start_time": "2022-05-05T10:58:50.060Z"
   },
   {
    "duration": 9,
    "start_time": "2022-05-05T10:58:56.168Z"
   },
   {
    "duration": 14,
    "start_time": "2022-05-05T10:59:56.449Z"
   },
   {
    "duration": 18,
    "start_time": "2022-05-05T11:01:30.665Z"
   },
   {
    "duration": 15,
    "start_time": "2022-05-05T11:01:38.163Z"
   },
   {
    "duration": 15,
    "start_time": "2022-05-05T11:02:35.960Z"
   },
   {
    "duration": 114,
    "start_time": "2022-05-05T11:07:16.222Z"
   },
   {
    "duration": 81,
    "start_time": "2022-05-05T11:08:19.364Z"
   },
   {
    "duration": 8,
    "start_time": "2022-05-05T11:12:21.567Z"
   },
   {
    "duration": 5,
    "start_time": "2022-05-05T11:12:40.914Z"
   },
   {
    "duration": 16,
    "start_time": "2022-05-05T11:12:49.392Z"
   },
   {
    "duration": 24,
    "start_time": "2022-05-05T11:13:04.433Z"
   },
   {
    "duration": 88,
    "start_time": "2022-05-05T11:13:48.877Z"
   },
   {
    "duration": 12,
    "start_time": "2022-05-05T11:16:15.006Z"
   },
   {
    "duration": 155,
    "start_time": "2022-05-05T11:16:22.864Z"
   },
   {
    "duration": 103,
    "start_time": "2022-05-05T11:18:41.085Z"
   },
   {
    "duration": 100,
    "start_time": "2022-05-05T11:18:49.465Z"
   },
   {
    "duration": 102,
    "start_time": "2022-05-05T11:19:15.201Z"
   },
   {
    "duration": 163,
    "start_time": "2022-05-05T11:19:22.291Z"
   },
   {
    "duration": 2518,
    "start_time": "2022-05-05T11:19:36.035Z"
   },
   {
    "duration": 78,
    "start_time": "2022-05-05T11:19:57.908Z"
   },
   {
    "duration": 159,
    "start_time": "2022-05-05T11:20:07.976Z"
   },
   {
    "duration": 9,
    "start_time": "2022-05-05T11:20:22.705Z"
   },
   {
    "duration": 9,
    "start_time": "2022-05-05T11:20:53.312Z"
   },
   {
    "duration": 1185,
    "start_time": "2022-05-05T11:21:43.326Z"
   },
   {
    "duration": 40,
    "start_time": "2022-05-05T11:21:44.514Z"
   },
   {
    "duration": 17,
    "start_time": "2022-05-05T11:21:44.556Z"
   },
   {
    "duration": 6,
    "start_time": "2022-05-05T11:21:44.577Z"
   },
   {
    "duration": 5,
    "start_time": "2022-05-05T11:21:44.584Z"
   },
   {
    "duration": 50,
    "start_time": "2022-05-05T11:21:44.591Z"
   },
   {
    "duration": 11,
    "start_time": "2022-05-05T11:21:44.643Z"
   },
   {
    "duration": 7,
    "start_time": "2022-05-05T11:21:44.657Z"
   },
   {
    "duration": 6,
    "start_time": "2022-05-05T11:21:44.666Z"
   },
   {
    "duration": 3,
    "start_time": "2022-05-05T11:21:44.676Z"
   },
   {
    "duration": 49,
    "start_time": "2022-05-05T11:21:44.681Z"
   },
   {
    "duration": 6,
    "start_time": "2022-05-05T11:21:44.732Z"
   },
   {
    "duration": 18,
    "start_time": "2022-05-05T11:21:44.740Z"
   },
   {
    "duration": 12,
    "start_time": "2022-05-05T11:21:44.760Z"
   },
   {
    "duration": 7,
    "start_time": "2022-05-05T11:21:44.774Z"
   },
   {
    "duration": 14,
    "start_time": "2022-05-05T11:21:44.783Z"
   },
   {
    "duration": 11,
    "start_time": "2022-05-05T11:21:44.824Z"
   },
   {
    "duration": 12,
    "start_time": "2022-05-05T11:21:44.836Z"
   },
   {
    "duration": 5,
    "start_time": "2022-05-05T11:21:44.850Z"
   },
   {
    "duration": 18,
    "start_time": "2022-05-05T11:21:44.856Z"
   },
   {
    "duration": 4,
    "start_time": "2022-05-05T11:21:44.876Z"
   },
   {
    "duration": 48,
    "start_time": "2022-05-05T11:21:44.881Z"
   },
   {
    "duration": 5,
    "start_time": "2022-05-05T11:21:44.931Z"
   },
   {
    "duration": 86,
    "start_time": "2022-05-05T11:21:44.937Z"
   },
   {
    "duration": 13,
    "start_time": "2022-05-05T11:21:45.025Z"
   },
   {
    "duration": 164,
    "start_time": "2022-05-05T11:21:45.040Z"
   },
   {
    "duration": 140,
    "start_time": "2022-05-05T11:21:45.206Z"
   },
   {
    "duration": 8,
    "start_time": "2022-05-05T11:21:45.350Z"
   },
   {
    "duration": 20,
    "start_time": "2022-05-05T11:21:45.359Z"
   },
   {
    "duration": 187,
    "start_time": "2022-05-05T11:21:45.381Z"
   },
   {
    "duration": 6,
    "start_time": "2022-05-05T11:21:45.570Z"
   },
   {
    "duration": 258,
    "start_time": "2022-05-05T11:21:45.578Z"
   },
   {
    "duration": 33,
    "start_time": "2022-05-05T11:21:45.837Z"
   },
   {
    "duration": 18,
    "start_time": "2022-05-05T11:21:45.871Z"
   },
   {
    "duration": 34,
    "start_time": "2022-05-05T11:21:45.891Z"
   },
   {
    "duration": 22,
    "start_time": "2022-05-05T11:21:45.927Z"
   },
   {
    "duration": 3,
    "start_time": "2022-05-05T11:21:45.951Z"
   },
   {
    "duration": 230,
    "start_time": "2022-05-05T11:21:45.956Z"
   },
   {
    "duration": 451,
    "start_time": "2022-05-05T11:21:46.187Z"
   },
   {
    "duration": 20,
    "start_time": "2022-05-05T11:21:46.640Z"
   },
   {
    "duration": 6,
    "start_time": "2022-05-05T11:21:46.661Z"
   },
   {
    "duration": 11,
    "start_time": "2022-05-05T11:21:46.724Z"
   },
   {
    "duration": 488,
    "start_time": "2022-05-05T11:21:46.736Z"
   },
   {
    "duration": 6,
    "start_time": "2022-05-05T11:21:47.226Z"
   },
   {
    "duration": 630,
    "start_time": "2022-05-05T11:21:47.234Z"
   },
   {
    "duration": 279,
    "start_time": "2022-05-05T11:21:47.865Z"
   },
   {
    "duration": 5,
    "start_time": "2022-05-05T11:21:48.147Z"
   },
   {
    "duration": 250,
    "start_time": "2022-05-05T11:21:48.154Z"
   },
   {
    "duration": 6,
    "start_time": "2022-05-05T11:21:48.406Z"
   },
   {
    "duration": 234,
    "start_time": "2022-05-05T11:21:48.423Z"
   },
   {
    "duration": 6,
    "start_time": "2022-05-05T11:21:48.659Z"
   },
   {
    "duration": 12,
    "start_time": "2022-05-05T11:21:48.666Z"
   },
   {
    "duration": 17,
    "start_time": "2022-05-05T11:21:48.679Z"
   },
   {
    "duration": 26,
    "start_time": "2022-05-05T11:21:48.698Z"
   },
   {
    "duration": 15,
    "start_time": "2022-05-05T11:21:48.726Z"
   },
   {
    "duration": 29,
    "start_time": "2022-05-05T11:21:48.743Z"
   },
   {
    "duration": 17,
    "start_time": "2022-05-05T11:21:48.774Z"
   },
   {
    "duration": 8,
    "start_time": "2022-05-05T11:21:48.793Z"
   },
   {
    "duration": 18,
    "start_time": "2022-05-05T11:21:48.803Z"
   },
   {
    "duration": 79,
    "start_time": "2022-05-05T11:21:48.822Z"
   },
   {
    "duration": 28,
    "start_time": "2022-05-05T11:21:48.904Z"
   },
   {
    "duration": 15,
    "start_time": "2022-05-05T11:21:48.934Z"
   },
   {
    "duration": 8,
    "start_time": "2022-05-05T11:21:48.950Z"
   },
   {
    "duration": 13,
    "start_time": "2022-05-05T11:21:48.960Z"
   },
   {
    "duration": 11,
    "start_time": "2022-05-05T11:21:48.975Z"
   },
   {
    "duration": 37,
    "start_time": "2022-05-05T11:21:48.988Z"
   },
   {
    "duration": 10,
    "start_time": "2022-05-05T11:21:49.027Z"
   },
   {
    "duration": 8,
    "start_time": "2022-05-05T11:21:49.039Z"
   },
   {
    "duration": 13,
    "start_time": "2022-05-05T11:21:49.049Z"
   },
   {
    "duration": 9,
    "start_time": "2022-05-05T11:21:49.064Z"
   },
   {
    "duration": 12,
    "start_time": "2022-05-05T11:21:49.075Z"
   },
   {
    "duration": 40,
    "start_time": "2022-05-05T11:21:49.089Z"
   },
   {
    "duration": 162,
    "start_time": "2022-05-05T11:21:49.131Z"
   },
   {
    "duration": 15,
    "start_time": "2022-05-05T11:21:49.295Z"
   },
   {
    "duration": 106,
    "start_time": "2022-05-05T11:21:49.324Z"
   },
   {
    "duration": 0,
    "start_time": "2022-05-05T11:21:49.432Z"
   },
   {
    "duration": 0,
    "start_time": "2022-05-05T11:21:49.433Z"
   },
   {
    "duration": 0,
    "start_time": "2022-05-05T11:21:49.434Z"
   },
   {
    "duration": 0,
    "start_time": "2022-05-05T11:21:49.435Z"
   },
   {
    "duration": 0,
    "start_time": "2022-05-05T11:21:49.436Z"
   },
   {
    "duration": 0,
    "start_time": "2022-05-05T11:21:49.437Z"
   },
   {
    "duration": 0,
    "start_time": "2022-05-05T11:21:49.438Z"
   },
   {
    "duration": 0,
    "start_time": "2022-05-05T11:21:49.440Z"
   },
   {
    "duration": 103,
    "start_time": "2022-05-05T11:22:03.955Z"
   },
   {
    "duration": 10,
    "start_time": "2022-05-05T11:22:25.957Z"
   },
   {
    "duration": 6,
    "start_time": "2022-05-05T11:22:34.479Z"
   },
   {
    "duration": 101,
    "start_time": "2022-05-05T11:22:36.668Z"
   },
   {
    "duration": 2237,
    "start_time": "2022-05-05T11:24:28.763Z"
   },
   {
    "duration": 2476,
    "start_time": "2022-05-05T11:24:50.568Z"
   },
   {
    "duration": 5318,
    "start_time": "2022-05-05T11:25:00.559Z"
   },
   {
    "duration": 22,
    "start_time": "2022-05-05T11:25:19.729Z"
   },
   {
    "duration": 13,
    "start_time": "2022-05-05T11:25:27.809Z"
   },
   {
    "duration": 9,
    "start_time": "2022-05-05T11:25:33.876Z"
   },
   {
    "duration": 151,
    "start_time": "2022-05-05T11:25:34.617Z"
   },
   {
    "duration": 12,
    "start_time": "2022-05-05T11:25:36.377Z"
   },
   {
    "duration": 11,
    "start_time": "2022-05-05T11:25:47.317Z"
   },
   {
    "duration": 262,
    "start_time": "2022-05-05T11:28:37.890Z"
   },
   {
    "duration": 172,
    "start_time": "2022-05-05T11:30:33.809Z"
   },
   {
    "duration": 328,
    "start_time": "2022-05-05T11:31:29.957Z"
   },
   {
    "duration": 11,
    "start_time": "2022-05-05T11:31:42.927Z"
   },
   {
    "duration": 162,
    "start_time": "2022-05-05T11:31:45.666Z"
   },
   {
    "duration": 10,
    "start_time": "2022-05-05T11:32:29.292Z"
   },
   {
    "duration": 11,
    "start_time": "2022-05-05T11:32:32.014Z"
   },
   {
    "duration": 10,
    "start_time": "2022-05-05T11:32:32.944Z"
   },
   {
    "duration": 7,
    "start_time": "2022-05-05T11:32:40.118Z"
   },
   {
    "duration": 12,
    "start_time": "2022-05-05T11:33:28.517Z"
   },
   {
    "duration": 162,
    "start_time": "2022-05-05T11:33:33.161Z"
   },
   {
    "duration": 168,
    "start_time": "2022-05-05T11:33:50.167Z"
   },
   {
    "duration": 15,
    "start_time": "2022-05-05T11:33:59.899Z"
   },
   {
    "duration": 17,
    "start_time": "2022-05-05T11:34:16.278Z"
   },
   {
    "duration": 9,
    "start_time": "2022-05-05T11:34:24.038Z"
   },
   {
    "duration": 14,
    "start_time": "2022-05-05T11:34:31.279Z"
   },
   {
    "duration": 13,
    "start_time": "2022-05-05T11:34:48.294Z"
   },
   {
    "duration": 164,
    "start_time": "2022-05-05T11:35:06.446Z"
   },
   {
    "duration": 162,
    "start_time": "2022-05-05T11:35:44.231Z"
   },
   {
    "duration": 170,
    "start_time": "2022-05-05T11:35:45.078Z"
   },
   {
    "duration": 172,
    "start_time": "2022-05-05T11:35:45.913Z"
   },
   {
    "duration": 169,
    "start_time": "2022-05-05T11:39:33.434Z"
   },
   {
    "duration": 15,
    "start_time": "2022-05-05T11:40:37.904Z"
   },
   {
    "duration": 15,
    "start_time": "2022-05-05T11:41:19.861Z"
   },
   {
    "duration": 176,
    "start_time": "2022-05-05T11:42:01.343Z"
   },
   {
    "duration": 165,
    "start_time": "2022-05-05T11:42:05.169Z"
   },
   {
    "duration": 22,
    "start_time": "2022-05-05T11:43:43.745Z"
   },
   {
    "duration": 15,
    "start_time": "2022-05-05T11:43:44.514Z"
   },
   {
    "duration": 8,
    "start_time": "2022-05-05T11:44:32.834Z"
   },
   {
    "duration": 8,
    "start_time": "2022-05-05T11:44:34.975Z"
   },
   {
    "duration": 17,
    "start_time": "2022-05-05T11:45:45.257Z"
   },
   {
    "duration": 8,
    "start_time": "2022-05-05T11:45:46.354Z"
   },
   {
    "duration": 6,
    "start_time": "2022-05-05T11:45:47.932Z"
   },
   {
    "duration": 1155,
    "start_time": "2022-05-05T11:46:07.854Z"
   },
   {
    "duration": 40,
    "start_time": "2022-05-05T11:46:09.012Z"
   },
   {
    "duration": 13,
    "start_time": "2022-05-05T11:46:09.054Z"
   },
   {
    "duration": 5,
    "start_time": "2022-05-05T11:46:09.069Z"
   },
   {
    "duration": 5,
    "start_time": "2022-05-05T11:46:09.075Z"
   },
   {
    "duration": 25,
    "start_time": "2022-05-05T11:46:09.082Z"
   },
   {
    "duration": 22,
    "start_time": "2022-05-05T11:46:09.109Z"
   },
   {
    "duration": 9,
    "start_time": "2022-05-05T11:46:09.132Z"
   },
   {
    "duration": 7,
    "start_time": "2022-05-05T11:46:09.143Z"
   },
   {
    "duration": 6,
    "start_time": "2022-05-05T11:46:09.152Z"
   },
   {
    "duration": 16,
    "start_time": "2022-05-05T11:46:09.160Z"
   },
   {
    "duration": 8,
    "start_time": "2022-05-05T11:46:09.178Z"
   },
   {
    "duration": 39,
    "start_time": "2022-05-05T11:46:09.188Z"
   },
   {
    "duration": 10,
    "start_time": "2022-05-05T11:46:09.229Z"
   },
   {
    "duration": 6,
    "start_time": "2022-05-05T11:46:09.241Z"
   },
   {
    "duration": 17,
    "start_time": "2022-05-05T11:46:09.249Z"
   },
   {
    "duration": 10,
    "start_time": "2022-05-05T11:46:09.267Z"
   },
   {
    "duration": 17,
    "start_time": "2022-05-05T11:46:09.279Z"
   },
   {
    "duration": 28,
    "start_time": "2022-05-05T11:46:09.297Z"
   },
   {
    "duration": 16,
    "start_time": "2022-05-05T11:46:09.327Z"
   },
   {
    "duration": 5,
    "start_time": "2022-05-05T11:46:09.344Z"
   },
   {
    "duration": 18,
    "start_time": "2022-05-05T11:46:09.350Z"
   },
   {
    "duration": 5,
    "start_time": "2022-05-05T11:46:09.369Z"
   },
   {
    "duration": 92,
    "start_time": "2022-05-05T11:46:09.375Z"
   },
   {
    "duration": 13,
    "start_time": "2022-05-05T11:46:09.469Z"
   },
   {
    "duration": 170,
    "start_time": "2022-05-05T11:46:09.484Z"
   },
   {
    "duration": 138,
    "start_time": "2022-05-05T11:46:09.655Z"
   },
   {
    "duration": 8,
    "start_time": "2022-05-05T11:46:09.797Z"
   },
   {
    "duration": 38,
    "start_time": "2022-05-05T11:46:09.806Z"
   },
   {
    "duration": 174,
    "start_time": "2022-05-05T11:46:09.846Z"
   },
   {
    "duration": 6,
    "start_time": "2022-05-05T11:46:10.023Z"
   },
   {
    "duration": 248,
    "start_time": "2022-05-05T11:46:10.031Z"
   },
   {
    "duration": 23,
    "start_time": "2022-05-05T11:46:10.281Z"
   },
   {
    "duration": 30,
    "start_time": "2022-05-05T11:46:10.306Z"
   },
   {
    "duration": 14,
    "start_time": "2022-05-05T11:46:10.337Z"
   },
   {
    "duration": 23,
    "start_time": "2022-05-05T11:46:10.352Z"
   },
   {
    "duration": 4,
    "start_time": "2022-05-05T11:46:10.377Z"
   },
   {
    "duration": 234,
    "start_time": "2022-05-05T11:46:10.383Z"
   },
   {
    "duration": 217,
    "start_time": "2022-05-05T11:46:10.619Z"
   },
   {
    "duration": 17,
    "start_time": "2022-05-05T11:46:10.838Z"
   },
   {
    "duration": 5,
    "start_time": "2022-05-05T11:46:10.857Z"
   },
   {
    "duration": 13,
    "start_time": "2022-05-05T11:46:10.863Z"
   },
   {
    "duration": 248,
    "start_time": "2022-05-05T11:46:10.877Z"
   },
   {
    "duration": 4,
    "start_time": "2022-05-05T11:46:11.127Z"
   },
   {
    "duration": 221,
    "start_time": "2022-05-05T11:46:11.133Z"
   },
   {
    "duration": 167,
    "start_time": "2022-05-05T11:46:11.356Z"
   },
   {
    "duration": 4,
    "start_time": "2022-05-05T11:46:11.525Z"
   },
   {
    "duration": 156,
    "start_time": "2022-05-05T11:46:11.531Z"
   },
   {
    "duration": 5,
    "start_time": "2022-05-05T11:46:11.688Z"
   },
   {
    "duration": 157,
    "start_time": "2022-05-05T11:46:11.695Z"
   },
   {
    "duration": 5,
    "start_time": "2022-05-05T11:46:11.854Z"
   },
   {
    "duration": 10,
    "start_time": "2022-05-05T11:46:11.860Z"
   },
   {
    "duration": 12,
    "start_time": "2022-05-05T11:46:11.871Z"
   },
   {
    "duration": 7,
    "start_time": "2022-05-05T11:46:11.885Z"
   },
   {
    "duration": 37,
    "start_time": "2022-05-05T11:46:11.894Z"
   },
   {
    "duration": 2,
    "start_time": "2022-05-05T11:46:11.933Z"
   },
   {
    "duration": 7,
    "start_time": "2022-05-05T11:46:11.937Z"
   },
   {
    "duration": 4,
    "start_time": "2022-05-05T11:46:11.946Z"
   },
   {
    "duration": 16,
    "start_time": "2022-05-05T11:46:11.952Z"
   },
   {
    "duration": 106,
    "start_time": "2022-05-05T11:46:11.970Z"
   },
   {
    "duration": 15,
    "start_time": "2022-05-05T11:46:12.078Z"
   },
   {
    "duration": 29,
    "start_time": "2022-05-05T11:46:12.095Z"
   },
   {
    "duration": 8,
    "start_time": "2022-05-05T11:46:12.126Z"
   },
   {
    "duration": 13,
    "start_time": "2022-05-05T11:46:12.136Z"
   },
   {
    "duration": 7,
    "start_time": "2022-05-05T11:46:12.151Z"
   },
   {
    "duration": 11,
    "start_time": "2022-05-05T11:46:12.159Z"
   },
   {
    "duration": 12,
    "start_time": "2022-05-05T11:46:12.171Z"
   },
   {
    "duration": 40,
    "start_time": "2022-05-05T11:46:12.185Z"
   },
   {
    "duration": 8,
    "start_time": "2022-05-05T11:46:12.227Z"
   },
   {
    "duration": 11,
    "start_time": "2022-05-05T11:46:12.236Z"
   },
   {
    "duration": 13,
    "start_time": "2022-05-05T11:46:12.248Z"
   },
   {
    "duration": 13,
    "start_time": "2022-05-05T11:46:12.263Z"
   },
   {
    "duration": 14,
    "start_time": "2022-05-05T11:46:12.277Z"
   },
   {
    "duration": 190,
    "start_time": "2022-05-05T11:46:12.293Z"
   },
   {
    "duration": 175,
    "start_time": "2022-05-05T11:46:12.484Z"
   },
   {
    "duration": 171,
    "start_time": "2022-05-05T11:46:12.661Z"
   },
   {
    "duration": 178,
    "start_time": "2022-05-05T11:46:12.834Z"
   },
   {
    "duration": 171,
    "start_time": "2022-05-05T11:46:13.014Z"
   },
   {
    "duration": 181,
    "start_time": "2022-05-05T11:46:13.186Z"
   },
   {
    "duration": 14,
    "start_time": "2022-05-05T11:46:13.368Z"
   },
   {
    "duration": 8,
    "start_time": "2022-05-05T11:46:13.383Z"
   },
   {
    "duration": 7,
    "start_time": "2022-05-05T11:46:13.397Z"
   },
   {
    "duration": 27,
    "start_time": "2022-05-05T11:46:13.406Z"
   },
   {
    "duration": 6,
    "start_time": "2022-05-05T11:46:13.435Z"
   },
   {
    "duration": 13,
    "start_time": "2022-05-05T11:46:13.442Z"
   },
   {
    "duration": 15,
    "start_time": "2022-05-05T11:46:13.457Z"
   },
   {
    "duration": 5,
    "start_time": "2022-05-05T11:46:13.474Z"
   },
   {
    "duration": 45,
    "start_time": "2022-05-05T11:46:13.481Z"
   },
   {
    "duration": 1777,
    "start_time": "2022-05-05T22:41:23.423Z"
   },
   {
    "duration": 54,
    "start_time": "2022-05-05T22:41:25.203Z"
   },
   {
    "duration": 23,
    "start_time": "2022-05-05T22:41:25.259Z"
   },
   {
    "duration": 5,
    "start_time": "2022-05-05T22:41:25.292Z"
   },
   {
    "duration": 6,
    "start_time": "2022-05-05T22:41:25.300Z"
   },
   {
    "duration": 40,
    "start_time": "2022-05-05T22:41:25.308Z"
   },
   {
    "duration": 12,
    "start_time": "2022-05-05T22:41:25.350Z"
   },
   {
    "duration": 8,
    "start_time": "2022-05-05T22:41:25.393Z"
   },
   {
    "duration": 9,
    "start_time": "2022-05-05T22:41:25.403Z"
   },
   {
    "duration": 5,
    "start_time": "2022-05-05T22:41:25.414Z"
   },
   {
    "duration": 21,
    "start_time": "2022-05-05T22:41:25.421Z"
   },
   {
    "duration": 49,
    "start_time": "2022-05-05T22:41:25.444Z"
   },
   {
    "duration": 20,
    "start_time": "2022-05-05T22:41:25.495Z"
   },
   {
    "duration": 13,
    "start_time": "2022-05-05T22:41:25.520Z"
   },
   {
    "duration": 10,
    "start_time": "2022-05-05T22:41:25.535Z"
   },
   {
    "duration": 53,
    "start_time": "2022-05-05T22:41:25.547Z"
   },
   {
    "duration": 17,
    "start_time": "2022-05-05T22:41:25.602Z"
   },
   {
    "duration": 19,
    "start_time": "2022-05-05T22:41:25.622Z"
   },
   {
    "duration": 11,
    "start_time": "2022-05-05T22:41:25.644Z"
   },
   {
    "duration": 56,
    "start_time": "2022-05-05T22:41:25.658Z"
   },
   {
    "duration": 8,
    "start_time": "2022-05-05T22:41:25.717Z"
   },
   {
    "duration": 22,
    "start_time": "2022-05-05T22:41:25.728Z"
   },
   {
    "duration": 39,
    "start_time": "2022-05-05T22:41:25.754Z"
   },
   {
    "duration": 126,
    "start_time": "2022-05-05T22:41:25.795Z"
   },
   {
    "duration": 22,
    "start_time": "2022-05-05T22:41:25.924Z"
   },
   {
    "duration": 265,
    "start_time": "2022-05-05T22:41:25.950Z"
   },
   {
    "duration": 229,
    "start_time": "2022-05-05T22:41:26.218Z"
   },
   {
    "duration": 13,
    "start_time": "2022-05-05T22:41:26.450Z"
   },
   {
    "duration": 55,
    "start_time": "2022-05-05T22:41:26.466Z"
   },
   {
    "duration": 277,
    "start_time": "2022-05-05T22:41:26.523Z"
   },
   {
    "duration": 10,
    "start_time": "2022-05-05T22:41:26.803Z"
   },
   {
    "duration": 499,
    "start_time": "2022-05-05T22:41:26.815Z"
   },
   {
    "duration": 39,
    "start_time": "2022-05-05T22:41:27.317Z"
   },
   {
    "duration": 53,
    "start_time": "2022-05-05T22:41:27.358Z"
   },
   {
    "duration": 23,
    "start_time": "2022-05-05T22:41:27.415Z"
   },
   {
    "duration": 63,
    "start_time": "2022-05-05T22:41:27.441Z"
   },
   {
    "duration": 5,
    "start_time": "2022-05-05T22:41:27.507Z"
   },
   {
    "duration": 379,
    "start_time": "2022-05-05T22:41:27.514Z"
   },
   {
    "duration": 380,
    "start_time": "2022-05-05T22:41:27.895Z"
   },
   {
    "duration": 42,
    "start_time": "2022-05-05T22:41:28.278Z"
   },
   {
    "duration": 8,
    "start_time": "2022-05-05T22:41:28.329Z"
   },
   {
    "duration": 137,
    "start_time": "2022-05-05T22:41:28.340Z"
   },
   {
    "duration": 314,
    "start_time": "2022-05-05T22:41:28.479Z"
   },
   {
    "duration": 7,
    "start_time": "2022-05-05T22:41:28.795Z"
   },
   {
    "duration": 375,
    "start_time": "2022-05-05T22:41:28.804Z"
   },
   {
    "duration": 300,
    "start_time": "2022-05-05T22:41:29.181Z"
   },
   {
    "duration": 11,
    "start_time": "2022-05-05T22:41:29.483Z"
   },
   {
    "duration": 291,
    "start_time": "2022-05-05T22:41:29.496Z"
   },
   {
    "duration": 7,
    "start_time": "2022-05-05T22:41:29.793Z"
   },
   {
    "duration": 363,
    "start_time": "2022-05-05T22:41:29.802Z"
   },
   {
    "duration": 9,
    "start_time": "2022-05-05T22:41:30.168Z"
   },
   {
    "duration": 18,
    "start_time": "2022-05-05T22:41:30.194Z"
   },
   {
    "duration": 38,
    "start_time": "2022-05-05T22:41:30.215Z"
   },
   {
    "duration": 15,
    "start_time": "2022-05-05T22:41:30.255Z"
   },
   {
    "duration": 47,
    "start_time": "2022-05-05T22:41:30.273Z"
   },
   {
    "duration": 6,
    "start_time": "2022-05-05T22:41:30.323Z"
   },
   {
    "duration": 11,
    "start_time": "2022-05-05T22:41:30.331Z"
   },
   {
    "duration": 22,
    "start_time": "2022-05-05T22:41:30.344Z"
   },
   {
    "duration": 36,
    "start_time": "2022-05-05T22:41:30.368Z"
   },
   {
    "duration": 161,
    "start_time": "2022-05-05T22:41:30.407Z"
   },
   {
    "duration": 31,
    "start_time": "2022-05-05T22:41:30.571Z"
   },
   {
    "duration": 27,
    "start_time": "2022-05-05T22:41:30.605Z"
   },
   {
    "duration": 11,
    "start_time": "2022-05-05T22:41:30.634Z"
   },
   {
    "duration": 19,
    "start_time": "2022-05-05T22:41:30.648Z"
   },
   {
    "duration": 40,
    "start_time": "2022-05-05T22:41:30.669Z"
   },
   {
    "duration": 17,
    "start_time": "2022-05-05T22:41:30.712Z"
   },
   {
    "duration": 17,
    "start_time": "2022-05-05T22:41:30.731Z"
   },
   {
    "duration": 42,
    "start_time": "2022-05-05T22:41:30.750Z"
   },
   {
    "duration": 12,
    "start_time": "2022-05-05T22:41:30.795Z"
   },
   {
    "duration": 19,
    "start_time": "2022-05-05T22:41:30.809Z"
   },
   {
    "duration": 15,
    "start_time": "2022-05-05T22:41:30.830Z"
   },
   {
    "duration": 49,
    "start_time": "2022-05-05T22:41:30.847Z"
   },
   {
    "duration": 23,
    "start_time": "2022-05-05T22:41:30.898Z"
   },
   {
    "duration": 306,
    "start_time": "2022-05-05T22:41:30.923Z"
   },
   {
    "duration": 292,
    "start_time": "2022-05-05T22:41:31.231Z"
   },
   {
    "duration": 285,
    "start_time": "2022-05-05T22:41:31.525Z"
   },
   {
    "duration": 397,
    "start_time": "2022-05-05T22:41:31.812Z"
   },
   {
    "duration": 428,
    "start_time": "2022-05-05T22:41:32.212Z"
   },
   {
    "duration": 318,
    "start_time": "2022-05-05T22:41:32.643Z"
   },
   {
    "duration": 36,
    "start_time": "2022-05-05T22:41:32.964Z"
   },
   {
    "duration": 14,
    "start_time": "2022-05-05T22:41:33.003Z"
   },
   {
    "duration": 15,
    "start_time": "2022-05-05T22:41:33.019Z"
   },
   {
    "duration": 155,
    "start_time": "2022-05-05T22:41:33.037Z"
   },
   {
    "duration": 10,
    "start_time": "2022-05-05T22:41:33.195Z"
   },
   {
    "duration": 26,
    "start_time": "2022-05-05T22:41:33.207Z"
   },
   {
    "duration": 27,
    "start_time": "2022-05-05T22:41:33.235Z"
   },
   {
    "duration": 10,
    "start_time": "2022-05-05T22:41:33.293Z"
   },
   {
    "duration": 9,
    "start_time": "2022-05-05T22:41:33.305Z"
   },
   {
    "duration": 1405,
    "start_time": "2022-05-06T07:11:26.432Z"
   },
   {
    "duration": 45,
    "start_time": "2022-05-06T07:11:27.840Z"
   },
   {
    "duration": 17,
    "start_time": "2022-05-06T07:11:27.886Z"
   },
   {
    "duration": 4,
    "start_time": "2022-05-06T07:11:27.905Z"
   },
   {
    "duration": 3,
    "start_time": "2022-05-06T07:11:27.911Z"
   },
   {
    "duration": 29,
    "start_time": "2022-05-06T07:11:27.916Z"
   },
   {
    "duration": 10,
    "start_time": "2022-05-06T07:11:27.946Z"
   },
   {
    "duration": 6,
    "start_time": "2022-05-06T07:11:27.958Z"
   },
   {
    "duration": 43,
    "start_time": "2022-05-06T07:11:27.966Z"
   },
   {
    "duration": 4,
    "start_time": "2022-05-06T07:11:28.012Z"
   },
   {
    "duration": 16,
    "start_time": "2022-05-06T07:11:28.018Z"
   },
   {
    "duration": 7,
    "start_time": "2022-05-06T07:11:28.035Z"
   },
   {
    "duration": 15,
    "start_time": "2022-05-06T07:11:28.043Z"
   },
   {
    "duration": 9,
    "start_time": "2022-05-06T07:11:28.060Z"
   },
   {
    "duration": 39,
    "start_time": "2022-05-06T07:11:28.071Z"
   },
   {
    "duration": 15,
    "start_time": "2022-05-06T07:11:28.113Z"
   },
   {
    "duration": 12,
    "start_time": "2022-05-06T07:11:28.130Z"
   },
   {
    "duration": 14,
    "start_time": "2022-05-06T07:11:28.144Z"
   },
   {
    "duration": 6,
    "start_time": "2022-05-06T07:11:28.160Z"
   },
   {
    "duration": 14,
    "start_time": "2022-05-06T07:11:28.208Z"
   },
   {
    "duration": 5,
    "start_time": "2022-05-06T07:11:28.224Z"
   },
   {
    "duration": 16,
    "start_time": "2022-05-06T07:11:28.231Z"
   },
   {
    "duration": 4,
    "start_time": "2022-05-06T07:11:28.249Z"
   },
   {
    "duration": 109,
    "start_time": "2022-05-06T07:11:28.255Z"
   },
   {
    "duration": 16,
    "start_time": "2022-05-06T07:11:28.365Z"
   },
   {
    "duration": 190,
    "start_time": "2022-05-06T07:11:28.382Z"
   },
   {
    "duration": 153,
    "start_time": "2022-05-06T07:11:28.574Z"
   },
   {
    "duration": 8,
    "start_time": "2022-05-06T07:11:28.731Z"
   },
   {
    "duration": 22,
    "start_time": "2022-05-06T07:11:28.740Z"
   },
   {
    "duration": 216,
    "start_time": "2022-05-06T07:11:28.764Z"
   },
   {
    "duration": 6,
    "start_time": "2022-05-06T07:11:28.982Z"
   },
   {
    "duration": 287,
    "start_time": "2022-05-06T07:11:28.990Z"
   },
   {
    "duration": 41,
    "start_time": "2022-05-06T07:11:29.279Z"
   },
   {
    "duration": 17,
    "start_time": "2022-05-06T07:11:29.322Z"
   },
   {
    "duration": 15,
    "start_time": "2022-05-06T07:11:29.341Z"
   },
   {
    "duration": 24,
    "start_time": "2022-05-06T07:11:29.358Z"
   },
   {
    "duration": 24,
    "start_time": "2022-05-06T07:11:29.384Z"
   },
   {
    "duration": 242,
    "start_time": "2022-05-06T07:11:29.410Z"
   },
   {
    "duration": 239,
    "start_time": "2022-05-06T07:11:29.654Z"
   },
   {
    "duration": 29,
    "start_time": "2022-05-06T07:11:29.894Z"
   },
   {
    "duration": 6,
    "start_time": "2022-05-06T07:11:29.924Z"
   },
   {
    "duration": 13,
    "start_time": "2022-05-06T07:11:29.931Z"
   },
   {
    "duration": 268,
    "start_time": "2022-05-06T07:11:29.945Z"
   },
   {
    "duration": 5,
    "start_time": "2022-05-06T07:11:30.214Z"
   },
   {
    "duration": 234,
    "start_time": "2022-05-06T07:11:30.221Z"
   },
   {
    "duration": 189,
    "start_time": "2022-05-06T07:11:30.457Z"
   },
   {
    "duration": 5,
    "start_time": "2022-05-06T07:11:30.648Z"
   },
   {
    "duration": 182,
    "start_time": "2022-05-06T07:11:30.654Z"
   },
   {
    "duration": 5,
    "start_time": "2022-05-06T07:11:30.838Z"
   },
   {
    "duration": 174,
    "start_time": "2022-05-06T07:11:30.844Z"
   },
   {
    "duration": 6,
    "start_time": "2022-05-06T07:11:31.020Z"
   },
   {
    "duration": 42,
    "start_time": "2022-05-06T07:11:31.028Z"
   },
   {
    "duration": 14,
    "start_time": "2022-05-06T07:11:31.073Z"
   },
   {
    "duration": 15,
    "start_time": "2022-05-06T07:11:31.089Z"
   },
   {
    "duration": 20,
    "start_time": "2022-05-06T07:11:31.106Z"
   },
   {
    "duration": 7,
    "start_time": "2022-05-06T07:11:31.128Z"
   },
   {
    "duration": 11,
    "start_time": "2022-05-06T07:11:31.136Z"
   },
   {
    "duration": 8,
    "start_time": "2022-05-06T07:11:31.149Z"
   },
   {
    "duration": 21,
    "start_time": "2022-05-06T07:11:31.158Z"
   },
   {
    "duration": 95,
    "start_time": "2022-05-06T07:11:31.181Z"
   },
   {
    "duration": 15,
    "start_time": "2022-05-06T07:11:31.277Z"
   },
   {
    "duration": 15,
    "start_time": "2022-05-06T07:11:31.307Z"
   },
   {
    "duration": 8,
    "start_time": "2022-05-06T07:11:31.324Z"
   },
   {
    "duration": 17,
    "start_time": "2022-05-06T07:11:31.333Z"
   },
   {
    "duration": 14,
    "start_time": "2022-05-06T07:11:31.351Z"
   },
   {
    "duration": 14,
    "start_time": "2022-05-06T07:11:31.367Z"
   },
   {
    "duration": 30,
    "start_time": "2022-05-06T07:11:31.383Z"
   },
   {
    "duration": 14,
    "start_time": "2022-05-06T07:11:31.414Z"
   },
   {
    "duration": 7,
    "start_time": "2022-05-06T07:11:31.430Z"
   },
   {
    "duration": 14,
    "start_time": "2022-05-06T07:11:31.439Z"
   },
   {
    "duration": 9,
    "start_time": "2022-05-06T07:11:31.455Z"
   },
   {
    "duration": 23,
    "start_time": "2022-05-06T07:11:31.465Z"
   },
   {
    "duration": 32,
    "start_time": "2022-05-06T07:11:31.489Z"
   },
   {
    "duration": 203,
    "start_time": "2022-05-06T07:11:31.522Z"
   },
   {
    "duration": 207,
    "start_time": "2022-05-06T07:11:31.727Z"
   },
   {
    "duration": 204,
    "start_time": "2022-05-06T07:11:31.936Z"
   },
   {
    "duration": 206,
    "start_time": "2022-05-06T07:11:32.141Z"
   },
   {
    "duration": 204,
    "start_time": "2022-05-06T07:11:32.349Z"
   },
   {
    "duration": 213,
    "start_time": "2022-05-06T07:11:32.555Z"
   },
   {
    "duration": 14,
    "start_time": "2022-05-06T07:11:32.770Z"
   },
   {
    "duration": 22,
    "start_time": "2022-05-06T07:11:32.786Z"
   },
   {
    "duration": 8,
    "start_time": "2022-05-06T07:11:32.814Z"
   },
   {
    "duration": 13,
    "start_time": "2022-05-06T07:11:32.823Z"
   },
   {
    "duration": 14,
    "start_time": "2022-05-06T07:11:32.837Z"
   },
   {
    "duration": 19,
    "start_time": "2022-05-06T07:11:32.853Z"
   },
   {
    "duration": 18,
    "start_time": "2022-05-06T07:11:32.873Z"
   },
   {
    "duration": 7,
    "start_time": "2022-05-06T07:11:32.908Z"
   },
   {
    "duration": 7,
    "start_time": "2022-05-06T07:11:32.917Z"
   },
   {
    "duration": 1424,
    "start_time": "2022-05-09T16:59:14.720Z"
   },
   {
    "duration": 40,
    "start_time": "2022-05-09T16:59:16.146Z"
   },
   {
    "duration": 36,
    "start_time": "2022-05-09T16:59:16.187Z"
   },
   {
    "duration": 4,
    "start_time": "2022-05-09T16:59:16.225Z"
   },
   {
    "duration": 4,
    "start_time": "2022-05-09T16:59:16.231Z"
   },
   {
    "duration": 31,
    "start_time": "2022-05-09T16:59:16.236Z"
   },
   {
    "duration": 9,
    "start_time": "2022-05-09T16:59:16.269Z"
   },
   {
    "duration": 11,
    "start_time": "2022-05-09T16:59:16.316Z"
   },
   {
    "duration": 5,
    "start_time": "2022-05-09T16:59:16.329Z"
   },
   {
    "duration": 7,
    "start_time": "2022-05-09T16:59:16.337Z"
   },
   {
    "duration": 16,
    "start_time": "2022-05-09T16:59:16.346Z"
   },
   {
    "duration": 7,
    "start_time": "2022-05-09T16:59:16.364Z"
   },
   {
    "duration": 52,
    "start_time": "2022-05-09T16:59:16.373Z"
   },
   {
    "duration": 15,
    "start_time": "2022-05-09T16:59:16.427Z"
   },
   {
    "duration": 10,
    "start_time": "2022-05-09T16:59:16.444Z"
   },
   {
    "duration": 15,
    "start_time": "2022-05-09T16:59:16.456Z"
   },
   {
    "duration": 39,
    "start_time": "2022-05-09T16:59:16.473Z"
   },
   {
    "duration": 20,
    "start_time": "2022-05-09T16:59:16.514Z"
   },
   {
    "duration": 5,
    "start_time": "2022-05-09T16:59:16.536Z"
   },
   {
    "duration": 16,
    "start_time": "2022-05-09T16:59:16.544Z"
   },
   {
    "duration": 6,
    "start_time": "2022-05-09T16:59:16.562Z"
   },
   {
    "duration": 56,
    "start_time": "2022-05-09T16:59:16.570Z"
   },
   {
    "duration": 3,
    "start_time": "2022-05-09T16:59:16.628Z"
   },
   {
    "duration": 121,
    "start_time": "2022-05-09T16:59:16.633Z"
   },
   {
    "duration": 16,
    "start_time": "2022-05-09T16:59:16.756Z"
   },
   {
    "duration": 201,
    "start_time": "2022-05-09T16:59:16.773Z"
   },
   {
    "duration": 177,
    "start_time": "2022-05-09T16:59:16.976Z"
   },
   {
    "duration": 8,
    "start_time": "2022-05-09T16:59:17.158Z"
   },
   {
    "duration": 48,
    "start_time": "2022-05-09T16:59:17.168Z"
   },
   {
    "duration": 204,
    "start_time": "2022-05-09T16:59:17.222Z"
   },
   {
    "duration": 6,
    "start_time": "2022-05-09T16:59:17.428Z"
   },
   {
    "duration": 345,
    "start_time": "2022-05-09T16:59:17.436Z"
   },
   {
    "duration": 41,
    "start_time": "2022-05-09T16:59:17.783Z"
   },
   {
    "duration": 17,
    "start_time": "2022-05-09T16:59:17.825Z"
   },
   {
    "duration": 15,
    "start_time": "2022-05-09T16:59:17.844Z"
   },
   {
    "duration": 51,
    "start_time": "2022-05-09T16:59:17.861Z"
   },
   {
    "duration": 2,
    "start_time": "2022-05-09T16:59:17.914Z"
   },
   {
    "duration": 260,
    "start_time": "2022-05-09T16:59:17.918Z"
   },
   {
    "duration": 267,
    "start_time": "2022-05-09T16:59:18.180Z"
   },
   {
    "duration": 20,
    "start_time": "2022-05-09T16:59:18.449Z"
   },
   {
    "duration": 6,
    "start_time": "2022-05-09T16:59:18.471Z"
   },
   {
    "duration": 37,
    "start_time": "2022-05-09T16:59:18.480Z"
   },
   {
    "duration": 265,
    "start_time": "2022-05-09T16:59:18.519Z"
   },
   {
    "duration": 6,
    "start_time": "2022-05-09T16:59:18.786Z"
   },
   {
    "duration": 637,
    "start_time": "2022-05-09T16:59:18.794Z"
   },
   {
    "duration": 596,
    "start_time": "2022-05-09T16:59:19.433Z"
   },
   {
    "duration": 6,
    "start_time": "2022-05-09T16:59:20.031Z"
   },
   {
    "duration": 401,
    "start_time": "2022-05-09T16:59:20.039Z"
   },
   {
    "duration": 5,
    "start_time": "2022-05-09T16:59:20.442Z"
   },
   {
    "duration": 494,
    "start_time": "2022-05-09T16:59:20.449Z"
   },
   {
    "duration": 6,
    "start_time": "2022-05-09T16:59:20.945Z"
   },
   {
    "duration": 10,
    "start_time": "2022-05-09T16:59:20.953Z"
   },
   {
    "duration": 55,
    "start_time": "2022-05-09T16:59:20.965Z"
   },
   {
    "duration": 9,
    "start_time": "2022-05-09T16:59:21.026Z"
   },
   {
    "duration": 14,
    "start_time": "2022-05-09T16:59:21.037Z"
   },
   {
    "duration": 3,
    "start_time": "2022-05-09T16:59:21.054Z"
   },
   {
    "duration": 4,
    "start_time": "2022-05-09T16:59:21.059Z"
   },
   {
    "duration": 5,
    "start_time": "2022-05-09T16:59:21.065Z"
   },
   {
    "duration": 50,
    "start_time": "2022-05-09T16:59:21.072Z"
   },
   {
    "duration": 109,
    "start_time": "2022-05-09T16:59:21.124Z"
   },
   {
    "duration": 16,
    "start_time": "2022-05-09T16:59:21.235Z"
   },
   {
    "duration": 19,
    "start_time": "2022-05-09T16:59:21.254Z"
   },
   {
    "duration": 33,
    "start_time": "2022-05-09T16:59:21.275Z"
   },
   {
    "duration": 12,
    "start_time": "2022-05-09T16:59:21.309Z"
   },
   {
    "duration": 11,
    "start_time": "2022-05-09T16:59:21.323Z"
   },
   {
    "duration": 12,
    "start_time": "2022-05-09T16:59:21.336Z"
   },
   {
    "duration": 13,
    "start_time": "2022-05-09T16:59:21.350Z"
   },
   {
    "duration": 53,
    "start_time": "2022-05-09T16:59:21.365Z"
   },
   {
    "duration": 10,
    "start_time": "2022-05-09T16:59:21.420Z"
   },
   {
    "duration": 12,
    "start_time": "2022-05-09T16:59:21.433Z"
   },
   {
    "duration": 12,
    "start_time": "2022-05-09T16:59:21.447Z"
   },
   {
    "duration": 50,
    "start_time": "2022-05-09T16:59:21.462Z"
   },
   {
    "duration": 20,
    "start_time": "2022-05-09T16:59:21.514Z"
   },
   {
    "duration": 230,
    "start_time": "2022-05-09T16:59:21.536Z"
   },
   {
    "duration": 219,
    "start_time": "2022-05-09T16:59:21.768Z"
   },
   {
    "duration": 222,
    "start_time": "2022-05-09T16:59:21.988Z"
   },
   {
    "duration": 224,
    "start_time": "2022-05-09T16:59:22.211Z"
   },
   {
    "duration": 292,
    "start_time": "2022-05-09T16:59:22.437Z"
   },
   {
    "duration": 236,
    "start_time": "2022-05-09T16:59:22.731Z"
   },
   {
    "duration": 23,
    "start_time": "2022-05-09T16:59:22.970Z"
   },
   {
    "duration": 15,
    "start_time": "2022-05-09T16:59:22.996Z"
   },
   {
    "duration": 11,
    "start_time": "2022-05-09T16:59:23.019Z"
   },
   {
    "duration": 19,
    "start_time": "2022-05-09T16:59:23.032Z"
   },
   {
    "duration": 7,
    "start_time": "2022-05-09T16:59:23.053Z"
   },
   {
    "duration": 24,
    "start_time": "2022-05-09T16:59:23.062Z"
   },
   {
    "duration": 27,
    "start_time": "2022-05-09T16:59:23.088Z"
   },
   {
    "duration": 19,
    "start_time": "2022-05-09T16:59:23.118Z"
   },
   {
    "duration": 38,
    "start_time": "2022-05-09T16:59:23.139Z"
   },
   {
    "duration": 1302,
    "start_time": "2022-05-09T17:09:22.975Z"
   },
   {
    "duration": 41,
    "start_time": "2022-05-09T17:09:24.279Z"
   },
   {
    "duration": 17,
    "start_time": "2022-05-09T17:09:24.324Z"
   },
   {
    "duration": 4,
    "start_time": "2022-05-09T17:09:24.344Z"
   },
   {
    "duration": 6,
    "start_time": "2022-05-09T17:09:24.349Z"
   },
   {
    "duration": 56,
    "start_time": "2022-05-09T17:09:24.357Z"
   },
   {
    "duration": 12,
    "start_time": "2022-05-09T17:09:24.416Z"
   },
   {
    "duration": 8,
    "start_time": "2022-05-09T17:09:24.430Z"
   },
   {
    "duration": 8,
    "start_time": "2022-05-09T17:09:24.440Z"
   },
   {
    "duration": 4,
    "start_time": "2022-05-09T17:09:24.452Z"
   },
   {
    "duration": 51,
    "start_time": "2022-05-09T17:09:24.458Z"
   },
   {
    "duration": 7,
    "start_time": "2022-05-09T17:09:24.511Z"
   },
   {
    "duration": 24,
    "start_time": "2022-05-09T17:09:24.520Z"
   },
   {
    "duration": 14,
    "start_time": "2022-05-09T17:09:24.546Z"
   },
   {
    "duration": 46,
    "start_time": "2022-05-09T17:09:24.562Z"
   },
   {
    "duration": 17,
    "start_time": "2022-05-09T17:09:24.610Z"
   },
   {
    "duration": 17,
    "start_time": "2022-05-09T17:09:24.629Z"
   },
   {
    "duration": 22,
    "start_time": "2022-05-09T17:09:24.648Z"
   },
   {
    "duration": 38,
    "start_time": "2022-05-09T17:09:24.671Z"
   },
   {
    "duration": 17,
    "start_time": "2022-05-09T17:09:24.711Z"
   },
   {
    "duration": 5,
    "start_time": "2022-05-09T17:09:24.730Z"
   },
   {
    "duration": 35,
    "start_time": "2022-05-09T17:09:24.737Z"
   },
   {
    "duration": 15,
    "start_time": "2022-05-09T17:09:24.774Z"
   },
   {
    "duration": 119,
    "start_time": "2022-05-09T17:09:24.791Z"
   },
   {
    "duration": 16,
    "start_time": "2022-05-09T17:09:24.911Z"
   },
   {
    "duration": 196,
    "start_time": "2022-05-09T17:09:24.929Z"
   },
   {
    "duration": 176,
    "start_time": "2022-05-09T17:09:25.127Z"
   },
   {
    "duration": 8,
    "start_time": "2022-05-09T17:09:25.308Z"
   },
   {
    "duration": 33,
    "start_time": "2022-05-09T17:09:25.318Z"
   },
   {
    "duration": 208,
    "start_time": "2022-05-09T17:09:25.353Z"
   },
   {
    "duration": 7,
    "start_time": "2022-05-09T17:09:25.563Z"
   },
   {
    "duration": 293,
    "start_time": "2022-05-09T17:09:25.572Z"
   },
   {
    "duration": 44,
    "start_time": "2022-05-09T17:09:25.868Z"
   },
   {
    "duration": 16,
    "start_time": "2022-05-09T17:09:25.914Z"
   },
   {
    "duration": 16,
    "start_time": "2022-05-09T17:09:25.932Z"
   },
   {
    "duration": 27,
    "start_time": "2022-05-09T17:09:25.950Z"
   },
   {
    "duration": 31,
    "start_time": "2022-05-09T17:09:25.979Z"
   },
   {
    "duration": 249,
    "start_time": "2022-05-09T17:09:26.013Z"
   },
   {
    "duration": 246,
    "start_time": "2022-05-09T17:09:26.263Z"
   },
   {
    "duration": 322,
    "start_time": "2022-05-09T17:09:26.511Z"
   },
   {
    "duration": 22,
    "start_time": "2022-05-09T17:09:26.836Z"
   },
   {
    "duration": 7,
    "start_time": "2022-05-09T17:09:26.860Z"
   },
   {
    "duration": 15,
    "start_time": "2022-05-09T17:09:26.869Z"
   },
   {
    "duration": 187,
    "start_time": "2022-05-09T17:09:26.908Z"
   },
   {
    "duration": 13,
    "start_time": "2022-05-09T17:09:27.096Z"
   },
   {
    "duration": 248,
    "start_time": "2022-05-09T17:09:27.111Z"
   },
   {
    "duration": 192,
    "start_time": "2022-05-09T17:09:27.361Z"
   },
   {
    "duration": 5,
    "start_time": "2022-05-09T17:09:27.556Z"
   },
   {
    "duration": 220,
    "start_time": "2022-05-09T17:09:27.563Z"
   },
   {
    "duration": 5,
    "start_time": "2022-05-09T17:09:27.785Z"
   },
   {
    "duration": 174,
    "start_time": "2022-05-09T17:09:27.792Z"
   },
   {
    "duration": 5,
    "start_time": "2022-05-09T17:09:27.968Z"
   },
   {
    "duration": 10,
    "start_time": "2022-05-09T17:09:27.974Z"
   },
   {
    "duration": 31,
    "start_time": "2022-05-09T17:09:27.986Z"
   },
   {
    "duration": 8,
    "start_time": "2022-05-09T17:09:28.019Z"
   },
   {
    "duration": 14,
    "start_time": "2022-05-09T17:09:28.028Z"
   },
   {
    "duration": 2,
    "start_time": "2022-05-09T17:09:28.044Z"
   },
   {
    "duration": 5,
    "start_time": "2022-05-09T17:09:28.048Z"
   },
   {
    "duration": 53,
    "start_time": "2022-05-09T17:09:28.055Z"
   },
   {
    "duration": 16,
    "start_time": "2022-05-09T17:09:28.110Z"
   },
   {
    "duration": 211,
    "start_time": "2022-05-09T17:09:28.128Z"
   },
   {
    "duration": 75,
    "start_time": "2022-05-09T17:09:28.341Z"
   },
   {
    "duration": 22,
    "start_time": "2022-05-09T17:09:28.418Z"
   },
   {
    "duration": 66,
    "start_time": "2022-05-09T17:09:28.442Z"
   },
   {
    "duration": 14,
    "start_time": "2022-05-09T17:09:28.509Z"
   },
   {
    "duration": 11,
    "start_time": "2022-05-09T17:09:28.525Z"
   },
   {
    "duration": 12,
    "start_time": "2022-05-09T17:09:28.538Z"
   },
   {
    "duration": 63,
    "start_time": "2022-05-09T17:09:28.552Z"
   },
   {
    "duration": 18,
    "start_time": "2022-05-09T17:09:28.617Z"
   },
   {
    "duration": 9,
    "start_time": "2022-05-09T17:09:28.636Z"
   },
   {
    "duration": 71,
    "start_time": "2022-05-09T17:09:28.647Z"
   },
   {
    "duration": 14,
    "start_time": "2022-05-09T17:09:28.721Z"
   },
   {
    "duration": 70,
    "start_time": "2022-05-09T17:09:28.738Z"
   },
   {
    "duration": 22,
    "start_time": "2022-05-09T17:09:28.810Z"
   },
   {
    "duration": 406,
    "start_time": "2022-05-09T17:09:28.835Z"
   },
   {
    "duration": 410,
    "start_time": "2022-05-09T17:09:29.242Z"
   },
   {
    "duration": 419,
    "start_time": "2022-05-09T17:09:29.654Z"
   },
   {
    "duration": 311,
    "start_time": "2022-05-09T17:09:30.076Z"
   },
   {
    "duration": 219,
    "start_time": "2022-05-09T17:09:30.388Z"
   },
   {
    "duration": 250,
    "start_time": "2022-05-09T17:09:30.609Z"
   },
   {
    "duration": 17,
    "start_time": "2022-05-09T17:09:30.860Z"
   },
   {
    "duration": 29,
    "start_time": "2022-05-09T17:09:30.886Z"
   },
   {
    "duration": 26,
    "start_time": "2022-05-09T17:09:30.917Z"
   },
   {
    "duration": 22,
    "start_time": "2022-05-09T17:09:30.945Z"
   },
   {
    "duration": 27,
    "start_time": "2022-05-09T17:09:30.969Z"
   },
   {
    "duration": 33,
    "start_time": "2022-05-09T17:09:30.999Z"
   },
   {
    "duration": 38,
    "start_time": "2022-05-09T17:09:31.034Z"
   },
   {
    "duration": 12,
    "start_time": "2022-05-09T17:09:31.075Z"
   },
   {
    "duration": 15,
    "start_time": "2022-05-09T17:09:31.089Z"
   }
  ],
  "kernelspec": {
   "display_name": "Python 3 (ipykernel)",
   "language": "python",
   "name": "python3"
  },
  "language_info": {
   "codemirror_mode": {
    "name": "ipython",
    "version": 3
   },
   "file_extension": ".py",
   "mimetype": "text/x-python",
   "name": "python",
   "nbconvert_exporter": "python",
   "pygments_lexer": "ipython3",
   "version": "3.9.5"
  },
  "toc": {
   "base_numbering": 1,
   "nav_menu": {},
   "number_sections": true,
   "sideBar": true,
   "skip_h1_title": true,
   "title_cell": "Table of Contents",
   "title_sidebar": "Contents",
   "toc_cell": false,
   "toc_position": {
    "height": "calc(100% - 180px)",
    "left": "10px",
    "top": "150px",
    "width": "165px"
   },
   "toc_section_display": true,
   "toc_window_display": true
  }
 },
 "nbformat": 4,
 "nbformat_minor": 2
}
